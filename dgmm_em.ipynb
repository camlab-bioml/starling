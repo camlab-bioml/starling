{
  "nbformat": 4,
  "nbformat_minor": 0,
  "metadata": {
    "colab": {
      "name": "dgmm_em.ipynb",
      "provenance": [],
      "collapsed_sections": [],
      "authorship_tag": "ABX9TyOdlDEL3hhszBPpTYmnRuc2",
      "include_colab_link": true
    },
    "kernelspec": {
      "name": "python3",
      "display_name": "Python 3"
    },
    "language_info": {
      "name": "python"
    }
  },
  "cells": [
    {
      "cell_type": "markdown",
      "metadata": {
        "id": "view-in-github",
        "colab_type": "text"
      },
      "source": [
        "<a href=\"https://colab.research.google.com/github/camlab-bioml/2021_IMC_Jett/blob/main/dgmm_em.ipynb\" target=\"_parent\"><img src=\"https://colab.research.google.com/assets/colab-badge.svg\" alt=\"Open In Colab\"/></a>"
      ]
    },
    {
      "cell_type": "code",
      "metadata": {
        "id": "CUPaC0EMv3ph"
      },
      "source": [
        "import torch\n",
        "import numpy as np\n",
        "import scipy.stats as stats ## for mvn\n",
        "from sklearn.cluster import KMeans\n",
        "import seaborn as sns\n",
        "\n",
        "from scipy.stats import norm, multivariate_normal"
      ],
      "execution_count": 1,
      "outputs": []
    },
    {
      "cell_type": "code",
      "metadata": {
        "id": "p9i4oZG4ufx5"
      },
      "source": [
        "def isPD(B):\n",
        "    \"\"\"Returns true when input is positive-definite, via Cholesky\"\"\"\n",
        "    try:\n",
        "        _ = np.linalg.cholesky(B)\n",
        "        return True\n",
        "    except np.linalg.LinAlgError:\n",
        "        return False\n",
        "        \n",
        "def nearestPD(A):\n",
        "    \"\"\"Find the nearest positive-definite matrix to input\n",
        "\n",
        "    A Python/Numpy port of John D'Errico's `nearestSPD` MATLAB code [1], which\n",
        "    credits [2].\n",
        "\n",
        "    [1] https://www.mathworks.com/matlabcentral/fileexchange/42885-nearestspd\n",
        "\n",
        "    [2] N.J. Higham, \"Computing a nearest symmetric positive semidefinite\n",
        "    matrix\" (1988): https://doi.org/10.1016/0024-3795(88)90223-6\n",
        "    \"\"\"\n",
        "\n",
        "    B = (A + A.T) / 2\n",
        "    _, s, V = np.linalg.svd(B)\n",
        "\n",
        "    H = np.dot(V.T, np.dot(np.diag(s), V))\n",
        "\n",
        "    A2 = (B + H) / 2\n",
        "\n",
        "    A3 = (A2 + A2.T) / 2\n",
        "\n",
        "    if isPD(A3):\n",
        "        return A3\n",
        "\n",
        "    spacing = np.spacing(np.linalg.norm(A))\n",
        "    # The above is different from [1]. It appears that MATLAB's `chol` Cholesky\n",
        "    # decomposition will accept matrixes with exactly 0-eigenvalue, whereas\n",
        "    # Numpy's will not. So where [1] uses `eps(mineig)` (where `eps` is Matlab\n",
        "    # for `np.spacing`), we use the above definition. CAVEAT: our `spacing`\n",
        "    # will be much larger than [1]'s `eps(mineig)`, since `mineig` is usually on\n",
        "    # the order of 1e-16, and `eps(1e-16)` is on the order of 1e-34, whereas\n",
        "    # `spacing` will, for Gaussian random matrixes of small dimension, be on\n",
        "    # othe order of 1e-16. In practice, both ways converge, as the unit test\n",
        "    # below suggests.\n",
        "    I = np.eye(A.shape[0])\n",
        "    k = 1\n",
        "    while not isPD(A3):\n",
        "        mineig = np.min(np.real(np.linalg.eigvals(A3)))\n",
        "        A3 += I * (-mineig * k**2 + spacing)\n",
        "        k += 1\n",
        "\n",
        "    return A3"
      ],
      "execution_count": 2,
      "outputs": []
    },
    {
      "cell_type": "code",
      "metadata": {
        "id": "cwCGtulMOB1M"
      },
      "source": [
        "class DGMM(object):\n",
        "  \n",
        "  def __init__(self, X, c=3):\n",
        "    self.X = np.asarray(X)\n",
        "    \n",
        "    # dimension\n",
        "    self.n, self.p = X.shape\n",
        "    self.c = c\n",
        "  \n",
        "#  def _init(self):\n",
        "#    self.r_i = torch.ones(self.n)\n",
        "#    self.r_ij = torch.ones(self.c, self.n)\n",
        "#    self.r_ijk = torch.ones(self.c, self.c, self.n)\n",
        "\n",
        "#    self.n_c = torch.zeros(self.c)\n",
        "#    self.n_cc = torch.zeros(self.c)\n",
        "\n",
        "#    self.pi_d = torch.zeros(1)\n",
        "    #self.pi_c = torch.ones(self.c) / self.c\n",
        "    #self.pi_cc = torch.triu(torch.ones(self.c, self.c)) / (self.c * self.c)\n",
        "\n",
        "#    self.pi_c = torch.zeros(self.c)\n",
        "#    self.pi_cc = torch.ones(self.c, self.c)\n",
        "\n",
        "#    self.mu_c = torch.zeros(self.c, self.p)\n",
        "#    self.co_c = torch.zeros(self.c, self.p, self.p)\n",
        "  \n",
        "  def _kminit(self):\n",
        "    \n",
        "    kmeans = KMeans(n_clusters=self.c, random_state=0).fit(self.X)\n",
        "    self.mu_c = torch.tensor(kmeans.cluster_centers_)\n",
        "\n",
        "    self.n_c = torch.zeros(self.c)\n",
        "    self.co_c = torch.zeros(self.c, self.p, self.p)\n",
        "    \n",
        "    for j in range(self.c):\n",
        "      indx = kmeans.labels_ == j\n",
        "      d = self.X[indx]\n",
        "      self.n_c[j] = sum(indx)\n",
        "      self.co_c[j] = torch.from_numpy(np.cov(d.T))\n",
        "    \n",
        "    #self.n_c = torch.tensor([38., 50., 62.])\n",
        "    self.n_cc = torch.tensor([[10, 20, 30], [0, 15, 40], [0, 0, 35]])\n",
        "\n",
        "    self.pi_d = .4\n",
        "    self.pi_c = self.n_c/sum(self.n_c)\n",
        "    self.pi_cc = self.n_cc/torch.sum(self.n_cc)  \n",
        "\n",
        "    self.r_i = torch.ones(self.n)\n",
        "    self.r_ij = torch.ones(self.c, self.n)\n",
        "    self.r_ijk = torch.ones(self.c, self.c, self.n)\n",
        "  \n",
        "  def _init(self):\n",
        "    self.n_c = torch.ones(self.c) #torch.tensor([38., 50., 62.])\n",
        "    self.n_cc =  torch.ones(self.c, self.c) #torch.tensor([[10, 20, 30], [0, 15, 40], [0, 0, 35]])\n",
        "\n",
        "    self.r_i = torch.ones(self.n)\n",
        "    self.r_ij = torch.ones(self.c, self.n)\n",
        "    self.r_ijk = torch.ones(self.c, self.c, self.n)\n",
        "\n",
        "    #self.muj = torch.zeros(self.c, self.p)\n",
        "    #self.coj = torch.zeros(self.c, self.p, self.p)\n",
        "\n",
        "  def _uinit(self, pid, pic, picc, mu, co):\n",
        "    \n",
        "    self.pi_d = pid #.4\n",
        "    self.pi_c = pic \n",
        "    self.pi_cc = picc\n",
        "\n",
        "    self.mu_c = mu #torch.tensor(kmeans.cluster_centers_)\n",
        "    self.co_c = co #torch.zeros(self.c, self.p, self.p)\n",
        "\n",
        "  def train(self, pid, pic, picc, mu, co, itermax=500, tot=1e-5):\n",
        "    \n",
        "    self._init()\n",
        "    self._uinit(pid, pic, picc, mu, co) ## need work\n",
        "    \n",
        "    llv = [0.0]\n",
        "    for iter in range(itermax):\n",
        "      #print(\"p1\")\n",
        "      lli = self.estep()\n",
        "\n",
        "      #print(\"p2\")\n",
        "      self.mstep()\n",
        "      #print(\"p3\")\n",
        "      \n",
        "      print('Iteration', iter + 1, 'Likelihood: ', lli)\n",
        "        \n",
        "      if abs(llv[-1] - lli) < tot:\n",
        "        break \n",
        "      \n",
        "      llv.append(lli)\n",
        "    return llv[1:]\n",
        "\n",
        "  def estep(self):\n",
        "\n",
        "    ### E-step:\n",
        "    ## input: n, p, c, pi_d, pi_c, pi_cc, mu_c, co_c\n",
        "    ## output: r_i, r_ij, r_ijk, ll\n",
        "    ## calculate 1) pi_i => d; 2) pi_j => z; 3) pi_jk => gamma\n",
        "    ## first compute 2) and 3) and then 1)\n",
        "\n",
        "    r_ij_top = torch.zeros(self.c, self.n)\n",
        "    r_ijk_top = torch.zeros(self.c, self.c, self.n)\n",
        "    \n",
        "    for j in range(self.c):\n",
        "\n",
        "      #print(j)\n",
        "      #print(\"jb\")\n",
        "      #print(self.mu_c[j]) \n",
        "      #print(self.co_c[j])\n",
        "      #print(stats.multivariate_normal(self.mu_c[j], self.co_c[j]).pdf(self.X))\n",
        "      r_ij_top[j] = self.pi_d * (self.pi_c[j] * stats.multivariate_normal(self.mu_c[j], self.co_c[j]).pdf(self.X))\n",
        "      #print(\"ja\")\n",
        "\n",
        "      #print(self.co_c[j])\n",
        "      #print(self.mu_c[j])\n",
        "      #print(stats.multivariate_normal(self.mu_c[j], self.co_c[j]).pdf(self.X))\n",
        "      for k in range(self.c):\n",
        "        if self.pi_d == 1:\n",
        "          r_ijk_top[j,k] = 1e-6\n",
        "        else:\n",
        "          #print(\"kb1\")\n",
        "          #print(self.mu_c[j])\n",
        "          #r_ijk_top[j,k] = (1-self.pi_d) * (self.pi_cc[j,k] * \n",
        "          #                                  stats.multivariate_normal(self.mu_c[j] + self.mu_c[k], \n",
        "          #                                                            nearestPD(self.co_c[j] + self.co_c[k]) + 0.001 * np.identity(self.c)).pdf(self.X))\n",
        "          r_ijk_top[j,k] = (1-self.pi_d) * (self.pi_cc[j,k] * \n",
        "                                            stats.multivariate_normal(self.mu_c[j] + self.mu_c[k], self.co_c[j] + self.co_c[k]).pdf(self.X))\n",
        "          #print(\"ka1\")\n",
        "\n",
        "    r_ij_bot = torch.sum(r_ij_top, 0) #for 2)\n",
        "    #print(r_ij_top)\n",
        "    #print(r_ij_bot)\n",
        "\n",
        "    self.r_ij = r_ij_top / r_ij_bot\n",
        "    ## sometimes multivariate normal would give zero weight each cluster for one data point\n",
        "    self.r_ij[torch.isnan(self.r_ij)] = 0\n",
        "\n",
        "    #if torch.sum(torch.isnan(r_ij_bot)) > 0:\n",
        "\n",
        "    r_ijk_bot = torch.sum(torch.sum(r_ijk_top, 0), 0) #for 3)\n",
        "    \n",
        "    ## take when pi_d == 1 (den would be zero => undefined)\n",
        "    if torch.sum(r_ijk_bot) == 0:\n",
        "      self.r_ijk = torch.zeros(self.c, self.c, self.n)\n",
        "    else:\n",
        "      self.r_ijk = r_ijk_top / r_ijk_bot\n",
        "    \n",
        "    self.r_i = r_ij_bot / (r_ij_bot + r_ijk_bot) #for 1\n",
        "\n",
        "    #print(r_ij_bot)\n",
        "    #print(r_ijk_bot)\n",
        "    ## compute log-likelihood\n",
        "    logl = torch.sum(torch.log(r_ij_bot + r_ijk_bot))\n",
        "\n",
        "    '''\n",
        "    ## predictions\n",
        "    d0pred = torch.max(r_ij, 0).indices\n",
        "    d0pred\n",
        "\n",
        "    #d1pred = torch.zeros(n, 2)\n",
        "    for i in range(n):\n",
        "      d1pred[i,:] = torch.tensor(np.unravel_index(r_ijk[:,:,i].argmax(), r_ijk[:,:,i].shape))\n",
        "    d1pred\n",
        "    '''\n",
        "\n",
        "    return logl\n",
        "\n",
        "  def mstep(self):\n",
        "    \n",
        "    ### M-step:\n",
        "    ## input: n, p, c, r_i, r_ij, r_ijk\n",
        "    ## output: pi_d, n_c, pi_c, n_cc, pi_cc, mu_c, co_c\n",
        "    \n",
        "    ## update pi_d\n",
        "    self.pi_d = torch.sum(self.r_i) / self.n #(one value)\n",
        "    #print(self.pi_d)\n",
        "\n",
        "    #print(self.r_ij)\n",
        "    ## update pi_c (c values)\n",
        "    self.n_c = torch.sum(self.r_i * self.r_ij, 1) ## number of points in n_c\n",
        "    self.pi_c = self.n_c / sum(self.n_c)\n",
        "    #pi_c = r_i * r_ij / n\n",
        "    #print(self.pi_c)\n",
        "\n",
        "    #print(self.n_cc)\n",
        "    #print(self.r_ijk)\n",
        "    ## update pi_cc (cxc upper triangular matrix)\n",
        "    self.n_cc = torch.sum(((1 - self.r_i) * self.r_ijk).T, 0).T ## number of points in each n_cc\n",
        "    #print(self.n_cc)\n",
        "\n",
        "    if torch.sum(self.n_cc) == 0:\n",
        "      self.pi_cc = torch.zeros(self.c, self.c)\n",
        "    else:\n",
        "      self.pi_cc = self.n_cc / torch.sum(self.n_cc)\n",
        "    \n",
        "    #pi_cc = (1 - r_i) * r_ijk / n\n",
        "    #print(self.pi_cc)\n",
        "\n",
        "    ## update mu_cj and sigma_cj\n",
        "\n",
        "    ## note i and k position switch for r_ijk\n",
        "    for j in range(self.c):\n",
        "      \n",
        "      bot1 = 0; bot2 = 0\n",
        "      m_top1 = 0; c_top1 = 0\n",
        "      m_top2 = 0; c_top2 = 0\n",
        "\n",
        "      for i in range(self.n):\n",
        "\n",
        "        w1 = self.r_i[i] * self.r_ij[j,i]\n",
        "        bot1 += w1\n",
        "\n",
        "        m_top1 += w1 * torch.tensor([self.X[i,:]])\n",
        "\n",
        "        top_ker1 = torch.tensor([self.X[i,:]]) - self.mu_c[j,:]\n",
        "        c_top1 += w1 * (top_ker1.T * top_ker1)\n",
        "\n",
        "        for k in range(self.c):\n",
        "          w2 = (1-self.r_i[i]) * self.r_ijk[j,k,i]\n",
        "          bot2 += w2\n",
        "\n",
        "          m_top2 += w2 * (torch.tensor([self.X[i,:]]) - self.mu_c[k,:])\n",
        "\n",
        "          top_ker2 = torch.tensor([self.X[i,:]]) - (self.mu_c[j,:] + self.mu_c[k,:])    \n",
        "          c_top2 += w2 * ((top_ker2.T * top_ker2) - self.co_c[k,:])\n",
        "\n",
        "      self.mu_c[j] = (m_top1 + m_top2) / (bot1 + bot2)\n",
        "\n",
        "      tmp_co = (c_top1 + c_top2) / (bot1 + bot2)\n",
        "\n",
        "      self.co_c[j] = nearestPD(tmp_co) + 1e-6 * np.identity(self.p)\n",
        "\n",
        "      '''\n",
        "      if np.linalg.det(tmp_co) > 0:\n",
        "        self.co_c[j] = tmp_co\n",
        "      elif torch.sum(tmp_co) == 0:\n",
        "        self.co_c[j] = tmp_co + 1e-6 * np.identity(tmp_co.shape[0])\n",
        "      else:\n",
        "        self.co_c[j] = nearestPD(tmp_co)\n",
        "      '''\n",
        "      #self.mu_c[j] = m_top1 / bot1\n",
        "      #self.co_c[j] = c_top1 / bot1\n",
        "\n",
        "      #print(m_top1)\n",
        "      #print(m_top2)\n",
        "      #print(bot1)\n",
        "      #print(bot2)\n",
        "      #print(self.mu_c[j])\n",
        "      #print(self.co_c[j])"
      ],
      "execution_count": 3,
      "outputs": []
    },
    {
      "cell_type": "code",
      "metadata": {
        "id": "t8s8QRRmoaP3"
      },
      "source": [
        "iris = sns.load_dataset(\"iris\")\n",
        "X = iris.iloc[:,:4]\n",
        "#X = np.asarray(X)\n",
        "y = iris.iloc[:,4]\n",
        "\n",
        "pid = 0.5\n",
        "pic = torch.tensor([0.2533, 0.3333, 0.4133])\n",
        "picc = torch.tensor(\n",
        "    [[0.0667, 0.1333, 0.2000],\n",
        "     [0.0000, 0.1000, 0.2667],\n",
        "     [0.0000, 0.0000, 0.2333]])\n",
        "\n",
        "mu = torch.tensor(\n",
        "          [[6.8500, 3.0737, 5.7421, 2.0711],\n",
        "           [5.0060, 3.4280, 1.4620, 0.2460],\n",
        "           [5.9016, 2.7484, 4.3935, 1.4339]])\n",
        "co = torch.tensor(\n",
        "          [[[0.2442, 0.0254, 0.1773, 0.0055],\n",
        "            [0.0254, 0.0842, 0.0122, 0.0344],\n",
        "            [0.1773, 0.0122, 0.2387, 0.0253],\n",
        "            [0.0055, 0.0344, 0.0253, 0.0783]],\n",
        "           [[0.1242, 0.0992, 0.0164, 0.0103],\n",
        "            [0.0992, 0.1437, 0.0117, 0.0093],\n",
        "            [0.0164, 0.0117, 0.0302, 0.0061],\n",
        "            [0.0103, 0.0093, 0.0061, 0.0111]],\n",
        "           [[0.2175, 0.0637, 0.1343, 0.0345],\n",
        "            [0.0637, 0.0878, 0.0549, 0.0290],\n",
        "            [0.1343, 0.0549, 0.2590, 0.1214],\n",
        "            [0.0345, 0.0290, 0.1214, 0.0885]]])"
      ],
      "execution_count": 4,
      "outputs": []
    },
    {
      "cell_type": "code",
      "metadata": {
        "id": "K1IF8GNnOM27"
      },
      "source": [
        "dgmm = DGMM(X)"
      ],
      "execution_count": 5,
      "outputs": []
    },
    {
      "cell_type": "code",
      "metadata": {
        "colab": {
          "base_uri": "https://localhost:8080/"
        },
        "id": "1_dQbF7jOVbF",
        "outputId": "fd8ef7ec-8b38-4def-d9b1-bc46e65b3b5b"
      },
      "source": [
        "lls = dgmm.train(pid, pic, picc, mu, co, itermax=150, tot=1e-10)"
      ],
      "execution_count": 6,
      "outputs": [
        {
          "output_type": "stream",
          "text": [
            "Iteration 1 Likelihood:  tensor(-301.2991)\n",
            "Iteration 2 Likelihood:  tensor(-191.8324)\n",
            "Iteration 3 Likelihood:  tensor(-190.5757)\n",
            "Iteration 4 Likelihood:  tensor(-189.5551)\n",
            "Iteration 5 Likelihood:  tensor(-188.7403)\n",
            "Iteration 6 Likelihood:  tensor(-187.6497)\n",
            "Iteration 7 Likelihood:  tensor(-186.7377)\n",
            "Iteration 8 Likelihood:  tensor(-185.5283)\n",
            "Iteration 9 Likelihood:  tensor(-184.6874)\n",
            "Iteration 10 Likelihood:  tensor(-183.6505)\n",
            "Iteration 11 Likelihood:  tensor(-183.0183)\n",
            "Iteration 12 Likelihood:  tensor(-182.2348)\n",
            "Iteration 13 Likelihood:  tensor(-181.8597)\n",
            "Iteration 14 Likelihood:  tensor(-181.1434)\n",
            "Iteration 15 Likelihood:  tensor(-180.7505)\n",
            "Iteration 16 Likelihood:  tensor(-180.3015)\n",
            "Iteration 17 Likelihood:  tensor(-180.3512)\n",
            "Iteration 18 Likelihood:  tensor(-180.1742)\n",
            "Iteration 19 Likelihood:  tensor(-180.3018)\n",
            "Iteration 20 Likelihood:  tensor(-180.1596)\n",
            "Iteration 21 Likelihood:  tensor(-180.2938)\n",
            "Iteration 22 Likelihood:  tensor(-180.1575)\n",
            "Iteration 23 Likelihood:  tensor(-180.2920)\n",
            "Iteration 24 Likelihood:  tensor(-180.1571)\n",
            "Iteration 25 Likelihood:  tensor(-180.2915)\n",
            "Iteration 26 Likelihood:  tensor(-180.1570)\n",
            "Iteration 27 Likelihood:  tensor(-180.2913)\n",
            "Iteration 28 Likelihood:  tensor(-180.1569)\n",
            "Iteration 29 Likelihood:  tensor(-180.2913)\n",
            "Iteration 30 Likelihood:  tensor(-180.1569)\n",
            "Iteration 31 Likelihood:  tensor(-180.2912)\n",
            "Iteration 32 Likelihood:  tensor(-180.1569)\n",
            "Iteration 33 Likelihood:  tensor(-180.2912)\n",
            "Iteration 34 Likelihood:  tensor(-180.1569)\n",
            "Iteration 35 Likelihood:  tensor(-180.2912)\n",
            "Iteration 36 Likelihood:  tensor(-180.1569)\n",
            "Iteration 37 Likelihood:  tensor(-180.2912)\n",
            "Iteration 38 Likelihood:  tensor(-180.1569)\n",
            "Iteration 39 Likelihood:  tensor(-180.2912)\n",
            "Iteration 40 Likelihood:  tensor(-180.1569)\n",
            "Iteration 41 Likelihood:  tensor(-180.2912)\n",
            "Iteration 42 Likelihood:  tensor(-180.1569)\n",
            "Iteration 43 Likelihood:  tensor(-180.2912)\n",
            "Iteration 44 Likelihood:  tensor(-180.1569)\n",
            "Iteration 45 Likelihood:  tensor(-180.2912)\n",
            "Iteration 46 Likelihood:  tensor(-180.1569)\n",
            "Iteration 47 Likelihood:  tensor(-180.2912)\n",
            "Iteration 48 Likelihood:  tensor(-180.1569)\n",
            "Iteration 49 Likelihood:  tensor(-180.2912)\n",
            "Iteration 50 Likelihood:  tensor(-180.1569)\n",
            "Iteration 51 Likelihood:  tensor(-180.2912)\n",
            "Iteration 52 Likelihood:  tensor(-180.1569)\n",
            "Iteration 53 Likelihood:  tensor(-180.2912)\n",
            "Iteration 54 Likelihood:  tensor(-180.1569)\n",
            "Iteration 55 Likelihood:  tensor(-180.2912)\n",
            "Iteration 56 Likelihood:  tensor(-180.1569)\n",
            "Iteration 57 Likelihood:  tensor(-180.2912)\n",
            "Iteration 58 Likelihood:  tensor(-180.1569)\n",
            "Iteration 59 Likelihood:  tensor(-180.2912)\n",
            "Iteration 60 Likelihood:  tensor(-180.1569)\n",
            "Iteration 61 Likelihood:  tensor(-180.2912)\n",
            "Iteration 62 Likelihood:  tensor(-180.1569)\n",
            "Iteration 63 Likelihood:  tensor(-180.2912)\n",
            "Iteration 64 Likelihood:  tensor(-180.1569)\n",
            "Iteration 65 Likelihood:  tensor(-180.2912)\n",
            "Iteration 66 Likelihood:  tensor(-180.1569)\n",
            "Iteration 67 Likelihood:  tensor(-180.2912)\n",
            "Iteration 68 Likelihood:  tensor(-180.1569)\n",
            "Iteration 69 Likelihood:  tensor(-180.2912)\n",
            "Iteration 70 Likelihood:  tensor(-180.1569)\n",
            "Iteration 71 Likelihood:  tensor(-180.2912)\n",
            "Iteration 72 Likelihood:  tensor(-180.1569)\n",
            "Iteration 73 Likelihood:  tensor(-180.2912)\n",
            "Iteration 74 Likelihood:  tensor(-180.1569)\n",
            "Iteration 75 Likelihood:  tensor(-180.2912)\n",
            "Iteration 76 Likelihood:  tensor(-180.1569)\n",
            "Iteration 77 Likelihood:  tensor(-180.2912)\n",
            "Iteration 78 Likelihood:  tensor(-180.1569)\n",
            "Iteration 79 Likelihood:  tensor(-180.2912)\n",
            "Iteration 80 Likelihood:  tensor(-180.1569)\n",
            "Iteration 81 Likelihood:  tensor(-180.2912)\n",
            "Iteration 82 Likelihood:  tensor(-180.1569)\n",
            "Iteration 83 Likelihood:  tensor(-180.2912)\n",
            "Iteration 84 Likelihood:  tensor(-180.1569)\n",
            "Iteration 85 Likelihood:  tensor(-180.2912)\n",
            "Iteration 86 Likelihood:  tensor(-180.1569)\n",
            "Iteration 87 Likelihood:  tensor(-180.2912)\n",
            "Iteration 88 Likelihood:  tensor(-180.1569)\n",
            "Iteration 89 Likelihood:  tensor(-180.2912)\n",
            "Iteration 90 Likelihood:  tensor(-180.1569)\n",
            "Iteration 91 Likelihood:  tensor(-180.2912)\n",
            "Iteration 92 Likelihood:  tensor(-180.1569)\n",
            "Iteration 93 Likelihood:  tensor(-180.2912)\n",
            "Iteration 94 Likelihood:  tensor(-180.1569)\n",
            "Iteration 95 Likelihood:  tensor(-180.2912)\n",
            "Iteration 96 Likelihood:  tensor(-180.1569)\n",
            "Iteration 97 Likelihood:  tensor(-180.2912)\n",
            "Iteration 98 Likelihood:  tensor(-180.1569)\n",
            "Iteration 99 Likelihood:  tensor(-180.2912)\n",
            "Iteration 100 Likelihood:  tensor(-180.1569)\n",
            "Iteration 101 Likelihood:  tensor(-180.2912)\n",
            "Iteration 102 Likelihood:  tensor(-180.1569)\n",
            "Iteration 103 Likelihood:  tensor(-180.2912)\n",
            "Iteration 104 Likelihood:  tensor(-180.1569)\n",
            "Iteration 105 Likelihood:  tensor(-180.2912)\n",
            "Iteration 106 Likelihood:  tensor(-180.1569)\n",
            "Iteration 107 Likelihood:  tensor(-180.2912)\n",
            "Iteration 108 Likelihood:  tensor(-180.1569)\n",
            "Iteration 109 Likelihood:  tensor(-180.2912)\n",
            "Iteration 110 Likelihood:  tensor(-180.1569)\n",
            "Iteration 111 Likelihood:  tensor(-180.2912)\n",
            "Iteration 112 Likelihood:  tensor(-180.1569)\n",
            "Iteration 113 Likelihood:  tensor(-180.2912)\n",
            "Iteration 114 Likelihood:  tensor(-180.1569)\n",
            "Iteration 115 Likelihood:  tensor(-180.2912)\n",
            "Iteration 116 Likelihood:  tensor(-180.1569)\n",
            "Iteration 117 Likelihood:  tensor(-180.2912)\n",
            "Iteration 118 Likelihood:  tensor(-180.1569)\n",
            "Iteration 119 Likelihood:  tensor(-180.2912)\n",
            "Iteration 120 Likelihood:  tensor(-180.1569)\n",
            "Iteration 121 Likelihood:  tensor(-180.2912)\n",
            "Iteration 122 Likelihood:  tensor(-180.1569)\n",
            "Iteration 123 Likelihood:  tensor(-180.2912)\n",
            "Iteration 124 Likelihood:  tensor(-180.1569)\n",
            "Iteration 125 Likelihood:  tensor(-180.2912)\n",
            "Iteration 126 Likelihood:  tensor(-180.1569)\n",
            "Iteration 127 Likelihood:  tensor(-180.2912)\n",
            "Iteration 128 Likelihood:  tensor(-180.1569)\n",
            "Iteration 129 Likelihood:  tensor(-180.2912)\n",
            "Iteration 130 Likelihood:  tensor(-180.1569)\n",
            "Iteration 131 Likelihood:  tensor(-180.2912)\n",
            "Iteration 132 Likelihood:  tensor(-180.1569)\n",
            "Iteration 133 Likelihood:  tensor(-180.2912)\n",
            "Iteration 134 Likelihood:  tensor(-180.1569)\n",
            "Iteration 135 Likelihood:  tensor(-180.2912)\n",
            "Iteration 136 Likelihood:  tensor(-180.1569)\n",
            "Iteration 137 Likelihood:  tensor(-180.2912)\n",
            "Iteration 138 Likelihood:  tensor(-180.1569)\n",
            "Iteration 139 Likelihood:  tensor(-180.2912)\n",
            "Iteration 140 Likelihood:  tensor(-180.1569)\n",
            "Iteration 141 Likelihood:  tensor(-180.2912)\n",
            "Iteration 142 Likelihood:  tensor(-180.1569)\n",
            "Iteration 143 Likelihood:  tensor(-180.2912)\n",
            "Iteration 144 Likelihood:  tensor(-180.1569)\n",
            "Iteration 145 Likelihood:  tensor(-180.2912)\n",
            "Iteration 146 Likelihood:  tensor(-180.1569)\n",
            "Iteration 147 Likelihood:  tensor(-180.2912)\n",
            "Iteration 148 Likelihood:  tensor(-180.1569)\n",
            "Iteration 149 Likelihood:  tensor(-180.2912)\n",
            "Iteration 150 Likelihood:  tensor(-180.1569)\n"
          ],
          "name": "stdout"
        }
      ]
    },
    {
      "cell_type": "code",
      "metadata": {
        "colab": {
          "base_uri": "https://localhost:8080/"
        },
        "id": "GQuAA_NXc03x",
        "outputId": "e3c70e16-cb59-4b30-9334-cb253fb7f925"
      },
      "source": [
        "dgmm.pi_d"
      ],
      "execution_count": 7,
      "outputs": [
        {
          "output_type": "execute_result",
          "data": {
            "text/plain": [
              "tensor(0.9998)"
            ]
          },
          "metadata": {
            "tags": []
          },
          "execution_count": 7
        }
      ]
    },
    {
      "cell_type": "code",
      "metadata": {
        "colab": {
          "base_uri": "https://localhost:8080/"
        },
        "id": "E0qCNnPVc8TK",
        "outputId": "5d312944-9aba-4d17-fc06-010b1bfaee53"
      },
      "source": [
        "dgmm.n_c"
      ],
      "execution_count": 8,
      "outputs": [
        {
          "output_type": "execute_result",
          "data": {
            "text/plain": [
              "tensor([55.0634, 49.9968, 44.9105])"
            ]
          },
          "metadata": {
            "tags": []
          },
          "execution_count": 8
        }
      ]
    },
    {
      "cell_type": "code",
      "metadata": {
        "colab": {
          "base_uri": "https://localhost:8080/"
        },
        "id": "ep1zcbH9o1BI",
        "outputId": "f39a5303-f584-40c4-d4dd-e29f9c5d6a1b"
      },
      "source": [
        "dgmm.pi_c"
      ],
      "execution_count": 10,
      "outputs": [
        {
          "output_type": "execute_result",
          "data": {
            "text/plain": [
              "tensor([0.3672, 0.3334, 0.2995])"
            ]
          },
          "metadata": {
            "tags": []
          },
          "execution_count": 10
        }
      ]
    },
    {
      "cell_type": "code",
      "metadata": {
        "colab": {
          "base_uri": "https://localhost:8080/"
        },
        "id": "36PJj2UDdxoC",
        "outputId": "283c90c8-800d-42d7-ca44-d3342b1302b2"
      },
      "source": [
        "torch.max(dgmm.r_ij, 0).indices"
      ],
      "execution_count": 11,
      "outputs": [
        {
          "output_type": "execute_result",
          "data": {
            "text/plain": [
              "tensor([1, 1, 1, 1, 1, 1, 1, 1, 1, 1, 1, 1, 1, 1, 1, 1, 1, 1, 1, 1, 1, 1, 1, 1,\n",
              "        1, 1, 1, 1, 1, 1, 1, 1, 1, 1, 1, 1, 1, 1, 1, 1, 1, 1, 1, 1, 1, 1, 1, 1,\n",
              "        1, 1, 2, 2, 2, 2, 2, 2, 2, 2, 2, 2, 2, 2, 2, 2, 2, 2, 2, 2, 0, 2, 0, 2,\n",
              "        0, 2, 2, 2, 2, 0, 2, 2, 2, 2, 2, 0, 2, 2, 2, 2, 2, 2, 2, 2, 2, 2, 2, 2,\n",
              "        2, 2, 2, 2, 0, 0, 0, 0, 0, 0, 0, 0, 0, 0, 0, 0, 0, 0, 0, 0, 0, 0, 0, 0,\n",
              "        0, 0, 0, 0, 0, 0, 0, 0, 0, 0, 0, 0, 0, 0, 0, 0, 0, 0, 0, 0, 0, 0, 0, 0,\n",
              "        0, 0, 0, 0, 0, 0])"
            ]
          },
          "metadata": {
            "tags": []
          },
          "execution_count": 11
        }
      ]
    },
    {
      "cell_type": "code",
      "metadata": {
        "colab": {
          "base_uri": "https://localhost:8080/"
        },
        "id": "j_zzA1Dlf8In",
        "outputId": "53850008-6341-4cae-f174-ea9bfa29c168"
      },
      "source": [
        "dgmm.mu_c"
      ],
      "execution_count": 12,
      "outputs": [
        {
          "output_type": "execute_result",
          "data": {
            "text/plain": [
              "tensor([[6.5434, 2.9482, 5.4790, 1.9846],\n",
              "        [5.0052, 3.4273, 1.4621, 0.2461],\n",
              "        [5.9142, 2.7772, 4.2015, 1.2970]])"
            ]
          },
          "metadata": {
            "tags": []
          },
          "execution_count": 12
        }
      ]
    },
    {
      "cell_type": "code",
      "metadata": {
        "colab": {
          "base_uri": "https://localhost:8080/"
        },
        "id": "74v9opOzg0DN",
        "outputId": "522045b6-36c8-4de0-c287-33db133b22a3"
      },
      "source": [
        "dgmm.co_c"
      ],
      "execution_count": 13,
      "outputs": [
        {
          "output_type": "execute_result",
          "data": {
            "text/plain": [
              "tensor([[[0.3923, 0.0951, 0.3065, 0.0630],\n",
              "         [0.0951, 0.1120, 0.0861, 0.0567],\n",
              "         [0.3065, 0.0861, 0.3306, 0.0755],\n",
              "         [0.0630, 0.0567, 0.0755, 0.0862]],\n",
              "\n",
              "        [[0.1251, 0.0999, 0.0163, 0.0100],\n",
              "         [0.0999, 0.1433, 0.0111, 0.0088],\n",
              "         [0.0163, 0.0111, 0.0307, 0.0064],\n",
              "         [0.0100, 0.0088, 0.0064, 0.0111]],\n",
              "\n",
              "        [[0.2807, 0.0999, 0.1878, 0.0553],\n",
              "         [0.0999, 0.0945, 0.0925, 0.0433],\n",
              "         [0.1878, 0.0925, 0.2033, 0.0619],\n",
              "         [0.0553, 0.0433, 0.0619, 0.0323]]])"
            ]
          },
          "metadata": {
            "tags": []
          },
          "execution_count": 13
        }
      ]
    },
    {
      "cell_type": "code",
      "metadata": {
        "colab": {
          "base_uri": "https://localhost:8080/"
        },
        "id": "Lh5FgFC3muHa",
        "outputId": "c899edbd-a233-4367-8576-08fc4e294934"
      },
      "source": [
        "dgmm.n_cc"
      ],
      "execution_count": 14,
      "outputs": [
        {
          "output_type": "execute_result",
          "data": {
            "text/plain": [
              "tensor([[0.0032, 0.0032, 0.0032],\n",
              "        [0.0032, 0.0032, 0.0032],\n",
              "        [0.0032, 0.0032, 0.0032]])"
            ]
          },
          "metadata": {
            "tags": []
          },
          "execution_count": 14
        }
      ]
    },
    {
      "cell_type": "code",
      "metadata": {
        "colab": {
          "base_uri": "https://localhost:8080/"
        },
        "id": "XcQafSWGm5uY",
        "outputId": "3acc3299-6ab8-4965-f685-47391a8b8611"
      },
      "source": [
        "dgmm.pi_cc"
      ],
      "execution_count": 15,
      "outputs": [
        {
          "output_type": "execute_result",
          "data": {
            "text/plain": [
              "tensor([[0.1111, 0.1111, 0.1111],\n",
              "        [0.1111, 0.1111, 0.1111],\n",
              "        [0.1111, 0.1111, 0.1111]])"
            ]
          },
          "metadata": {
            "tags": []
          },
          "execution_count": 15
        }
      ]
    },
    {
      "cell_type": "code",
      "metadata": {
        "colab": {
          "base_uri": "https://localhost:8080/",
          "height": 297
        },
        "id": "8Q9LFxXFgUGt",
        "outputId": "e8956c17-f0f9-4776-a073-2b5df89311cb"
      },
      "source": [
        "import matplotlib.pyplot as plt\n",
        "\n",
        "def generate_data(n_data, means, covariances, weights):\n",
        "    \"\"\"creates a list of data points\"\"\"\n",
        "    n_clusters, n_features = means.shape\n",
        "    \n",
        "    data = np.zeros((n_data, n_features))\n",
        "    for i in range(n_data):\n",
        "        # pick a cluster id and create data from this cluster\n",
        "        k = np.random.choice(n_clusters, size = 1, p = weights)[0]\n",
        "        x = np.random.multivariate_normal(means[k], covariances[k])\n",
        "        data[i] = x\n",
        "   \n",
        "    return data\n",
        "\n",
        "init_means = np.array([\n",
        "    [5, 0],\n",
        "    [1, 1],\n",
        "    [0, 5]\n",
        "])\n",
        "\n",
        "init_covariances = np.array([\n",
        "    [[.5, 0.], [0, .5]],\n",
        "    [[.92, .38], [.38, .91]],\n",
        "    [[.5, 0.], [0, .5]]\n",
        "])\n",
        "\n",
        "init_weights = [1 / 4, 1 / 2, 1 / 4]\n",
        "\n",
        "# generate data\n",
        "np.random.seed(9)\n",
        "x = generate_data(100, init_means, init_covariances, init_weights)\n",
        "\n",
        "plt.plot(x[:, 0], x[:, 1], 'ko')\n",
        "plt.tight_layout()"
      ],
      "execution_count": 16,
      "outputs": [
        {
          "output_type": "display_data",
          "data": {
            "image/png": "[encoded data removed]",
            "text/plain": [
              "<Figure size 432x288 with 1 Axes>"
            ]
          },
          "metadata": {
            "tags": [],
            "needs_background": "light"
          }
        }
      ]
    },
    {
      "cell_type": "code",
      "metadata": {
        "colab": {
          "base_uri": "https://localhost:8080/",
          "height": 999
        },
        "id": "BPsBL2v4g4pG",
        "outputId": "556b7a76-819e-4fd4-c6a5-3e399088f31b"
      },
      "source": [
        "def plot_contours(data, means, covs, title):\n",
        "    \"\"\"visualize the gaussian components over the data\"\"\"\n",
        "    plt.figure()\n",
        "    plt.plot(data[:, 0], data[:, 1], 'ko')\n",
        "\n",
        "    delta = 0.025\n",
        "    k = means.shape[0]\n",
        "    x = np.arange(-2.0, 7.0, delta)\n",
        "    y = np.arange(-2.0, 7.0, delta)\n",
        "    x_grid, y_grid = np.meshgrid(x, y)\n",
        "    coordinates = np.array([x_grid.ravel(), y_grid.ravel()]).T\n",
        "\n",
        "    col = ['green', 'red', 'indigo']\n",
        "    for i in range(k):\n",
        "        mean = means[i]\n",
        "        cov = covs[i]\n",
        "        z_grid = multivariate_normal(mean, cov).pdf(coordinates).reshape(x_grid.shape)\n",
        "        plt.contour(x_grid, y_grid, z_grid, colors = col[i])\n",
        "\n",
        "    plt.title(title)\n",
        "    plt.tight_layout()\n",
        "\n",
        "sgmm = DGMM(x)\n",
        "slls = sgmm.train(0.5, torch.tensor(init_weights), torch.zeros(3, 3), torch.tensor(init_means), torch.tensor(init_covariances))\n",
        "\n",
        "plot_contours(x, sgmm.mu_c, sgmm.co_c, 'Final clusters')"
      ],
      "execution_count": 17,
      "outputs": [
        {
          "output_type": "stream",
          "text": [
            "Iteration 1 Likelihood:  tensor(-420.7436)\n",
            "Iteration 2 Likelihood:  tensor(-398.5153)\n",
            "Iteration 3 Likelihood:  tensor(-377.4285)\n",
            "Iteration 4 Likelihood:  tensor(-376.1884)\n",
            "Iteration 5 Likelihood:  tensor(-375.8946)\n",
            "Iteration 6 Likelihood:  tensor(-375.7987)\n",
            "Iteration 7 Likelihood:  tensor(-375.7625)\n",
            "Iteration 8 Likelihood:  tensor(-375.7472)\n",
            "Iteration 9 Likelihood:  tensor(-375.7399)\n",
            "Iteration 10 Likelihood:  tensor(-375.7361)\n",
            "Iteration 11 Likelihood:  tensor(-375.7339)\n",
            "Iteration 12 Likelihood:  tensor(-375.7324)\n",
            "Iteration 13 Likelihood:  tensor(-375.7314)\n",
            "Iteration 14 Likelihood:  tensor(-375.7306)\n",
            "Iteration 15 Likelihood:  tensor(-375.7300)\n",
            "Iteration 16 Likelihood:  tensor(-375.7295)\n",
            "Iteration 17 Likelihood:  tensor(-375.7291)\n",
            "Iteration 18 Likelihood:  tensor(-375.7287)\n",
            "Iteration 19 Likelihood:  tensor(-375.7285)\n",
            "Iteration 20 Likelihood:  tensor(-375.7282)\n",
            "Iteration 21 Likelihood:  tensor(-375.7280)\n",
            "Iteration 22 Likelihood:  tensor(-375.7278)\n",
            "Iteration 23 Likelihood:  tensor(-375.7276)\n",
            "Iteration 24 Likelihood:  tensor(-375.7275)\n",
            "Iteration 25 Likelihood:  tensor(-375.7273)\n",
            "Iteration 26 Likelihood:  tensor(-375.7272)\n",
            "Iteration 27 Likelihood:  tensor(-375.7271)\n",
            "Iteration 28 Likelihood:  tensor(-375.7271)\n",
            "Iteration 29 Likelihood:  tensor(-375.7269)\n",
            "Iteration 30 Likelihood:  tensor(-375.7269)\n",
            "Iteration 31 Likelihood:  tensor(-375.7269)\n",
            "Iteration 32 Likelihood:  tensor(-375.7268)\n",
            "Iteration 33 Likelihood:  tensor(-375.7267)\n",
            "Iteration 34 Likelihood:  tensor(-375.7267)\n",
            "Iteration 35 Likelihood:  tensor(-375.7267)\n",
            "Iteration 36 Likelihood:  tensor(-375.7266)\n",
            "Iteration 37 Likelihood:  tensor(-375.7266)\n",
            "Iteration 38 Likelihood:  tensor(-375.7266)\n"
          ],
          "name": "stdout"
        },
        {
          "output_type": "display_data",
          "data": {
            "image/png": "[encoded data removed]",
            "text/plain": [
              "<Figure size 432x288 with 1 Axes>"
            ]
          },
          "metadata": {
            "tags": [],
            "needs_background": "light"
          }
        }
      ]
    },
    {
      "cell_type": "code",
      "metadata": {
        "id": "qHUZax-FizZs"
      },
      "source": [
        "N = 50\n",
        "\n",
        "ms = torch.tensor(init_means)\n",
        "cs = torch.tensor(init_covariances)\n",
        "\n",
        "d_ws = torch.tensor([.7, .3])\n",
        "z_ws = torch.tensor([1 / 4, 1 / 2, 1 / 4])\n",
        "g_ws = torch.tensor([0.0667, 0.1333, 0.2000, 0.1000, 0.2667, 0.2333])\n",
        "\n",
        "n_clusters, n_features = ms.shape\n",
        "\n",
        "xx = np.zeros((N, n_features+3))\n",
        "\n",
        "for i in range(N):\n",
        "  d = np.random.choice(2, size = 1, p = d_ws)[0]\n",
        "  \n",
        "  if d == 0:\n",
        "    z = np.random.choice(n_clusters, size = 1, p = z_ws)[0]\n",
        "    xx[i] = np.append(np.random.multivariate_normal(ms[z], cs[z]), [d, z, 0])\n",
        "  else:\n",
        "    g = np.random.choice(6, size = 1, p = g_ws)[0]\n",
        "    \n",
        "    if g == 0:\n",
        "      idx = [0,0]\n",
        "    elif g == 1:\n",
        "      idx = [0,1]\n",
        "    elif g == 2:\n",
        "      idx = [0,2]\n",
        "    elif g == 3:\n",
        "      idx = [1,1]\n",
        "    elif g == 4:\n",
        "      idx = [1,2]\n",
        "    else:\n",
        "      idx = [2,2]\n",
        "\n",
        "    xx[i] = np.append(np.random.multivariate_normal(ms[idx[0]] + ms[idx[1]], cs[idx[0]] + cs[idx[1]]), (d, idx[0], idx[1]))"
      ],
      "execution_count": 18,
      "outputs": []
    },
    {
      "cell_type": "code",
      "metadata": {
        "colab": {
          "base_uri": "https://localhost:8080/"
        },
        "id": "HPm0EJFhn48H",
        "outputId": "4036887b-272c-4b69-9460-eafa39b8fea5"
      },
      "source": [
        "xx[:10]"
      ],
      "execution_count": 19,
      "outputs": [
        {
          "output_type": "execute_result",
          "data": {
            "text/plain": [
              "array([[ 4.9649976 ,  5.16977327,  1.        ,  0.        ,  2.        ],\n",
              "       [ 0.5723591 ,  0.17780533,  0.        ,  1.        ,  0.        ],\n",
              "       [ 2.36998121,  6.00289239,  1.        ,  1.        ,  2.        ],\n",
              "       [ 2.01590002,  7.20519234,  1.        ,  1.        ,  2.        ],\n",
              "       [ 6.57296316, -0.2445153 ,  1.        ,  0.        ,  1.        ],\n",
              "       [ 5.11564434,  0.24179762,  0.        ,  0.        ,  0.        ],\n",
              "       [ 2.26110999, 10.39990294,  1.        ,  2.        ,  2.        ],\n",
              "       [-0.83364405,  0.26567634,  0.        ,  1.        ,  0.        ],\n",
              "       [ 1.3939186 ,  2.31556212,  0.        ,  1.        ,  0.        ],\n",
              "       [-1.33570095,  4.05037   ,  0.        ,  2.        ,  0.        ]])"
            ]
          },
          "metadata": {
            "tags": []
          },
          "execution_count": 19
        }
      ]
    },
    {
      "cell_type": "code",
      "metadata": {
        "colab": {
          "base_uri": "https://localhost:8080/",
          "height": 297
        },
        "id": "FBKN9jwOl8dV",
        "outputId": "1b1815df-5805-4cad-a29d-81cc2f977910"
      },
      "source": [
        "plt.plot(xx[:, 0], xx[:, 1], 'ko')\n",
        "plt.tight_layout()"
      ],
      "execution_count": 57,
      "outputs": [
        {
          "output_type": "display_data",
          "data": {
            "image/png": "[encoded data removed]",
            "text/plain": [
              "<Figure size 432x288 with 1 Axes>"
            ]
          },
          "metadata": {
            "tags": [],
            "needs_background": "light"
          }
        }
      ]
    },
    {
      "cell_type": "code",
      "metadata": {
        "colab": {
          "base_uri": "https://localhost:8080/"
        },
        "id": "N2eXBRfRmfgL",
        "outputId": "0413276d-3536-4e35-ebd0-ba1adf05d527"
      },
      "source": [
        "gm = torch.tensor([[0.0667, 0.1333, 0.2000], [0, 0.1000, 0.2667], [0, 0, 0.2333]])\n",
        "\n",
        "#eps * np.identity(X.shape[1])\n",
        "\n",
        "init_cov = np.array([\n",
        "    [[.5, 0.], [0, .5]],\n",
        "    [[1, 0], [0, 1]],\n",
        "    [[.5, 0.], [0, .5]]\n",
        "])\n",
        "\n",
        "ssgmm = DGMM(xx[:,:2], c=3)\n",
        "sslls = ssgmm.train(0.7, z_ws, gm, torch.tensor(init_means), init_cov, itermax=300)"
      ],
      "execution_count": 58,
      "outputs": [
        {
          "output_type": "stream",
          "text": [
            "Iteration 1 Likelihood:  tensor(-210.8993)\n",
            "Iteration 2 Likelihood:  tensor(-222.7578)\n",
            "Iteration 3 Likelihood:  tensor(-218.8732)\n",
            "Iteration 4 Likelihood:  tensor(-218.8773)\n",
            "Iteration 5 Likelihood:  tensor(-242.7611)\n",
            "Iteration 6 Likelihood:  tensor(-229.4603)\n",
            "Iteration 7 Likelihood:  tensor(-224.9884)\n",
            "Iteration 8 Likelihood:  tensor(-223.3196)\n",
            "Iteration 9 Likelihood:  tensor(-223.2963)\n",
            "Iteration 10 Likelihood:  tensor(-224.1621)\n",
            "Iteration 11 Likelihood:  tensor(-223.4731)\n",
            "Iteration 12 Likelihood:  tensor(-223.1011)\n",
            "Iteration 13 Likelihood:  tensor(-222.9003)\n",
            "Iteration 14 Likelihood:  tensor(-222.9414)\n",
            "Iteration 15 Likelihood:  tensor(-222.9513)\n",
            "Iteration 16 Likelihood:  tensor(-222.9339)\n",
            "Iteration 17 Likelihood:  tensor(-222.9124)\n",
            "Iteration 18 Likelihood:  tensor(-222.8965)\n",
            "Iteration 19 Likelihood:  tensor(-222.8862)\n",
            "Iteration 20 Likelihood:  tensor(-222.8794)\n",
            "Iteration 21 Likelihood:  tensor(-222.8742)\n",
            "Iteration 22 Likelihood:  tensor(-222.8701)\n",
            "Iteration 23 Likelihood:  tensor(-222.8668)\n",
            "Iteration 24 Likelihood:  tensor(-222.8644)\n",
            "Iteration 25 Likelihood:  tensor(-222.8625)\n",
            "Iteration 26 Likelihood:  tensor(-222.8612)\n",
            "Iteration 27 Likelihood:  tensor(-222.8602)\n",
            "Iteration 28 Likelihood:  tensor(-222.8596)\n",
            "Iteration 29 Likelihood:  tensor(-222.8591)\n",
            "Iteration 30 Likelihood:  tensor(-222.8587)\n",
            "Iteration 31 Likelihood:  tensor(-222.8584)\n",
            "Iteration 32 Likelihood:  tensor(-222.8582)\n",
            "Iteration 33 Likelihood:  tensor(-222.8581)\n",
            "Iteration 34 Likelihood:  tensor(-222.8580)\n",
            "Iteration 35 Likelihood:  tensor(-222.8579)\n",
            "Iteration 36 Likelihood:  tensor(-222.8578)\n",
            "Iteration 37 Likelihood:  tensor(-222.8578)\n",
            "Iteration 38 Likelihood:  tensor(-222.8578)\n",
            "Iteration 39 Likelihood:  tensor(-222.8578)\n",
            "Iteration 40 Likelihood:  tensor(-222.8578)\n"
          ],
          "name": "stdout"
        }
      ]
    },
    {
      "cell_type": "code",
      "metadata": {
        "colab": {
          "base_uri": "https://localhost:8080/"
        },
        "id": "7Gva6qj_wZpW",
        "outputId": "3d383f46-4f56-47ae-b203-868a43e4ce7f"
      },
      "source": [
        "ssgmm.pi_d"
      ],
      "execution_count": 59,
      "outputs": [
        {
          "output_type": "execute_result",
          "data": {
            "text/plain": [
              "tensor(0.4544)"
            ]
          },
          "metadata": {
            "tags": []
          },
          "execution_count": 59
        }
      ]
    },
    {
      "cell_type": "code",
      "metadata": {
        "colab": {
          "base_uri": "https://localhost:8080/"
        },
        "id": "bmlFpT4jeFhn",
        "outputId": "25220fc3-f1ad-4397-959c-7c4c74a375a0"
      },
      "source": [
        "sum(xx[:,2] == 0)/50"
      ],
      "execution_count": 62,
      "outputs": [
        {
          "output_type": "execute_result",
          "data": {
            "text/plain": [
              "0.66"
            ]
          },
          "metadata": {
            "tags": []
          },
          "execution_count": 62
        }
      ]
    },
    {
      "cell_type": "code",
      "metadata": {
        "colab": {
          "base_uri": "https://localhost:8080/"
        },
        "id": "mHW44_aVr04D",
        "outputId": "ab48fad5-401b-49eb-90d0-c6958d9c05b0"
      },
      "source": [
        "ssgmm.pi_c"
      ],
      "execution_count": 61,
      "outputs": [
        {
          "output_type": "execute_result",
          "data": {
            "text/plain": [
              "tensor([0.4811, 0.0000, 0.5189])"
            ]
          },
          "metadata": {
            "tags": []
          },
          "execution_count": 61
        }
      ]
    },
    {
      "cell_type": "code",
      "metadata": {
        "colab": {
          "base_uri": "https://localhost:8080/"
        },
        "id": "gAr8B9_Pti-s",
        "outputId": "fd785fa3-d26b-4cb6-900d-84c228a75af2"
      },
      "source": [
        "print(sum((xx[:,2] == 0) & (xx[:,3] == 0))/N)\n",
        "print(sum((xx[:,2] == 0) & (xx[:,3] == 1))/N)\n",
        "print(sum((xx[:,2] == 0) & (xx[:,3] == 2))/N)"
      ],
      "execution_count": 65,
      "outputs": [
        {
          "output_type": "stream",
          "text": [
            "0.2\n",
            "0.26\n",
            "0.2\n"
          ],
          "name": "stdout"
        }
      ]
    },
    {
      "cell_type": "code",
      "metadata": {
        "colab": {
          "base_uri": "https://localhost:8080/"
        },
        "id": "E6rKyvfAGpsq",
        "outputId": "a117492f-24c3-40fc-87f4-d5ff3d694d2c"
      },
      "source": [
        "ssgmm.pi_cc"
      ],
      "execution_count": 66,
      "outputs": [
        {
          "output_type": "execute_result",
          "data": {
            "text/plain": [
              "tensor([[0.1552, 0.0738, 0.3584],\n",
              "        [0.0000, 0.0000, 0.1355],\n",
              "        [0.0000, 0.0000, 0.2772]])"
            ]
          },
          "metadata": {
            "tags": []
          },
          "execution_count": 66
        }
      ]
    },
    {
      "cell_type": "code",
      "metadata": {
        "colab": {
          "base_uri": "https://localhost:8080/"
        },
        "id": "jP54VJd-G-_-",
        "outputId": "4b8e4350-e967-4f1f-c0ed-1746884f8df3"
      },
      "source": [
        "print(sum((xx[:,2] == 1) & (xx[:,3] == 0) & (xx[:,3] == 0)))\n",
        "print(sum((xx[:,2] == 1) & (xx[:,3] == 0) & (xx[:,3] == 1)))\n",
        "print(sum((xx[:,2] == 1) & (xx[:,3] == 0) & (xx[:,3] == 2)))\n",
        "print(sum((xx[:,2] == 1) & (xx[:,3] == 1) & (xx[:,3] == 1)))\n",
        "print(sum((xx[:,2] == 1) & (xx[:,3] == 1) & (xx[:,3] == 2)))\n",
        "print(sum((xx[:,2] == 1) & (xx[:,3] == 2) & (xx[:,3] == 2)))"
      ],
      "execution_count": 67,
      "outputs": [
        {
          "output_type": "stream",
          "text": [
            "10\n",
            "0\n",
            "0\n",
            "4\n",
            "0\n",
            "3\n"
          ],
          "name": "stdout"
        }
      ]
    },
    {
      "cell_type": "code",
      "metadata": {
        "id": "LsTqcLuMnqjG"
      },
      "source": [
        "### E-step:\n",
        "## calculate 1) pi_i => d; 2) pi_j => z; 3) pi_jk => gamma\n",
        "## first compute 2) and 3) and then 1)\n",
        "\n",
        "r_ij_top = torch.zeros(c, n)\n",
        "r_ijk_top = torch.zeros(c, c, n)\n",
        "    \n",
        "for j in range(c):\n",
        "  r_ij_top[j] = pi_d * (pi_c[j] * stats.multivariate_normal(mu_c[j], co_c[j]).pdf(X))\n",
        "  for k in range(c):\n",
        "    r_ijk_top[j,k] = (1-pi_d) * (pi_cc[j][k] * stats.multivariate_normal(mu_c[j] + mu_c[k], co_c[j] + co_c[k]).pdf(X))\n",
        "\n",
        "r_ij_bot = torch.sum(r_ij_top, 0) #for 2)\n",
        "r_ij = r_ij_top / r_ij_bot\n",
        "\n",
        "r_ijk_bot = torch.sum(torch.sum(r_ijk_top, 0), 0) #for 3)\n",
        "r_ijk = r_ijk_top / r_ijk_bot\n",
        "\n",
        "r_i = r_ij_bot / (r_ij_bot + r_ijk_bot) #for 1\n",
        "\n",
        "## compute log-likelihood\n",
        "logl = torch.sum(torch.log(r_ij_bot) + torch.log(r_ijk_bot))\n",
        "\n",
        "## predictions\n",
        "#d0pred = torch.max(r_ij, 0).indices\n",
        "#d0pred\n",
        "\n",
        "#d1pred = torch.zeros(n, 2)\n",
        "#for i in range(n):\n",
        "#  d1pred[i,:] = torch.tensor(np.unravel_index(r_ijk[:,:,i].argmax(), r_ijk[:,:,i].shape))\n",
        "#d1pred\n",
        "\n",
        "### M-step:\n",
        "\n",
        "## update pi_d\n",
        "pi_d = torch.sum(r_i) / n #(one value)\n",
        "\n",
        "## update pi_c (c values)\n",
        "n_c = torch.sum(r_i * r_ij, 1) ## number of points in n_c\n",
        "pi_c = n_c / sum(n_c)\n",
        "#pi_c = r_i * r_ij / n\n",
        "\n",
        "## update pi_cc (cxc upper triangular matrix)\n",
        "n_cc = torch.sum(((1 - r_i) * r_ijk).T, 0).T ## number of points in each n_cc\n",
        "pi_cc = n_cc / torch.sum(n_cc)\n",
        "#pi_cc = (1 - r_i) * r_ijk / n\n",
        "\n",
        "## update mu_cj and sigma_cj\n",
        "bot1 = 0; bot2 = 0\n",
        "m_top1 = 0; c_top1 = 0\n",
        "m_top2 = 0; c_top2 = 0\n",
        "\n",
        "## note i and j position switch for r_ijk\n",
        "for j in range(c):\n",
        "\n",
        "  for i in range(n):\n",
        "    \n",
        "    w1 = r_i[i] * r_ij[j,i]\n",
        "    bot1 += w1\n",
        "    \n",
        "    m_top1 += w1 * torch.tensor([X[i,:]])\n",
        "\n",
        "    top_ker1 = torch.tensor([X[i,:]]) - mu_c[j,:]\n",
        "    c_top1 += w1 * (top_ker1.T * top_ker1)\n",
        "\n",
        "    for k in range(c):\n",
        "      w2 = (1-r_i[i]) * r_ijk[j,k,i]\n",
        "      bot2 += w2\n",
        "      \n",
        "      m_top2 += w2 * (torch.tensor([X[i,:]]) - mu_c[k,:])\n",
        "      \n",
        "      top_ker2 = torch.tensor([X[i,:]]) - (mu_c[j,:] + mu_c[k,:])    \n",
        "      c_top2 += w2 * ((top_ker2.T * top_ker2) - co_c[k,:])\n",
        "\n",
        "  mu_c[j] = (m_top1 + m_top2) / (bot1 + bot2)\n",
        "  co_c[j] = (c_top1 + c_top2) / (bot1 + bot2)"
      ],
      "execution_count": null,
      "outputs": []
    },
    {
      "cell_type": "code",
      "metadata": {
        "id": "nXdbVKufsBPb"
      },
      "source": [
        "class DGMM(object):\n",
        "  \n",
        "  def __init__(self, X, c=3):\n",
        "    self.X = np.asarray(X)\n",
        "    \n",
        "    # dimension\n",
        "    self.n, self.p = X.shape\n",
        "    self.c = c\n",
        "  \n",
        "#  def _init(self):\n",
        "#    self.r_i = torch.ones(self.n)\n",
        "#    self.r_ij = torch.ones(self.c, self.n)\n",
        "#    self.r_ijk = torch.ones(self.c, self.c, self.n)\n",
        "\n",
        "#    self.n_c = torch.zeros(self.c)\n",
        "#    self.n_cc = torch.zeros(self.c)\n",
        "\n",
        "#    self.pi_d = torch.zeros(1)\n",
        "    #self.pi_c = torch.ones(self.c) / self.c\n",
        "    #self.pi_cc = torch.triu(torch.ones(self.c, self.c)) / (self.c * self.c)\n",
        "\n",
        "#    self.pi_c = torch.zeros(self.c)\n",
        "#    self.pi_cc = torch.ones(self.c, self.c)\n",
        "\n",
        "#    self.mu_c = torch.zeros(self.c, self.p)\n",
        "#    self.co_c = torch.zeros(self.c, self.p, self.p)\n",
        "  \n",
        "  def _init(self):\n",
        "    \n",
        "    self.mu_c = torch.tensor(\n",
        "          [[6.8500, 3.0737, 5.7421, 2.0711],\n",
        "           [5.0060, 3.4280, 1.4620, 0.2460],\n",
        "           [5.9016, 2.7484, 4.3935, 1.4339]])\n",
        "      \n",
        "    self.co_c = torch.tensor(\n",
        "          [[[0.2442, 0.0254, 0.1773, 0.0055],\n",
        "            [0.0254, 0.0842, 0.0122, 0.0344],\n",
        "            [0.1773, 0.0122, 0.2387, 0.0253],\n",
        "            [0.0055, 0.0344, 0.0253, 0.0783]],\n",
        "           [[0.1242, 0.0992, 0.0164, 0.0103],\n",
        "            [0.0992, 0.1437, 0.0117, 0.0093],\n",
        "            [0.0164, 0.0117, 0.0302, 0.0061],\n",
        "            [0.0103, 0.0093, 0.0061, 0.0111]],\n",
        "           [[0.2175, 0.0637, 0.1343, 0.0345],\n",
        "            [0.0637, 0.0878, 0.0549, 0.0290],\n",
        "            [0.1343, 0.0549, 0.2590, 0.1214],\n",
        "            [0.0345, 0.0290, 0.1214, 0.0885]]])\n",
        "      \n",
        "    self.n_c = torch.tensor([38., 50., 62.])\n",
        "    self.n_cc = torch.tensor([[10, 20, 30], [0, 15, 40], [0, 0, 35]])\n",
        "\n",
        "    self.pi_d = .4\n",
        "    self.pi_c = self.n_c/sum(self.n_c)\n",
        "    self.pi_cc = self.n_cc/torch.sum(self.n_cc)  \n",
        "\n",
        "    self.r_i = torch.ones(self.n)\n",
        "    self.r_ij = torch.ones(self.c, self.n)\n",
        "    self.r_ijk = torch.ones(self.c, self.c, self.n)\n",
        "\n",
        "    #kmeans = KMeans(n_clusters=self.k, random_state=0).fit(self.X)\n",
        "    #self.mu_c = torch.tensor(kmeans.cluster_centers_)\n",
        "  \n",
        "    #for j in range(self.k):\n",
        "    #  indx = kmeans.labels_ == j\n",
        "    #  d = self.X[indx]\n",
        "    #  self.n_c[j] = sum(indx)\n",
        "    #  self.co_c[j] = torch.from_numpy(np.cov(d.T))\n",
        "\n",
        "  def train(self, itermax=500, tot=1e-5):\n",
        "    \n",
        "    self._init() ## need work\n",
        "    \n",
        "    llv = [0.0]\n",
        "    for iter in range(itermax):\n",
        "      lli = self.estep()\n",
        "      self.mstep()\n",
        "      \n",
        "      print('Iteration', iter + 1, 'Likelihood: ', lli)\n",
        "        \n",
        "      if abs(llv[-1] - lli) < tot:\n",
        "        break \n",
        "      \n",
        "      llv.append(lli)\n",
        "    return llv[1:]\n",
        "\n",
        "  def estep(self):\n",
        "\n",
        "    ### E-step:\n",
        "    ## input: n, p, c, pi_d, pi_c, pi_cc, mu_c, co_c\n",
        "    ## output: r_i, r_ij, r_ijk, ll\n",
        "    ## calculate 1) pi_i => d; 2) pi_j => z; 3) pi_jk => gamma\n",
        "    ## first compute 2) and 3) and then 1)\n",
        "\n",
        "    r_ij_top = torch.zeros(self.c, self.n)\n",
        "    r_ijk_top = torch.zeros(self.c, self.c, self.n)\n",
        "    \n",
        "    for j in range(self.c):\n",
        "      r_ij_top[j] = self.pi_d * (self.pi_c[j] * stats.multivariate_normal(self.mu_c[j], self.co_c[j]).pdf(self.X))\n",
        "      for k in range(c):\n",
        "        r_ijk_top[j,k] = (1-self.pi_d) * (self.pi_cc[j,k] * stats.multivariate_normal(self.mu_c[j] + self.mu_c[k], self.co_c[j] + self.co_c[k]).pdf(self.X))\n",
        "\n",
        "    r_ij_bot = torch.sum(r_ij_top, 0) #for 2)\n",
        "    self.r_ij = r_ij_top / r_ij_bot\n",
        "\n",
        "    r_ijk_bot = torch.sum(torch.sum(r_ijk_top, 0), 0) #for 3)\n",
        "    self.r_ijk = r_ijk_top / r_ijk_bot\n",
        "\n",
        "    self.r_i = r_ij_bot / (r_ij_bot + r_ijk_bot) #for 1\n",
        "\n",
        "    ## compute log-likelihood\n",
        "    logl = torch.sum(torch.log(r_ij_bot) + torch.log(r_ijk_bot))\n",
        "\n",
        "    ## predictions\n",
        "    #d0pred = torch.max(r_ij, 0).indices\n",
        "    #d0pred\n",
        "\n",
        "    #d1pred = torch.zeros(n, 2)\n",
        "    #for i in range(n):\n",
        "    #  d1pred[i,:] = torch.tensor(np.unravel_index(r_ijk[:,:,i].argmax(), r_ijk[:,:,i].shape))\n",
        "    #d1pred\n",
        "\n",
        "    return(logl)\n",
        "\n",
        "  def mstep(self):\n",
        "    \n",
        "    ### M-step:\n",
        "    ## input: n, p, c, r_i, r_ij, r_ijk\n",
        "    ## output: pi_d, n_c, pi_c, n_cc, pi_cc, mu_c, co_c\n",
        "    ## update pi_d\n",
        "    self.pi_d = torch.sum(self.r_i) / self.n #(one value)\n",
        "\n",
        "    ## update pi_c (c values)\n",
        "    self.n_c = torch.sum(self.r_i * self.r_ij, 1) ## number of points in n_c\n",
        "    self.pi_c = self.n_c / sum(self.n_c)\n",
        "    #pi_c = r_i * r_ij / n\n",
        "\n",
        "    ## update pi_cc (cxc upper triangular matrix)\n",
        "    self.n_cc = torch.sum(((1 - self.r_i) * self.r_ijk).T, 0).T ## number of points in each n_cc\n",
        "    self.pi_cc = self.n_cc / torch.sum(self.n_cc)\n",
        "    #pi_cc = (1 - r_i) * r_ijk / n\n",
        "\n",
        "    ## update mu_cj and sigma_cj\n",
        "    bot1 = 0; bot2 = 0\n",
        "    m_top1 = 0; c_top1 = 0\n",
        "    m_top2 = 0; c_top2 = 0\n",
        "\n",
        "    ## note i and j position switch for r_ijk\n",
        "    for j in range(self.c):\n",
        "      \n",
        "      for i in range(self.n):\n",
        "\n",
        "        w1 = self.r_i[i] * self.r_ij[j,i]\n",
        "        bot1 += w1\n",
        "\n",
        "        m_top1 += w1 * torch.tensor([self.X[i,:]])\n",
        "\n",
        "        top_ker1 = torch.tensor([self.X[i,:]]) - self.mu_c[j,:]\n",
        "        c_top1 += w1 * (top_ker1.T * top_ker1)\n",
        "\n",
        "        for k in range(self.c):\n",
        "          w2 = (1-self.r_i[i]) * self.r_ijk[j,k,i]\n",
        "          bot2 += w2\n",
        "\n",
        "          m_top2 += w2 * (torch.tensor([self.X[i,:]]) - self.mu_c[k,:])\n",
        "\n",
        "          top_ker2 = torch.tensor([self.X[i,:]]) - (self.mu_c[j,:] + self.mu_c[k,:])    \n",
        "          c_top2 += w2 * ((top_ker2.T * top_ker2) - self.co_c[k,:])\n",
        "\n",
        "      self.mu_c[j] = (m_top1 + m_top2) / (bot1 + bot2)\n",
        "      self.co_c[j] = (c_top1 + c_top2) / (bot1 + bot2)\n"
      ],
      "execution_count": 21,
      "outputs": []
    },
    {
      "cell_type": "code",
      "metadata": {
        "id": "H1BYSEbaqwls"
      },
      "source": [
        "class DGMM(object):\n",
        "  \n",
        "  def __init__(self, X, c=3):\n",
        "    self.X = np.asarray(X)\n",
        "    \n",
        "    # dimension\n",
        "    self.n, self.p = X.shape\n",
        "    self.c = c\n",
        "  \n",
        "  def _init(self):\n",
        "    self.r_i = torch.ones(self.n)\n",
        "    self.r_ij = torch.ones(self.c, self.n)\n",
        "    self.r_ijk = torch.ones(self.c, self.c, self.n)\n",
        "\n",
        "    self.n_c = torch.zeros(self.c)\n",
        "    self.n_cc = torch.zeros(self.c)\n",
        "\n",
        "    self.pi_d = torch.ones(1)\n",
        "    self.pi_c = torch.ones(self.c) / self.c\n",
        "    self.pi_cc = torch.triu(torch.ones(self.c, self.c)) / (self.c * self.c)\n",
        "\n",
        "    self.mu_c = torch.ones(self.c, self.p)\n",
        "    self.co_c = torch.zeros(self.c, self.p, self.p)\n",
        "\n",
        "  def estep(self):\n",
        "    \n",
        "    ### E-step:\n",
        "    ## calculate 1) pi_i => d; 2) pi_j => z; 3) pi_jk => gamma\n",
        "    ## first compute 2) and 3) and then 1)\n",
        "    \n",
        "    r_ij_top = torch.zeros(self.c, self.n)\n",
        "    r_ijk_top = torch.zeros(self.c, self.c, self.n)\n",
        "    \n",
        "    for j in range(self.c):\n",
        "      r_ij_top[j] = self.pi_d * (self.pi_c[j] * stats.multivariate_normal(self.mu_c[j], self.co_c[j]).pdf(self.X))\n",
        "      for k in range(self.c):\n",
        "        r_ijk_top[j][k] = (1-self.pi_d) * (self.pi_cc[j][k] * stats.multivariate_normal(self.mu_c[j] + self.mu_c[k], self.co_c[j] + self.co_c[k]).pdf(self.X))\n",
        "\n",
        "    ## for 2)\n",
        "    #r_ij_top = torch.zeros(c, n)\n",
        "    #for j in range(c):\n",
        "    #  r_ij_top[j] = pi_d * (pi_c[j] * stats.multivariate_normal(mu_c[j], co_c[j]).pdf(X))\n",
        "\n",
        "    r_ij_bot = torch.sum(r_ij_top, 0) #for 1)\n",
        "    self.r_ij = r_ij_top / r_ij_bot\n",
        "  \n",
        "    ## for 3)\n",
        "    #r_ijk_top = torch.zeros(c, c, n) \n",
        "    #for j in range(c):\n",
        "    #  for k in range(c):\n",
        "    #    r_ijk_top[j][k] = (1-pi_d) * (pi_cc[j][k] * stats.multivariate_normal(mu_c[j] + mu_c[k], co_c[j] + co_c[k]).pdf(X))\n",
        "\n",
        "    r_ijk_bot = torch.sum(torch.sum(r_ijk_top, 0), 0) #for 1)\n",
        "    self.r_ijk = r_ijk_top / r_ijk_bot\n",
        "\n",
        "    ## for 1)\n",
        "    self.r_i = r_ij_bot / (r_ij_bot + r_ijk_bot)\n",
        "\n",
        "    ## compute log-likelihood\n",
        "    logl = torch.sum(torch.log(r_ij_bot) + torch.log(r_ijk_bot))\n",
        "\n",
        "    ## predictions\n",
        "    pred0 = torch.max(self.r_ij, 0).indices\n",
        "    #d0pred\n",
        "\n",
        "    pred1 = torch.zeros(self.n, 2)\n",
        "    for i in range(self.n):\n",
        "      pred1[i,:] = torch.tensor(np.unravel_index(self.r_ijk[:,:,i].argmax(), self.r_ijk[:,:,i].shape))\n",
        "    #d1pred\n",
        "\n",
        "    return(logl, pred0, pred1)\n",
        "\n",
        "  def mstep(self):\n",
        "\n",
        "    ### M-step:\n",
        "  \n",
        "    ## update pi\n",
        "    self.pi_d = torch.sum(self.r_i) / n #(one value)\n",
        "  \n",
        "    ## update pi_c (c values)\n",
        "    self.n_c = torch.sum(self.r_i * self.r_ij, 1) ## number of points in n_c\n",
        "    self.pi_c = self.n_c / sum(self.n_c)\n",
        "    #pi_c = r_i * r_ij / n\n",
        "  \n",
        "    ## update pi_cc (cxc upper triangular matrix)\n",
        "    self.n_cc = torch.sum(((1 - self.r_i) * self.r_ijk).T, 0).T ## number of points in each n_cc\n",
        "    self.pi_cc = self.n_cc / torch.sum(self.n_cc)\n",
        "    #pi_cc = (1 - r_i) * r_ijk / n\n",
        "  \n",
        "    ## update mu_cj and sigma_cj\n",
        "    bot1 = 0; bot2 = 0\n",
        "    m_top1 = 0; c_top1 = 0\n",
        "    m_top2 = 0; c_top2 = 0\n",
        "  \n",
        "    for j in range(c):\n",
        "    \n",
        "      for i in range(n):\n",
        "        w1 = r_i[i] * r_ij[j,i]\n",
        "        bot1 += w1\n",
        "    \n",
        "        m_top1 += w1 * torch.tensor([X.iloc[i,:]])\n",
        "\n",
        "        top_ker1 = torch.tensor([X.iloc[i,:]]) - mu_c[j,:]\n",
        "        c_top1 += w1 * (top_ker1.T * top_ker1)\n",
        "\n",
        "        for k in range(c):\n",
        "          w2 = (1-r_i[i]) * r_ijk[j,k,i]\n",
        "          bot2 += w2\n",
        "      \n",
        "          m_top2 += w2 * (torch.tensor([X.iloc[i,:]]) - mu_c[k,:])\n",
        "      \n",
        "          top_ker2 = torch.tensor([X.iloc[i,:]]) - (mu_c[j,:] + mu_c[k,:])    \n",
        "          c_top2 += w2 * ((top_ker2.T * top_ker2) - co_c[k,:])\n",
        "\n",
        "      self.mu_c[j] = (m_top1 + m_top2) / (bot1 + bot2)\n",
        "      self.co_c[j] = (c_top1 + c_top2) / (bot1 + bot2)\n",
        "\n",
        "    #return(pi_d, n_c, pi_c, n_cc, pi_cc, mu_c, co_c)\n",
        "\n",
        "  \n"
      ],
      "execution_count": null,
      "outputs": []
    },
    {
      "cell_type": "code",
      "metadata": {
        "id": "QLGoRTiRxn5K"
      },
      "source": [
        "n = 150\n",
        "\n",
        "### E-step:\n",
        "## calculate 1) pi_i => d; 2) pi_j => z; 3) pi_jk => gamma\n",
        "## first compute 2) and 3) and then 1)\n",
        "\n",
        "## for 2)\n",
        "r_ij_top = torch.zeros(c, n) \n",
        "for j in range(c):\n",
        "  r_ij_top[j] = pi_d * (pi_c[j] * stats.multivariate_normal(mu_c[j], co_c[j]).pdf(X))\n",
        "\n",
        "r_ij_bot = torch.sum(r_ij_top, 0) #for 1)\n",
        "r_ij = r_ij_top / r_ij_bot\n",
        "\n",
        "## for 3)\n",
        "r_ijk_top = torch.zeros(c, c, n) \n",
        "for j in range(c):\n",
        "  for k in range(c):\n",
        "    r_ijk_top[j][k] = (1-pi_d) * (pi_cc[j][k] * \n",
        "                             stats.multivariate_normal(mu_c[j] + mu_c[k], co_c[j] + co_c[k]).pdf(X))\n",
        "\n",
        "r_ijk_bot = torch.sum(torch.sum(r_ijk_top, 0), 0) #for 1)\n",
        "r_ijk = r_ijk_top / r_ijk_bot\n",
        "\n",
        "r_i = r_ij_bot / (r_ij_bot + r_ijk_bot)\n",
        "\n",
        "## compute log-likelihood\n",
        "logl = torch.sum(torch.log(r_ij_bot) + torch.log(r_ijk_bot))\n",
        "\n",
        "## predictions\n",
        "d0pred = torch.max(r_ij, 0).indices\n",
        "#d0pred\n",
        "\n",
        "d1pred = torch.zeros(n, 2)\n",
        "for i in range(n):\n",
        "  d1pred[i,:] = torch.tensor(np.unravel_index(r_ijk[:,:,i].argmax(), r_ijk[:,:,i].shape))\n",
        "#d1pred\n",
        "\n",
        "### E-step:\n",
        "\n",
        "## update pi\n",
        "pi_d = torch.sum(r_i) / n #(one value)\n",
        "\n",
        "## update pi_c (c values)\n",
        "n_c = torch.sum(r_i * r_ij, 1) ## number of points in n_c\n",
        "pi_c = n_c / sum(n_c)\n",
        "#pi_c = r_i * r_ij / n\n",
        "\n",
        "## update pi_cc (cxc upper triangular matrix)\n",
        "n_cc = torch.sum(((1 - r_i) * r_ijk).T, 0).T ## number of points in each n_cc\n",
        "pi_cc = n_cc / torch.sum(n_cc)\n",
        "#pi_cc = (1 - r_i) * r_ijk / n\n",
        "\n",
        "## update mu_cj and sigma_cj\n",
        "bot1 = 0; bot2 = 0\n",
        "m_top1 = 0; c_top1 = 0\n",
        "m_top2 = 0; c_top2 = 0\n",
        "\n",
        "for j in range(c):\n",
        "\n",
        "  for i in range(n):\n",
        "    \n",
        "    w1 = r_i[i] * r_ij[j,i]\n",
        "    bot1 += w1\n",
        "    \n",
        "    m_top1 += w1 * torch.tensor([X.iloc[i,:]])\n",
        "\n",
        "    top_ker1 = torch.tensor([X.iloc[i,:]]) - mu_c[j,:]\n",
        "    c_top1 += w1 * (top_ker1.T * top_ker1)\n",
        "\n",
        "    for k in range(c):\n",
        "      w2 = (1-r_i[i]) * r_ijk[j,k,i]\n",
        "      bot2 += w2\n",
        "      \n",
        "      m_top2 += w2 * (torch.tensor([X.iloc[i,:]]) - mu_c[k,:])\n",
        "      \n",
        "      top_ker2 = torch.tensor([X.iloc[i,:]]) - (mu_c[j,:] + mu_c[k,:])    \n",
        "      c_top2 += w2 * ((top_ker2.T * top_ker2) - co_c[k,:])\n",
        "\n",
        "  mu_c[j] = (m_top1 + m_top2) / (bot1 + bot2)\n",
        "  co_c[j] = (c_top1 + c_top2) / (bot1 + bot2)"
      ],
      "execution_count": null,
      "outputs": []
    },
    {
      "cell_type": "code",
      "metadata": {
        "id": "uep1gLnYBgcy"
      },
      "source": [
        "## update mu_cj\n",
        "top1 = 0; bot1 = 0\n",
        "top2 = 0; bot2 = 0\n",
        "for j in range(c):\n",
        "\n",
        "  for i in range(n):\n",
        "    \n",
        "    w1 = r_i[i] * r_ij[j,i]\n",
        "    bot1 += w1\n",
        "    top1 += torch.tensor([X.iloc[i,:]]) * w1\n",
        "    \n",
        "    for k in range(c):\n",
        "      w2 = (1-r_i[i]) * r_ijk[j,k,i]\n",
        "      bot2 += w2\n",
        "      top2 += (torch.tensor([X.iloc[i,:]]) - mu_c[k,:]) * w2\n",
        "      \n",
        "  mu_c[j] = (top1 + top2) / (bot1 + bot2)\n",
        "\n",
        "## update sigma_cj\n",
        "top1 = 0; bot1 = 0\n",
        "top2 = 0; bot2 = 0\n",
        "for j in range(c):\n",
        "  \n",
        "  for i in range(n):\n",
        "    top_ker1 = torch.tensor([X.iloc[i,:]]) - mu_c[j,:]\n",
        "    w1 = r_i[i] * r_ij[j,i]\n",
        "    bot1 += w1\n",
        "    top1 += w1 * (top_ker1.T * top_ker1)\n",
        "\n",
        "    top_ker2 = torch.tensor([X.iloc[i,:]]) - (mu_c[j,:] + mu_c[k,:])    \n",
        "    for k in range(c):\n",
        "      w2 = (1-r_i[i]) * r_ijk[j,k,i]\n",
        "      bot2 += w2\n",
        "      top2 += w2 * ((top_ker2.T * top_ker2) - co_c[k,:])\n",
        "  \n",
        "  co_c[j] = (top1 + top2) / (bot1 + bot2)"
      ],
      "execution_count": null,
      "outputs": []
    },
    {
      "cell_type": "code",
      "metadata": {
        "id": "BXxt02vVTYX8"
      },
      "source": [
        "top1 = 0; bot1 = 0\n",
        "top2 = 0; bot2 = 0\n",
        "for j in range(c):\n",
        "  \n",
        "  for i in range(n):\n",
        "    top_ker1 = torch.tensor([X.iloc[i,:]]) - mu_c[j,:]\n",
        "    w1 = r_i[i] * r_ij[j,i]\n",
        "    bot1 += w1\n",
        "    top1 += w1 * (top_ker1.T * top_ker1)\n",
        "\n",
        "    top_ker2 = torch.tensor([X.iloc[i,:]]) - (mu_c[j,:] + mu_c[k,:])    \n",
        "    for k in range(c):\n",
        "      w2 = (1-r_i[i]) * r_ijk[j,k,i]\n",
        "      bot2 += w2\n",
        "      top2 += w2 * ((top_ker2.T * top_ker2) - co_c[k])\n",
        "  co_c[j] = (top1 + top2) / (bot1 + bot2)"
      ],
      "execution_count": null,
      "outputs": []
    },
    {
      "cell_type": "code",
      "metadata": {
        "id": "mQEKrkbDwtqu"
      },
      "source": [
        "## EM algorithm\n",
        "llv = [0.0]\n",
        "for iter in range(itermax):\n",
        "  lli = estep()\n",
        "  mstep()\n",
        "      \n",
        "  print('Iteration', iter + 1, 'Likelihood: ', lli)\n",
        "        \n",
        "  if abs(llv[-1] - lli) < 1e-4:\n",
        "    break \n",
        "      \n",
        "  llv.append(lli)\n"
      ],
      "execution_count": null,
      "outputs": []
    }
  ]
}