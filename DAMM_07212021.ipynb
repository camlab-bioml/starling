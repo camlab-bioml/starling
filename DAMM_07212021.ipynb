{
  "nbformat": 4,
  "nbformat_minor": 0,
  "metadata": {
    "colab": {
      "name": "DAMM_07212021",
      "provenance": [],
      "collapsed_sections": [],
      "authorship_tag": "ABX9TyNXyNrg63pYuYJttht3JRHV",
      "include_colab_link": true
    },
    "kernelspec": {
      "name": "python3",
      "display_name": "Python 3"
    },
    "language_info": {
      "name": "python"
    }
  },
  "cells": [
    {
      "cell_type": "markdown",
      "metadata": {
        "id": "view-in-github",
        "colab_type": "text"
      },
      "source": [
        "<a href=\"https://colab.research.google.com/github/camlab-bioml/2021_IMC_Jett/blob/main/DAMM_07212021.ipynb\" target=\"_parent\"><img src=\"https://colab.research.google.com/assets/colab-badge.svg\" alt=\"Open In Colab\"/></a>"
      ]
    },
    {
      "cell_type": "code",
      "metadata": {
        "id": "FC3ybb9RaZCM"
      },
      "source": [
        "import torch\n",
        "import torch.optim as optim\n",
        "import torch.distributions as D\n",
        "\n",
        "import torch.nn as nn\n",
        "\n",
        "import numpy as np\n",
        "import matplotlib.pyplot as plt\n",
        "import sklearn.datasets as datasets\n",
        "\n",
        "def _ics(logL, n_obs, n_features, n_clusters): #, n, p, c\n",
        "  params = ( (((n_features * n_features) - n_features)/2 + 2 * n_features + 3) * (((n_clusters * n_clusters) - n_clusters)/2 + 2 * n_clusters) ) - 1\n",
        "  return 2 * (params - logL), -2 * logL + params * np.log(n_obs)\n",
        "  \n",
        "def generateData(n_clusters = 3, n_obs = 10000, n_features = 2):\n",
        "\n",
        "  ## set ground true expressions ##\n",
        "\n",
        "  true_expression_means = torch.tensor([\n",
        "      [3, 5],\n",
        "      [6, 7],\n",
        "      [9, 11]\n",
        "  ])\n",
        "  \n",
        "  #true_expression_means = torch.randint(1, 11, (n_clusters, n_features))\n",
        "  #print(true_expression_means)\n",
        "\n",
        "  true_expression_covs = torch.tensor([\n",
        "      [[.1, 0], [0, .1]],\n",
        "      [[.1, 0], [0, .1]],\n",
        "      [[.1, 0], [0, .1]]\n",
        "  ])\n",
        "\n",
        "  true_size_means = torch.tensor([.4, .6, .8])\n",
        "  #true_size_means = torch.rand(n_clusters)\n",
        "  #print(true_size_means)\n",
        "\n",
        "  true_size_stds = torch.tensor([.01, .01, .01])\n",
        "  #true_size_stds\n",
        "\n",
        "  ## other ground true for generating data ##\n",
        "  d_ws = torch.tensor([.95, .05])\n",
        "  \n",
        "  #z_ws = torch.tensor([1 / 4, 1 / 2, 1 / 4])\n",
        "  z_ws = np.random.rand(n_clusters)\n",
        "  z_ws /= z_ws.sum()\n",
        "  #print(z_ws.sum())\n",
        "\n",
        "  #g_ws = torch.tensor([0.0667, 0.1333, 0.2000, 0.1000, 0.2667, 0.2333])\n",
        "  n_events = int((n_clusters * n_clusters - n_clusters)/2 + n_clusters)\n",
        "  g_ws = np.random.rand(n_events)\n",
        "  g_ws /= g_ws.sum()\n",
        "  #print(g_ws.sum())\n",
        "  \n",
        "  gs = np.sum(np.random.choice(2, size = n_obs, p = d_ws))\n",
        "  zs = n_obs - gs\n",
        "\n",
        "  ## simulate data\n",
        "  x = np.zeros((zs, n_features+4))\n",
        "  for i in range(zs):\n",
        "    z = np.random.choice(n_clusters, size = 1, p = z_ws)[0]\n",
        "    x[i] = np.append(np.random.multivariate_normal(true_expression_means[z], true_expression_covs[z]), [np.random.normal(true_size_means[z], true_size_stds[z]), 0, z, z+6])\n",
        "  \n",
        "  xxx = np.zeros((gs, n_features+4))\n",
        "  for i in range(gs):\n",
        "\n",
        "    g = np.random.choice(6, size = 1, p = g_ws)[0]\n",
        "    \n",
        "    if g == 0:\n",
        "      idx = [0,0]\n",
        "    elif g == 1:\n",
        "      idx = [0,1]\n",
        "    elif g == 2:\n",
        "      idx = [0,2]\n",
        "    elif g == 3:\n",
        "      idx = [1,1]\n",
        "    elif g == 4:\n",
        "      idx = [1,2]\n",
        "    else:\n",
        "      idx = [2,2]\n",
        "  \n",
        "    xxx[i] = np.append(np.random.multivariate_normal( (true_expression_means[idx[0]] + true_expression_means[idx[1]]), (true_expression_covs[idx[0]] + true_expression_covs[idx[1]]) ),\n",
        "                     [np.random.normal( (true_size_means[idx[0]] + true_size_means[idx[1]]), (true_size_stds[idx[0]] + true_size_stds[idx[1]]) ), 1, g, g])\n",
        "  \n",
        "  xx = np.append(x, xxx).reshape(n_obs,6)\n",
        "\n",
        "  ## check number of points in each cluster\n",
        "  for i in range(9):\n",
        "    print(sum(xx[:,5] == i)/n_obs)\n",
        "  \n",
        "  print(gs)\n",
        "\n",
        "  return torch.tensor(xx[:,:2]), torch.tensor(xx[:,2])\n",
        "\n",
        "## initialization\n",
        "def initialization(n_clusters, X, S):\n",
        "\n",
        "  n_obs, n_features = X.shape\n",
        "\n",
        "  #torch.manual_seed(seed_num)\n",
        "\n",
        "  device = 'cuda' if torch.cuda.is_available() else 'cpu'\n",
        "    \n",
        "  #pi_d0 = torch.tensor(0.9)\n",
        "  pi_d0 = torch.tensor(np.random.uniform(.9, 1))\n",
        "  \n",
        "  pi_c = torch.empty(n_clusters).fill_(1. / (n_clusters))\n",
        "  \n",
        "  pi_cc = torch.triu(torch.ones(n_clusters, n_clusters))\n",
        "  pi_cc = pi_cc / torch.sum(pi_cc)\n",
        "  pi_cc[pi_cc == 0] = float('NaN')\n",
        "\n",
        "  emu_c = X[np.random.choice(n_obs, n_clusters, replace=False)].float()\n",
        "\n",
        "  '''\n",
        "  emu_c = torch.tensor([\n",
        "    [2, 6], # 1 2\n",
        "    [5, 8], # 4 3\n",
        "    [9, 10] #7 9\n",
        "  ], dtype=torch.float) #, requires_grad=True, , device=device)\n",
        "  '''\n",
        "\n",
        "  smu_c = S[np.random.choice(n_obs, n_clusters, replace=False)].float()\n",
        "  #smu_c = torch.tensor([.3, .5, .7], dtype=torch.float) #, requires_grad=True,  device=device)\n",
        "\n",
        "  eco_c = 0.1 * torch.eye(n_features).tile(n_clusters, 1, 1)\n",
        "  sco_c = 0.01 * torch.ones(n_clusters, dtype=torch.float)\n",
        "\n",
        "  smu_cc = torch.zeros(n_clusters, n_clusters, dtype=torch.float)\n",
        "  sco_cc = torch.zeros(n_clusters, n_clusters, dtype=torch.float)\n",
        "\n",
        "  emu_cc = torch.zeros(n_clusters, n_clusters, n_features, dtype=torch.float)\n",
        "  eco_cc = torch.zeros(n_clusters, n_clusters, n_features, n_features, dtype=torch.float)\n",
        "\n",
        "  for j in range(n_clusters):\n",
        "    for k in range(n_clusters):\n",
        "      if k >= j:\n",
        "        smu_cc[j,k] = smu_c[j] + smu_c[k]\n",
        "        sco_cc[j,k] = sco_c[j] + sco_c[k]\n",
        "\n",
        "        emu_cc[j,k] = (emu_c[j] + emu_c[k])\n",
        "        eco_cc[j,k] = (eco_c[j] + eco_c[k])\n",
        "\n",
        "  params1 = [emu_c, eco_c, smu_c, sco_c, emu_cc, eco_cc, smu_cc, sco_cc]\n",
        "\n",
        "  smu_c = torch.tensor(smu_c, requires_grad=True, dtype=torch.float, device=device)\n",
        "  sco_c = torch.tensor(sco_c, requires_grad=True, dtype=torch.float, device=device)\n",
        "      \n",
        "  emu_c = torch.tensor(emu_c, requires_grad=True, dtype=torch.float, device=device)\n",
        "  eco_c = torch.tensor(eco_c, requires_grad=True, dtype=torch.float, device=device)\n",
        "      \n",
        "  smu_cc = torch.tensor(smu_cc, requires_grad=True, dtype=torch.float, device=device)\n",
        "  sco_cc = torch.tensor(sco_cc, requires_grad=True, dtype=torch.float, device=device)\n",
        "      \n",
        "  emu_cc = torch.tensor(emu_cc, requires_grad=True, dtype=torch.float, device=device)\n",
        "  eco_cc = torch.tensor(eco_cc, requires_grad=True, dtype=torch.float, device=device)\n",
        "\n",
        "  hyperparams = [pi_d0, pi_c, pi_cc]\n",
        "  params2 = [emu_c, eco_c, smu_c, sco_c, emu_cc, eco_cc, smu_cc, sco_cc]\n",
        "\n",
        "  return hyperparams, params1, params2"
      ],
      "execution_count": 1,
      "outputs": []
    },
    {
      "cell_type": "code",
      "metadata": {
        "colab": {
          "base_uri": "https://localhost:8080/"
        },
        "id": "Wz_7j-Fvap1t",
        "outputId": "b66231db-8e34-457c-caa8-83a3e278be53"
      },
      "source": [
        "n_clusters = 3\n",
        "n_obs = 10000\n",
        "n_features = 2\n",
        "\n",
        "X, S = generateData(n_clusters, n_obs, n_features)\n",
        "\n",
        "#X = torch.tensor(xx[:,:2])\n",
        "#S = torch.tensor(xx[:,2])"
      ],
      "execution_count": 2,
      "outputs": [
        {
          "output_type": "stream",
          "text": [
            "0.0063\n",
            "0.0078\n",
            "0.0087\n",
            "0.0101\n",
            "0.005\n",
            "0.0085\n",
            "0.2135\n",
            "0.6104\n",
            "0.1297\n",
            "464\n"
          ],
          "name": "stdout"
        }
      ]
    },
    {
      "cell_type": "code",
      "metadata": {
        "id": "oSsM2Zzl7L2x"
      },
      "source": [
        "def _estimate_mean_cov_t1v1(X, r_ij, reg=1e-6):\n",
        "\n",
        "  n, p = X.shape\n",
        "  n, c = r_ij.shape\n",
        "\n",
        "  mut = torch.zeros(c, p)\n",
        "  cot = torch.zeros(c, p, p)\n",
        "\n",
        "  n_c = torch.sum(r_ij, dim=0) + reg # (c)\n",
        "\n",
        "  for j in range(c):\n",
        "    e_n = torch.round(n_c[j])\n",
        "    idx = r_ij[:,j].argsort()[-e_n.int():]\n",
        "    mut[j] = torch.mean(X[idx], 0)\n",
        "    if e_n > 1:\n",
        "      cot[j] = torch.tensor(np.cov(X[idx].T, ddof=0)) + reg * torch.eye(p)\n",
        "    else:\n",
        "      cot[j] = reg * torch.eye(p)\n",
        "  return n_c, mut, cot\n",
        "\n",
        "def _estimate_mean_cov_t2v1(X, r_ijk, reg=1e-6):\n",
        "\n",
        "  n, p = X.shape\n",
        "  n, c, c = r_ijk.shape\n",
        "\n",
        "  mut = torch.zeros(c, c, p)\n",
        "  cot = torch.zeros(c, c, p, p)\n",
        "\n",
        "  n_cc = torch.sum(r_ijk, dim=0) + reg # (cxc)\n",
        "\n",
        "  for j in range(c):\n",
        "    for k in range(c):\n",
        "      if not torch.isnan(n_cc[j,k]):\n",
        "        e_n = torch.round(n_cc[j,k])\n",
        "        idx = r_ijk[:,j,k].argsort()[-e_n.int():]\n",
        "        mut[j,k] = torch.mean(X[idx], 0)\n",
        "        if e_n > 1:\n",
        "          cot[j,k] = torch.tensor(np.cov(X[idx].T, ddof=0)) + reg * torch.eye(p)\n",
        "        else:\n",
        "          cot[j,k] = reg * torch.eye(p)\n",
        "  return n_cc, mut, cot\n",
        "\n",
        "## helper function\n",
        "def _estimate_mean_cov_t1v2(X, S, r_ij, reg=1e-6):\n",
        "\n",
        "  #n, p = X.shape\n",
        "  #n, c = r_ij.shape\n",
        "\n",
        "  smut = torch.zeros(n_clusters)\n",
        "  scot = torch.zeros(n_clusters)\n",
        "\n",
        "  emut = torch.zeros(n_clusters, n_features)\n",
        "  ecot = torch.zeros(n_clusters, n_features, n_features)\n",
        "\n",
        "  n_c = torch.sum(r_ij, dim=0) #+ reg # (c)\n",
        "\n",
        "  for j in range(n_clusters):\n",
        "    e_n = torch.round(n_c[j])\n",
        "    idx = r_ij[:,j].argsort()[-e_n.int():]\n",
        "    smut[j] = torch.mean(S[idx], 0)\n",
        "    emut[j] = torch.mean(X[idx], 0)\n",
        "    if e_n > 1:\n",
        "      ecot[j] = torch.tensor(np.cov(X[idx].T, ddof=0)) + reg * torch.eye(n_features)\n",
        "      scot[j] = torch.std(S[idx]) + reg\n",
        "    else:\n",
        "      ecot[j] = reg * torch.eye(n_features)\n",
        "      scot[j] = reg\n",
        "  return n_c, smut, scot, emut, ecot\n",
        "\n",
        "def _estimate_mean_cov_t2v2(X, S, log_rijk, reg=1e-6):\n",
        "\n",
        "  n_obs, n_features = X.shape\n",
        "  n_obs, n_clusters, n_clusters = log_rijk.shape\n",
        "\n",
        "  smut = torch.zeros(n_clusters, n_clusters)\n",
        "  scot = torch.zeros(n_clusters, n_clusters)\n",
        "\n",
        "  emut = torch.zeros(n_clusters, n_clusters, n_features)\n",
        "  ecot = torch.zeros(n_clusters, n_clusters, n_features, n_features)\n",
        "\n",
        "  #n_cc = torch.sum(r_ijk, dim=0) + reg # (cxc)\n",
        "  log_n_cc = torch.logsumexp(log_rijk, dim=0) # (cxc)\n",
        "  #n_cc = torch.exp(log_n_cc) + reg\n",
        "\n",
        "  for j in range(n_clusters):\n",
        "    for k in range(n_clusters):\n",
        "      if not torch.isnan(torch.exp(log_n_cc[j,k])):\n",
        "        e_n = torch.round(torch.exp(log_n_cc[j,k]))\n",
        "        idx = torch.exp(log_rijk[:,j,k]).argsort()[-e_n.int():]\n",
        "        smut[j,k] = torch.mean(S[idx], 0)\n",
        "        emut[j,k] = torch.mean(X[idx], 0)\n",
        "        if e_n > 1:\n",
        "          scot[j,k] = torch.std(S[idx]) + reg\n",
        "          ecot[j,k] = torch.tensor(np.cov(X[idx].T, ddof=0)) + reg * torch.eye(n_features)\n",
        "        else:\n",
        "          scot[j,k] = reg\n",
        "          ecot[j,k] = reg * torch.eye(n_features)\n",
        "  return log_n_cc, smut, scot, emut, ecot"
      ],
      "execution_count": 3,
      "outputs": []
    },
    {
      "cell_type": "code",
      "metadata": {
        "id": "gXyP4fIxpWVH"
      },
      "source": [
        "  n_epochs = 1000\n",
        "  tot = 0.005\n",
        "\n",
        "  import numpy as np\n",
        "  from sklearn.mixture import GaussianMixture"
      ],
      "execution_count": 4,
      "outputs": []
    },
    {
      "cell_type": "code",
      "metadata": {
        "id": "1Q5SlgCwGdBu"
      },
      "source": [
        "## GMM\n",
        "torch.set_printoptions(precision=10)\n",
        "\n",
        "for i in range(50):\n",
        "  \n",
        "  hps, ngps, gps = initialization(n_clusters, X, S)\n",
        "  pi_d0 = hps[0]\n",
        "  pi_d1 = 1-hps[0]\n",
        "  pi_c = hps[1]\n",
        "  pi_cc = hps[2]\n",
        "\n",
        "  emu_c = ngps[0]\n",
        "  eco_c = ngps[1]\n",
        "  \n",
        "  ## analytical version 1\n",
        "\n",
        "  iter = 0\n",
        "  qs = [0.0]\n",
        "  ls = [0.0]\n",
        "\n",
        "  while iter < n_epochs:\n",
        "\n",
        "    log_pi = torch.log(pi_c)\n",
        "    \n",
        "    ### E-step:\n",
        "    log_rd0z_top = torch.zeros(n_clusters, n_obs)\n",
        "    \n",
        "    for j in range(n_clusters):\n",
        "  \n",
        "      el0 = D.MultivariateNormal(emu_c[j], eco_c[j]).log_prob(X.float())\n",
        "      #sl0 = D.Normal(smu_c[j], sco_c[j]).log_prob(S.float())\n",
        "      log_rd0z_top[j] = log_pi[j] + el0 #+ sl0\n",
        "    \n",
        "    log_rdzg_norm = log_rd0z_top.logsumexp(0) #shape: n\n",
        "    log_rdz = (log_rd0z_top - log_rdzg_norm).T #shape: nxc\n",
        "    \n",
        "    q1 = log_rd0z_top.T * log_rdz.exp(); q1[torch.isnan(q1)] = 0.0 #p(x,theta'|z=c,d=0)p(z=c,d=0|x,theta')\n",
        "    Q = torch.logsumexp(q1, 1).mean()\n",
        "\n",
        "    #l1 = log_rd0z_top.T + log_rdz\n",
        "    #L1 = torch.logsumexp(l1,1).mean()\n",
        "    L = log_rdzg_norm.mean()\n",
        "\n",
        "    ## M-step:\n",
        "    rdz = torch.exp(log_rdz)\n",
        "    n_c, emu_c, eco_c = _estimate_mean_cov_t1v2(X, rdz)\n",
        "    pi_c = n_c / n_obs\n",
        "\n",
        "    print('Iteration', iter + 1, 'Q: ', Q, 'Likelihood: ', L, pi_c)\n",
        "\n",
        "    if abs(ls[-1] - L) < tot:\n",
        "      break\n",
        "\n",
        "    if iter > 1 and ls[-1] > L:\n",
        "      print(\"something is wrong!\")\n",
        "      break\n",
        "\n",
        "    qs.append(Q)\n",
        "    ls.append(L)\n",
        "    iter += 1"
      ],
      "execution_count": null,
      "outputs": []
    },
    {
      "cell_type": "code",
      "metadata": {
        "colab": {
          "base_uri": "https://localhost:8080/"
        },
        "id": "vUNNug84Hegz",
        "outputId": "cfb11dc2-88f1-408d-88d4-e78cfaf9a350"
      },
      "source": [
        "gm = GaussianMixture(n_components=3, random_state=0).fit(X)\n",
        "gm.score(X)"
      ],
      "execution_count": 19,
      "outputs": [
        {
          "output_type": "execute_result",
          "data": {
            "text/plain": [
              "-2.3407317163393464"
            ]
          },
          "metadata": {
            "tags": []
          },
          "execution_count": 19
        }
      ]
    },
    {
      "cell_type": "code",
      "metadata": {
        "colab": {
          "base_uri": "https://localhost:8080/",
          "height": 283
        },
        "id": "RhOuwaMkF2iZ",
        "outputId": "8b41f676-546e-4a69-e9d5-04c11cffd7b4"
      },
      "source": [
        "plt.plot(ls[1:])"
      ],
      "execution_count": 16,
      "outputs": [
        {
          "output_type": "execute_result",
          "data": {
            "text/plain": [
              "[<matplotlib.lines.Line2D at 0x7ff85c1018d0>]"
            ]
          },
          "metadata": {
            "tags": []
          },
          "execution_count": 16
        },
        {
          "output_type": "display_data",
          "data": {
            "image/png": "[encoded data removed]",
            "text/plain": [
              "<Figure size 432x288 with 1 Axes>"
            ]
          },
          "metadata": {
            "tags": [],
            "needs_background": "light"
          }
        }
      ]
    },
    {
      "cell_type": "code",
      "metadata": {
        "colab": {
          "base_uri": "https://localhost:8080/",
          "height": 283
        },
        "id": "APXgHH5UHTin",
        "outputId": "e0d64c97-7956-4d90-b2f4-cd60ec33694b"
      },
      "source": [
        "plt.plot(qs[1:])"
      ],
      "execution_count": 17,
      "outputs": [
        {
          "output_type": "execute_result",
          "data": {
            "text/plain": [
              "[<matplotlib.lines.Line2D at 0x7ff85baff410>]"
            ]
          },
          "metadata": {
            "tags": []
          },
          "execution_count": 17
        },
        {
          "output_type": "display_data",
          "data": {
            "image/png": "[encoded data removed]",
            "text/plain": [
              "<Figure size 432x288 with 1 Axes>"
            ]
          },
          "metadata": {
            "tags": [],
            "needs_background": "light"
          }
        }
      ]
    },
    {
      "cell_type": "code",
      "metadata": {
        "id": "-ecaBRM-MIfp"
      },
      "source": [
        ""
      ],
      "execution_count": null,
      "outputs": []
    },
    {
      "cell_type": "code",
      "metadata": {
        "id": "l33Yi5JFH25R"
      },
      "source": [
        ""
      ],
      "execution_count": null,
      "outputs": []
    },
    {
      "cell_type": "code",
      "metadata": {
        "id": "aCedYi-UH3Eo"
      },
      "source": [
        ""
      ],
      "execution_count": null,
      "outputs": []
    },
    {
      "cell_type": "code",
      "metadata": {
        "id": "ck_mRzA-FxZG"
      },
      "source": [
        ""
      ],
      "execution_count": null,
      "outputs": []
    },
    {
      "cell_type": "code",
      "metadata": {
        "colab": {
          "base_uri": "https://localhost:8080/"
        },
        "id": "ycWWYjyk__nA",
        "outputId": "ccf42c5b-14e3-4f07-e040-2331121f5283"
      },
      "source": [
        "## emu_c, eco_c updates\n",
        "torch.set_printoptions(precision=5)\n",
        "\n",
        "for i in range(10):\n",
        "  \n",
        "  hps, ngps, gps = initialization(n_clusters, X, S)\n",
        "  pi_d0 = hps[0]\n",
        "  pi_d1 = 1-hps[0]\n",
        "  pi_c = hps[1]\n",
        "  pi_cc = hps[2]\n",
        "\n",
        "  emu_c = ngps[0]\n",
        "  eco_c = ngps[1]\n",
        "\n",
        "  iter = 0\n",
        "  qs = [0.0]\n",
        "  ls = [0.0]\n",
        "\n",
        "  #print(emu_c)\n",
        "  while iter < n_epochs:\n",
        "\n",
        "    log_lambda0_pi = torch.log(pi_d0) + torch.log(pi_c)\n",
        "    log_lambda1_tau = torch.log(1 - pi_d0) + torch.log(pi_cc)\n",
        "\n",
        "    ### E-step:\n",
        "    log_rd0z_top = torch.zeros(n_clusters, n_obs)\n",
        "    log_rd1g_top = torch.zeros(n_clusters, n_clusters, n_obs)\n",
        "\n",
        "    for j in range(n_clusters):\n",
        "  \n",
        "      el0 = D.MultivariateNormal(emu_c[j], eco_c[j]).log_prob(X.float())\n",
        "      log_rd0z_top[j] = log_lambda0_pi[j] + el0\n",
        "    \n",
        "      for k in range(n_clusters):\n",
        "        if torch.isnan(log_lambda1_tau[j,k]): #lower triangular nan\n",
        "          log_rd1g_top[j,k] = float(\"NaN\")\n",
        "        else:\n",
        "          el1 = D.MultivariateNormal((emu_c[j] + emu_c[k]), (eco_c[j] + eco_c[k])).log_prob(X.float())\n",
        "          log_rd1g_top[j,k] = log_lambda1_tau[j,k] + el1\n",
        "\n",
        "    log_rd1g_top = log_rd1g_top.reshape(n_clusters * n_clusters, n_obs) #shape: (cxc')xn\n",
        "\n",
        "    ignored_indices = torch.isnan(torch.logsumexp(log_rd1g_top, 1))\n",
        "    assert(ignored_indices.sum() == (n_clusters * n_clusters - n_clusters) / 2)\n",
        "    \n",
        "    log_rdzg_norm = torch.logsumexp(torch.vstack((log_rd0z_top, log_rd1g_top[~ignored_indices])),0) #shape: n\n",
        "    #log_rdzg_norm1 = torch.logsumexp(torch.vstack((torch.logsumexp(log_rd0z_top, 0), torch.logsumexp(log_rd1g_top[~ignored_indices],0))),0)\n",
        "\n",
        "    log_rdz = (log_rd0z_top - log_rdzg_norm).T #shape: nxc\n",
        "    log_rdg = (log_rd1g_top - log_rdzg_norm).T #shape: nx(cxc')\n",
        "\n",
        "    assert(torch.sum(torch.sum(torch.exp(log_rdz),1) + torch.sum(torch.exp(log_rdg[:,~ignored_indices]),1)).round() == n_obs)\n",
        "\n",
        "    q1 = log_rd0z_top.T * log_rdz.exp(); q1[torch.isnan(q1)] = 0.0 #p(x,theta'|z=c,d=0)p(z=c,d=0|x,theta')\n",
        "    q2 = log_rd1g_top[~ignored_indices].T * log_rdg[:,~ignored_indices].exp(); q2[torch.isnan(q2)] = 0.0 #p(x,theta'|g=[c,c'],d=1)p(g=[c,c'],d=1|x,theta')\n",
        "    Q = torch.vstack((torch.logsumexp(q1, 1), torch.logsumexp(q2, 1))).logsumexp(0).mean() # mean(sum_d sum_z(q1) + sum_g(q2))\n",
        "\n",
        "    l1 = log_rd0z_top.T + log_rdz\n",
        "    l2 = log_rd1g_top[~ignored_indices].T + log_rdg[:,~ignored_indices]; #l2[torch.isinf(l2)] = -100\n",
        "    L1 = torch.vstack((torch.logsumexp(l1,1), torch.logsumexp(l2,1))).logsumexp(0).mean()\n",
        "    L = log_rdzg_norm.mean()\n",
        "\n",
        "    ## M-step:\n",
        "    rdz = torch.exp(log_rdz)\n",
        "    n_c, emu_c, eco_c = _estimate_mean_cov_t1v1(X, rdz)\n",
        "    pi_c = n_c / n_obs\n",
        "    pi_d0 = torch.sum(pi_c)\n",
        "\n",
        "    rdg = torch.exp(log_rdg).reshape(n_obs, n_clusters, n_clusters)\n",
        "    n_cc = torch.sum(rdg, dim=0)\n",
        "    pi_cc = n_cc / n_obs\n",
        "    pi_d1 = torch.sum(torch.triu(pi_cc))\n",
        "\n",
        "    if abs(ls[-1] - L) < tot:\n",
        "      break\n",
        "\n",
        "    if pi_d1 < tot:\n",
        "      print(\"d1 is approaching 0! -> change a different initalization values\")\n",
        "      break\n",
        "\n",
        "    if iter > 1 and ls[-1] > L:\n",
        "      print(\"something is wrong!\")\n",
        "      break\n",
        "    \n",
        "    print('Iteration', iter + 1, 'Q: ', Q, 'Likelihood: ', L, L1, 'd0: ', pi_d0)\n",
        "\n",
        "    qs.append(Q)\n",
        "    ls.append(L)\n",
        "    iter += 1\n",
        "\n",
        "  aic, bic = _ics(-L, n_obs, n_features, n_clusters)\n",
        "  print(aic)\n",
        "  #return llv[1:], aic, bic"
      ],
      "execution_count": 5,
      "outputs": [
        {
          "output_type": "stream",
          "text": [
            "/usr/local/lib/python3.7/dist-packages/ipykernel_launcher.py:146: UserWarning: To copy construct from a tensor, it is recommended to use sourceTensor.clone().detach() or sourceTensor.clone().detach().requires_grad_(True), rather than torch.tensor(sourceTensor).\n",
            "/usr/local/lib/python3.7/dist-packages/ipykernel_launcher.py:147: UserWarning: To copy construct from a tensor, it is recommended to use sourceTensor.clone().detach() or sourceTensor.clone().detach().requires_grad_(True), rather than torch.tensor(sourceTensor).\n",
            "/usr/local/lib/python3.7/dist-packages/ipykernel_launcher.py:149: UserWarning: To copy construct from a tensor, it is recommended to use sourceTensor.clone().detach() or sourceTensor.clone().detach().requires_grad_(True), rather than torch.tensor(sourceTensor).\n",
            "/usr/local/lib/python3.7/dist-packages/ipykernel_launcher.py:150: UserWarning: To copy construct from a tensor, it is recommended to use sourceTensor.clone().detach() or sourceTensor.clone().detach().requires_grad_(True), rather than torch.tensor(sourceTensor).\n",
            "/usr/local/lib/python3.7/dist-packages/ipykernel_launcher.py:152: UserWarning: To copy construct from a tensor, it is recommended to use sourceTensor.clone().detach() or sourceTensor.clone().detach().requires_grad_(True), rather than torch.tensor(sourceTensor).\n",
            "/usr/local/lib/python3.7/dist-packages/ipykernel_launcher.py:153: UserWarning: To copy construct from a tensor, it is recommended to use sourceTensor.clone().detach() or sourceTensor.clone().detach().requires_grad_(True), rather than torch.tensor(sourceTensor).\n",
            "/usr/local/lib/python3.7/dist-packages/ipykernel_launcher.py:155: UserWarning: To copy construct from a tensor, it is recommended to use sourceTensor.clone().detach() or sourceTensor.clone().detach().requires_grad_(True), rather than torch.tensor(sourceTensor).\n",
            "/usr/local/lib/python3.7/dist-packages/ipykernel_launcher.py:156: UserWarning: To copy construct from a tensor, it is recommended to use sourceTensor.clone().detach() or sourceTensor.clone().detach().requires_grad_(True), rather than torch.tensor(sourceTensor).\n"
          ],
          "name": "stderr"
        },
        {
          "output_type": "stream",
          "text": [
            "Iteration 1 Q:  tensor(2.09485) Likelihood:  tensor(-2.62570) tensor(-2.64206) d0:  tensor(0.93916)\n",
            "Iteration 2 Q:  tensor(2.11450) Likelihood:  tensor(-1.90945) tensor(-1.91248) d0:  tensor(0.95226)\n",
            "Iteration 3 Q:  tensor(2.11554) Likelihood:  tensor(-1.89287) tensor(-1.89402) d0:  tensor(0.95388)\n",
            "tensor(138.21596)\n",
            "Iteration 1 Q:  tensor(2.08234) Likelihood:  tensor(-2.55460) tensor(-2.63539) d0:  tensor(0.86378)\n",
            "Iteration 2 Q:  tensor(2.10533) Likelihood:  tensor(-2.08476) tensor(-2.10718) d0:  tensor(0.93022)\n",
            "Iteration 3 Q:  tensor(2.11356) Likelihood:  tensor(-1.92500) tensor(-1.93026) d0:  tensor(0.95053)\n",
            "Iteration 4 Q:  tensor(2.11546) Likelihood:  tensor(-1.89434) tensor(-1.89558) d0:  tensor(0.95364)\n",
            "tensor(138.21577)\n",
            "Iteration 1 Q:  tensor(2.05660) Likelihood:  tensor(-19.03039) tensor(-19.44042) d0:  tensor(0.49282)\n",
            "Iteration 2 Q:  tensor(2.02784) Likelihood:  tensor(-33.54848) tensor(-33.78198) d0:  tensor(0.49272)\n",
            "something is wrong!\n",
            "tensor(74.18137)\n",
            "Iteration 1 Q:  tensor(1.99628) Likelihood:  tensor(-198.17264) tensor(-198.56351) d0:  tensor(0.98379)\n",
            "Iteration 2 Q:  tensor(2.02731) Likelihood:  tensor(-3.41741) tensor(-3.69360) d0:  tensor(0.98309)\n",
            "Iteration 3 Q:  tensor(2.05686) Likelihood:  tensor(-3.18533) tensor(-3.31779) d0:  tensor(0.97925)\n",
            "Iteration 4 Q:  tensor(2.07444) Likelihood:  tensor(-2.89972) tensor(-2.99386) d0:  tensor(0.96953)\n",
            "Iteration 5 Q:  tensor(2.08179) Likelihood:  tensor(-2.65104) tensor(-2.74198) d0:  tensor(0.96294)\n",
            "Iteration 6 Q:  tensor(2.08519) Likelihood:  tensor(-2.58693) tensor(-2.67041) d0:  tensor(0.96465)\n",
            "Iteration 7 Q:  tensor(2.08711) Likelihood:  tensor(-2.55689) tensor(-2.62884) d0:  tensor(0.96713)\n",
            "Iteration 8 Q:  tensor(2.08936) Likelihood:  tensor(-2.52618) tensor(-2.58436) d0:  tensor(0.96931)\n",
            "Iteration 9 Q:  tensor(2.09183) Likelihood:  tensor(-2.49387) tensor(-2.53688) d0:  tensor(0.97217)\n",
            "Iteration 10 Q:  tensor(2.09452) Likelihood:  tensor(-2.45872) tensor(-2.48668) d0:  tensor(0.97603)\n",
            "Iteration 11 Q:  tensor(2.09606) Likelihood:  tensor(-2.43560) tensor(-2.45606) d0:  tensor(0.97881)\n",
            "Iteration 12 Q:  tensor(2.09665) Likelihood:  tensor(-2.41217) tensor(-2.42935) d0:  tensor(0.98694)\n",
            "d1 is approaching 0! -> change a different initalization values\n",
            "tensor(137.26436)\n",
            "Iteration 1 Q:  tensor(2.09699) Likelihood:  tensor(-4.56732) tensor(-4.61628) d0:  tensor(0.87592)\n",
            "Iteration 2 Q:  tensor(2.10422) Likelihood:  tensor(-4.23119) tensor(-4.26788) d0:  tensor(0.87585)\n",
            "tensor(133.53418)\n",
            "Iteration 1 Q:  tensor(1.96133) Likelihood:  tensor(-21.74407) tensor(-22.34668) d0:  tensor(0.49287)\n",
            "Iteration 2 Q:  tensor(2.05631) Likelihood:  tensor(-29.76861) tensor(-29.95093) d0:  tensor(0.49222)\n",
            "something is wrong!\n",
            "tensor(72.46396)\n",
            "Iteration 1 Q:  tensor(2.08516) Likelihood:  tensor(-31.47033) tensor(-31.47130) d0:  tensor(0.96630)\n",
            "Iteration 2 Q:  tensor(2.09891) Likelihood:  tensor(-2.51954) tensor(-2.52493) d0:  tensor(0.96508)\n",
            "Iteration 3 Q:  tensor(2.09995) Likelihood:  tensor(-2.50672) tensor(-2.51015) d0:  tensor(0.96509)\n",
            "tensor(136.98872)\n",
            "Iteration 1 Q:  tensor(2.09512) Likelihood:  tensor(-4.43407) tensor(-4.43526) d0:  tensor(0.88247)\n",
            "Iteration 2 Q:  tensor(2.11230) Likelihood:  tensor(-3.95363) tensor(-3.95396) d0:  tensor(0.88464)\n",
            "Iteration 3 Q:  tensor(2.11194) Likelihood:  tensor(-3.93669) tensor(-3.93748) d0:  tensor(0.88515)\n",
            "Iteration 4 Q:  tensor(2.11170) Likelihood:  tensor(-3.92244) tensor(-3.92358) d0:  tensor(0.88549)\n",
            "Iteration 5 Q:  tensor(2.11154) Likelihood:  tensor(-3.91728) tensor(-3.91878) d0:  tensor(0.88581)\n",
            "tensor(134.16730)\n",
            "Iteration 1 Q:  tensor(2.08803) Likelihood:  tensor(-3.78854) tensor(-3.95214) d0:  tensor(0.87575)\n",
            "Iteration 2 Q:  tensor(2.09146) Likelihood:  tensor(-4.85898) tensor(-4.99595) d0:  tensor(0.87652)\n",
            "Iteration 3 Q:  tensor(2.08932) Likelihood:  tensor(-4.85333) tensor(-5.00088) d0:  tensor(0.88064)\n",
            "Iteration 4 Q:  tensor(2.08254) Likelihood:  tensor(-3.91466) tensor(-4.09257) d0:  tensor(0.93921)\n",
            "Iteration 5 Q:  tensor(2.08331) Likelihood:  tensor(-2.28414) tensor(-2.44237) d0:  tensor(0.95464)\n",
            "Iteration 6 Q:  tensor(2.08793) Likelihood:  tensor(-2.18241) tensor(-2.32184) d0:  tensor(0.95412)\n",
            "Iteration 7 Q:  tensor(2.09219) Likelihood:  tensor(-2.12525) tensor(-2.24265) d0:  tensor(0.95395)\n",
            "Iteration 8 Q:  tensor(2.09678) Likelihood:  tensor(-2.07898) tensor(-2.17052) d0:  tensor(0.95395)\n",
            "Iteration 9 Q:  tensor(2.10128) Likelihood:  tensor(-2.04451) tensor(-2.10939) d0:  tensor(0.95397)\n",
            "Iteration 10 Q:  tensor(2.10570) Likelihood:  tensor(-2.01886) tensor(-2.05919) d0:  tensor(0.95402)\n",
            "Iteration 11 Q:  tensor(2.11050) Likelihood:  tensor(-1.99557) tensor(-2.01379) d0:  tensor(0.95410)\n",
            "Iteration 12 Q:  tensor(2.11470) Likelihood:  tensor(-1.95987) tensor(-1.96306) d0:  tensor(0.95438)\n",
            "Iteration 13 Q:  tensor(2.11557) Likelihood:  tensor(-1.90515) tensor(-1.90595) d0:  tensor(0.95511)\n",
            "Iteration 14 Q:  tensor(2.11552) Likelihood:  tensor(-1.89253) tensor(-1.89327) d0:  tensor(0.95463)\n",
            "tensor(138.21597)\n",
            "Iteration 1 Q:  tensor(1.97973) Likelihood:  tensor(-23.44857) tensor(-24.00076) d0:  tensor(0.49213)\n",
            "Iteration 2 Q:  tensor(1.97121) Likelihood:  tensor(-34.16293) tensor(-34.56505) d0:  tensor(0.49394)\n",
            "Iteration 3 Q:  tensor(2.04952) Likelihood:  tensor(-20.99320) tensor(-21.17392) d0:  tensor(0.51534)\n",
            "Iteration 4 Q:  tensor(2.05970) Likelihood:  tensor(-6.17473) tensor(-6.33502) d0:  tensor(0.56935)\n",
            "Iteration 5 Q:  tensor(2.06202) Likelihood:  tensor(-4.25513) tensor(-4.41352) d0:  tensor(0.57176)\n",
            "Iteration 6 Q:  tensor(2.06520) Likelihood:  tensor(-3.95444) tensor(-4.09896) d0:  tensor(0.57165)\n",
            "Iteration 7 Q:  tensor(2.06825) Likelihood:  tensor(-3.73184) tensor(-3.85959) d0:  tensor(0.57144)\n",
            "Iteration 8 Q:  tensor(2.07116) Likelihood:  tensor(-3.57207) tensor(-3.68237) d0:  tensor(0.57143)\n",
            "Iteration 9 Q:  tensor(2.07429) Likelihood:  tensor(-3.47519) tensor(-3.56640) d0:  tensor(0.57183)\n",
            "tensor(135.05542)\n"
          ],
          "name": "stdout"
        }
      ]
    },
    {
      "cell_type": "code",
      "metadata": {
        "id": "_X_snqfx__6G"
      },
      "source": [
        ""
      ],
      "execution_count": null,
      "outputs": []
    },
    {
      "cell_type": "code",
      "metadata": {
        "id": "5WReD6PTJW0P"
      },
      "source": [
        ""
      ],
      "execution_count": null,
      "outputs": []
    },
    {
      "cell_type": "code",
      "metadata": {
        "id": "2RGr_nB2LtHK"
      },
      "source": [
        ""
      ],
      "execution_count": null,
      "outputs": []
    },
    {
      "cell_type": "code",
      "metadata": {
        "colab": {
          "base_uri": "https://localhost:8080/"
        },
        "id": "NSrOfhPmKOoQ",
        "outputId": "5f101db9-ecc5-4278-df2f-333b1a23b9d3"
      },
      "source": [
        "## emu_c, eco_c, smu_c, sco_c updates\n",
        "for i in range(10):\n",
        "  \n",
        "  hps, ngps, gps = initialization(n_clusters, X, S)\n",
        "  pi_d0 = hps[0]\n",
        "  pi_d1 = 1-hps[0]\n",
        "  pi_c = hps[1]\n",
        "  pi_cc = hps[2]\n",
        "\n",
        "  emu_c = ngps[0]\n",
        "  eco_c = ngps[1]\n",
        "  smu_c = ngps[2]\n",
        "  sco_c = ngps[3]\n",
        "\n",
        "  iter = 0\n",
        "  qs = [0.0]\n",
        "  ls = [0.0]\n",
        "\n",
        "  #print(emu_c)\n",
        "  while iter < n_epochs:\n",
        "\n",
        "    log_lambda0_pi = torch.log(pi_d0) + torch.log(pi_c)\n",
        "    log_lambda1_tau = torch.log(1 - pi_d0) + torch.log(pi_cc)\n",
        "\n",
        "    ### E-step:\n",
        "    log_rd0z_top = torch.zeros(n_clusters, n_obs)\n",
        "    log_rd1g_top = torch.zeros(n_clusters, n_clusters, n_obs)\n",
        "\n",
        "    for j in range(n_clusters):\n",
        "  \n",
        "      el0 = D.MultivariateNormal(emu_c[j], eco_c[j]).log_prob(X.float())\n",
        "      sl0 = D.Normal(smu_c[j], sco_c[j]).log_prob(S.float())\n",
        "      log_rd0z_top[j] = log_lambda0_pi[j] + el0 + sl0\n",
        "    \n",
        "      for k in range(n_clusters):\n",
        "        if torch.isnan(log_lambda1_tau[j,k]): #lower triangular nan\n",
        "          log_rd1g_top[j,k] = float(\"NaN\")\n",
        "        else:\n",
        "          el1 = D.MultivariateNormal((emu_c[j] + emu_c[k]), (eco_c[j] + eco_c[k])).log_prob(X.float())\n",
        "          sl1 = D.Normal(smu_c[j] + smu_c[k], sco_c[j] + sco_c[k]).log_prob(S.float())\n",
        "          log_rd1g_top[j,k] = log_lambda1_tau[j,k] + el1 + sl1\n",
        "\n",
        "    log_rd1g_top = log_rd1g_top.reshape(n_clusters * n_clusters, n_obs) #shape: (cxc')xn\n",
        "\n",
        "    ignored_indices = torch.isnan(torch.logsumexp(log_rd1g_top, 1))\n",
        "    assert(ignored_indices.sum() == (n_clusters * n_clusters - n_clusters) / 2)\n",
        "    \n",
        "    log_rdzg_norm = torch.logsumexp(torch.vstack((log_rd0z_top, log_rd1g_top[~ignored_indices])),0) #shape: n\n",
        "    #log_rdzg_norm1 = torch.logsumexp(torch.vstack((torch.logsumexp(log_rd0z_top, 0), torch.logsumexp(log_rd1g_top[~ignored_indices],0))),0)\n",
        "\n",
        "    log_rdz = (log_rd0z_top - log_rdzg_norm).T #shape: nxc\n",
        "    log_rdg = (log_rd1g_top - log_rdzg_norm).T #shape: nx(cxc')\n",
        "\n",
        "    assert(torch.sum(torch.sum(torch.exp(log_rdz),1) + torch.sum(torch.exp(log_rdg[:,~ignored_indices]),1)).round() == n_obs)\n",
        "\n",
        "    q1 = log_rd0z_top.T * log_rdz.exp(); q1[torch.isnan(q1)] = 0.0 #p(x,theta'|z=c,d=0)p(z=c,d=0|x,theta')\n",
        "    q2 = log_rd1g_top[~ignored_indices].T * log_rdg[:,~ignored_indices].exp(); q2[torch.isnan(q2)] = 0.0 #p(x,theta'|g=[c,c'],d=1)p(g=[c,c'],d=1|x,theta')\n",
        "    Q = torch.vstack((torch.logsumexp(q1, 1), torch.logsumexp(q2, 1))).logsumexp(0).mean() # mean(sum_d sum_z(q1) + sum_g(q2))\n",
        "\n",
        "    l1 = log_rd0z_top.T + log_rdz\n",
        "    l2 = log_rd1g_top[~ignored_indices].T + log_rdg[:,~ignored_indices]; #l2[torch.isinf(l2)] = -100\n",
        "    L1 = torch.vstack((torch.logsumexp(l1,1), torch.logsumexp(l2,1))).logsumexp(0).mean()\n",
        "    L = log_rdzg_norm.mean()\n",
        "\n",
        "    ## M-step:\n",
        "    rdz = torch.exp(log_rdz)\n",
        "    n_c, smu_c, sco_c, emu_c, eco_c = _estimate_mean_cov_t1v2(X, S, rdz)\n",
        "    pi_c = n_c / n_obs\n",
        "    pi_d0 = torch.sum(pi_c)\n",
        "\n",
        "    rdg = torch.exp(log_rdg).reshape(n_obs, n_clusters, n_clusters)\n",
        "    #n_cc, emu_cc, eco_cc = _estimate_mean_cov_t2v2(X, rdg)\n",
        "    n_cc = torch.sum(rdg, dim=0)\n",
        "    pi_cc = n_cc / n_obs\n",
        "    pi_d1 = torch.sum(torch.triu(pi_cc))\n",
        "\n",
        "    if abs(ls[-1] - L) < tot:\n",
        "      break\n",
        "\n",
        "    if pi_d1 < tot:\n",
        "      print(\"d1 is approaching 0! -> change a different initalization values\")\n",
        "      break\n",
        "\n",
        "    if iter > 1 and ls[-1] > L:\n",
        "      print(\"something is wrong!\")\n",
        "      break\n",
        "\n",
        "    print('Iteration', iter + 1, 'Q: ', Q, 'Likelihood: ', L, L1, 'd0: ', pi_d0)\n",
        "\n",
        "    qs.append(Q)\n",
        "    ls.append(L)\n",
        "    iter += 1\n",
        "\n",
        "  aic, bic = _ics(-L, n_obs, n_features, n_clusters)\n",
        "  print(bic)\n",
        "  #return llv[1:], aic, bic"
      ],
      "execution_count": 6,
      "outputs": [
        {
          "output_type": "stream",
          "text": [
            "/usr/local/lib/python3.7/dist-packages/ipykernel_launcher.py:146: UserWarning: To copy construct from a tensor, it is recommended to use sourceTensor.clone().detach() or sourceTensor.clone().detach().requires_grad_(True), rather than torch.tensor(sourceTensor).\n",
            "/usr/local/lib/python3.7/dist-packages/ipykernel_launcher.py:147: UserWarning: To copy construct from a tensor, it is recommended to use sourceTensor.clone().detach() or sourceTensor.clone().detach().requires_grad_(True), rather than torch.tensor(sourceTensor).\n",
            "/usr/local/lib/python3.7/dist-packages/ipykernel_launcher.py:149: UserWarning: To copy construct from a tensor, it is recommended to use sourceTensor.clone().detach() or sourceTensor.clone().detach().requires_grad_(True), rather than torch.tensor(sourceTensor).\n",
            "/usr/local/lib/python3.7/dist-packages/ipykernel_launcher.py:150: UserWarning: To copy construct from a tensor, it is recommended to use sourceTensor.clone().detach() or sourceTensor.clone().detach().requires_grad_(True), rather than torch.tensor(sourceTensor).\n",
            "/usr/local/lib/python3.7/dist-packages/ipykernel_launcher.py:152: UserWarning: To copy construct from a tensor, it is recommended to use sourceTensor.clone().detach() or sourceTensor.clone().detach().requires_grad_(True), rather than torch.tensor(sourceTensor).\n",
            "/usr/local/lib/python3.7/dist-packages/ipykernel_launcher.py:153: UserWarning: To copy construct from a tensor, it is recommended to use sourceTensor.clone().detach() or sourceTensor.clone().detach().requires_grad_(True), rather than torch.tensor(sourceTensor).\n",
            "/usr/local/lib/python3.7/dist-packages/ipykernel_launcher.py:155: UserWarning: To copy construct from a tensor, it is recommended to use sourceTensor.clone().detach() or sourceTensor.clone().detach().requires_grad_(True), rather than torch.tensor(sourceTensor).\n",
            "/usr/local/lib/python3.7/dist-packages/ipykernel_launcher.py:156: UserWarning: To copy construct from a tensor, it is recommended to use sourceTensor.clone().detach() or sourceTensor.clone().detach().requires_grad_(True), rather than torch.tensor(sourceTensor).\n"
          ],
          "name": "stderr"
        },
        {
          "output_type": "stream",
          "text": [
            "Iteration 1 Q:  tensor(2.18476) Likelihood:  tensor(-426.26419) tensor(-426.27420) d0:  tensor(0.96630)\n",
            "Iteration 2 Q:  tensor(2.16420) Likelihood:  tensor(-1.29059) tensor(-1.30396) d0:  tensor(0.96551)\n",
            "Iteration 3 Q:  tensor(2.25265) Likelihood:  tensor(-0.58162) tensor(-0.58868) d0:  tensor(0.96199)\n",
            "Iteration 4 Q:  tensor(2.40571) Likelihood:  tensor(0.26062) tensor(0.26062) d0:  tensor(0.96130)\n",
            "Iteration 5 Q:  tensor(2.65259) Likelihood:  tensor(0.84429) tensor(0.84429) d0:  tensor(0.96130)\n",
            "Iteration 6 Q:  tensor(2.65258) Likelihood:  tensor(0.98078) tensor(0.98078) d0:  tensor(0.96130)\n",
            "Iteration 7 Q:  tensor(2.65183) Likelihood:  tensor(0.99163) tensor(0.98934) d0:  tensor(0.95797)\n",
            "Iteration 8 Q:  tensor(2.66950) Likelihood:  tensor(1.13483) tensor(1.13310) d0:  tensor(0.95088)\n",
            "Iteration 9 Q:  tensor(2.70625) Likelihood:  tensor(1.24186) tensor(1.24156) d0:  tensor(0.95050)\n",
            "tensor(656.41888)\n",
            "Iteration 1 Q:  tensor(2.29727) Likelihood:  tensor(-17.91623) tensor(-17.91641) d0:  tensor(0.49210)\n",
            "Iteration 2 Q:  tensor(2.31651) Likelihood:  tensor(-35.36810) tensor(-35.36829) d0:  tensor(0.49210)\n",
            "Iteration 3 Q:  tensor(2.31654) Likelihood:  tensor(-35.35295) tensor(-35.35314) d0:  tensor(0.49210)\n",
            "tensor(583.22827)\n",
            "Iteration 1 Q:  tensor(2.07613) Likelihood:  tensor(-182.24118) tensor(-182.24724) d0:  tensor(0.95174)\n",
            "Iteration 2 Q:  tensor(2.16820) Likelihood:  tensor(-1.43099) tensor(-1.45608) d0:  tensor(0.96451)\n",
            "Iteration 3 Q:  tensor(2.24344) Likelihood:  tensor(-0.92240) tensor(-0.92450) d0:  tensor(0.96532)\n",
            "Iteration 4 Q:  tensor(2.47152) Likelihood:  tensor(-0.38261) tensor(-0.38485) d0:  tensor(0.96542)\n",
            "tensor(653.16925)\n",
            "Iteration 1 Q:  tensor(2.14382) Likelihood:  tensor(-31.82052) tensor(-31.82088) d0:  tensor(0.49210)\n",
            "Iteration 2 Q:  tensor(2.31509) Likelihood:  tensor(-35.35896) tensor(-35.37273) d0:  tensor(0.49210)\n",
            "Iteration 3 Q:  tensor(2.31511) Likelihood:  tensor(-35.35295) tensor(-35.36672) d0:  tensor(0.49210)\n",
            "tensor(583.22827)\n",
            "Iteration 1 Q:  tensor(2.07772) Likelihood:  tensor(-367.12997) tensor(-367.13327) d0:  tensor(0.57280)\n",
            "Iteration 2 Q:  tensor(2.10390) Likelihood:  tensor(-4.04198) tensor(-4.04629) d0:  tensor(0.57252)\n",
            "tensor(645.84705)\n",
            "Iteration 1 Q:  tensor(2.23483) Likelihood:  tensor(-30.85716) tensor(-30.85763) d0:  tensor(0.49210)\n",
            "Iteration 2 Q:  tensor(2.31816) Likelihood:  tensor(-35.36540) tensor(-35.36540) d0:  tensor(0.49210)\n",
            "Iteration 3 Q:  tensor(2.31820) Likelihood:  tensor(-35.35295) tensor(-35.35295) d0:  tensor(0.49210)\n",
            "tensor(583.22827)\n",
            "Iteration 1 Q:  tensor(2.27875) Likelihood:  tensor(-5.60865) tensor(-5.60867) d0:  tensor(0.86990)\n",
            "Iteration 2 Q:  tensor(2.65738) Likelihood:  tensor(-5.03728) tensor(-5.03729) d0:  tensor(0.86990)\n",
            "tensor(643.85956)\n",
            "Iteration 1 Q:  tensor(2.27067) Likelihood:  tensor(-107.57930) tensor(-107.57930) d0:  tensor(0.96150)\n",
            "Iteration 2 Q:  tensor(2.29896) Likelihood:  tensor(-0.73536) tensor(-0.73878) d0:  tensor(0.95325)\n",
            "Iteration 3 Q:  tensor(2.34739) Likelihood:  tensor(-0.62574) tensor(-0.62760) d0:  tensor(0.95048)\n",
            "Iteration 4 Q:  tensor(2.35997) Likelihood:  tensor(-0.61198) tensor(-0.61397) d0:  tensor(0.95047)\n",
            "tensor(652.71033)\n",
            "Iteration 1 Q:  tensor(2.20557) Likelihood:  tensor(-24.62728) tensor(-24.66805) d0:  tensor(0.49210)\n",
            "Iteration 2 Q:  tensor(2.31753) Likelihood:  tensor(-35.83567) tensor(-35.83567) d0:  tensor(0.49210)\n",
            "Iteration 3 Q:  tensor(2.31819) Likelihood:  tensor(-35.35295) tensor(-35.35295) d0:  tensor(0.49210)\n",
            "tensor(583.22827)\n",
            "Iteration 1 Q:  tensor(2.04469) Likelihood:  tensor(-241.88730) tensor(-241.92101) d0:  tensor(0.96140)\n",
            "Iteration 2 Q:  tensor(2.61188) Likelihood:  tensor(0.70483) tensor(0.69926) d0:  tensor(0.95936)\n",
            "Iteration 3 Q:  tensor(2.65847) Likelihood:  tensor(1.00496) tensor(1.00403) d0:  tensor(0.96130)\n",
            "Iteration 4 Q:  tensor(2.65246) Likelihood:  tensor(1.05625) tensor(1.05591) d0:  tensor(0.96130)\n",
            "tensor(656.04675)\n"
          ],
          "name": "stdout"
        }
      ]
    },
    {
      "cell_type": "code",
      "metadata": {
        "id": "dqO7zLN8JW-J"
      },
      "source": [
        ""
      ],
      "execution_count": null,
      "outputs": []
    },
    {
      "cell_type": "code",
      "metadata": {
        "id": "3CPe5oiaMyQj"
      },
      "source": [
        ""
      ],
      "execution_count": null,
      "outputs": []
    },
    {
      "cell_type": "code",
      "metadata": {
        "id": "yCOO3o1WgO7S"
      },
      "source": [
        ""
      ],
      "execution_count": null,
      "outputs": []
    },
    {
      "cell_type": "code",
      "metadata": {
        "id": "rKRU5bZhMya2"
      },
      "source": [
        "## emu_c, eco_c, smu_c, sco_c updates and divide by 2 (no good)\n",
        "for i in range(10):\n",
        "  \n",
        "  hps, ngps, gps = initialization(n_clusters, X, S)\n",
        "  pi_d0 = hps[0]\n",
        "  pi_d1 = 1-hps[0]\n",
        "  pi_c = hps[1]\n",
        "  pi_cc = hps[2]\n",
        "\n",
        "  emu_c = ngps[0]\n",
        "  eco_c = ngps[1]\n",
        "  smu_c = ngps[2]\n",
        "  sco_c = ngps[3]\n",
        "\n",
        "  iter = 0\n",
        "  qs = [0.0]\n",
        "  ls = [0.0]\n",
        "\n",
        "  #print(emu_c)\n",
        "  while iter < n_epochs:\n",
        "\n",
        "    log_lambda0_pi = torch.log(pi_d0) + torch.log(pi_c)\n",
        "    log_lambda1_tau = torch.log(1 - pi_d0) + torch.log(pi_cc)\n",
        "\n",
        "    ### E-step:\n",
        "    log_rd0z_top = torch.zeros(n_clusters, n_obs)\n",
        "    log_rd1g_top = torch.zeros(n_clusters, n_clusters, n_obs)\n",
        "\n",
        "    for j in range(n_clusters):\n",
        "  \n",
        "      el0 = D.MultivariateNormal(emu_c[j], eco_c[j]).log_prob(X.float())\n",
        "      sl0 = D.Normal(smu_c[j], sco_c[j]).log_prob(S.float())\n",
        "      log_rd0z_top[j] = log_lambda0_pi[j] + el0 + sl0\n",
        "    \n",
        "      for k in range(n_clusters):\n",
        "        if torch.isnan(log_lambda1_tau[j,k]): #lower triangular nan\n",
        "          log_rd1g_top[j,k] = float(\"NaN\")\n",
        "        else:\n",
        "          el1 = D.MultivariateNormal((emu_c[j] + emu_c[k]), (eco_c[j] + eco_c[k])).log_prob(X.float())\n",
        "          sl1 = D.Normal((smu_c[j] + smu_c[k])/2, (sco_c[j] + sco_c[k])/2).log_prob(S.float())\n",
        "          log_rd1g_top[j,k] = log_lambda1_tau[j,k] + el1 + sl1\n",
        "\n",
        "    log_rd1g_top = log_rd1g_top.reshape(n_clusters * n_clusters, n_obs) #shape: (cxc')xn\n",
        "\n",
        "    ignored_indices = torch.isnan(torch.logsumexp(log_rd1g_top, 1))\n",
        "    assert(ignored_indices.sum() == (n_clusters * n_clusters - n_clusters) / 2)\n",
        "    \n",
        "    log_rdzg_norm = torch.logsumexp(torch.vstack((log_rd0z_top, log_rd1g_top[~ignored_indices])),0) #shape: n\n",
        "    #log_rdzg_norm1 = torch.logsumexp(torch.vstack((torch.logsumexp(log_rd0z_top, 0), torch.logsumexp(log_rd1g_top[~ignored_indices],0))),0)\n",
        "\n",
        "    log_rdz = (log_rd0z_top - log_rdzg_norm).T #shape: nxc\n",
        "    log_rdg = (log_rd1g_top - log_rdzg_norm).T #shape: nx(cxc')\n",
        "\n",
        "    assert(torch.sum(torch.sum(torch.exp(log_rdz),1) + torch.sum(torch.exp(log_rdg[:,~ignored_indices]),1)).round() == n_obs)\n",
        "\n",
        "    q1 = log_rd0z_top.T * log_rdz.exp(); q1[torch.isnan(q1)] = 0.0 #p(x,theta'|z=c,d=0)p(z=c,d=0|x,theta')\n",
        "    q2 = log_rd1g_top[~ignored_indices].T * log_rdg[:,~ignored_indices].exp(); q2[torch.isnan(q2)] = 0.0 #p(x,theta'|g=[c,c'],d=1)p(g=[c,c'],d=1|x,theta')\n",
        "    Q = torch.vstack((torch.logsumexp(q1, 1), torch.logsumexp(q2, 1))).logsumexp(0).mean() # mean(sum_d sum_z(q1) + sum_g(q2))\n",
        "\n",
        "    l1 = log_rd0z_top.T + log_rdz\n",
        "    l2 = log_rd1g_top[~ignored_indices].T + log_rdg[:,~ignored_indices]; #l2[torch.isinf(l2)] = -100\n",
        "    L1 = torch.vstack((torch.logsumexp(l1,1), torch.logsumexp(l2,1))).logsumexp(0).mean()\n",
        "    L = log_rdzg_norm.mean()\n",
        "\n",
        "    ## M-step:\n",
        "    rdz = torch.exp(log_rdz)\n",
        "    n_c, smu_c, sco_c, emu_c, eco_c = _estimate_mean_cov_t1v2(X, S, rdz)\n",
        "    pi_c = n_c / n_obs\n",
        "    pi_d0 = torch.sum(pi_c)\n",
        "\n",
        "    rdg = torch.exp(log_rdg).reshape(n_obs, n_clusters, n_clusters)\n",
        "    #n_cc, emu_cc, eco_cc = _estimate_mean_cov_t2v2(X, rdg)\n",
        "    n_cc = torch.sum(rdg, dim=0)\n",
        "    pi_cc = n_cc / n_obs\n",
        "    pi_d1 = torch.sum(torch.triu(pi_cc))\n",
        "\n",
        "    if abs(ls[-1] - L) < tot:\n",
        "      break\n",
        "\n",
        "    if pi_d1 < tot:\n",
        "      print(\"d1 is approaching 0! -> change a different initalization values\")\n",
        "      break\n",
        "\n",
        "    if iter > 1 and ls[-1] > L:\n",
        "      print(\"something is wrong!\")\n",
        "      break\n",
        "\n",
        "    print('Iteration', iter + 1, 'Q: ', Q, 'Likelihood: ', L, L1, 'd0: ', pi_d0)\n",
        "\n",
        "    qs.append(Q)\n",
        "    ls.append(L)\n",
        "    iter += 1\n",
        "\n",
        "  aic, bic = _ics(-L, n_obs, n_features, n_clusters)\n",
        "  print(bic)\n",
        "  #return llv[1:], aic, bic"
      ],
      "execution_count": null,
      "outputs": []
    },
    {
      "cell_type": "code",
      "metadata": {
        "id": "VR5Z2oFLPIcc"
      },
      "source": [
        ""
      ],
      "execution_count": null,
      "outputs": []
    },
    {
      "cell_type": "code",
      "metadata": {
        "id": "fdpQ3u6pPInf"
      },
      "source": [
        ""
      ],
      "execution_count": null,
      "outputs": []
    },
    {
      "cell_type": "code",
      "metadata": {
        "id": "NYi3vsJYPI7f"
      },
      "source": [
        ""
      ],
      "execution_count": null,
      "outputs": []
    },
    {
      "cell_type": "code",
      "metadata": {
        "colab": {
          "base_uri": "https://localhost:8080/"
        },
        "id": "RHNjvFfHMyqy",
        "outputId": "7384baa2-04df-4c90-8fd9-e86f285d276a"
      },
      "source": [
        "## emu_c, eco_c, smu_c, sco_c and\n",
        "## emu_cc, eco_cc, smu_cc, sco_cc updates \n",
        "\n",
        "for i in range(10):\n",
        "  \n",
        "  hps, ngps, gps = initialization(n_clusters, X, S)\n",
        "  pi_d0 = hps[0]\n",
        "  pi_d1 = 1-hps[0]\n",
        "  pi_c = hps[1]\n",
        "  pi_cc = hps[2]\n",
        "\n",
        "  emu_c = ngps[0]\n",
        "  eco_c = ngps[1]\n",
        "  smu_c = ngps[2]\n",
        "  sco_c = ngps[3]\n",
        "\n",
        "  emu_cc = ngps[4]\n",
        "  eco_cc = ngps[5]\n",
        "  smu_cc = ngps[6]\n",
        "  sco_cc = ngps[7]\n",
        "\n",
        "  iter = 0\n",
        "  qs = [0.0]\n",
        "  ls = [0.0]\n",
        "\n",
        "  #print(emu_c)\n",
        "  while iter < n_epochs:\n",
        "\n",
        "    log_lambda0_pi = torch.log(pi_d0) + torch.log(pi_c)\n",
        "    log_lambda1_tau = torch.log(1 - pi_d0) + torch.log(pi_cc)\n",
        "\n",
        "    ### E-step:\n",
        "    log_rd0z_top = torch.zeros(n_clusters, n_obs)\n",
        "    log_rd1g_top = torch.zeros(n_clusters, n_clusters, n_obs)\n",
        "\n",
        "    for j in range(n_clusters):\n",
        "  \n",
        "      el0 = D.MultivariateNormal(emu_c[j], eco_c[j]).log_prob(X.float())\n",
        "      sl0 = D.Normal(smu_c[j], sco_c[j]).log_prob(S.float())\n",
        "      log_rd0z_top[j] = log_lambda0_pi[j] + el0 + sl0\n",
        "    \n",
        "      for k in range(n_clusters):\n",
        "        if torch.isnan(log_lambda1_tau[j,k]): #lower triangular nan\n",
        "          log_rd1g_top[j,k] = float(\"NaN\")\n",
        "        else:\n",
        "          el1 = D.MultivariateNormal(emu_cc[j,k], eco_cc[j,k]).log_prob(X.float())\n",
        "          sl1 = D.Normal(smu_cc[j,k], sco_cc[j,k]).log_prob(S.float())\n",
        "          log_rd1g_top[j,k] = log_lambda1_tau[j,k] + el1 + sl1\n",
        "\n",
        "    log_rd1g_top = log_rd1g_top.reshape(n_clusters * n_clusters, n_obs) #shape: (cxc')xn\n",
        "\n",
        "    ignored_indices = torch.isnan(torch.logsumexp(log_rd1g_top, 1))\n",
        "    assert(ignored_indices.sum() == (n_clusters * n_clusters - n_clusters) / 2)\n",
        "    \n",
        "    log_rdzg_norm = torch.logsumexp(torch.vstack((log_rd0z_top, log_rd1g_top[~ignored_indices])),0) #shape: n\n",
        "    #log_rdzg_norm1 = torch.logsumexp(torch.vstack((torch.logsumexp(log_rd0z_top, 0), torch.logsumexp(log_rd1g_top[~ignored_indices],0))),0)\n",
        "\n",
        "    log_rdz = (log_rd0z_top - log_rdzg_norm).T #shape: nxc\n",
        "    log_rdg = (log_rd1g_top - log_rdzg_norm).T #shape: nx(cxc')\n",
        "\n",
        "    assert(torch.sum(torch.sum(torch.exp(log_rdz),1) + torch.sum(torch.exp(log_rdg[:,~ignored_indices]),1)).round() == n_obs)\n",
        "\n",
        "    q1 = log_rd0z_top.T * log_rdz.exp(); q1[torch.isnan(q1)] = 0.0 #p(x,theta'|z=c,d=0)p(z=c,d=0|x,theta')\n",
        "    q2 = log_rd1g_top[~ignored_indices].T * log_rdg[:,~ignored_indices].exp(); q2[torch.isnan(q2)] = 0.0 #p(x,theta'|g=[c,c'],d=1)p(g=[c,c'],d=1|x,theta')\n",
        "    Q = torch.vstack((torch.logsumexp(q1, 1), torch.logsumexp(q2, 1))).logsumexp(0).mean() # mean(sum_d sum_z(q1) + sum_g(q2))\n",
        "\n",
        "    l1 = log_rd0z_top.T + log_rdz\n",
        "    l2 = log_rd1g_top[~ignored_indices].T + log_rdg[:,~ignored_indices]; #l2[torch.isinf(l2)] = -100\n",
        "    L1 = torch.vstack((torch.logsumexp(l1,1), torch.logsumexp(l2,1))).logsumexp(0).mean()\n",
        "    L = log_rdzg_norm.mean()\n",
        "\n",
        "    ## M-step:\n",
        "    rdz = torch.exp(log_rdz)\n",
        "    n_c, smu_c, sco_c, emu_c, eco_c = _estimate_mean_cov_t1v2(X, S, rdz)\n",
        "    pi_c = n_c / n_obs\n",
        "    pi_d0 = torch.sum(pi_c)\n",
        "\n",
        "    rdg = torch.exp(log_rdg).reshape(n_obs, n_clusters, n_clusters)\n",
        "    n_cc, smu_cc, sco_cc, emu_cc, eco_cc = _estimate_mean_cov_t2v2(X, S, rdg)\n",
        "    #n_cc = torch.sum(rdg, dim=0)\n",
        "    pi_cc = n_cc / n_obs\n",
        "    pi_d1 = torch.sum(torch.triu(pi_cc))\n",
        "\n",
        "    if abs(ls[-1] - L) < tot:\n",
        "      break\n",
        "\n",
        "    if pi_d1 < tot:\n",
        "      print(\"d1 is approaching 0! -> change a different initalization values\")\n",
        "      break\n",
        "\n",
        "    if iter > 1 and ls[-1] > L:\n",
        "      print(\"something is wrong!\")\n",
        "      break\n",
        "\n",
        "    print('Iteration', iter + 1, 'Q: ', Q, 'Likelihood: ', L, L1, 'd0: ', pi_d0)\n",
        "\n",
        "    qs.append(Q)\n",
        "    ls.append(L)\n",
        "    iter += 1\n",
        "\n",
        "  aic, bic = _ics(-L, n_obs, n_features, n_clusters)\n",
        "  print(aic)\n",
        "  #return llv[1:], aic, bic"
      ],
      "execution_count": 8,
      "outputs": [
        {
          "output_type": "stream",
          "text": [
            "/usr/local/lib/python3.7/dist-packages/ipykernel_launcher.py:146: UserWarning: To copy construct from a tensor, it is recommended to use sourceTensor.clone().detach() or sourceTensor.clone().detach().requires_grad_(True), rather than torch.tensor(sourceTensor).\n",
            "/usr/local/lib/python3.7/dist-packages/ipykernel_launcher.py:147: UserWarning: To copy construct from a tensor, it is recommended to use sourceTensor.clone().detach() or sourceTensor.clone().detach().requires_grad_(True), rather than torch.tensor(sourceTensor).\n",
            "/usr/local/lib/python3.7/dist-packages/ipykernel_launcher.py:149: UserWarning: To copy construct from a tensor, it is recommended to use sourceTensor.clone().detach() or sourceTensor.clone().detach().requires_grad_(True), rather than torch.tensor(sourceTensor).\n",
            "/usr/local/lib/python3.7/dist-packages/ipykernel_launcher.py:150: UserWarning: To copy construct from a tensor, it is recommended to use sourceTensor.clone().detach() or sourceTensor.clone().detach().requires_grad_(True), rather than torch.tensor(sourceTensor).\n",
            "/usr/local/lib/python3.7/dist-packages/ipykernel_launcher.py:152: UserWarning: To copy construct from a tensor, it is recommended to use sourceTensor.clone().detach() or sourceTensor.clone().detach().requires_grad_(True), rather than torch.tensor(sourceTensor).\n",
            "/usr/local/lib/python3.7/dist-packages/ipykernel_launcher.py:153: UserWarning: To copy construct from a tensor, it is recommended to use sourceTensor.clone().detach() or sourceTensor.clone().detach().requires_grad_(True), rather than torch.tensor(sourceTensor).\n",
            "/usr/local/lib/python3.7/dist-packages/ipykernel_launcher.py:155: UserWarning: To copy construct from a tensor, it is recommended to use sourceTensor.clone().detach() or sourceTensor.clone().detach().requires_grad_(True), rather than torch.tensor(sourceTensor).\n",
            "/usr/local/lib/python3.7/dist-packages/ipykernel_launcher.py:156: UserWarning: To copy construct from a tensor, it is recommended to use sourceTensor.clone().detach() or sourceTensor.clone().detach().requires_grad_(True), rather than torch.tensor(sourceTensor).\n"
          ],
          "name": "stderr"
        },
        {
          "output_type": "stream",
          "text": [
            "Iteration 1 Q:  tensor(2.32263) Likelihood:  tensor(-23.73178) tensor(-23.73534) d0:  tensor(0.55624)\n",
            "Iteration 2 Q:  tensor(2.04002) Likelihood:  tensor(-3.65930) tensor(-4.42582) d0:  tensor(0.57221)\n",
            "Iteration 3 Q:  tensor(2.04654) Likelihood:  tensor(-3.62787) tensor(-4.39383) d0:  tensor(0.57254)\n",
            "tensor(134.74498)\n",
            "Iteration 1 Q:  tensor(2.07375) Likelihood:  tensor(-381.22543) tensor(-381.22931) d0:  tensor(0.57271)\n",
            "Iteration 2 Q:  tensor(1.97723) Likelihood:  tensor(-3.75020) tensor(-4.51585) d0:  tensor(0.57259)\n",
            "Iteration 3 Q:  tensor(2.04649) Likelihood:  tensor(-3.62746) tensor(-4.39341) d0:  tensor(0.57254)\n",
            "tensor(134.74500)\n",
            "Iteration 1 Q:  tensor(2.31144) Likelihood:  tensor(-30.87618) tensor(-30.87679) d0:  tensor(0.49210)\n",
            "Iteration 2 Q:  tensor(1.95540) Likelihood:  tensor(-4.34535) tensor(-5.25536) d0:  tensor(0.49199)\n",
            "tensor(133.30678)\n",
            "Iteration 1 Q:  tensor(1.96386) Likelihood:  tensor(-540.96759) tensor(-541.25555) d0:  tensor(0.96140)\n",
            "Iteration 2 Q:  tensor(2.17482) Likelihood:  tensor(-1.47858) tensor(-1.66162) d0:  tensor(0.95981)\n",
            "Iteration 3 Q:  tensor(2.23680) Likelihood:  tensor(-1.09018) tensor(-1.26005) d0:  tensor(0.95818)\n",
            "tensor(139.82893)\n",
            "Iteration 1 Q:  tensor(2.07840) Likelihood:  tensor(-80.54604) tensor(-80.54771) d0:  tensor(0.57675)\n",
            "Iteration 2 Q:  tensor(1.80174) Likelihood:  tensor(-5.05949) tensor(-5.82730) d0:  tensor(0.58072)\n",
            "Iteration 3 Q:  tensor(1.90394) Likelihood:  tensor(-4.12724) tensor(-4.87938) d0:  tensor(0.58070)\n",
            "Iteration 4 Q:  tensor(2.04532) Likelihood:  tensor(-3.75247) tensor(-4.50641) d0:  tensor(0.57987)\n",
            "tensor(134.49507)\n",
            "Iteration 1 Q:  tensor(2.22475) Likelihood:  tensor(-26.39438) tensor(-26.83019) d0:  tensor(0.49210)\n",
            "Iteration 2 Q:  tensor(1.88213) Likelihood:  tensor(-4.37441) tensor(-5.43340) d0:  tensor(0.49194)\n",
            "Iteration 3 Q:  tensor(1.89358) Likelihood:  tensor(-4.36927) tensor(-5.40270) d0:  tensor(0.49192)\n",
            "tensor(133.26440)\n",
            "Iteration 1 Q:  tensor(2.22195) Likelihood:  tensor(-32.80157) tensor(-32.99669) d0:  tensor(0.49210)\n",
            "Iteration 2 Q:  tensor(1.91701) Likelihood:  tensor(-4.36421) tensor(-5.35734) d0:  tensor(0.49184)\n",
            "tensor(133.26826)\n",
            "Iteration 1 Q:  tensor(2.16985) Likelihood:  tensor(-29.08889) tensor(-29.33583) d0:  tensor(0.49210)\n",
            "Iteration 2 Q:  tensor(1.89982) Likelihood:  tensor(-4.36913) tensor(-5.40550) d0:  tensor(0.49188)\n",
            "tensor(133.26108)\n",
            "Iteration 1 Q:  tensor(2.04216) Likelihood:  tensor(-190.27002) tensor(-190.33885) d0:  tensor(0.96630)\n",
            "Iteration 2 Q:  tensor(2.41858) Likelihood:  tensor(-0.76618) tensor(-0.85698) d0:  tensor(0.96614)\n",
            "Iteration 3 Q:  tensor(2.47896) Likelihood:  tensor(0.01533) tensor(-0.05150) d0:  tensor(0.96324)\n",
            "Iteration 4 Q:  tensor(2.57971) Likelihood:  tensor(0.48480) tensor(0.41036) d0:  tensor(0.95904)\n",
            "Iteration 5 Q:  tensor(2.62094) Likelihood:  tensor(0.56000) tensor(0.47983) d0:  tensor(0.95592)\n",
            "Iteration 6 Q:  tensor(2.63475) Likelihood:  tensor(0.58058) tensor(0.49438) d0:  tensor(0.95227)\n",
            "Iteration 7 Q:  tensor(2.65440) Likelihood:  tensor(0.61278) tensor(0.52406) d0:  tensor(0.95056)\n",
            "Iteration 8 Q:  tensor(2.66251) Likelihood:  tensor(0.61822) tensor(0.52949) d0:  tensor(0.95048)\n",
            "tensor(143.23633)\n",
            "Iteration 1 Q:  tensor(2.20077) Likelihood:  tensor(-20.09318) tensor(-20.09331) d0:  tensor(0.49210)\n",
            "Iteration 2 Q:  tensor(1.95540) Likelihood:  tensor(-4.34535) tensor(-5.25536) d0:  tensor(0.49199)\n",
            "tensor(133.30678)\n"
          ],
          "name": "stdout"
        }
      ]
    },
    {
      "cell_type": "code",
      "metadata": {
        "id": "d2ZIZh6TM0uh"
      },
      "source": [
        ""
      ],
      "execution_count": null,
      "outputs": []
    },
    {
      "cell_type": "code",
      "metadata": {
        "id": "OWOSJovvM2VJ"
      },
      "source": [
        ""
      ],
      "execution_count": null,
      "outputs": []
    },
    {
      "cell_type": "code",
      "metadata": {
        "id": "QsGljvhmM2gJ"
      },
      "source": [
        ""
      ],
      "execution_count": null,
      "outputs": []
    },
    {
      "cell_type": "code",
      "metadata": {
        "colab": {
          "base_uri": "https://localhost:8080/"
        },
        "id": "FT4pOnyGAi6x",
        "outputId": "6b7b62c5-eaec-4d3b-d633-45242133e589"
      },
      "source": [
        "## emu_c, eco_c, smu_c, sco_c and\n",
        "## emu_cc, eco_cc, smu_cc, sco_cc updates \n",
        "## divide by 2\n",
        "\n",
        "for i in range(10):\n",
        "  \n",
        "  hps, ngps, gps = initialization(n_clusters, X, S)\n",
        "  pi_d0 = hps[0]\n",
        "  pi_d1 = 1-hps[0]\n",
        "  pi_c = hps[1]\n",
        "  pi_cc = hps[2]\n",
        "\n",
        "  emu_c = ngps[0]\n",
        "  eco_c = ngps[1]\n",
        "  smu_c = ngps[2]\n",
        "  sco_c = ngps[3]\n",
        "\n",
        "  emu_cc = ngps[4]\n",
        "  eco_cc = ngps[5]\n",
        "  smu_cc = ngps[6]\n",
        "  sco_cc = ngps[7]\n",
        "\n",
        "  iter = 0\n",
        "  qs = [0.0]\n",
        "  ls = [0.0]\n",
        "\n",
        "  #print(emu_c)\n",
        "  while iter < n_epochs:\n",
        "\n",
        "    log_lambda0_pi = torch.log(pi_d0) + torch.log(pi_c)\n",
        "    log_lambda1_tau = torch.log(1 - pi_d0) + torch.log(pi_cc)\n",
        "\n",
        "    ### E-step:\n",
        "    log_rd0z_top = torch.zeros(n_clusters, n_obs)\n",
        "    log_rd1g_top = torch.zeros(n_clusters, n_clusters, n_obs)\n",
        "\n",
        "    for j in range(n_clusters):\n",
        "  \n",
        "      el0 = D.MultivariateNormal(emu_c[j], eco_c[j]).log_prob(X.float())\n",
        "      sl0 = D.Normal(smu_c[j], sco_c[j]).log_prob(S.float())\n",
        "      log_rd0z_top[j] = log_lambda0_pi[j] + el0 + sl0\n",
        "    \n",
        "      for k in range(n_clusters):\n",
        "        if torch.isnan(log_lambda1_tau[j,k]): #lower triangular nan\n",
        "          log_rd1g_top[j,k] = float(\"NaN\")\n",
        "        else:\n",
        "          el1 = D.MultivariateNormal(emu_cc[j,k]/2, eco_cc[j,k]/2).log_prob(X.float())\n",
        "          sl1 = D.Normal(smu_cc[j,k], sco_cc[j,k]).log_prob(S.float())\n",
        "          log_rd1g_top[j,k] = log_lambda1_tau[j,k] + el1 + sl1\n",
        "\n",
        "    log_rd1g_top = log_rd1g_top.reshape(n_clusters * n_clusters, n_obs) #shape: (cxc')xn\n",
        "\n",
        "    ignored_indices = torch.isnan(torch.logsumexp(log_rd1g_top, 1))\n",
        "    assert(ignored_indices.sum() == (n_clusters * n_clusters - n_clusters) / 2)\n",
        "    \n",
        "    log_rdzg_norm = torch.logsumexp(torch.vstack((log_rd0z_top, log_rd1g_top[~ignored_indices])),0) #shape: n\n",
        "    #log_rdzg_norm1 = torch.logsumexp(torch.vstack((torch.logsumexp(log_rd0z_top, 0), torch.logsumexp(log_rd1g_top[~ignored_indices],0))),0)\n",
        "\n",
        "    log_rdz = (log_rd0z_top - log_rdzg_norm).T #shape: nxc\n",
        "    log_rdg = (log_rd1g_top - log_rdzg_norm).T #shape: nx(cxc')\n",
        "\n",
        "    assert(torch.sum(torch.sum(torch.exp(log_rdz),1) + torch.sum(torch.exp(log_rdg[:,~ignored_indices]),1)).round() == n_obs)\n",
        "\n",
        "    q1 = log_rd0z_top.T * log_rdz.exp(); q1[torch.isnan(q1)] = 0.0 #p(x,theta'|z=c,d=0)p(z=c,d=0|x,theta')\n",
        "    q2 = log_rd1g_top[~ignored_indices].T * log_rdg[:,~ignored_indices].exp(); q2[torch.isnan(q2)] = 0.0 #p(x,theta'|g=[c,c'],d=1)p(g=[c,c'],d=1|x,theta')\n",
        "    Q = torch.vstack((torch.logsumexp(q1, 1), torch.logsumexp(q2, 1))).logsumexp(0).mean() # mean(sum_d sum_z(q1) + sum_g(q2))\n",
        "\n",
        "    l1 = log_rd0z_top.T + log_rdz\n",
        "    l2 = log_rd1g_top[~ignored_indices].T + log_rdg[:,~ignored_indices]; #l2[torch.isinf(l2)] = -100\n",
        "    L1 = torch.vstack((torch.logsumexp(l1,1), torch.logsumexp(l2,1))).logsumexp(0).mean()\n",
        "    L = log_rdzg_norm.mean()\n",
        "\n",
        "    ## M-step:\n",
        "    rdz = torch.exp(log_rdz)\n",
        "    n_c, smu_c, sco_c, emu_c, eco_c = _estimate_mean_cov_t1v2(X, S, rdz)\n",
        "    pi_c = n_c / n_obs\n",
        "    pi_d0 = torch.sum(pi_c)\n",
        "\n",
        "    rdg = torch.exp(log_rdg).reshape(n_obs, n_clusters, n_clusters)\n",
        "    n_cc, smu_cc, sco_cc, emu_cc, eco_cc = _estimate_mean_cov_t2v2(X, S, rdg)\n",
        "    #n_cc = torch.sum(rdg, dim=0)\n",
        "    pi_cc = n_cc / n_obs\n",
        "    pi_d1 = torch.sum(torch.triu(pi_cc))\n",
        "\n",
        "    if abs(ls[-1] - L) < tot:\n",
        "      break\n",
        "\n",
        "    if pi_d1 < tot:\n",
        "      print(\"d1 is approaching 0! -> change a different initalization values\")\n",
        "      break\n",
        "\n",
        "    if iter > 1 and ls[-1] > L:\n",
        "      print(\"something is wrong!\")\n",
        "      break\n",
        "\n",
        "    print('Iteration', iter + 1, 'Q: ', Q, 'Likelihood: ', L, L1, 'd0: ', pi_d0)\n",
        "\n",
        "    qs.append(Q)\n",
        "    ls.append(L)\n",
        "    iter += 1\n",
        "\n",
        "  aic, bic = _ics(-L, n_obs, n_features, n_clusters)\n",
        "  print(aic)\n",
        "  #return llv[1:], aic, bic"
      ],
      "execution_count": 13,
      "outputs": [
        {
          "output_type": "stream",
          "text": [
            "/usr/local/lib/python3.7/dist-packages/ipykernel_launcher.py:146: UserWarning: To copy construct from a tensor, it is recommended to use sourceTensor.clone().detach() or sourceTensor.clone().detach().requires_grad_(True), rather than torch.tensor(sourceTensor).\n",
            "/usr/local/lib/python3.7/dist-packages/ipykernel_launcher.py:147: UserWarning: To copy construct from a tensor, it is recommended to use sourceTensor.clone().detach() or sourceTensor.clone().detach().requires_grad_(True), rather than torch.tensor(sourceTensor).\n",
            "/usr/local/lib/python3.7/dist-packages/ipykernel_launcher.py:149: UserWarning: To copy construct from a tensor, it is recommended to use sourceTensor.clone().detach() or sourceTensor.clone().detach().requires_grad_(True), rather than torch.tensor(sourceTensor).\n",
            "/usr/local/lib/python3.7/dist-packages/ipykernel_launcher.py:150: UserWarning: To copy construct from a tensor, it is recommended to use sourceTensor.clone().detach() or sourceTensor.clone().detach().requires_grad_(True), rather than torch.tensor(sourceTensor).\n",
            "/usr/local/lib/python3.7/dist-packages/ipykernel_launcher.py:152: UserWarning: To copy construct from a tensor, it is recommended to use sourceTensor.clone().detach() or sourceTensor.clone().detach().requires_grad_(True), rather than torch.tensor(sourceTensor).\n",
            "/usr/local/lib/python3.7/dist-packages/ipykernel_launcher.py:153: UserWarning: To copy construct from a tensor, it is recommended to use sourceTensor.clone().detach() or sourceTensor.clone().detach().requires_grad_(True), rather than torch.tensor(sourceTensor).\n",
            "/usr/local/lib/python3.7/dist-packages/ipykernel_launcher.py:155: UserWarning: To copy construct from a tensor, it is recommended to use sourceTensor.clone().detach() or sourceTensor.clone().detach().requires_grad_(True), rather than torch.tensor(sourceTensor).\n",
            "/usr/local/lib/python3.7/dist-packages/ipykernel_launcher.py:156: UserWarning: To copy construct from a tensor, it is recommended to use sourceTensor.clone().detach() or sourceTensor.clone().detach().requires_grad_(True), rather than torch.tensor(sourceTensor).\n"
          ],
          "name": "stderr"
        },
        {
          "output_type": "stream",
          "text": [
            "Iteration 1 Q:  tensor(2.09831) Likelihood:  tensor(-30.75802) tensor(-30.76001) d0:  tensor(0.49210)\n",
            "Iteration 2 Q:  tensor(1.90042) Likelihood:  tensor(-6.85950) tensor(-7.76970) d0:  tensor(0.49193)\n",
            "tensor(128.27779)\n",
            "Iteration 1 Q:  tensor(2.07925) Likelihood:  tensor(-103.69984) tensor(-103.70016) d0:  tensor(0.88055)\n",
            "Iteration 2 Q:  tensor(2.50820) Likelihood:  tensor(-0.94709) tensor(-1.16144) d0:  tensor(0.88044)\n",
            "tensor(140.10538)\n",
            "Iteration 1 Q:  tensor(2.18318) Likelihood:  tensor(-55.65486) tensor(-55.89309) d0:  tensor(0.87206)\n",
            "Iteration 2 Q:  tensor(2.47057) Likelihood:  tensor(-1.04297) tensor(-1.36639) d0:  tensor(0.87374)\n",
            "Iteration 3 Q:  tensor(2.46491) Likelihood:  tensor(-1.01748) tensor(-1.33276) d0:  tensor(0.87702)\n",
            "Iteration 4 Q:  tensor(2.45194) Likelihood:  tensor(-0.97931) tensor(-1.28871) d0:  tensor(0.87964)\n",
            "Iteration 5 Q:  tensor(2.44162) Likelihood:  tensor(-0.96790) tensor(-1.27530) d0:  tensor(0.88023)\n",
            "tensor(140.06624)\n",
            "Iteration 1 Q:  tensor(2.24045) Likelihood:  tensor(-52.08810) tensor(-52.08869) d0:  tensor(0.87322)\n",
            "Iteration 2 Q:  tensor(2.53761) Likelihood:  tensor(-1.01124) tensor(-1.23497) d0:  tensor(0.87552)\n",
            "Iteration 3 Q:  tensor(2.52795) Likelihood:  tensor(-0.97375) tensor(-1.19103) d0:  tensor(0.87896)\n",
            "Iteration 4 Q:  tensor(2.51341) Likelihood:  tensor(-0.95009) tensor(-1.16509) d0:  tensor(0.88014)\n",
            "tensor(140.10472)\n",
            "Iteration 1 Q:  tensor(2.07939) Likelihood:  tensor(-275.48679) tensor(-275.48679) d0:  tensor(0.96150)\n",
            "Iteration 2 Q:  tensor(2.26132) Likelihood:  tensor(-1.78414) tensor(-1.85513) d0:  tensor(0.96050)\n",
            "tensor(138.43193)\n",
            "Iteration 1 Q:  tensor(2.23716) Likelihood:  tensor(-395.26624) tensor(-395.45731) d0:  tensor(0.96630)\n",
            "Iteration 2 Q:  tensor(2.18332) Likelihood:  tensor(-1.83611) tensor(-2.05787) d0:  tensor(0.96359)\n",
            "Iteration 3 Q:  tensor(2.24053) Likelihood:  tensor(-1.75106) tensor(-1.93209) d0:  tensor(0.96231)\n",
            "Iteration 4 Q:  tensor(2.27241) Likelihood:  tensor(-1.69263) tensor(-1.85346) d0:  tensor(0.96158)\n",
            "Iteration 5 Q:  tensor(2.29398) Likelihood:  tensor(-1.64836) tensor(-1.78873) d0:  tensor(0.96080)\n",
            "Iteration 6 Q:  tensor(2.30737) Likelihood:  tensor(-1.61606) tensor(-1.73797) d0:  tensor(0.96054)\n",
            "Iteration 7 Q:  tensor(2.31515) Likelihood:  tensor(-1.59856) tensor(-1.70432) d0:  tensor(0.96053)\n",
            "Iteration 8 Q:  tensor(2.32006) Likelihood:  tensor(-1.58878) tensor(-1.68134) d0:  tensor(0.96053)\n",
            "Iteration 9 Q:  tensor(2.32296) Likelihood:  tensor(-1.58263) tensor(-1.66627) d0:  tensor(0.96053)\n",
            "tensor(138.84171)\n",
            "Iteration 1 Q:  tensor(2.23529) Likelihood:  tensor(-200.49039) tensor(-200.59549) d0:  tensor(0.87610)\n",
            "Iteration 2 Q:  tensor(2.46541) Likelihood:  tensor(-0.91986) tensor(-1.23996) d0:  tensor(0.88036)\n",
            "Iteration 3 Q:  tensor(2.47398) Likelihood:  tensor(-0.90419) tensor(-1.21292) d0:  tensor(0.88037)\n",
            "Iteration 4 Q:  tensor(2.47745) Likelihood:  tensor(-0.89876) tensor(-1.20449) d0:  tensor(0.88038)\n",
            "Iteration 5 Q:  tensor(2.47993) Likelihood:  tensor(-0.89299) tensor(-1.19869) d0:  tensor(0.88039)\n",
            "Iteration 6 Q:  tensor(2.48292) Likelihood:  tensor(-0.88623) tensor(-1.19219) d0:  tensor(0.88040)\n",
            "Iteration 7 Q:  tensor(2.48712) Likelihood:  tensor(-0.87865) tensor(-1.18352) d0:  tensor(0.88041)\n",
            "Iteration 8 Q:  tensor(2.49278) Likelihood:  tensor(-0.86964) tensor(-1.17250) d0:  tensor(0.88043)\n",
            "Iteration 9 Q:  tensor(2.49979) Likelihood:  tensor(-0.85854) tensor(-1.15879) d0:  tensor(0.88045)\n",
            "Iteration 10 Q:  tensor(2.50864) Likelihood:  tensor(-0.84622) tensor(-1.14152) d0:  tensor(0.88047)\n",
            "Iteration 11 Q:  tensor(2.51856) Likelihood:  tensor(-0.83218) tensor(-1.12009) d0:  tensor(0.88049)\n",
            "Iteration 12 Q:  tensor(2.52947) Likelihood:  tensor(-0.81481) tensor(-1.09308) d0:  tensor(0.88054)\n",
            "Iteration 13 Q:  tensor(2.54098) Likelihood:  tensor(-0.79564) tensor(-1.06033) d0:  tensor(0.88059)\n",
            "Iteration 14 Q:  tensor(2.55159) Likelihood:  tensor(-0.77544) tensor(-1.02403) d0:  tensor(0.88065)\n",
            "Iteration 15 Q:  tensor(2.55942) Likelihood:  tensor(-0.75813) tensor(-0.99209) d0:  tensor(0.88065)\n",
            "Iteration 16 Q:  tensor(2.56346) Likelihood:  tensor(-0.74742) tensor(-0.97116) d0:  tensor(0.88066)\n",
            "Iteration 17 Q:  tensor(2.56509) Likelihood:  tensor(-0.74175) tensor(-0.96020) d0:  tensor(0.88066)\n",
            "tensor(140.52280)\n",
            "Iteration 1 Q:  tensor(2.20031) Likelihood:  tensor(-90.83612) tensor(-90.83698) d0:  tensor(0.49210)\n",
            "Iteration 2 Q:  tensor(1.90043) Likelihood:  tensor(-6.85992) tensor(-7.77004) d0:  tensor(0.49193)\n",
            "tensor(128.27779)\n",
            "Iteration 1 Q:  tensor(2.24364) Likelihood:  tensor(-100.81669) tensor(-100.99179) d0:  tensor(0.49210)\n",
            "Iteration 2 Q:  tensor(1.81878) Likelihood:  tensor(-6.89294) tensor(-7.96878) d0:  tensor(0.49181)\n",
            "tensor(128.21980)\n",
            "Iteration 1 Q:  tensor(1.97558) Likelihood:  tensor(-216.89075) tensor(-217.26140) d0:  tensor(0.49210)\n",
            "Iteration 2 Q:  tensor(1.85690) Likelihood:  tensor(-6.87691) tensor(-7.88500) d0:  tensor(0.49185)\n",
            "tensor(128.24562)\n"
          ],
          "name": "stdout"
        }
      ]
    },
    {
      "cell_type": "code",
      "metadata": {
        "id": "uAJiCvvtQ8KS"
      },
      "source": [
        ""
      ],
      "execution_count": null,
      "outputs": []
    },
    {
      "cell_type": "code",
      "metadata": {
        "id": "38Xj1TlTQ6-H"
      },
      "source": [
        "## choose between (emu_c/eco_c, smu_c, sco_c) and (emu_c/eco_c, smu_c/sco_c, emu_cc/eco_cc, smu_cc/sco_cc) models (no divide by 2)"
      ],
      "execution_count": null,
      "outputs": []
    },
    {
      "cell_type": "code",
      "metadata": {
        "id": "DaJz_ZS4jeSZ"
      },
      "source": [
        "## (emu_c/eco_c, smu_c/sco_c, emu_cc/eco_cc, smu_cc/sco_cc) updates (no good)\n",
        "for i in range(10):\n",
        "  \n",
        "  hps, ngps, gps = initialization(n_clusters, X, S)\n",
        "  pi_d0 = hps[0]\n",
        "  pi_d1 = 1-hps[0]\n",
        "  pi_c = hps[1]\n",
        "  pi_cc = hps[2]\n",
        "\n",
        "  opt = optim.Adam(gps)\n",
        "\n",
        "  iter = 0\n",
        "  qs = [0.0]\n",
        "  ls = [0.0]\n",
        "\n",
        "  #print(emu_c)\n",
        "  while iter < n_epochs:\n",
        "\n",
        "    log_lambda0_pi = torch.log(pi_d0) + torch.log(pi_c)\n",
        "    log_lambda1_tau = torch.log(1 - pi_d0) + torch.log(pi_cc)\n",
        "\n",
        "    ### E-step:\n",
        "    log_rd0z_top = torch.zeros(n_clusters, n_obs)\n",
        "    log_rd1g_top = torch.zeros(n_clusters, n_clusters, n_obs)\n",
        "\n",
        "    for j in range(n_clusters):\n",
        "  \n",
        "      el0 = D.MultivariateNormal(gps[0][j], gps[1][j]).log_prob(X.float())\n",
        "      sl0 = D.Normal(gps[2][j], gps[3][j]).log_prob(S.float())\n",
        "      log_rd0z_top[j] = log_lambda0_pi[j] + el0 + sl0\n",
        "    \n",
        "      for k in range(n_clusters):\n",
        "        if torch.isnan(log_lambda1_tau[j,k]): #lower triangular nan\n",
        "          log_rd1g_top[j,k] = float(\"NaN\")\n",
        "        else:\n",
        "          el1 = D.MultivariateNormal(gps[4][j,k], gps[5][j,k]).log_prob(X.float())\n",
        "          sl1 = D.Normal(gps[6][j,k], gps[7][j,k]).log_prob(S.float())\n",
        "          log_rd1g_top[j,k] = log_lambda1_tau[j,k] + el1 + sl1\n",
        "\n",
        "    log_rd1g_top = log_rd1g_top.reshape(n_clusters * n_clusters, n_obs) #shape: (cxc')xn\n",
        "\n",
        "    ignored_indices = torch.isnan(torch.logsumexp(log_rd1g_top, 1))\n",
        "    assert(ignored_indices.sum() == (n_clusters * n_clusters - n_clusters) / 2)\n",
        "    \n",
        "    log_rdzg_norm = torch.logsumexp(torch.vstack((log_rd0z_top, log_rd1g_top[~ignored_indices])),0) #shape: n\n",
        "    #log_rdzg_norm1 = torch.logsumexp(torch.vstack((torch.logsumexp(log_rd0z_top, 0), torch.logsumexp(log_rd1g_top[~ignored_indices],0))),0)\n",
        "\n",
        "    loss = -log_rdzg_norm.mean()\n",
        "\n",
        "    opt.zero_grad()\n",
        "    loss.backward()\n",
        "    opt.step()\n",
        "\n",
        "    with torch.no_grad():\n",
        "\n",
        "      log_rdz = (log_rd0z_top - log_rdzg_norm).T #shape: nxc\n",
        "      log_rdg = (log_rd1g_top - log_rdzg_norm).T #shape: nx(cxc')\n",
        "\n",
        "      assert(torch.sum(torch.sum(torch.exp(log_rdz),1) + torch.sum(torch.exp(log_rdg[:,~ignored_indices]),1)).round() == n_obs)\n",
        "\n",
        "      q1 = log_rd0z_top.T * log_rdz.exp(); q1[torch.isnan(q1)] = 0.0 #p(x,theta'|z=c,d=0)p(z=c,d=0|x,theta')\n",
        "      q2 = log_rd1g_top[~ignored_indices].T * log_rdg[:,~ignored_indices].exp(); q2[torch.isnan(q2)] = 0.0 #p(x,theta'|g=[c,c'],d=1)p(g=[c,c'],d=1|x,theta')\n",
        "      Q = torch.vstack((torch.logsumexp(q1, 1), torch.logsumexp(q2, 1))).logsumexp(0).mean() # mean(sum_d sum_z(q1) + sum_g(q2))\n",
        "\n",
        "      l1 = log_rd0z_top.T + log_rdz\n",
        "      l2 = log_rd1g_top[~ignored_indices].T + log_rdg[:,~ignored_indices]; #l2[torch.isinf(l2)] = -100\n",
        "      L1 = torch.vstack((torch.logsumexp(l1,1), torch.logsumexp(l2,1))).logsumexp(0).mean()\n",
        "\n",
        "      ## M-step:\n",
        "      rdz = torch.exp(log_rdz)\n",
        "      #n_c, smu_c, sco_c, emu_c, eco_c = _estimate_mean_cov_t1v2(X, S, rdz)\n",
        "      n_c = torch.sum(rdz, dim=0)\n",
        "      pi_c = n_c / n_obs\n",
        "      pi_d0 = torch.sum(pi_c)\n",
        "\n",
        "      rdg = torch.exp(log_rdg).reshape(n_obs, n_clusters, n_clusters)\n",
        "      #n_cc, emu_cc, eco_cc = _estimate_mean_cov_t2v2(X, rdg)\n",
        "      n_cc = torch.sum(rdg, dim=0)\n",
        "      pi_cc = n_cc / n_obs\n",
        "      pi_d1 = torch.sum(torch.triu(pi_cc))\n",
        "\n",
        "    if abs(ls[-1] + loss) < tot:\n",
        "      break\n",
        "\n",
        "    if pi_d1 < tot:\n",
        "      print(\"d1 is approaching 0! -> change a different initalization values\")\n",
        "      break\n",
        "\n",
        "    if iter > 1 and ls[-1] > -loss:\n",
        "      print(\"something is wrong!\")\n",
        "      break\n",
        "\n",
        "    qs.append(Q)\n",
        "    ls.append(-loss)\n",
        "    iter += 1\n",
        "  \n",
        "  print('Iteration', iter + 1, 'Q: ', Q, 'Likelihood: ', -loss, L1, 'd0: ', pi_d0)\n",
        "  aic, bic = _ics(loss, n_obs, n_features, n_clusters)\n",
        "  print(bic)\n",
        "  #return llv[1:], aic, bic"
      ],
      "execution_count": null,
      "outputs": []
    },
    {
      "cell_type": "code",
      "metadata": {
        "colab": {
          "base_uri": "https://localhost:8080/"
        },
        "id": "LQQillaWKJ1n",
        "outputId": "3292ae14-627b-49f6-968c-f33dde1e6d39"
      },
      "source": [
        "## emu_c, eco_c, smu_c, sco_c updates\n",
        "for i in range(10):\n",
        "  \n",
        "  hps, ngps, gps = initialization(n_clusters, X, S)\n",
        "  pi_d0 = hps[0]\n",
        "  pi_d1 = 1-hps[0]\n",
        "  pi_c = hps[1]\n",
        "  pi_cc = hps[2]\n",
        "\n",
        "  opt = optim.Adam(gps[:4])\n",
        "\n",
        "  iter = 0\n",
        "  qs = [0.0]\n",
        "  ls = [0.0]\n",
        "\n",
        "  #print(emu_c)\n",
        "  while iter < n_epochs:\n",
        "\n",
        "    log_lambda0_pi = torch.log(pi_d0) + torch.log(pi_c)\n",
        "    log_lambda1_tau = torch.log(1 - pi_d0) + torch.log(pi_cc)\n",
        "\n",
        "    ### E-step:\n",
        "    log_rd0z_top = torch.zeros(n_clusters, n_obs)\n",
        "    log_rd1g_top = torch.zeros(n_clusters, n_clusters, n_obs)\n",
        "\n",
        "    for j in range(n_clusters):\n",
        "  \n",
        "      el0 = D.MultivariateNormal(gps[0][j], gps[1][j]).log_prob(X.float())\n",
        "      sl0 = D.Normal(gps[2][j], gps[3][j]).log_prob(S.float())\n",
        "      log_rd0z_top[j] = log_lambda0_pi[j] + el0 + sl0\n",
        "    \n",
        "      for k in range(n_clusters):\n",
        "        if torch.isnan(log_lambda1_tau[j,k]): #lower triangular nan\n",
        "          log_rd1g_top[j,k] = float(\"NaN\")\n",
        "        else:\n",
        "          el1 = D.MultivariateNormal((gps[0][j] + gps[0][k]), (gps[1][j] + gps[1][k])).log_prob(X.float())\n",
        "          sl1 = D.Normal(gps[2][j] + gps[2][k], gps[3][j] + gps[3][k]).log_prob(S.float())\n",
        "          log_rd1g_top[j,k] = log_lambda1_tau[j,k] + el1 + sl1\n",
        "\n",
        "    log_rd1g_top = log_rd1g_top.reshape(n_clusters * n_clusters, n_obs) #shape: (cxc')xn\n",
        "\n",
        "    ignored_indices = torch.isnan(torch.logsumexp(log_rd1g_top, 1))\n",
        "    assert(ignored_indices.sum() == (n_clusters * n_clusters - n_clusters) / 2)\n",
        "    \n",
        "    log_rdzg_norm = torch.logsumexp(torch.vstack((log_rd0z_top, log_rd1g_top[~ignored_indices])),0) #shape: n\n",
        "    #log_rdzg_norm1 = torch.logsumexp(torch.vstack((torch.logsumexp(log_rd0z_top, 0), torch.logsumexp(log_rd1g_top[~ignored_indices],0))),0)\n",
        "\n",
        "    loss = -log_rdzg_norm.mean()\n",
        "\n",
        "    opt.zero_grad()\n",
        "    loss.backward()\n",
        "    opt.step()\n",
        "\n",
        "    with torch.no_grad():\n",
        "\n",
        "      log_rdz = (log_rd0z_top - log_rdzg_norm).T #shape: nxc\n",
        "      log_rdg = (log_rd1g_top - log_rdzg_norm).T #shape: nx(cxc')\n",
        "\n",
        "      assert(torch.sum(torch.sum(torch.exp(log_rdz),1) + torch.sum(torch.exp(log_rdg[:,~ignored_indices]),1)).round() == n_obs)\n",
        "\n",
        "      q1 = log_rd0z_top.T * log_rdz.exp(); q1[torch.isnan(q1)] = 0.0 #p(x,theta'|z=c,d=0)p(z=c,d=0|x,theta')\n",
        "      q2 = log_rd1g_top[~ignored_indices].T * log_rdg[:,~ignored_indices].exp(); q2[torch.isnan(q2)] = 0.0 #p(x,theta'|g=[c,c'],d=1)p(g=[c,c'],d=1|x,theta')\n",
        "      Q = torch.vstack((torch.logsumexp(q1, 1), torch.logsumexp(q2, 1))).logsumexp(0).mean() # mean(sum_d sum_z(q1) + sum_g(q2))\n",
        "\n",
        "      l1 = log_rd0z_top.T + log_rdz\n",
        "      l2 = log_rd1g_top[~ignored_indices].T + log_rdg[:,~ignored_indices]; #l2[torch.isinf(l2)] = -100\n",
        "      L1 = torch.vstack((torch.logsumexp(l1,1), torch.logsumexp(l2,1))).logsumexp(0).mean()\n",
        "\n",
        "      ## M-step:\n",
        "      rdz = torch.exp(log_rdz)\n",
        "      #n_c, smu_c, sco_c, emu_c, eco_c = _estimate_mean_cov_t1v2(X, S, rdz)\n",
        "      n_c = torch.sum(rdz, dim=0)\n",
        "      pi_c = n_c / n_obs\n",
        "      pi_d0 = torch.sum(pi_c)\n",
        "\n",
        "      rdg = torch.exp(log_rdg).reshape(n_obs, n_clusters, n_clusters)\n",
        "      #n_cc, emu_cc, eco_cc = _estimate_mean_cov_t2v2(X, rdg)\n",
        "      n_cc = torch.sum(rdg, dim=0)\n",
        "      pi_cc = n_cc / n_obs\n",
        "      pi_d1 = torch.sum(torch.triu(pi_cc))\n",
        "\n",
        "    if abs(ls[-1] + loss) < tot:\n",
        "      break\n",
        "\n",
        "    if pi_d1 < tot:\n",
        "      print(\"d1 is approaching 0! -> change a different initalization values\")\n",
        "      break\n",
        "\n",
        "    if iter > 1 and ls[-1] > -loss:\n",
        "      print(\"something is wrong!\")\n",
        "      break\n",
        "\n",
        "    qs.append(Q)\n",
        "    ls.append(-loss)\n",
        "    iter += 1\n",
        "  \n",
        "  print('Iteration', iter + 1, 'Q: ', Q, 'Likelihood: ', -loss, L1, 'd0: ', pi_d0)\n",
        "  aic, bic = _ics(loss, n_obs, n_features, n_clusters)\n",
        "  print(bic)\n",
        "  #return llv[1:], aic, bic"
      ],
      "execution_count": 5,
      "outputs": [
        {
          "output_type": "stream",
          "text": [
            "/usr/local/lib/python3.7/dist-packages/ipykernel_launcher.py:146: UserWarning: To copy construct from a tensor, it is recommended to use sourceTensor.clone().detach() or sourceTensor.clone().detach().requires_grad_(True), rather than torch.tensor(sourceTensor).\n",
            "/usr/local/lib/python3.7/dist-packages/ipykernel_launcher.py:147: UserWarning: To copy construct from a tensor, it is recommended to use sourceTensor.clone().detach() or sourceTensor.clone().detach().requires_grad_(True), rather than torch.tensor(sourceTensor).\n",
            "/usr/local/lib/python3.7/dist-packages/ipykernel_launcher.py:149: UserWarning: To copy construct from a tensor, it is recommended to use sourceTensor.clone().detach() or sourceTensor.clone().detach().requires_grad_(True), rather than torch.tensor(sourceTensor).\n",
            "/usr/local/lib/python3.7/dist-packages/ipykernel_launcher.py:150: UserWarning: To copy construct from a tensor, it is recommended to use sourceTensor.clone().detach() or sourceTensor.clone().detach().requires_grad_(True), rather than torch.tensor(sourceTensor).\n",
            "/usr/local/lib/python3.7/dist-packages/ipykernel_launcher.py:152: UserWarning: To copy construct from a tensor, it is recommended to use sourceTensor.clone().detach() or sourceTensor.clone().detach().requires_grad_(True), rather than torch.tensor(sourceTensor).\n",
            "/usr/local/lib/python3.7/dist-packages/ipykernel_launcher.py:153: UserWarning: To copy construct from a tensor, it is recommended to use sourceTensor.clone().detach() or sourceTensor.clone().detach().requires_grad_(True), rather than torch.tensor(sourceTensor).\n",
            "/usr/local/lib/python3.7/dist-packages/ipykernel_launcher.py:155: UserWarning: To copy construct from a tensor, it is recommended to use sourceTensor.clone().detach() or sourceTensor.clone().detach().requires_grad_(True), rather than torch.tensor(sourceTensor).\n",
            "/usr/local/lib/python3.7/dist-packages/ipykernel_launcher.py:156: UserWarning: To copy construct from a tensor, it is recommended to use sourceTensor.clone().detach() or sourceTensor.clone().detach().requires_grad_(True), rather than torch.tensor(sourceTensor).\n"
          ],
          "name": "stderr"
        },
        {
          "output_type": "stream",
          "text": [
            "Iteration 295 Q:  tensor(2.1940) Likelihood:  tensor(-2.4868, grad_fn=<NegBackward>) tensor(-2.4869) d0:  tensor(0.8239)\n",
            "tensor(648.9605, grad_fn=<AddBackward0>)\n",
            "Iteration 307 Q:  tensor(2.2197) Likelihood:  tensor(-2.4646, grad_fn=<NegBackward>) tensor(-2.4646) d0:  tensor(0.8239)\n",
            "tensor(649.0049, grad_fn=<AddBackward0>)\n",
            "Iteration 572 Q:  tensor(2.4264) Likelihood:  tensor(-3.7113, grad_fn=<NegBackward>) tensor(-3.7113) d0:  tensor(0.8239)\n",
            "tensor(646.5116, grad_fn=<AddBackward0>)\n",
            "Iteration 370 Q:  tensor(2.2932) Likelihood:  tensor(-3.4288, grad_fn=<NegBackward>) tensor(-3.4355) d0:  tensor(0.8239)\n",
            "tensor(647.0765, grad_fn=<AddBackward0>)\n",
            "Iteration 344 Q:  tensor(2.2814) Likelihood:  tensor(-2.0582, grad_fn=<NegBackward>) tensor(-2.0591) d0:  tensor(0.8239)\n",
            "tensor(649.8177, grad_fn=<AddBackward0>)\n",
            "Iteration 329 Q:  tensor(2.1498) Likelihood:  tensor(-1.9770, grad_fn=<NegBackward>) tensor(-1.9778) d0:  tensor(0.8243)\n",
            "tensor(649.9802, grad_fn=<AddBackward0>)\n",
            "Iteration 302 Q:  tensor(2.2300) Likelihood:  tensor(-2.4640, grad_fn=<NegBackward>) tensor(-2.4640) d0:  tensor(0.8239)\n",
            "tensor(649.0060, grad_fn=<AddBackward0>)\n",
            "Iteration 561 Q:  tensor(2.1857) Likelihood:  tensor(-3.9774, grad_fn=<NegBackward>) tensor(-3.9789) d0:  tensor(0.8267)\n",
            "tensor(645.9792, grad_fn=<AddBackward0>)\n",
            "Iteration 163 Q:  tensor(2.4701) Likelihood:  tensor(-1.0612, grad_fn=<NegBackward>) tensor(-1.0612) d0:  tensor(0.8239)\n",
            "tensor(651.8118, grad_fn=<AddBackward0>)\n",
            "Iteration 526 Q:  tensor(2.5979) Likelihood:  tensor(-2.4305, grad_fn=<NegBackward>) tensor(-2.4423) d0:  tensor(0.9609)\n",
            "tensor(649.0732, grad_fn=<AddBackward0>)\n"
          ],
          "name": "stdout"
        }
      ]
    },
    {
      "cell_type": "code",
      "metadata": {
        "id": "HDdJ5yYyKKBQ"
      },
      "source": [
        ""
      ],
      "execution_count": null,
      "outputs": []
    },
    {
      "cell_type": "code",
      "metadata": {
        "colab": {
          "base_uri": "https://localhost:8080/",
          "height": 283
        },
        "id": "MtwBn4NIh8tF",
        "outputId": "378e9728-f7ba-45cb-dd11-5b11d97e968d"
      },
      "source": [
        "plt.plot(ls[1:])"
      ],
      "execution_count": 6,
      "outputs": [
        {
          "output_type": "execute_result",
          "data": {
            "text/plain": [
              "[<matplotlib.lines.Line2D at 0x7fd1d7708390>]"
            ]
          },
          "metadata": {
            "tags": []
          },
          "execution_count": 6
        },
        {
          "output_type": "display_data",
          "data": {
            "image/png": "[encoded data removed]",
            "text/plain": [
              "<Figure size 432x288 with 1 Axes>"
            ]
          },
          "metadata": {
            "tags": [],
            "needs_background": "light"
          }
        }
      ]
    },
    {
      "cell_type": "code",
      "metadata": {
        "colab": {
          "base_uri": "https://localhost:8080/",
          "height": 283
        },
        "id": "ZvV8Yb2MFAVd",
        "outputId": "b9e838e5-1284-4c87-fff2-0b4954ecdba1"
      },
      "source": [
        "plt.plot(qs[1:])"
      ],
      "execution_count": 7,
      "outputs": [
        {
          "output_type": "execute_result",
          "data": {
            "text/plain": [
              "[<matplotlib.lines.Line2D at 0x7fd1d765a290>]"
            ]
          },
          "metadata": {
            "tags": []
          },
          "execution_count": 7
        },
        {
          "output_type": "display_data",
          "data": {
            "image/png": "[encoded data removed]",
            "text/plain": [
              "<Figure size 432x288 with 1 Axes>"
            ]
          },
          "metadata": {
            "tags": [],
            "needs_background": "light"
          }
        }
      ]
    },
    {
      "cell_type": "code",
      "metadata": {
        "colab": {
          "base_uri": "https://localhost:8080/"
        },
        "id": "vPNSf7p5lYvn",
        "outputId": "02dc09ea-bb88-40d7-c236-30e600d7c361"
      },
      "source": [
        "pi_d0"
      ],
      "execution_count": 8,
      "outputs": [
        {
          "output_type": "execute_result",
          "data": {
            "text/plain": [
              "tensor(0.9609)"
            ]
          },
          "metadata": {
            "tags": []
          },
          "execution_count": 8
        }
      ]
    },
    {
      "cell_type": "code",
      "metadata": {
        "colab": {
          "base_uri": "https://localhost:8080/"
        },
        "id": "HRW7REX0lapk",
        "outputId": "6d454e63-de8b-441e-d603-cb5a215dcd35"
      },
      "source": [
        "pi_c"
      ],
      "execution_count": 9,
      "outputs": [
        {
          "output_type": "execute_result",
          "data": {
            "text/plain": [
              "tensor([0.2178, 0.1370, 0.6061])"
            ]
          },
          "metadata": {
            "tags": []
          },
          "execution_count": 9
        }
      ]
    },
    {
      "cell_type": "code",
      "metadata": {
        "colab": {
          "base_uri": "https://localhost:8080/"
        },
        "id": "jKGDsPfolb56",
        "outputId": "6b87f56b-c8ed-4b60-ecb2-53e054d67d45"
      },
      "source": [
        "pi_cc"
      ],
      "execution_count": 10,
      "outputs": [
        {
          "output_type": "execute_result",
          "data": {
            "text/plain": [
              "tensor([[0.0068, 0.0058, 0.0000],\n",
              "        [   nan, 0.0085, 0.0042],\n",
              "        [   nan,    nan, 0.0138]])"
            ]
          },
          "metadata": {
            "tags": []
          },
          "execution_count": 10
        }
      ]
    },
    {
      "cell_type": "code",
      "metadata": {
        "id": "4NwI6txaOlHE"
      },
      "source": [
        "0.0063\n",
        "0.0078\n",
        "0.0087\n",
        "0.0101\n",
        "0.005\n",
        "0.0085\n",
        "0.2135\n",
        "0.6104\n",
        "0.1297\n",
        "464"
      ],
      "execution_count": null,
      "outputs": []
    },
    {
      "cell_type": "code",
      "metadata": {
        "colab": {
          "base_uri": "https://localhost:8080/"
        },
        "id": "icxD0qd8ldXD",
        "outputId": "7d17acef-66b6-40da-8469-6daa4515df2c"
      },
      "source": [
        "gps[0]"
      ],
      "execution_count": 12,
      "outputs": [
        {
          "output_type": "execute_result",
          "data": {
            "text/plain": [
              "tensor([[ 5.8606,  6.5523],\n",
              "        [ 8.8333, 10.9417],\n",
              "        [ 6.0039,  7.0137]], requires_grad=True)"
            ]
          },
          "metadata": {
            "tags": []
          },
          "execution_count": 12
        }
      ]
    },
    {
      "cell_type": "code",
      "metadata": {
        "id": "l6nUNm_Bllm7",
        "colab": {
          "base_uri": "https://localhost:8080/"
        },
        "outputId": "9fd5563b-0225-4a82-ccb8-6a332ca28796"
      },
      "source": [
        "gps[2]"
      ],
      "execution_count": 13,
      "outputs": [
        {
          "output_type": "execute_result",
          "data": {
            "text/plain": [
              "tensor([0.4717, 0.7301, 0.6000], requires_grad=True)"
            ]
          },
          "metadata": {
            "tags": []
          },
          "execution_count": 13
        }
      ]
    }
  ]
}