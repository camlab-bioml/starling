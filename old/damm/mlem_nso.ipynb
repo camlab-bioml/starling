{
  "nbformat": 4,
  "nbformat_minor": 0,
  "metadata": {
    "colab": {
      "name": "mlem_nso.ipynb",
      "provenance": [],
      "collapsed_sections": [],
      "authorship_tag": "ABX9TyMB7SKRZq1J61SDgqvlUy+3",
      "include_colab_link": true
    },
    "kernelspec": {
      "name": "python3",
      "display_name": "Python 3"
    },
    "language_info": {
      "name": "python"
    },
    "widgets": {
      "application/vnd.jupyter.widget-state+json": {
        "8351673d602b4506bc2f917a8b1cffd8": {
          "model_module": "@jupyter-widgets/controls",
          "model_name": "VBoxModel",
          "model_module_version": "1.5.0",
          "state": {
            "_view_name": "VBoxView",
            "_dom_classes": [],
            "_model_name": "VBoxModel",
            "_view_module": "@jupyter-widgets/controls",
            "_model_module_version": "1.5.0",
            "_view_count": null,
            "_view_module_version": "1.5.0",
            "box_style": "",
            "layout": "IPY_MODEL_c53a1191eb3d4390870f3bacdfc30b45",
            "_model_module": "@jupyter-widgets/controls",
            "children": [
              "IPY_MODEL_1f176a5b7c654214abbb03c1c516c764",
              "IPY_MODEL_0fdaa995e65e43b2a431ab040f136f8f"
            ]
          }
        },
        "c53a1191eb3d4390870f3bacdfc30b45": {
          "model_module": "@jupyter-widgets/base",
          "model_name": "LayoutModel",
          "model_module_version": "1.2.0",
          "state": {
            "_view_name": "LayoutView",
            "grid_template_rows": null,
            "right": null,
            "justify_content": null,
            "_view_module": "@jupyter-widgets/base",
            "overflow": null,
            "_model_module_version": "1.2.0",
            "_view_count": null,
            "flex_flow": null,
            "width": null,
            "min_width": null,
            "border": null,
            "align_items": null,
            "bottom": null,
            "_model_module": "@jupyter-widgets/base",
            "top": null,
            "grid_column": null,
            "overflow_y": null,
            "overflow_x": null,
            "grid_auto_flow": null,
            "grid_area": null,
            "grid_template_columns": null,
            "flex": null,
            "_model_name": "LayoutModel",
            "justify_items": null,
            "grid_row": null,
            "max_height": null,
            "align_content": null,
            "visibility": null,
            "align_self": null,
            "height": null,
            "min_height": null,
            "padding": null,
            "grid_auto_rows": null,
            "grid_gap": null,
            "max_width": null,
            "order": null,
            "_view_module_version": "1.2.0",
            "grid_template_areas": null,
            "object_position": null,
            "object_fit": null,
            "grid_auto_columns": null,
            "margin": null,
            "display": null,
            "left": null
          }
        },
        "1f176a5b7c654214abbb03c1c516c764": {
          "model_module": "@jupyter-widgets/controls",
          "model_name": "LabelModel",
          "model_module_version": "1.5.0",
          "state": {
            "_view_name": "LabelView",
            "style": "IPY_MODEL_ca43375898964c07b22f4e0644680258",
            "_dom_classes": [],
            "description": "",
            "_model_name": "LabelModel",
            "placeholder": "​",
            "_view_module": "@jupyter-widgets/controls",
            "_model_module_version": "1.5.0",
            "value": " 0.01MB of 0.01MB uploaded (0.00MB deduped)\r",
            "_view_count": null,
            "_view_module_version": "1.5.0",
            "description_tooltip": null,
            "_model_module": "@jupyter-widgets/controls",
            "layout": "IPY_MODEL_7206935f254d40358f467f2987717e17"
          }
        },
        "0fdaa995e65e43b2a431ab040f136f8f": {
          "model_module": "@jupyter-widgets/controls",
          "model_name": "FloatProgressModel",
          "model_module_version": "1.5.0",
          "state": {
            "_view_name": "ProgressView",
            "style": "IPY_MODEL_cb0c0aa7604f459a87905b8ba7a1bb2c",
            "_dom_classes": [],
            "description": "",
            "_model_name": "FloatProgressModel",
            "bar_style": "",
            "max": 1,
            "_view_module": "@jupyter-widgets/controls",
            "_model_module_version": "1.5.0",
            "value": 1,
            "_view_count": null,
            "_view_module_version": "1.5.0",
            "orientation": "horizontal",
            "min": 0,
            "description_tooltip": null,
            "_model_module": "@jupyter-widgets/controls",
            "layout": "IPY_MODEL_785b4ff73e9a45048aaffe895bcec6d2"
          }
        },
        "ca43375898964c07b22f4e0644680258": {
          "model_module": "@jupyter-widgets/controls",
          "model_name": "DescriptionStyleModel",
          "model_module_version": "1.5.0",
          "state": {
            "_view_name": "StyleView",
            "_model_name": "DescriptionStyleModel",
            "description_width": "",
            "_view_module": "@jupyter-widgets/base",
            "_model_module_version": "1.5.0",
            "_view_count": null,
            "_view_module_version": "1.2.0",
            "_model_module": "@jupyter-widgets/controls"
          }
        },
        "7206935f254d40358f467f2987717e17": {
          "model_module": "@jupyter-widgets/base",
          "model_name": "LayoutModel",
          "model_module_version": "1.2.0",
          "state": {
            "_view_name": "LayoutView",
            "grid_template_rows": null,
            "right": null,
            "justify_content": null,
            "_view_module": "@jupyter-widgets/base",
            "overflow": null,
            "_model_module_version": "1.2.0",
            "_view_count": null,
            "flex_flow": null,
            "width": null,
            "min_width": null,
            "border": null,
            "align_items": null,
            "bottom": null,
            "_model_module": "@jupyter-widgets/base",
            "top": null,
            "grid_column": null,
            "overflow_y": null,
            "overflow_x": null,
            "grid_auto_flow": null,
            "grid_area": null,
            "grid_template_columns": null,
            "flex": null,
            "_model_name": "LayoutModel",
            "justify_items": null,
            "grid_row": null,
            "max_height": null,
            "align_content": null,
            "visibility": null,
            "align_self": null,
            "height": null,
            "min_height": null,
            "padding": null,
            "grid_auto_rows": null,
            "grid_gap": null,
            "max_width": null,
            "order": null,
            "_view_module_version": "1.2.0",
            "grid_template_areas": null,
            "object_position": null,
            "object_fit": null,
            "grid_auto_columns": null,
            "margin": null,
            "display": null,
            "left": null
          }
        },
        "cb0c0aa7604f459a87905b8ba7a1bb2c": {
          "model_module": "@jupyter-widgets/controls",
          "model_name": "ProgressStyleModel",
          "model_module_version": "1.5.0",
          "state": {
            "_view_name": "StyleView",
            "_model_name": "ProgressStyleModel",
            "description_width": "",
            "_view_module": "@jupyter-widgets/base",
            "_model_module_version": "1.5.0",
            "_view_count": null,
            "_view_module_version": "1.2.0",
            "bar_color": null,
            "_model_module": "@jupyter-widgets/controls"
          }
        },
        "785b4ff73e9a45048aaffe895bcec6d2": {
          "model_module": "@jupyter-widgets/base",
          "model_name": "LayoutModel",
          "model_module_version": "1.2.0",
          "state": {
            "_view_name": "LayoutView",
            "grid_template_rows": null,
            "right": null,
            "justify_content": null,
            "_view_module": "@jupyter-widgets/base",
            "overflow": null,
            "_model_module_version": "1.2.0",
            "_view_count": null,
            "flex_flow": null,
            "width": null,
            "min_width": null,
            "border": null,
            "align_items": null,
            "bottom": null,
            "_model_module": "@jupyter-widgets/base",
            "top": null,
            "grid_column": null,
            "overflow_y": null,
            "overflow_x": null,
            "grid_auto_flow": null,
            "grid_area": null,
            "grid_template_columns": null,
            "flex": null,
            "_model_name": "LayoutModel",
            "justify_items": null,
            "grid_row": null,
            "max_height": null,
            "align_content": null,
            "visibility": null,
            "align_self": null,
            "height": null,
            "min_height": null,
            "padding": null,
            "grid_auto_rows": null,
            "grid_gap": null,
            "max_width": null,
            "order": null,
            "_view_module_version": "1.2.0",
            "grid_template_areas": null,
            "object_position": null,
            "object_fit": null,
            "grid_auto_columns": null,
            "margin": null,
            "display": null,
            "left": null
          }
        },
        "503b3448be07439fa62a4e46342fa8d5": {
          "model_module": "@jupyter-widgets/controls",
          "model_name": "VBoxModel",
          "model_module_version": "1.5.0",
          "state": {
            "_view_name": "VBoxView",
            "_dom_classes": [],
            "_model_name": "VBoxModel",
            "_view_module": "@jupyter-widgets/controls",
            "_model_module_version": "1.5.0",
            "_view_count": null,
            "_view_module_version": "1.5.0",
            "box_style": "",
            "layout": "IPY_MODEL_8bdc8b838b9f4b54afb12e15097ddca8",
            "_model_module": "@jupyter-widgets/controls",
            "children": [
              "IPY_MODEL_893f366fa2fc44a3b7a102b87fc26d95",
              "IPY_MODEL_4932d433cbd546e58cbbb7fcfd8501f9"
            ]
          }
        },
        "8bdc8b838b9f4b54afb12e15097ddca8": {
          "model_module": "@jupyter-widgets/base",
          "model_name": "LayoutModel",
          "model_module_version": "1.2.0",
          "state": {
            "_view_name": "LayoutView",
            "grid_template_rows": null,
            "right": null,
            "justify_content": null,
            "_view_module": "@jupyter-widgets/base",
            "overflow": null,
            "_model_module_version": "1.2.0",
            "_view_count": null,
            "flex_flow": null,
            "width": null,
            "min_width": null,
            "border": null,
            "align_items": null,
            "bottom": null,
            "_model_module": "@jupyter-widgets/base",
            "top": null,
            "grid_column": null,
            "overflow_y": null,
            "overflow_x": null,
            "grid_auto_flow": null,
            "grid_area": null,
            "grid_template_columns": null,
            "flex": null,
            "_model_name": "LayoutModel",
            "justify_items": null,
            "grid_row": null,
            "max_height": null,
            "align_content": null,
            "visibility": null,
            "align_self": null,
            "height": null,
            "min_height": null,
            "padding": null,
            "grid_auto_rows": null,
            "grid_gap": null,
            "max_width": null,
            "order": null,
            "_view_module_version": "1.2.0",
            "grid_template_areas": null,
            "object_position": null,
            "object_fit": null,
            "grid_auto_columns": null,
            "margin": null,
            "display": null,
            "left": null
          }
        },
        "893f366fa2fc44a3b7a102b87fc26d95": {
          "model_module": "@jupyter-widgets/controls",
          "model_name": "LabelModel",
          "model_module_version": "1.5.0",
          "state": {
            "_view_name": "LabelView",
            "style": "IPY_MODEL_839e77ec814c467f9ecdfd4614a63eec",
            "_dom_classes": [],
            "description": "",
            "_model_name": "LabelModel",
            "placeholder": "​",
            "_view_module": "@jupyter-widgets/controls",
            "_model_module_version": "1.5.0",
            "value": " 0.01MB of 0.01MB uploaded (0.00MB deduped)\r",
            "_view_count": null,
            "_view_module_version": "1.5.0",
            "description_tooltip": null,
            "_model_module": "@jupyter-widgets/controls",
            "layout": "IPY_MODEL_81daba2c6811409fb776047441b55c57"
          }
        },
        "4932d433cbd546e58cbbb7fcfd8501f9": {
          "model_module": "@jupyter-widgets/controls",
          "model_name": "FloatProgressModel",
          "model_module_version": "1.5.0",
          "state": {
            "_view_name": "ProgressView",
            "style": "IPY_MODEL_263ff23671414ca9841f3dd29fee619c",
            "_dom_classes": [],
            "description": "",
            "_model_name": "FloatProgressModel",
            "bar_style": "",
            "max": 1,
            "_view_module": "@jupyter-widgets/controls",
            "_model_module_version": "1.5.0",
            "value": 1,
            "_view_count": null,
            "_view_module_version": "1.5.0",
            "orientation": "horizontal",
            "min": 0,
            "description_tooltip": null,
            "_model_module": "@jupyter-widgets/controls",
            "layout": "IPY_MODEL_5d2ee8df6fd9445e9109b2fdf9c6424e"
          }
        },
        "839e77ec814c467f9ecdfd4614a63eec": {
          "model_module": "@jupyter-widgets/controls",
          "model_name": "DescriptionStyleModel",
          "model_module_version": "1.5.0",
          "state": {
            "_view_name": "StyleView",
            "_model_name": "DescriptionStyleModel",
            "description_width": "",
            "_view_module": "@jupyter-widgets/base",
            "_model_module_version": "1.5.0",
            "_view_count": null,
            "_view_module_version": "1.2.0",
            "_model_module": "@jupyter-widgets/controls"
          }
        },
        "81daba2c6811409fb776047441b55c57": {
          "model_module": "@jupyter-widgets/base",
          "model_name": "LayoutModel",
          "model_module_version": "1.2.0",
          "state": {
            "_view_name": "LayoutView",
            "grid_template_rows": null,
            "right": null,
            "justify_content": null,
            "_view_module": "@jupyter-widgets/base",
            "overflow": null,
            "_model_module_version": "1.2.0",
            "_view_count": null,
            "flex_flow": null,
            "width": null,
            "min_width": null,
            "border": null,
            "align_items": null,
            "bottom": null,
            "_model_module": "@jupyter-widgets/base",
            "top": null,
            "grid_column": null,
            "overflow_y": null,
            "overflow_x": null,
            "grid_auto_flow": null,
            "grid_area": null,
            "grid_template_columns": null,
            "flex": null,
            "_model_name": "LayoutModel",
            "justify_items": null,
            "grid_row": null,
            "max_height": null,
            "align_content": null,
            "visibility": null,
            "align_self": null,
            "height": null,
            "min_height": null,
            "padding": null,
            "grid_auto_rows": null,
            "grid_gap": null,
            "max_width": null,
            "order": null,
            "_view_module_version": "1.2.0",
            "grid_template_areas": null,
            "object_position": null,
            "object_fit": null,
            "grid_auto_columns": null,
            "margin": null,
            "display": null,
            "left": null
          }
        },
        "263ff23671414ca9841f3dd29fee619c": {
          "model_module": "@jupyter-widgets/controls",
          "model_name": "ProgressStyleModel",
          "model_module_version": "1.5.0",
          "state": {
            "_view_name": "StyleView",
            "_model_name": "ProgressStyleModel",
            "description_width": "",
            "_view_module": "@jupyter-widgets/base",
            "_model_module_version": "1.5.0",
            "_view_count": null,
            "_view_module_version": "1.2.0",
            "bar_color": null,
            "_model_module": "@jupyter-widgets/controls"
          }
        },
        "5d2ee8df6fd9445e9109b2fdf9c6424e": {
          "model_module": "@jupyter-widgets/base",
          "model_name": "LayoutModel",
          "model_module_version": "1.2.0",
          "state": {
            "_view_name": "LayoutView",
            "grid_template_rows": null,
            "right": null,
            "justify_content": null,
            "_view_module": "@jupyter-widgets/base",
            "overflow": null,
            "_model_module_version": "1.2.0",
            "_view_count": null,
            "flex_flow": null,
            "width": null,
            "min_width": null,
            "border": null,
            "align_items": null,
            "bottom": null,
            "_model_module": "@jupyter-widgets/base",
            "top": null,
            "grid_column": null,
            "overflow_y": null,
            "overflow_x": null,
            "grid_auto_flow": null,
            "grid_area": null,
            "grid_template_columns": null,
            "flex": null,
            "_model_name": "LayoutModel",
            "justify_items": null,
            "grid_row": null,
            "max_height": null,
            "align_content": null,
            "visibility": null,
            "align_self": null,
            "height": null,
            "min_height": null,
            "padding": null,
            "grid_auto_rows": null,
            "grid_gap": null,
            "max_width": null,
            "order": null,
            "_view_module_version": "1.2.0",
            "grid_template_areas": null,
            "object_position": null,
            "object_fit": null,
            "grid_auto_columns": null,
            "margin": null,
            "display": null,
            "left": null
          }
        },
        "1acb6a31a3c84f7d865e2ba8e53ef8bf": {
          "model_module": "@jupyter-widgets/controls",
          "model_name": "VBoxModel",
          "model_module_version": "1.5.0",
          "state": {
            "_view_name": "VBoxView",
            "_dom_classes": [],
            "_model_name": "VBoxModel",
            "_view_module": "@jupyter-widgets/controls",
            "_model_module_version": "1.5.0",
            "_view_count": null,
            "_view_module_version": "1.5.0",
            "box_style": "",
            "layout": "IPY_MODEL_e561f5fb35734d4386d87ecaa973b23b",
            "_model_module": "@jupyter-widgets/controls",
            "children": [
              "IPY_MODEL_71d185c9d5a6433bb2a1e2d6d050b7b8",
              "IPY_MODEL_e39532d1415d4f088e796e5e525debd8"
            ]
          }
        },
        "e561f5fb35734d4386d87ecaa973b23b": {
          "model_module": "@jupyter-widgets/base",
          "model_name": "LayoutModel",
          "model_module_version": "1.2.0",
          "state": {
            "_view_name": "LayoutView",
            "grid_template_rows": null,
            "right": null,
            "justify_content": null,
            "_view_module": "@jupyter-widgets/base",
            "overflow": null,
            "_model_module_version": "1.2.0",
            "_view_count": null,
            "flex_flow": null,
            "width": null,
            "min_width": null,
            "border": null,
            "align_items": null,
            "bottom": null,
            "_model_module": "@jupyter-widgets/base",
            "top": null,
            "grid_column": null,
            "overflow_y": null,
            "overflow_x": null,
            "grid_auto_flow": null,
            "grid_area": null,
            "grid_template_columns": null,
            "flex": null,
            "_model_name": "LayoutModel",
            "justify_items": null,
            "grid_row": null,
            "max_height": null,
            "align_content": null,
            "visibility": null,
            "align_self": null,
            "height": null,
            "min_height": null,
            "padding": null,
            "grid_auto_rows": null,
            "grid_gap": null,
            "max_width": null,
            "order": null,
            "_view_module_version": "1.2.0",
            "grid_template_areas": null,
            "object_position": null,
            "object_fit": null,
            "grid_auto_columns": null,
            "margin": null,
            "display": null,
            "left": null
          }
        },
        "71d185c9d5a6433bb2a1e2d6d050b7b8": {
          "model_module": "@jupyter-widgets/controls",
          "model_name": "LabelModel",
          "model_module_version": "1.5.0",
          "state": {
            "_view_name": "LabelView",
            "style": "IPY_MODEL_9860435331f34b81bc013561953747e2",
            "_dom_classes": [],
            "description": "",
            "_model_name": "LabelModel",
            "placeholder": "​",
            "_view_module": "@jupyter-widgets/controls",
            "_model_module_version": "1.5.0",
            "value": " 0.01MB of 0.01MB uploaded (0.00MB deduped)\r",
            "_view_count": null,
            "_view_module_version": "1.5.0",
            "description_tooltip": null,
            "_model_module": "@jupyter-widgets/controls",
            "layout": "IPY_MODEL_4bdb97a9c4ed4edf80cf0eea8d19850e"
          }
        },
        "e39532d1415d4f088e796e5e525debd8": {
          "model_module": "@jupyter-widgets/controls",
          "model_name": "FloatProgressModel",
          "model_module_version": "1.5.0",
          "state": {
            "_view_name": "ProgressView",
            "style": "IPY_MODEL_a40590ff7b11460eab9c61ddb0a5ed47",
            "_dom_classes": [],
            "description": "",
            "_model_name": "FloatProgressModel",
            "bar_style": "",
            "max": 1,
            "_view_module": "@jupyter-widgets/controls",
            "_model_module_version": "1.5.0",
            "value": 1,
            "_view_count": null,
            "_view_module_version": "1.5.0",
            "orientation": "horizontal",
            "min": 0,
            "description_tooltip": null,
            "_model_module": "@jupyter-widgets/controls",
            "layout": "IPY_MODEL_486466ccb830466cbe5967bdd258bff3"
          }
        },
        "9860435331f34b81bc013561953747e2": {
          "model_module": "@jupyter-widgets/controls",
          "model_name": "DescriptionStyleModel",
          "model_module_version": "1.5.0",
          "state": {
            "_view_name": "StyleView",
            "_model_name": "DescriptionStyleModel",
            "description_width": "",
            "_view_module": "@jupyter-widgets/base",
            "_model_module_version": "1.5.0",
            "_view_count": null,
            "_view_module_version": "1.2.0",
            "_model_module": "@jupyter-widgets/controls"
          }
        },
        "4bdb97a9c4ed4edf80cf0eea8d19850e": {
          "model_module": "@jupyter-widgets/base",
          "model_name": "LayoutModel",
          "model_module_version": "1.2.0",
          "state": {
            "_view_name": "LayoutView",
            "grid_template_rows": null,
            "right": null,
            "justify_content": null,
            "_view_module": "@jupyter-widgets/base",
            "overflow": null,
            "_model_module_version": "1.2.0",
            "_view_count": null,
            "flex_flow": null,
            "width": null,
            "min_width": null,
            "border": null,
            "align_items": null,
            "bottom": null,
            "_model_module": "@jupyter-widgets/base",
            "top": null,
            "grid_column": null,
            "overflow_y": null,
            "overflow_x": null,
            "grid_auto_flow": null,
            "grid_area": null,
            "grid_template_columns": null,
            "flex": null,
            "_model_name": "LayoutModel",
            "justify_items": null,
            "grid_row": null,
            "max_height": null,
            "align_content": null,
            "visibility": null,
            "align_self": null,
            "height": null,
            "min_height": null,
            "padding": null,
            "grid_auto_rows": null,
            "grid_gap": null,
            "max_width": null,
            "order": null,
            "_view_module_version": "1.2.0",
            "grid_template_areas": null,
            "object_position": null,
            "object_fit": null,
            "grid_auto_columns": null,
            "margin": null,
            "display": null,
            "left": null
          }
        },
        "a40590ff7b11460eab9c61ddb0a5ed47": {
          "model_module": "@jupyter-widgets/controls",
          "model_name": "ProgressStyleModel",
          "model_module_version": "1.5.0",
          "state": {
            "_view_name": "StyleView",
            "_model_name": "ProgressStyleModel",
            "description_width": "",
            "_view_module": "@jupyter-widgets/base",
            "_model_module_version": "1.5.0",
            "_view_count": null,
            "_view_module_version": "1.2.0",
            "bar_color": null,
            "_model_module": "@jupyter-widgets/controls"
          }
        },
        "486466ccb830466cbe5967bdd258bff3": {
          "model_module": "@jupyter-widgets/base",
          "model_name": "LayoutModel",
          "model_module_version": "1.2.0",
          "state": {
            "_view_name": "LayoutView",
            "grid_template_rows": null,
            "right": null,
            "justify_content": null,
            "_view_module": "@jupyter-widgets/base",
            "overflow": null,
            "_model_module_version": "1.2.0",
            "_view_count": null,
            "flex_flow": null,
            "width": null,
            "min_width": null,
            "border": null,
            "align_items": null,
            "bottom": null,
            "_model_module": "@jupyter-widgets/base",
            "top": null,
            "grid_column": null,
            "overflow_y": null,
            "overflow_x": null,
            "grid_auto_flow": null,
            "grid_area": null,
            "grid_template_columns": null,
            "flex": null,
            "_model_name": "LayoutModel",
            "justify_items": null,
            "grid_row": null,
            "max_height": null,
            "align_content": null,
            "visibility": null,
            "align_self": null,
            "height": null,
            "min_height": null,
            "padding": null,
            "grid_auto_rows": null,
            "grid_gap": null,
            "max_width": null,
            "order": null,
            "_view_module_version": "1.2.0",
            "grid_template_areas": null,
            "object_position": null,
            "object_fit": null,
            "grid_auto_columns": null,
            "margin": null,
            "display": null,
            "left": null
          }
        }
      }
    }
  },
  "cells": [
    {
      "cell_type": "markdown",
      "metadata": {
        "id": "view-in-github",
        "colab_type": "text"
      },
      "source": [
        "<a href=\"https://colab.research.google.com/github/camlab-bioml/2021_IMC_Jett/blob/main/mlem_nso.ipynb\" target=\"_parent\"><img src=\"https://colab.research.google.com/assets/colab-badge.svg\" alt=\"Open In Colab\"/></a>"
      ]
    },
    {
      "cell_type": "code",
      "metadata": {
        "id": "59kYye7gFJWr"
      },
      "source": [
        "#!pip install wandb\n",
        "import wandb\n",
        "\n",
        "import numpy as np\n",
        "import pandas as pd\n",
        "\n",
        "import matplotlib.pyplot as plt\n",
        "\n",
        "import torch\n",
        "import torch.nn as nn\n",
        "import torch.optim as optim\n",
        "import torch.distributions as D\n",
        "import torch.nn.functional as F\n",
        "\n",
        "#from torch.utils.data.sampler import SubsetRandomSampler\n",
        "from torch.utils.data import TensorDataset, DataLoader, random_split\n",
        "\n",
        "from sklearn.metrics import confusion_matrix\n",
        "from sklearn.metrics.cluster import adjusted_rand_score\n",
        "from sklearn.metrics.cluster import adjusted_mutual_info_score\n",
        "\n",
        "from sklearn.cluster import KMeans\n",
        "from sklearn.decomposition import PCA\n",
        "from sklearn.mixture import GaussianMixture\n",
        "\n",
        "from scipy.stats.mstats import winsorize\n",
        "\n",
        "import random\n",
        "\n",
        "def compute_p_y_given_z(Y, Theta, dist='normal', reg=1e-6):\n",
        "  \n",
        "  \"\"\" Returns NxC\n",
        "  p(y_n | z_n = c)\n",
        "  \"\"\"\n",
        "  \n",
        "  mu = torch.exp(Theta['log_mu'])\n",
        "  sigma = torch.exp(Theta['log_sigma']) + reg\n",
        "\n",
        "  if dist == 'normal':\n",
        "    dist_Y = D.Normal(mu, sigma)\n",
        "  else:\n",
        "    dist_Y = D.StudentT(df=torch.tensor([1.0]), loc=mu, scale=sigma)\n",
        "\n",
        "  return dist_Y.log_prob(Y.reshape(Y.shape[0], 1, NF)).sum(2) # <- sum because IID over G\n",
        "\n",
        "def compute_p_s_given_z(S, Theta, dist='normal', reg=1e-6):\n",
        "  \n",
        "  \"\"\" Returns NxC\n",
        "  p(s_n | z_n = c)\n",
        "  \"\"\"\n",
        "  \n",
        "  psi = torch.exp(Theta['log_psi'])\n",
        "  omega = torch.exp(Theta['log_omega']) + reg\n",
        "\n",
        "  if dist == 'normal':\n",
        "    dist_S = D.Normal(psi, omega)\n",
        "  else:\n",
        "    dist_S = D.StudentT(df=torch.tensor([1.0]), loc=psi, scale=omega)\n",
        "\n",
        "  return dist_S.log_prob(S.reshape(-1,1)) \n",
        "\n",
        "def compute_p_y_given_gamma(Y, Theta, dist='normal', reg=1e-6):\n",
        "  \n",
        "  \"\"\" NxCxC\n",
        "  p(y_n | gamma_n = [c,c'])\n",
        "  \"\"\"\n",
        "\n",
        "  mu = torch.exp(Theta['log_mu'])\n",
        "  sigma = torch.exp(Theta['log_sigma']) + reg\n",
        "\n",
        "  mu2 = mu.reshape(1, NC, NF)\n",
        "  mu2 = (mu2 + mu2.permute(1, 0, 2)) / 2.0 # C x C x G matrix \n",
        "\n",
        "  sigma2 = sigma.reshape(1, NC, NF)\n",
        "  sigma2 = (sigma2 + sigma2.permute(1,0,2)) / 2.0\n",
        "\n",
        "  if dist == 'normal':\n",
        "    dist_Y2 = D.Normal(mu2, sigma2)\n",
        "  else:\n",
        "    dist_Y2 = D.StudentT(df=torch.tensor([1.0]), loc=mu2, scale=sigma2)\n",
        "\n",
        "  return  dist_Y2.log_prob(Y.reshape(-1, 1, 1, NF)).sum(3) # <- sum because IID over G\n",
        "\n",
        "def compute_p_s_given_gamma(S, Theta, dist='normal', reg=1e-6):\n",
        "  \n",
        "  \"\"\" NxCxC\n",
        "  p(s_n | gamma_n = [c,c'])\n",
        "  \"\"\"\n",
        "  \n",
        "  psi = torch.exp(Theta['log_psi'])\n",
        "  omega = torch.exp(Theta['log_omega']) + reg\n",
        "\n",
        "  psi2 = psi.reshape(-1,1)\n",
        "  psi2 = psi2 + psi2.T\n",
        "\n",
        "  omega2 = omega.reshape(-1,1)\n",
        "  omega2 = omega2 + omega2.T\n",
        "\n",
        "  if dist == 'normal':\n",
        "    dist_S2 = D.Normal(psi2, omega2)\n",
        "  else:\n",
        "    dist_S2 = D.StudentT(df=torch.tensor([1.0]), loc=psi2, scale=omega2)\n",
        "\n",
        "  return dist_S2.log_prob(S.reshape(-1, 1, 1))\n",
        "\n",
        "def _ics(logL, n_obs, n_features, n_clusters, incCellSize=True): #, n, p, c\n",
        "  #params = ( (((n_features * n_features) - n_features)/2 + 2 * n_features + 3) * (((n_clusters * n_clusters) - n_clusters)/2 + 2 * n_clusters) ) - 1\n",
        "  param_mu = n_clusters * n_features\n",
        "  param_sigma = n_clusters * n_features\n",
        "  \n",
        "  param_delta = 1\n",
        "  param_pi = n_clusters - 1\n",
        "  param_tau = ((n_clusters * n_clusters) - n_clusters)/2 + n_clusters - 1\n",
        "  \n",
        "  if incCellSize:\n",
        "    param_psi = n_clusters\n",
        "    param_omega = n_clusters\n",
        "    params = param_mu + param_sigma + param_psi + param_omega + param_delta + param_pi + param_tau\n",
        "  else: \n",
        "    params = param_mu + param_sigma + param_delta + param_pi + param_tau\n",
        "\n",
        "  return 2 * (params - logL), -2 * logL + params * np.log(n_obs)\n",
        "\n",
        "def ll(Y, S, Theta, dist, incCellSize):\n",
        "  \n",
        "  \"\"\"compute\n",
        "  p(gamma = [c,c'], d= 1 | Y,S)\n",
        "  p(z = c, d=0 | Y,S)\n",
        "  \"\"\"\n",
        "\n",
        "  log_pi = F.log_softmax(Theta['is_pi'], 0)\n",
        "  log_tau = F.log_softmax(Theta['is_tau'].reshape(-1), 0).reshape(NC,NC)\n",
        "  log_delta = F.log_softmax(Theta['is_delta'], 0)\n",
        "\n",
        "  ## singlet calculation\n",
        "  p_y_given_z = compute_p_y_given_z(Y, Theta, dist)\n",
        "\n",
        "  if incCellSize: # singlet case\n",
        "    p_s_given_z = compute_p_s_given_z(S, Theta, dist)\n",
        "    p_data_given_z_d0 = p_y_given_z + p_s_given_z + log_pi\n",
        "  else:\n",
        "    p_data_given_z_d0 = p_y_given_z + log_pi\n",
        "\n",
        "  p_data_given_d0 = torch.logsumexp(p_data_given_z_d0, dim=1) # this is p(data|d=0)\n",
        "\n",
        "  ## doublet calculation\n",
        "  p_y_given_gamma = compute_p_y_given_gamma(Y, Theta, dist)\n",
        "\n",
        "  if incCellSize: # doublet case\n",
        "    p_s_given_gamma = compute_p_s_given_gamma(S, Theta, dist)\n",
        "    p_data_given_gamma_d1 = (p_y_given_gamma + p_s_given_gamma + log_tau).reshape(Y.shape[0], -1)\n",
        "  else:\n",
        "    p_data_given_gamma_d1 = (p_y_given_gamma + log_tau).reshape(Y.shape[0], -1)\n",
        "\n",
        "  p_data = torch.cat([p_data_given_z_d0 + log_delta[0], p_data_given_gamma_d1 + log_delta[1]], dim=1)\n",
        "\n",
        "  return torch.logsumexp(p_data, dim=1).sum()\n",
        "\n",
        "def compute_r_v_2(Y, S, Theta, dist, incCellSize):\n",
        "  \n",
        "  \"\"\"Need to compute\n",
        "  p(gamma = [c,c'], d= 1 | Y,S)\n",
        "  p(z = c, d=0 | Y,S)\n",
        "  \"\"\"\n",
        "  \n",
        "  #lookups = np.triu_indices(nc) # wanted indices\n",
        "\n",
        "  log_pi = F.log_softmax(Theta['is_pi'], 0)\n",
        "  log_tau = F.log_softmax(Theta['is_tau'].reshape(-1), 0).reshape(NC,NC)\n",
        "  log_delta = F.log_softmax(Theta['is_delta'], 0)\n",
        "\n",
        "  ## singlet calculation\n",
        "  p_y_given_z = compute_p_y_given_z(Y, Theta, incCellSize, dist)\n",
        "\n",
        "  if incCellSize: # singlet case\n",
        "    p_s_given_z = compute_p_s_given_z(S, Theta, dist)\n",
        "    p_data_given_z_d0 = p_y_given_z + p_s_given_z + log_pi\n",
        "  else:\n",
        "    p_data_given_z_d0 = p_y_given_z + log_pi\n",
        "\n",
        "  p_data_given_d0 = torch.logsumexp(p_data_given_z_d0, dim=1) # this is p(data|d=0)\n",
        "\n",
        "  ## doublet calculation\n",
        "  p_y_given_gamma = compute_p_y_given_gamma(Y, Theta, dist)\n",
        "  \n",
        "  if incCellSize: # doublet case\n",
        "    p_s_given_gamma = compute_p_s_given_gamma(S, Theta, dist)\n",
        "    p_data_given_gamma_d1 = (p_y_given_gamma + p_s_given_gamma + log_tau).reshape(Y.shape[0], -1)\n",
        "  else:\n",
        "    p_data_given_gamma_d1 = (p_y_given_gamma + log_tau).reshape(Y.shape[0], -1)\n",
        "  \n",
        "  ## LL\n",
        "  p_data = torch.cat([p_data_given_z_d0 + log_delta[0], p_data_given_gamma_d1 + log_delta[1]], dim=1)\n",
        "  p_data = torch.logsumexp(p_data, dim=1)\n",
        "\n",
        "  ## singlet & doublet probability\n",
        "  r = p_data_given_z_d0.T + log_delta[0] - p_data\n",
        "  v = p_data_given_gamma_d1.T + log_delta[1] - p_data\n",
        "\n",
        "  ## normalize\n",
        "  p_singlet = torch.exp(p_data_given_d0 + log_delta[0] - p_data)\n",
        "\n",
        "  return r.T, v.T.reshape(-1,NC,NC), p_data, p_singlet\n",
        "\n",
        "def mlem_ncs(Y, Theta, dist):\n",
        "  \n",
        "  wandb.init(project=\"mlem_{}_nc{}\".format(PROJECT_NAME, NC))\n",
        "  \n",
        "  lookups = np.triu_indices(NC) # wanted indices\n",
        "  uwanted = np.tril_indices(NC, -1)\n",
        "  \n",
        "  opt = optim.Adam(Theta.values(), lr=LEARNING_RATE)\n",
        "\n",
        "  trainloader = DataLoader(Y, batch_size=BATCH_SIZE, shuffle=True)\n",
        "    \n",
        "  loss = []\n",
        "  for epoch in range(N_ITER * N_ITER_OPT):\n",
        "    \n",
        "    nlls = 0\n",
        "    for j, train_batch in enumerate(trainloader):\n",
        "      \n",
        "      opt.zero_grad() \n",
        "      nll = -ll(train_batch, None, Theta, dist, incCellSize=False)\n",
        "      nll.backward()\n",
        "      opt.step()\n",
        "            \n",
        "      nlls += nll\n",
        "\n",
        "    with torch.no_grad():\n",
        "      \n",
        "      aic, bic = _ics(-nlls, Y.shape[0], NF, NC, incCellSize=False) #, n, p, c\n",
        "\n",
        "      wandb.log({\n",
        "        'nll': nlls, \n",
        "        'AIC': aic,\n",
        "        'BIC': bic,\n",
        "      })\n",
        "\n",
        "      if epoch > 15 and abs(np.mean(loss[-10:]) - np.mean(loss[-11:-1])) < TOL:\n",
        "        print(nlls)\n",
        "        print(F.log_softmax(Theta['is_delta'], 0).exp())\n",
        "        break\n",
        "            \n",
        "      loss.append(nlls)\n",
        "    \n",
        "  #with torch.no_grad():\n",
        "    \n",
        "  #  r, v, L, p_singlet = compute_r_v_2(Y, Theta, dist)\n",
        "\n",
        "  #  ugt = torch.tensor(v[:,lookups[0], lookups[1]]).exp()\n",
        "  #  lt = torch.tensor(v[:,uwanted[0], uwanted[1]]).exp()\n",
        "  #  ugt[:,lookups[0] != lookups[1]] = ugt[:,lookups[0] != lookups[1]] + lt             \n",
        "  #  p_cluster = torch.hstack((ugt, torch.tensor(r).exp()))\n",
        "\n",
        "  #return {'theta': Theta, 'p_singlet': p_singlet}\n",
        "  #return p_singlet, p_cluster\n",
        "\n",
        "def mlem_ycs(Y, S, Theta, dist):\n",
        "  \n",
        "  wandb.init(project=\"mlem_{}_nc{}\".format(PROJECT_NAME, NC))\n",
        "  \n",
        "  lookups = np.triu_indices(NC) # wanted indices\n",
        "  uwanted = np.tril_indices(NC, -1)\n",
        "  \n",
        "  opt = optim.Adam(Theta.values(), lr=LEARNING_RATE)\n",
        "  \n",
        "  XX = torch.hstack((Y, S.reshape(-1,1))).float()\n",
        "  trainloader = DataLoader(torch.tensor(XX), batch_size=BATCH_SIZE, shuffle=True)\n",
        "  #validloader = DataLoader(valid, batch_size=1280, shuffle=False)\n",
        "  #testloader = DataLoader(test, batch_size=1280, shuffle=False)\n",
        "    \n",
        "  loss = []\n",
        "  for epoch in range(N_ITER * N_ITER_OPT):\n",
        "    \n",
        "    nlls = 0\n",
        "    for j, train_batch in enumerate(trainloader):\n",
        "      \n",
        "      bY = train_batch[:,:NF]\n",
        "      bS = train_batch[:,NF]\n",
        "      \n",
        "      opt.zero_grad()  \n",
        "      nll = -ll(bY, bS, Theta, dist, incCellSize=True)\n",
        "      nll.backward()\n",
        "      opt.step()\n",
        "            \n",
        "      nlls += nll\n",
        "\n",
        "    with torch.no_grad():\n",
        "      \n",
        "      aic, bic = _ics(-nlls, Y.shape[0], NF, NC, incCellSize=True) #, n, p, c\n",
        "\n",
        "      wandb.log({\n",
        "        'nll': nlls, \n",
        "        'AIC': aic,\n",
        "        'BIC': bic,\n",
        "      })\n",
        "\n",
        "      if epoch > 15 and abs(np.mean(loss[-10:]) - np.mean(loss[-11:-1])) < TOL:\n",
        "        print(nlls)\n",
        "        print(F.log_softmax(Theta['is_delta'], 0).exp())\n",
        "        print(Theta['log_psi'].exp())\n",
        "        break\n",
        "            \n",
        "      loss.append(nlls)\n",
        "    \n",
        "  #with torch.no_grad():\n",
        "    \n",
        "  #  r, v, L, p_singlet = compute_r_v_2(Y, S, Theta, dist)\n",
        "\n",
        "  #  ugt = torch.tensor(v[:,lookups[0], lookups[1]]).exp()\n",
        "  #  lt = torch.tensor(v[:,uwanted[0], uwanted[1]]).exp()\n",
        "  #  ugt[:,lookups[0] != lookups[1]] = ugt[:,lookups[0] != lookups[1]] + lt             \n",
        "  #  p_cluster = torch.hstack((ugt, torch.tensor(r).exp()))\n",
        "\n",
        "  #return p_singlet, p_cluster"
      ],
      "execution_count": 51,
      "outputs": []
    },
    {
      "cell_type": "code",
      "metadata": {
        "id": "8ffmS-ruFaAY",
        "colab": {
          "base_uri": "https://localhost:8080/"
        },
        "outputId": "4ddc1045-1894-4c9f-dfa6-2c7d9d2c1b2e"
      },
      "source": [
        "!pip install scanpy\n",
        "import scanpy as sc"
      ],
      "execution_count": 2,
      "outputs": [
        {
          "output_type": "stream",
          "name": "stdout",
          "text": [
            "Installing collected packages: stdlib-list, pynndescent, umap-learn, sinfo, anndata, scanpy\n",
            "Successfully installed anndata-0.7.6 pynndescent-0.5.5 scanpy-1.8.2 sinfo-0.3.4 stdlib-list-0.8.0 umap-learn-0.5.2\n"
          ]
        }
      ]
    },
    {
      "cell_type": "code",
      "metadata": {
        "colab": {
          "base_uri": "https://localhost:8080/"
        },
        "id": "3N79MVxJFxhi",
        "outputId": "b3371210-4465-416f-bd35-1f9f7164d66e"
      },
      "source": [
        "from google.colab import drive\n",
        "drive.mount('/content/gdrive')\n",
        "\n",
        "import os\n",
        "os.chdir('/content/gdrive/MyDrive/Colab Notebooks/')"
      ],
      "execution_count": 3,
      "outputs": [
        {
          "output_type": "stream",
          "name": "stdout",
          "text": [
            "Mounted at /content/gdrive\n"
          ]
        }
      ]
    },
    {
      "cell_type": "code",
      "metadata": {
        "id": "2y67MfezzG_K",
        "colab": {
          "base_uri": "https://localhost:8080/"
        },
        "outputId": "890b3547-5a38-445f-ce8e-d98c0ea7e73b"
      },
      "source": [
        "## mouse data\n",
        "#adata = sc.read_h5ad(\"DAMM/data/mouse_single_cell_expression.h5ad\")\n",
        "adata = sc.read_h5ad(\"DAMM/data/mouse_1000.h5ad\")\n",
        "\n",
        "included_names = ['B220', 'CCR7', 'CD11b', 'CD11c', 'CD19', 'CD28', 'CD3', 'CD31', 'CD4',\n",
        " 'CD45', 'CD49b', 'CD68', 'CD73', 'CD8', 'CTLA4', 'FOXP3', 'GATA3', 'GFP', \n",
        " 'GranzymeB', 'HA', 'ICOS', 'IL7Ra', 'Ly6G', 'MHCII', 'PD1', 'PDL1', 'PNAd', \n",
        " 'Perforin', 'RFP', 'S100A8-9', 'TBET', 'TCF1', 'YAP', 'iNOS']"
      ],
      "execution_count": 52,
      "outputs": [
        {
          "output_type": "stream",
          "name": "stderr",
          "text": [
            "Observation names are not unique. To make them unique, call `.obs_names_make_unique`.\n"
          ]
        }
      ]
    },
    {
      "cell_type": "code",
      "metadata": {
        "id": "Z2KZqd8aMXwx"
      },
      "source": [
        "'''\n",
        "## human data\n",
        "adata = sc.read_h5ad(\"DAMM/data/basel_zuri_subsample.h5ad\")\n",
        "adata = sc.read_h5ad(\"DAMM/data/basel_zuri.h5ad\")\n",
        "included_names = ['EGFR', 'ECadherin', 'ER', 'GATA3', 'Histone_H3_1', 'Ki67', 'SMA', \n",
        "'Vimentin', 'cleaved_Parp', 'Her2', 'p53', 'panCytokeratin', 'CD19', 'PR', 'Myc', \n",
        "'Fibronectin', 'CK14', 'Slug', 'CD20', 'vWF', 'Histone_H3_2', 'CK5', 'CD44', 'CD45', \n",
        "'CD68', 'CD3', 'CAIX', 'CK8/18', 'CK7', 'phospho Histone', 'phospho S6', 'phospho mTOR']\n",
        "'''"
      ],
      "execution_count": null,
      "outputs": []
    },
    {
      "cell_type": "code",
      "metadata": {
        "id": "BA3UE-PJFie4"
      },
      "source": [
        "adata = adata[:,included_names]\n",
        "\n",
        "YY = adata.X\n",
        "YY = np.array(np.arcsinh(YY / 5.))\n",
        "\n",
        "NO, NF = YY.shape #number obs & features \n",
        "\n",
        "for i in range(NF):\n",
        "  YY[:,i] = winsorize(YY[:,i], limits=[0, 0.01]).data\n",
        "\n",
        "SS = adata.obs['size']\n",
        "#SS = adata.obs['Area'] ## for human data\n",
        "SS = winsorize(SS, limits=[0, 0.01]).data"
      ],
      "execution_count": 53,
      "outputs": []
    },
    {
      "cell_type": "code",
      "metadata": {
        "id": "_EPIKHBBF_6U",
        "colab": {
          "base_uri": "https://localhost:8080/"
        },
        "outputId": "2fa7025f-70e6-4034-c376-59b649518cdb"
      },
      "source": [
        "NC = 3 # number of clusters\n",
        "LEARNING_RATE = 1e-3\n",
        "BATCH_SIZE = 1280\n",
        "N_ITER = 10000\n",
        "N_ITER_OPT = 500\n",
        "TOL = 1e-3 #converagence criterion\n",
        "\n",
        "## w&b api key\n",
        "wandb.login(key='4117bb00bef94e0904c16afed79f1888e0839eb9')"
      ],
      "execution_count": 43,
      "outputs": [
        {
          "output_type": "stream",
          "name": "stderr",
          "text": [
            "\u001b[34m\u001b[1mwandb\u001b[0m: W&B API key is configured (use `wandb login --relogin` to force relogin)\n",
            "\u001b[34m\u001b[1mwandb\u001b[0m: \u001b[33mWARNING\u001b[0m If you're specifying your api key in code, ensure this code is not shared publically.\n",
            "\u001b[34m\u001b[1mwandb\u001b[0m: \u001b[33mWARNING\u001b[0m Consider setting the WANDB_API_KEY environment variable, or running `wandb login` from the command line.\n",
            "\u001b[34m\u001b[1mwandb\u001b[0m: Appending key for api.wandb.ai to your netrc file: /root/.netrc\n"
          ]
        }
      ]
    },
    {
      "cell_type": "code",
      "metadata": {
        "id": "Vz6agw03blYG"
      },
      "source": [
        "Y = torch.tensor(YY)\n",
        "S = torch.tensor(SS)\n",
        "\n",
        "kms = KMeans(NC).fit(Y)\n",
        "init_labels = kms.labels_\n",
        "init_label_class = np.unique(init_labels)\n",
        "\n",
        "mu_init = np.array([YY[init_labels == c,:].mean(0) for c in init_label_class])\n",
        "sigma_init = np.array([YY[init_labels == c,:].std(0) for c in init_label_class])\n",
        "\n",
        "psi_init = np.array([SS[init_labels == c].mean() for c in init_label_class])\n",
        "omega_init = np.array([SS[init_labels == c].std() for c in init_label_class])\n",
        "\n",
        "pi_init = np.array([np.mean(init_labels == c) for c in init_label_class])\n",
        "tau_init = np.ones((NC,NC))\n",
        "tau_init = tau_init / tau_init.sum()\n",
        "\n",
        "Theta = {\n",
        "    'log_mu': np.log(mu_init + 1e-6),\n",
        "    'log_sigma': np.log(sigma_init + 1e-6), #np.zeros_like(sigma_init),\n",
        "    'log_psi': np.log(psi_init + 1e-6),\n",
        "    'log_omega': np.log(omega_init + 1e-6),\n",
        "    'is_delta': np.array([0.5, 0.5]),\n",
        "    'is_pi': pi_init,\n",
        "    'is_tau': tau_init,\n",
        "}\n",
        "\n",
        "Theta = {k: torch.tensor(v, requires_grad=True) for (k,v) in Theta.items()}"
      ],
      "execution_count": 58,
      "outputs": []
    },
    {
      "cell_type": "code",
      "metadata": {
        "id": "styisGmuGXjF",
        "colab": {
          "base_uri": "https://localhost:8080/",
          "height": 146
        },
        "outputId": "e391705e-3792-4834-d51a-30424fac22e8"
      },
      "source": [
        "#PROJECT_NAME = 'mouse_1k_nso_ycs_stuT'\n",
        "mle1 = mlem_ycs(Y, S, Theta, dist='student') "
      ],
      "execution_count": 45,
      "outputs": [
        {
          "output_type": "stream",
          "name": "stderr",
          "text": [
            "\u001b[34m\u001b[1mwandb\u001b[0m: Currently logged in as: \u001b[33myujulee\u001b[0m (use `wandb login --relogin` to force relogin)\n"
          ]
        },
        {
          "output_type": "display_data",
          "data": {
            "text/html": [
              "\n",
              "                    Syncing run <strong><a href=\"https://wandb.ai/yujulee/mlem_mouse_1k_nso_ycs_stuT_nc3/runs/2crpdnbr\" target=\"_blank\">usual-wind-1</a></strong> to <a href=\"https://wandb.ai/yujulee/mlem_mouse_1k_nso_ycs_stuT_nc3\" target=\"_blank\">Weights & Biases</a> (<a href=\"https://docs.wandb.com/integrations/jupyter.html\" target=\"_blank\">docs</a>).<br/>\n",
              "\n",
              "                "
            ],
            "text/plain": [
              "<IPython.core.display.HTML object>"
            ]
          },
          "metadata": {}
        },
        {
          "output_type": "stream",
          "name": "stderr",
          "text": [
            "/usr/local/lib/python3.7/dist-packages/ipykernel_launcher.py:268: UserWarning: To copy construct from a tensor, it is recommended to use sourceTensor.clone().detach() or sourceTensor.clone().detach().requires_grad_(True), rather than torch.tensor(sourceTensor).\n"
          ]
        },
        {
          "output_type": "stream",
          "name": "stdout",
          "text": [
            "tensor(-46599.7439, dtype=torch.float64, grad_fn=<AddBackward0>)\n",
            "tensor([0.3886, 0.6114], dtype=torch.float64)\n",
            "tensor([12.7039,  1.0000,  5.0534], dtype=torch.float64)\n"
          ]
        }
      ]
    },
    {
      "cell_type": "code",
      "metadata": {
        "colab": {
          "base_uri": "https://localhost:8080/",
          "height": 214,
          "referenced_widgets": [
            "8351673d602b4506bc2f917a8b1cffd8",
            "c53a1191eb3d4390870f3bacdfc30b45",
            "1f176a5b7c654214abbb03c1c516c764",
            "0fdaa995e65e43b2a431ab040f136f8f",
            "ca43375898964c07b22f4e0644680258",
            "7206935f254d40358f467f2987717e17",
            "cb0c0aa7604f459a87905b8ba7a1bb2c",
            "785b4ff73e9a45048aaffe895bcec6d2"
          ]
        },
        "id": "4BOnEOy7bwk5",
        "outputId": "974ca762-3c40-4d6d-ada1-b5f4dff43978"
      },
      "source": [
        "#PROJECT_NAME = 'mouse_1k_nso_ncs_stuT'\n",
        "mle1 = mlem_ncs(Y, Theta, dist='student')"
      ],
      "execution_count": 55,
      "outputs": [
        {
          "output_type": "display_data",
          "data": {
            "text/html": [
              "Finishing last run (ID:o5w4pf99) before initializing another..."
            ],
            "text/plain": [
              "<IPython.core.display.HTML object>"
            ]
          },
          "metadata": {}
        },
        {
          "output_type": "display_data",
          "data": {
            "text/html": [
              "<br/>Waiting for W&B process to finish, PID 761... <strong style=\"color:green\">(success).</strong>"
            ],
            "text/plain": [
              "<IPython.core.display.HTML object>"
            ]
          },
          "metadata": {}
        },
        {
          "output_type": "display_data",
          "data": {
            "application/vnd.jupyter.widget-view+json": {
              "model_id": "8351673d602b4506bc2f917a8b1cffd8",
              "version_minor": 0,
              "version_major": 2
            },
            "text/plain": [
              "VBox(children=(Label(value=' 0.00MB of 0.00MB uploaded (0.00MB deduped)\\r'), FloatProgress(value=1.0, max=1.0)…"
            ]
          },
          "metadata": {}
        },
        {
          "output_type": "display_data",
          "data": {
            "text/html": [
              "<style>\n",
              "    table.wandb td:nth-child(1) { padding: 0 10px; text-align: right }\n",
              "    .wandb-row { display: flex; flex-direction: row; flex-wrap: wrap; width: 100% }\n",
              "    .wandb-col { display: flex; flex-direction: column; flex-basis: 100%; flex: 1; padding: 10px; }\n",
              "    </style>\n",
              "<div class=\"wandb-row\"><div class=\"wandb-col\">\n",
              "</div><div class=\"wandb-col\">\n",
              "</div></div>\n",
              "Synced 5 W&B file(s), 0 media file(s), 0 artifact file(s) and 0 other file(s)\n",
              "<br/>Synced <strong style=\"color:#cdcd00\">charmed-field-1</strong>: <a href=\"https://wandb.ai/yujulee/mlem_mouse_1k_nso_ncs_stuT_nc3/runs/o5w4pf99\" target=\"_blank\">https://wandb.ai/yujulee/mlem_mouse_1k_nso_ncs_stuT_nc3/runs/o5w4pf99</a><br/>\n",
              "Find logs at: <code>./wandb/run-20211108_212525-o5w4pf99/logs</code><br/>\n"
            ],
            "text/plain": [
              "<IPython.core.display.HTML object>"
            ]
          },
          "metadata": {}
        },
        {
          "output_type": "display_data",
          "data": {
            "text/html": [
              "Successfully finished last run (ID:o5w4pf99). Initializing new run:<br/>"
            ],
            "text/plain": [
              "<IPython.core.display.HTML object>"
            ]
          },
          "metadata": {}
        },
        {
          "output_type": "display_data",
          "data": {
            "text/html": [
              "\n",
              "                    Syncing run <strong><a href=\"https://wandb.ai/yujulee/mlem_mouse_1k_nso_ncs_stuT_nc3/runs/3127r5s4\" target=\"_blank\">brisk-dragon-2</a></strong> to <a href=\"https://wandb.ai/yujulee/mlem_mouse_1k_nso_ncs_stuT_nc3\" target=\"_blank\">Weights & Biases</a> (<a href=\"https://docs.wandb.com/integrations/jupyter.html\" target=\"_blank\">docs</a>).<br/>\n",
              "\n",
              "                "
            ],
            "text/plain": [
              "<IPython.core.display.HTML object>"
            ]
          },
          "metadata": {}
        },
        {
          "output_type": "stream",
          "name": "stdout",
          "text": [
            "tensor(-48393.5165, dtype=torch.float64, grad_fn=<AddBackward0>)\n",
            "tensor([0.4604, 0.5396], dtype=torch.float64)\n"
          ]
        }
      ]
    },
    {
      "cell_type": "code",
      "metadata": {
        "colab": {
          "base_uri": "https://localhost:8080/",
          "height": 377,
          "referenced_widgets": [
            "503b3448be07439fa62a4e46342fa8d5",
            "8bdc8b838b9f4b54afb12e15097ddca8",
            "893f366fa2fc44a3b7a102b87fc26d95",
            "4932d433cbd546e58cbbb7fcfd8501f9",
            "839e77ec814c467f9ecdfd4614a63eec",
            "81daba2c6811409fb776047441b55c57",
            "263ff23671414ca9841f3dd29fee619c",
            "5d2ee8df6fd9445e9109b2fdf9c6424e"
          ]
        },
        "id": "ldN1ordAcQrj",
        "outputId": "2853b314-0275-46f2-ff4c-9e35ce0770c2"
      },
      "source": [
        "#PROJECT_NAME = 'mouse_1k_nso_ycs_norm'\n",
        "mle1 = mlem_ycs(Y, S, Theta, dist='normal')"
      ],
      "execution_count": 57,
      "outputs": [
        {
          "output_type": "display_data",
          "data": {
            "text/html": [
              "Finishing last run (ID:3127r5s4) before initializing another..."
            ],
            "text/plain": [
              "<IPython.core.display.HTML object>"
            ]
          },
          "metadata": {}
        },
        {
          "output_type": "display_data",
          "data": {
            "text/html": [
              "<br/>Waiting for W&B process to finish, PID 865... <strong style=\"color:green\">(success).</strong>"
            ],
            "text/plain": [
              "<IPython.core.display.HTML object>"
            ]
          },
          "metadata": {}
        },
        {
          "output_type": "display_data",
          "data": {
            "application/vnd.jupyter.widget-view+json": {
              "model_id": "503b3448be07439fa62a4e46342fa8d5",
              "version_minor": 0,
              "version_major": 2
            },
            "text/plain": [
              "VBox(children=(Label(value=' 0.00MB of 0.00MB uploaded (0.00MB deduped)\\r'), FloatProgress(value=1.0, max=1.0)…"
            ]
          },
          "metadata": {}
        },
        {
          "output_type": "display_data",
          "data": {
            "text/html": [
              "<style>\n",
              "    table.wandb td:nth-child(1) { padding: 0 10px; text-align: right }\n",
              "    .wandb-row { display: flex; flex-direction: row; flex-wrap: wrap; width: 100% }\n",
              "    .wandb-col { display: flex; flex-direction: column; flex-basis: 100%; flex: 1; padding: 10px; }\n",
              "    </style>\n",
              "<div class=\"wandb-row\"><div class=\"wandb-col\">\n",
              "<h3>Run history:</h3><br/><table class=\"wandb\"><tr><td>AIC</td><td>█▇▆▆▆▆▅▅▅▄▄▃▃▃▂▂▂▂▁▁▁▁▁▁▁▁▁▁▁▁▁▁▁▁▁▁▁▁▁▁</td></tr><tr><td>BIC</td><td>█▇▆▆▆▆▅▅▅▄▄▃▃▃▂▂▂▂▁▁▁▁▁▁▁▁▁▁▁▁▁▁▁▁▁▁▁▁▁▁</td></tr><tr><td>nll</td><td>█▇▆▆▆▆▅▅▅▄▄▃▃▃▂▂▂▂▁▁▁▁▁▁▁▁▁▁▁▁▁▁▁▁▁▁▁▁▁▁</td></tr></table><br/></div><div class=\"wandb-col\">\n",
              "<h3>Run summary:</h3><br/><table class=\"wandb\"><tr><td>AIC</td><td>-96363.03307</td></tr><tr><td>BIC</td><td>-95322.58895</td></tr><tr><td>nll</td><td>-48393.51653</td></tr></table>\n",
              "</div></div>\n",
              "Synced 5 W&B file(s), 0 media file(s), 0 artifact file(s) and 0 other file(s)\n",
              "<br/>Synced <strong style=\"color:#cdcd00\">brisk-dragon-2</strong>: <a href=\"https://wandb.ai/yujulee/mlem_mouse_1k_nso_ncs_stuT_nc3/runs/3127r5s4\" target=\"_blank\">https://wandb.ai/yujulee/mlem_mouse_1k_nso_ncs_stuT_nc3/runs/3127r5s4</a><br/>\n",
              "Find logs at: <code>./wandb/run-20211108_213015-3127r5s4/logs</code><br/>\n"
            ],
            "text/plain": [
              "<IPython.core.display.HTML object>"
            ]
          },
          "metadata": {}
        },
        {
          "output_type": "display_data",
          "data": {
            "text/html": [
              "Successfully finished last run (ID:3127r5s4). Initializing new run:<br/>"
            ],
            "text/plain": [
              "<IPython.core.display.HTML object>"
            ]
          },
          "metadata": {}
        },
        {
          "output_type": "display_data",
          "data": {
            "text/html": [
              "\n",
              "                    Syncing run <strong><a href=\"https://wandb.ai/yujulee/mlem_mouse_1k_nso_ncs_stuT_nc3/runs/1is0abwc\" target=\"_blank\">effortless-vortex-3</a></strong> to <a href=\"https://wandb.ai/yujulee/mlem_mouse_1k_nso_ncs_stuT_nc3\" target=\"_blank\">Weights & Biases</a> (<a href=\"https://docs.wandb.com/integrations/jupyter.html\" target=\"_blank\">docs</a>).<br/>\n",
              "\n",
              "                "
            ],
            "text/plain": [
              "<IPython.core.display.HTML object>"
            ]
          },
          "metadata": {}
        },
        {
          "output_type": "stream",
          "name": "stderr",
          "text": [
            "/usr/local/lib/python3.7/dist-packages/ipykernel_launcher.py:268: UserWarning: To copy construct from a tensor, it is recommended to use sourceTensor.clone().detach() or sourceTensor.clone().detach().requires_grad_(True), rather than torch.tensor(sourceTensor).\n"
          ]
        },
        {
          "output_type": "stream",
          "name": "stdout",
          "text": [
            "tensor(-20732.1095, dtype=torch.float64, grad_fn=<AddBackward0>)\n",
            "tensor([0.3108, 0.6892], dtype=torch.float64)\n",
            "tensor([ 7.4424,  2.7777, 14.1608], dtype=torch.float64)\n"
          ]
        }
      ]
    },
    {
      "cell_type": "code",
      "metadata": {
        "colab": {
          "base_uri": "https://localhost:8080/",
          "height": 320,
          "referenced_widgets": [
            "1acb6a31a3c84f7d865e2ba8e53ef8bf",
            "e561f5fb35734d4386d87ecaa973b23b",
            "71d185c9d5a6433bb2a1e2d6d050b7b8",
            "e39532d1415d4f088e796e5e525debd8",
            "9860435331f34b81bc013561953747e2",
            "4bdb97a9c4ed4edf80cf0eea8d19850e",
            "a40590ff7b11460eab9c61ddb0a5ed47",
            "486466ccb830466cbe5967bdd258bff3"
          ]
        },
        "id": "XBnSHc9gbyVN",
        "outputId": "694125d0-adb2-49e6-e429-cf2fa7e2de4c"
      },
      "source": [
        "PROJECT_NAME = 'mouse_1k_nso_ncs_norm'\n",
        "mle1 = mlem_ncs(Y, Theta, dist='normal')"
      ],
      "execution_count": 60,
      "outputs": [
        {
          "output_type": "display_data",
          "data": {
            "text/html": [
              "Finishing last run (ID:1is0abwc) before initializing another..."
            ],
            "text/plain": [
              "<IPython.core.display.HTML object>"
            ]
          },
          "metadata": {}
        },
        {
          "output_type": "display_data",
          "data": {
            "text/html": [
              "<br/>Waiting for W&B process to finish, PID 991... <strong style=\"color:green\">(success).</strong>"
            ],
            "text/plain": [
              "<IPython.core.display.HTML object>"
            ]
          },
          "metadata": {}
        },
        {
          "output_type": "display_data",
          "data": {
            "application/vnd.jupyter.widget-view+json": {
              "model_id": "1acb6a31a3c84f7d865e2ba8e53ef8bf",
              "version_minor": 0,
              "version_major": 2
            },
            "text/plain": [
              "VBox(children=(Label(value=' 0.00MB of 0.00MB uploaded (0.00MB deduped)\\r'), FloatProgress(value=1.0, max=1.0)…"
            ]
          },
          "metadata": {}
        },
        {
          "output_type": "display_data",
          "data": {
            "text/html": [
              "<style>\n",
              "    table.wandb td:nth-child(1) { padding: 0 10px; text-align: right }\n",
              "    .wandb-row { display: flex; flex-direction: row; flex-wrap: wrap; width: 100% }\n",
              "    .wandb-col { display: flex; flex-direction: column; flex-basis: 100%; flex: 1; padding: 10px; }\n",
              "    </style>\n",
              "<div class=\"wandb-row\"><div class=\"wandb-col\">\n",
              "<h3>Run history:</h3><br/><table class=\"wandb\"><tr><td>AIC</td><td>█▇▆▅▅▄▃▃▂▂▂▂▁▁▁▁▁▁▁▁▁▁▁▁▁▁▁▁▁▁▁▁▁▁▁▁▁▁▁▁</td></tr><tr><td>BIC</td><td>█▇▆▅▅▄▃▃▂▂▂▂▁▁▁▁▁▁▁▁▁▁▁▁▁▁▁▁▁▁▁▁▁▁▁▁▁▁▁▁</td></tr><tr><td>nll</td><td>█▇▆▅▅▄▃▃▂▂▂▂▁▁▁▁▁▁▁▁▁▁▁▁▁▁▁▁▁▁▁▁▁▁▁▁▁▁▁▁</td></tr></table><br/></div><div class=\"wandb-col\">\n",
              "<h3>Run summary:</h3><br/><table class=\"wandb\"><tr><td>AIC</td><td>-41028.219</td></tr><tr><td>BIC</td><td>-39958.32835</td></tr><tr><td>nll</td><td>-20732.1095</td></tr></table>\n",
              "</div></div>\n",
              "Synced 5 W&B file(s), 0 media file(s), 0 artifact file(s) and 0 other file(s)\n",
              "<br/>Synced <strong style=\"color:#cdcd00\">effortless-vortex-3</strong>: <a href=\"https://wandb.ai/yujulee/mlem_mouse_1k_nso_ncs_stuT_nc3/runs/1is0abwc\" target=\"_blank\">https://wandb.ai/yujulee/mlem_mouse_1k_nso_ncs_stuT_nc3/runs/1is0abwc</a><br/>\n",
              "Find logs at: <code>./wandb/run-20211108_215625-1is0abwc/logs</code><br/>\n"
            ],
            "text/plain": [
              "<IPython.core.display.HTML object>"
            ]
          },
          "metadata": {}
        },
        {
          "output_type": "display_data",
          "data": {
            "text/html": [
              "Successfully finished last run (ID:1is0abwc). Initializing new run:<br/>"
            ],
            "text/plain": [
              "<IPython.core.display.HTML object>"
            ]
          },
          "metadata": {}
        },
        {
          "output_type": "display_data",
          "data": {
            "text/html": [
              "\n",
              "                    Syncing run <strong><a href=\"https://wandb.ai/yujulee/mlem_mouse_1k_nso_ncs_norm_nc3/runs/27a22snt\" target=\"_blank\">easy-pond-1</a></strong> to <a href=\"https://wandb.ai/yujulee/mlem_mouse_1k_nso_ncs_norm_nc3\" target=\"_blank\">Weights & Biases</a> (<a href=\"https://docs.wandb.com/integrations/jupyter.html\" target=\"_blank\">docs</a>).<br/>\n",
              "\n",
              "                "
            ],
            "text/plain": [
              "<IPython.core.display.HTML object>"
            ]
          },
          "metadata": {}
        },
        {
          "output_type": "stream",
          "name": "stdout",
          "text": [
            "tensor(-24647.1151, dtype=torch.float64, grad_fn=<AddBackward0>)\n",
            "tensor([0.3631, 0.6369], dtype=torch.float64)\n"
          ]
        }
      ]
    }
  ]
}