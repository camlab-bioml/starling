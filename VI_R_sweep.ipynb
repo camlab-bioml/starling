{
  "nbformat": 4,
  "nbformat_minor": 0,
  "metadata": {
    "colab": {
      "name": "VI_R_sweep.ipynb",
      "provenance": [],
      "collapsed_sections": [],
      "authorship_tag": "ABX9TyP34LZt7kNeYtqd+1uOXZub",
      "include_colab_link": true
    },
    "kernelspec": {
      "name": "python3",
      "display_name": "Python 3"
    },
    "language_info": {
      "name": "python"
    },
    "widgets": {
      "application/vnd.jupyter.widget-state+json": {
        "37ba28d1ea61419c95e9ba3514402196": {
          "model_module": "@jupyter-widgets/controls",
          "model_name": "VBoxModel",
          "model_module_version": "1.5.0",
          "state": {
            "_view_name": "VBoxView",
            "_dom_classes": [],
            "_model_name": "VBoxModel",
            "_view_module": "@jupyter-widgets/controls",
            "_model_module_version": "1.5.0",
            "_view_count": null,
            "_view_module_version": "1.5.0",
            "box_style": "",
            "layout": "IPY_MODEL_ab898cb96dd0439ab44bab0ffbde0f10",
            "_model_module": "@jupyter-widgets/controls",
            "children": [
              "IPY_MODEL_fcf594decf1c4236957e6c05ccf892ad",
              "IPY_MODEL_d88a34b7b78b4a4f85deca256e215bfb"
            ]
          }
        },
        "ab898cb96dd0439ab44bab0ffbde0f10": {
          "model_module": "@jupyter-widgets/base",
          "model_name": "LayoutModel",
          "model_module_version": "1.2.0",
          "state": {
            "_view_name": "LayoutView",
            "grid_template_rows": null,
            "right": null,
            "justify_content": null,
            "_view_module": "@jupyter-widgets/base",
            "overflow": null,
            "_model_module_version": "1.2.0",
            "_view_count": null,
            "flex_flow": null,
            "width": null,
            "min_width": null,
            "border": null,
            "align_items": null,
            "bottom": null,
            "_model_module": "@jupyter-widgets/base",
            "top": null,
            "grid_column": null,
            "overflow_y": null,
            "overflow_x": null,
            "grid_auto_flow": null,
            "grid_area": null,
            "grid_template_columns": null,
            "flex": null,
            "_model_name": "LayoutModel",
            "justify_items": null,
            "grid_row": null,
            "max_height": null,
            "align_content": null,
            "visibility": null,
            "align_self": null,
            "height": null,
            "min_height": null,
            "padding": null,
            "grid_auto_rows": null,
            "grid_gap": null,
            "max_width": null,
            "order": null,
            "_view_module_version": "1.2.0",
            "grid_template_areas": null,
            "object_position": null,
            "object_fit": null,
            "grid_auto_columns": null,
            "margin": null,
            "display": null,
            "left": null
          }
        },
        "fcf594decf1c4236957e6c05ccf892ad": {
          "model_module": "@jupyter-widgets/controls",
          "model_name": "LabelModel",
          "model_module_version": "1.5.0",
          "state": {
            "_view_name": "LabelView",
            "style": "IPY_MODEL_57c4fff3831740429828dc59afbe0fac",
            "_dom_classes": [],
            "description": "",
            "_model_name": "LabelModel",
            "placeholder": "​",
            "_view_module": "@jupyter-widgets/controls",
            "_model_module_version": "1.5.0",
            "value": " 0.01MB of 0.01MB uploaded (0.00MB deduped)\r",
            "_view_count": null,
            "_view_module_version": "1.5.0",
            "description_tooltip": null,
            "_model_module": "@jupyter-widgets/controls",
            "layout": "IPY_MODEL_72c18184c0a54a81897ac4f529fad52d"
          }
        },
        "d88a34b7b78b4a4f85deca256e215bfb": {
          "model_module": "@jupyter-widgets/controls",
          "model_name": "FloatProgressModel",
          "model_module_version": "1.5.0",
          "state": {
            "_view_name": "ProgressView",
            "style": "IPY_MODEL_3d1dcff3258c4a0c99f976092baf8744",
            "_dom_classes": [],
            "description": "",
            "_model_name": "FloatProgressModel",
            "bar_style": "",
            "max": 1,
            "_view_module": "@jupyter-widgets/controls",
            "_model_module_version": "1.5.0",
            "value": 1,
            "_view_count": null,
            "_view_module_version": "1.5.0",
            "orientation": "horizontal",
            "min": 0,
            "description_tooltip": null,
            "_model_module": "@jupyter-widgets/controls",
            "layout": "IPY_MODEL_bbb8e9e7da074537b03998e0ced1e372"
          }
        },
        "57c4fff3831740429828dc59afbe0fac": {
          "model_module": "@jupyter-widgets/controls",
          "model_name": "DescriptionStyleModel",
          "model_module_version": "1.5.0",
          "state": {
            "_view_name": "StyleView",
            "_model_name": "DescriptionStyleModel",
            "description_width": "",
            "_view_module": "@jupyter-widgets/base",
            "_model_module_version": "1.5.0",
            "_view_count": null,
            "_view_module_version": "1.2.0",
            "_model_module": "@jupyter-widgets/controls"
          }
        },
        "72c18184c0a54a81897ac4f529fad52d": {
          "model_module": "@jupyter-widgets/base",
          "model_name": "LayoutModel",
          "model_module_version": "1.2.0",
          "state": {
            "_view_name": "LayoutView",
            "grid_template_rows": null,
            "right": null,
            "justify_content": null,
            "_view_module": "@jupyter-widgets/base",
            "overflow": null,
            "_model_module_version": "1.2.0",
            "_view_count": null,
            "flex_flow": null,
            "width": null,
            "min_width": null,
            "border": null,
            "align_items": null,
            "bottom": null,
            "_model_module": "@jupyter-widgets/base",
            "top": null,
            "grid_column": null,
            "overflow_y": null,
            "overflow_x": null,
            "grid_auto_flow": null,
            "grid_area": null,
            "grid_template_columns": null,
            "flex": null,
            "_model_name": "LayoutModel",
            "justify_items": null,
            "grid_row": null,
            "max_height": null,
            "align_content": null,
            "visibility": null,
            "align_self": null,
            "height": null,
            "min_height": null,
            "padding": null,
            "grid_auto_rows": null,
            "grid_gap": null,
            "max_width": null,
            "order": null,
            "_view_module_version": "1.2.0",
            "grid_template_areas": null,
            "object_position": null,
            "object_fit": null,
            "grid_auto_columns": null,
            "margin": null,
            "display": null,
            "left": null
          }
        },
        "3d1dcff3258c4a0c99f976092baf8744": {
          "model_module": "@jupyter-widgets/controls",
          "model_name": "ProgressStyleModel",
          "model_module_version": "1.5.0",
          "state": {
            "_view_name": "StyleView",
            "_model_name": "ProgressStyleModel",
            "description_width": "",
            "_view_module": "@jupyter-widgets/base",
            "_model_module_version": "1.5.0",
            "_view_count": null,
            "_view_module_version": "1.2.0",
            "bar_color": null,
            "_model_module": "@jupyter-widgets/controls"
          }
        },
        "bbb8e9e7da074537b03998e0ced1e372": {
          "model_module": "@jupyter-widgets/base",
          "model_name": "LayoutModel",
          "model_module_version": "1.2.0",
          "state": {
            "_view_name": "LayoutView",
            "grid_template_rows": null,
            "right": null,
            "justify_content": null,
            "_view_module": "@jupyter-widgets/base",
            "overflow": null,
            "_model_module_version": "1.2.0",
            "_view_count": null,
            "flex_flow": null,
            "width": null,
            "min_width": null,
            "border": null,
            "align_items": null,
            "bottom": null,
            "_model_module": "@jupyter-widgets/base",
            "top": null,
            "grid_column": null,
            "overflow_y": null,
            "overflow_x": null,
            "grid_auto_flow": null,
            "grid_area": null,
            "grid_template_columns": null,
            "flex": null,
            "_model_name": "LayoutModel",
            "justify_items": null,
            "grid_row": null,
            "max_height": null,
            "align_content": null,
            "visibility": null,
            "align_self": null,
            "height": null,
            "min_height": null,
            "padding": null,
            "grid_auto_rows": null,
            "grid_gap": null,
            "max_width": null,
            "order": null,
            "_view_module_version": "1.2.0",
            "grid_template_areas": null,
            "object_position": null,
            "object_fit": null,
            "grid_auto_columns": null,
            "margin": null,
            "display": null,
            "left": null
          }
        },
        "2fd398a3d153451299fb8a7b14e7e161": {
          "model_module": "@jupyter-widgets/controls",
          "model_name": "VBoxModel",
          "model_module_version": "1.5.0",
          "state": {
            "_view_name": "VBoxView",
            "_dom_classes": [],
            "_model_name": "VBoxModel",
            "_view_module": "@jupyter-widgets/controls",
            "_model_module_version": "1.5.0",
            "_view_count": null,
            "_view_module_version": "1.5.0",
            "box_style": "",
            "layout": "IPY_MODEL_6ca3dbd70b684a479fdd13b37ee17bf2",
            "_model_module": "@jupyter-widgets/controls",
            "children": [
              "IPY_MODEL_d50ed81c36cd48f5bb11414f7ce49f4f",
              "IPY_MODEL_3e0e7f8bc2894756962b69e78f1562a9"
            ]
          }
        },
        "6ca3dbd70b684a479fdd13b37ee17bf2": {
          "model_module": "@jupyter-widgets/base",
          "model_name": "LayoutModel",
          "model_module_version": "1.2.0",
          "state": {
            "_view_name": "LayoutView",
            "grid_template_rows": null,
            "right": null,
            "justify_content": null,
            "_view_module": "@jupyter-widgets/base",
            "overflow": null,
            "_model_module_version": "1.2.0",
            "_view_count": null,
            "flex_flow": null,
            "width": null,
            "min_width": null,
            "border": null,
            "align_items": null,
            "bottom": null,
            "_model_module": "@jupyter-widgets/base",
            "top": null,
            "grid_column": null,
            "overflow_y": null,
            "overflow_x": null,
            "grid_auto_flow": null,
            "grid_area": null,
            "grid_template_columns": null,
            "flex": null,
            "_model_name": "LayoutModel",
            "justify_items": null,
            "grid_row": null,
            "max_height": null,
            "align_content": null,
            "visibility": null,
            "align_self": null,
            "height": null,
            "min_height": null,
            "padding": null,
            "grid_auto_rows": null,
            "grid_gap": null,
            "max_width": null,
            "order": null,
            "_view_module_version": "1.2.0",
            "grid_template_areas": null,
            "object_position": null,
            "object_fit": null,
            "grid_auto_columns": null,
            "margin": null,
            "display": null,
            "left": null
          }
        },
        "d50ed81c36cd48f5bb11414f7ce49f4f": {
          "model_module": "@jupyter-widgets/controls",
          "model_name": "LabelModel",
          "model_module_version": "1.5.0",
          "state": {
            "_view_name": "LabelView",
            "style": "IPY_MODEL_5a110139731e4280940474ca066e800e",
            "_dom_classes": [],
            "description": "",
            "_model_name": "LabelModel",
            "placeholder": "​",
            "_view_module": "@jupyter-widgets/controls",
            "_model_module_version": "1.5.0",
            "value": " 0.01MB of 0.01MB uploaded (0.00MB deduped)\r",
            "_view_count": null,
            "_view_module_version": "1.5.0",
            "description_tooltip": null,
            "_model_module": "@jupyter-widgets/controls",
            "layout": "IPY_MODEL_14b1dd8fd7ef4b33b12d0b539471d16f"
          }
        },
        "3e0e7f8bc2894756962b69e78f1562a9": {
          "model_module": "@jupyter-widgets/controls",
          "model_name": "FloatProgressModel",
          "model_module_version": "1.5.0",
          "state": {
            "_view_name": "ProgressView",
            "style": "IPY_MODEL_54fe13a8b79e405f87363b2aa2639c69",
            "_dom_classes": [],
            "description": "",
            "_model_name": "FloatProgressModel",
            "bar_style": "",
            "max": 1,
            "_view_module": "@jupyter-widgets/controls",
            "_model_module_version": "1.5.0",
            "value": 1,
            "_view_count": null,
            "_view_module_version": "1.5.0",
            "orientation": "horizontal",
            "min": 0,
            "description_tooltip": null,
            "_model_module": "@jupyter-widgets/controls",
            "layout": "IPY_MODEL_2fd08b2e9754446daa724d470faf5e60"
          }
        },
        "5a110139731e4280940474ca066e800e": {
          "model_module": "@jupyter-widgets/controls",
          "model_name": "DescriptionStyleModel",
          "model_module_version": "1.5.0",
          "state": {
            "_view_name": "StyleView",
            "_model_name": "DescriptionStyleModel",
            "description_width": "",
            "_view_module": "@jupyter-widgets/base",
            "_model_module_version": "1.5.0",
            "_view_count": null,
            "_view_module_version": "1.2.0",
            "_model_module": "@jupyter-widgets/controls"
          }
        },
        "14b1dd8fd7ef4b33b12d0b539471d16f": {
          "model_module": "@jupyter-widgets/base",
          "model_name": "LayoutModel",
          "model_module_version": "1.2.0",
          "state": {
            "_view_name": "LayoutView",
            "grid_template_rows": null,
            "right": null,
            "justify_content": null,
            "_view_module": "@jupyter-widgets/base",
            "overflow": null,
            "_model_module_version": "1.2.0",
            "_view_count": null,
            "flex_flow": null,
            "width": null,
            "min_width": null,
            "border": null,
            "align_items": null,
            "bottom": null,
            "_model_module": "@jupyter-widgets/base",
            "top": null,
            "grid_column": null,
            "overflow_y": null,
            "overflow_x": null,
            "grid_auto_flow": null,
            "grid_area": null,
            "grid_template_columns": null,
            "flex": null,
            "_model_name": "LayoutModel",
            "justify_items": null,
            "grid_row": null,
            "max_height": null,
            "align_content": null,
            "visibility": null,
            "align_self": null,
            "height": null,
            "min_height": null,
            "padding": null,
            "grid_auto_rows": null,
            "grid_gap": null,
            "max_width": null,
            "order": null,
            "_view_module_version": "1.2.0",
            "grid_template_areas": null,
            "object_position": null,
            "object_fit": null,
            "grid_auto_columns": null,
            "margin": null,
            "display": null,
            "left": null
          }
        },
        "54fe13a8b79e405f87363b2aa2639c69": {
          "model_module": "@jupyter-widgets/controls",
          "model_name": "ProgressStyleModel",
          "model_module_version": "1.5.0",
          "state": {
            "_view_name": "StyleView",
            "_model_name": "ProgressStyleModel",
            "description_width": "",
            "_view_module": "@jupyter-widgets/base",
            "_model_module_version": "1.5.0",
            "_view_count": null,
            "_view_module_version": "1.2.0",
            "bar_color": null,
            "_model_module": "@jupyter-widgets/controls"
          }
        },
        "2fd08b2e9754446daa724d470faf5e60": {
          "model_module": "@jupyter-widgets/base",
          "model_name": "LayoutModel",
          "model_module_version": "1.2.0",
          "state": {
            "_view_name": "LayoutView",
            "grid_template_rows": null,
            "right": null,
            "justify_content": null,
            "_view_module": "@jupyter-widgets/base",
            "overflow": null,
            "_model_module_version": "1.2.0",
            "_view_count": null,
            "flex_flow": null,
            "width": null,
            "min_width": null,
            "border": null,
            "align_items": null,
            "bottom": null,
            "_model_module": "@jupyter-widgets/base",
            "top": null,
            "grid_column": null,
            "overflow_y": null,
            "overflow_x": null,
            "grid_auto_flow": null,
            "grid_area": null,
            "grid_template_columns": null,
            "flex": null,
            "_model_name": "LayoutModel",
            "justify_items": null,
            "grid_row": null,
            "max_height": null,
            "align_content": null,
            "visibility": null,
            "align_self": null,
            "height": null,
            "min_height": null,
            "padding": null,
            "grid_auto_rows": null,
            "grid_gap": null,
            "max_width": null,
            "order": null,
            "_view_module_version": "1.2.0",
            "grid_template_areas": null,
            "object_position": null,
            "object_fit": null,
            "grid_auto_columns": null,
            "margin": null,
            "display": null,
            "left": null
          }
        },
        "ee4948e8f468486ca6cf01b98f9e8f9a": {
          "model_module": "@jupyter-widgets/controls",
          "model_name": "VBoxModel",
          "model_module_version": "1.5.0",
          "state": {
            "_view_name": "VBoxView",
            "_dom_classes": [],
            "_model_name": "VBoxModel",
            "_view_module": "@jupyter-widgets/controls",
            "_model_module_version": "1.5.0",
            "_view_count": null,
            "_view_module_version": "1.5.0",
            "box_style": "",
            "layout": "IPY_MODEL_4edd775dbdaa43dd8d6db3245d299867",
            "_model_module": "@jupyter-widgets/controls",
            "children": [
              "IPY_MODEL_4625de1caf0d48779ae529b3b7ed44e3",
              "IPY_MODEL_0187f8226d7648fcb8f5da7ed5c7e73b"
            ]
          }
        },
        "4edd775dbdaa43dd8d6db3245d299867": {
          "model_module": "@jupyter-widgets/base",
          "model_name": "LayoutModel",
          "model_module_version": "1.2.0",
          "state": {
            "_view_name": "LayoutView",
            "grid_template_rows": null,
            "right": null,
            "justify_content": null,
            "_view_module": "@jupyter-widgets/base",
            "overflow": null,
            "_model_module_version": "1.2.0",
            "_view_count": null,
            "flex_flow": null,
            "width": null,
            "min_width": null,
            "border": null,
            "align_items": null,
            "bottom": null,
            "_model_module": "@jupyter-widgets/base",
            "top": null,
            "grid_column": null,
            "overflow_y": null,
            "overflow_x": null,
            "grid_auto_flow": null,
            "grid_area": null,
            "grid_template_columns": null,
            "flex": null,
            "_model_name": "LayoutModel",
            "justify_items": null,
            "grid_row": null,
            "max_height": null,
            "align_content": null,
            "visibility": null,
            "align_self": null,
            "height": null,
            "min_height": null,
            "padding": null,
            "grid_auto_rows": null,
            "grid_gap": null,
            "max_width": null,
            "order": null,
            "_view_module_version": "1.2.0",
            "grid_template_areas": null,
            "object_position": null,
            "object_fit": null,
            "grid_auto_columns": null,
            "margin": null,
            "display": null,
            "left": null
          }
        },
        "4625de1caf0d48779ae529b3b7ed44e3": {
          "model_module": "@jupyter-widgets/controls",
          "model_name": "LabelModel",
          "model_module_version": "1.5.0",
          "state": {
            "_view_name": "LabelView",
            "style": "IPY_MODEL_389ac579b48a4687997f5354f7f3eda2",
            "_dom_classes": [],
            "description": "",
            "_model_name": "LabelModel",
            "placeholder": "​",
            "_view_module": "@jupyter-widgets/controls",
            "_model_module_version": "1.5.0",
            "value": " 0.01MB of 0.01MB uploaded (0.00MB deduped)\r",
            "_view_count": null,
            "_view_module_version": "1.5.0",
            "description_tooltip": null,
            "_model_module": "@jupyter-widgets/controls",
            "layout": "IPY_MODEL_d9f13505d4d84fbf90775120c16af0fa"
          }
        },
        "0187f8226d7648fcb8f5da7ed5c7e73b": {
          "model_module": "@jupyter-widgets/controls",
          "model_name": "FloatProgressModel",
          "model_module_version": "1.5.0",
          "state": {
            "_view_name": "ProgressView",
            "style": "IPY_MODEL_f02469f609784b23832b8ab1fde84672",
            "_dom_classes": [],
            "description": "",
            "_model_name": "FloatProgressModel",
            "bar_style": "",
            "max": 1,
            "_view_module": "@jupyter-widgets/controls",
            "_model_module_version": "1.5.0",
            "value": 1,
            "_view_count": null,
            "_view_module_version": "1.5.0",
            "orientation": "horizontal",
            "min": 0,
            "description_tooltip": null,
            "_model_module": "@jupyter-widgets/controls",
            "layout": "IPY_MODEL_b79064a945c943c88cb825510e13316c"
          }
        },
        "389ac579b48a4687997f5354f7f3eda2": {
          "model_module": "@jupyter-widgets/controls",
          "model_name": "DescriptionStyleModel",
          "model_module_version": "1.5.0",
          "state": {
            "_view_name": "StyleView",
            "_model_name": "DescriptionStyleModel",
            "description_width": "",
            "_view_module": "@jupyter-widgets/base",
            "_model_module_version": "1.5.0",
            "_view_count": null,
            "_view_module_version": "1.2.0",
            "_model_module": "@jupyter-widgets/controls"
          }
        },
        "d9f13505d4d84fbf90775120c16af0fa": {
          "model_module": "@jupyter-widgets/base",
          "model_name": "LayoutModel",
          "model_module_version": "1.2.0",
          "state": {
            "_view_name": "LayoutView",
            "grid_template_rows": null,
            "right": null,
            "justify_content": null,
            "_view_module": "@jupyter-widgets/base",
            "overflow": null,
            "_model_module_version": "1.2.0",
            "_view_count": null,
            "flex_flow": null,
            "width": null,
            "min_width": null,
            "border": null,
            "align_items": null,
            "bottom": null,
            "_model_module": "@jupyter-widgets/base",
            "top": null,
            "grid_column": null,
            "overflow_y": null,
            "overflow_x": null,
            "grid_auto_flow": null,
            "grid_area": null,
            "grid_template_columns": null,
            "flex": null,
            "_model_name": "LayoutModel",
            "justify_items": null,
            "grid_row": null,
            "max_height": null,
            "align_content": null,
            "visibility": null,
            "align_self": null,
            "height": null,
            "min_height": null,
            "padding": null,
            "grid_auto_rows": null,
            "grid_gap": null,
            "max_width": null,
            "order": null,
            "_view_module_version": "1.2.0",
            "grid_template_areas": null,
            "object_position": null,
            "object_fit": null,
            "grid_auto_columns": null,
            "margin": null,
            "display": null,
            "left": null
          }
        },
        "f02469f609784b23832b8ab1fde84672": {
          "model_module": "@jupyter-widgets/controls",
          "model_name": "ProgressStyleModel",
          "model_module_version": "1.5.0",
          "state": {
            "_view_name": "StyleView",
            "_model_name": "ProgressStyleModel",
            "description_width": "",
            "_view_module": "@jupyter-widgets/base",
            "_model_module_version": "1.5.0",
            "_view_count": null,
            "_view_module_version": "1.2.0",
            "bar_color": null,
            "_model_module": "@jupyter-widgets/controls"
          }
        },
        "b79064a945c943c88cb825510e13316c": {
          "model_module": "@jupyter-widgets/base",
          "model_name": "LayoutModel",
          "model_module_version": "1.2.0",
          "state": {
            "_view_name": "LayoutView",
            "grid_template_rows": null,
            "right": null,
            "justify_content": null,
            "_view_module": "@jupyter-widgets/base",
            "overflow": null,
            "_model_module_version": "1.2.0",
            "_view_count": null,
            "flex_flow": null,
            "width": null,
            "min_width": null,
            "border": null,
            "align_items": null,
            "bottom": null,
            "_model_module": "@jupyter-widgets/base",
            "top": null,
            "grid_column": null,
            "overflow_y": null,
            "overflow_x": null,
            "grid_auto_flow": null,
            "grid_area": null,
            "grid_template_columns": null,
            "flex": null,
            "_model_name": "LayoutModel",
            "justify_items": null,
            "grid_row": null,
            "max_height": null,
            "align_content": null,
            "visibility": null,
            "align_self": null,
            "height": null,
            "min_height": null,
            "padding": null,
            "grid_auto_rows": null,
            "grid_gap": null,
            "max_width": null,
            "order": null,
            "_view_module_version": "1.2.0",
            "grid_template_areas": null,
            "object_position": null,
            "object_fit": null,
            "grid_auto_columns": null,
            "margin": null,
            "display": null,
            "left": null
          }
        },
        "f5bde8452be84d1eb7bff58adef954d3": {
          "model_module": "@jupyter-widgets/controls",
          "model_name": "VBoxModel",
          "model_module_version": "1.5.0",
          "state": {
            "_view_name": "VBoxView",
            "_dom_classes": [],
            "_model_name": "VBoxModel",
            "_view_module": "@jupyter-widgets/controls",
            "_model_module_version": "1.5.0",
            "_view_count": null,
            "_view_module_version": "1.5.0",
            "box_style": "",
            "layout": "IPY_MODEL_e6227430652541678e556c43b2042b76",
            "_model_module": "@jupyter-widgets/controls",
            "children": [
              "IPY_MODEL_6b54b2f538414a5887273359233cc1bb",
              "IPY_MODEL_6554e470ff234731ae189cf367602c7e"
            ]
          }
        },
        "e6227430652541678e556c43b2042b76": {
          "model_module": "@jupyter-widgets/base",
          "model_name": "LayoutModel",
          "model_module_version": "1.2.0",
          "state": {
            "_view_name": "LayoutView",
            "grid_template_rows": null,
            "right": null,
            "justify_content": null,
            "_view_module": "@jupyter-widgets/base",
            "overflow": null,
            "_model_module_version": "1.2.0",
            "_view_count": null,
            "flex_flow": null,
            "width": null,
            "min_width": null,
            "border": null,
            "align_items": null,
            "bottom": null,
            "_model_module": "@jupyter-widgets/base",
            "top": null,
            "grid_column": null,
            "overflow_y": null,
            "overflow_x": null,
            "grid_auto_flow": null,
            "grid_area": null,
            "grid_template_columns": null,
            "flex": null,
            "_model_name": "LayoutModel",
            "justify_items": null,
            "grid_row": null,
            "max_height": null,
            "align_content": null,
            "visibility": null,
            "align_self": null,
            "height": null,
            "min_height": null,
            "padding": null,
            "grid_auto_rows": null,
            "grid_gap": null,
            "max_width": null,
            "order": null,
            "_view_module_version": "1.2.0",
            "grid_template_areas": null,
            "object_position": null,
            "object_fit": null,
            "grid_auto_columns": null,
            "margin": null,
            "display": null,
            "left": null
          }
        },
        "6b54b2f538414a5887273359233cc1bb": {
          "model_module": "@jupyter-widgets/controls",
          "model_name": "LabelModel",
          "model_module_version": "1.5.0",
          "state": {
            "_view_name": "LabelView",
            "style": "IPY_MODEL_29ecaf6307d04447bccb56e57f5f11c3",
            "_dom_classes": [],
            "description": "",
            "_model_name": "LabelModel",
            "placeholder": "​",
            "_view_module": "@jupyter-widgets/controls",
            "_model_module_version": "1.5.0",
            "value": " 0.01MB of 0.01MB uploaded (0.00MB deduped)\r",
            "_view_count": null,
            "_view_module_version": "1.5.0",
            "description_tooltip": null,
            "_model_module": "@jupyter-widgets/controls",
            "layout": "IPY_MODEL_fdb1862b01614b8290fa55c4d11764e7"
          }
        },
        "6554e470ff234731ae189cf367602c7e": {
          "model_module": "@jupyter-widgets/controls",
          "model_name": "FloatProgressModel",
          "model_module_version": "1.5.0",
          "state": {
            "_view_name": "ProgressView",
            "style": "IPY_MODEL_8a5e0eaf5df5409d9811814dad5f491b",
            "_dom_classes": [],
            "description": "",
            "_model_name": "FloatProgressModel",
            "bar_style": "",
            "max": 1,
            "_view_module": "@jupyter-widgets/controls",
            "_model_module_version": "1.5.0",
            "value": 1,
            "_view_count": null,
            "_view_module_version": "1.5.0",
            "orientation": "horizontal",
            "min": 0,
            "description_tooltip": null,
            "_model_module": "@jupyter-widgets/controls",
            "layout": "IPY_MODEL_41eea952408e4396859242484aa1a9e3"
          }
        },
        "29ecaf6307d04447bccb56e57f5f11c3": {
          "model_module": "@jupyter-widgets/controls",
          "model_name": "DescriptionStyleModel",
          "model_module_version": "1.5.0",
          "state": {
            "_view_name": "StyleView",
            "_model_name": "DescriptionStyleModel",
            "description_width": "",
            "_view_module": "@jupyter-widgets/base",
            "_model_module_version": "1.5.0",
            "_view_count": null,
            "_view_module_version": "1.2.0",
            "_model_module": "@jupyter-widgets/controls"
          }
        },
        "fdb1862b01614b8290fa55c4d11764e7": {
          "model_module": "@jupyter-widgets/base",
          "model_name": "LayoutModel",
          "model_module_version": "1.2.0",
          "state": {
            "_view_name": "LayoutView",
            "grid_template_rows": null,
            "right": null,
            "justify_content": null,
            "_view_module": "@jupyter-widgets/base",
            "overflow": null,
            "_model_module_version": "1.2.0",
            "_view_count": null,
            "flex_flow": null,
            "width": null,
            "min_width": null,
            "border": null,
            "align_items": null,
            "bottom": null,
            "_model_module": "@jupyter-widgets/base",
            "top": null,
            "grid_column": null,
            "overflow_y": null,
            "overflow_x": null,
            "grid_auto_flow": null,
            "grid_area": null,
            "grid_template_columns": null,
            "flex": null,
            "_model_name": "LayoutModel",
            "justify_items": null,
            "grid_row": null,
            "max_height": null,
            "align_content": null,
            "visibility": null,
            "align_self": null,
            "height": null,
            "min_height": null,
            "padding": null,
            "grid_auto_rows": null,
            "grid_gap": null,
            "max_width": null,
            "order": null,
            "_view_module_version": "1.2.0",
            "grid_template_areas": null,
            "object_position": null,
            "object_fit": null,
            "grid_auto_columns": null,
            "margin": null,
            "display": null,
            "left": null
          }
        },
        "8a5e0eaf5df5409d9811814dad5f491b": {
          "model_module": "@jupyter-widgets/controls",
          "model_name": "ProgressStyleModel",
          "model_module_version": "1.5.0",
          "state": {
            "_view_name": "StyleView",
            "_model_name": "ProgressStyleModel",
            "description_width": "",
            "_view_module": "@jupyter-widgets/base",
            "_model_module_version": "1.5.0",
            "_view_count": null,
            "_view_module_version": "1.2.0",
            "bar_color": null,
            "_model_module": "@jupyter-widgets/controls"
          }
        },
        "41eea952408e4396859242484aa1a9e3": {
          "model_module": "@jupyter-widgets/base",
          "model_name": "LayoutModel",
          "model_module_version": "1.2.0",
          "state": {
            "_view_name": "LayoutView",
            "grid_template_rows": null,
            "right": null,
            "justify_content": null,
            "_view_module": "@jupyter-widgets/base",
            "overflow": null,
            "_model_module_version": "1.2.0",
            "_view_count": null,
            "flex_flow": null,
            "width": null,
            "min_width": null,
            "border": null,
            "align_items": null,
            "bottom": null,
            "_model_module": "@jupyter-widgets/base",
            "top": null,
            "grid_column": null,
            "overflow_y": null,
            "overflow_x": null,
            "grid_auto_flow": null,
            "grid_area": null,
            "grid_template_columns": null,
            "flex": null,
            "_model_name": "LayoutModel",
            "justify_items": null,
            "grid_row": null,
            "max_height": null,
            "align_content": null,
            "visibility": null,
            "align_self": null,
            "height": null,
            "min_height": null,
            "padding": null,
            "grid_auto_rows": null,
            "grid_gap": null,
            "max_width": null,
            "order": null,
            "_view_module_version": "1.2.0",
            "grid_template_areas": null,
            "object_position": null,
            "object_fit": null,
            "grid_auto_columns": null,
            "margin": null,
            "display": null,
            "left": null
          }
        }
      }
    }
  },
  "cells": [
    {
      "cell_type": "markdown",
      "metadata": {
        "id": "view-in-github",
        "colab_type": "text"
      },
      "source": [
        "<a href=\"https://colab.research.google.com/github/camlab-bioml/2021_IMC_Jett/blob/main/VI_R_sweep.ipynb\" target=\"_parent\"><img src=\"https://colab.research.google.com/assets/colab-badge.svg\" alt=\"Open In Colab\"/></a>"
      ]
    },
    {
      "cell_type": "code",
      "metadata": {
        "id": "1n3l37RE-5Dr"
      },
      "source": [
        "#!/usr/bin/env python3\n",
        "\n",
        "%%capture\n",
        "!pip install wandb --upgrade\n",
        "\n",
        "%pip install scanpy\n",
        "\n",
        "import wandb\n",
        "\n",
        "import argparse\n",
        "import numpy as np\n",
        "import pandas as pd\n",
        "\n",
        "import matplotlib.pyplot as plt\n",
        "\n",
        "import torch\n",
        "import torch.nn as nn\n",
        "import torch.optim as optim\n",
        "import torch.distributions as D\n",
        "import torch.nn.functional as F\n",
        "\n",
        "#from torch.utils.data.sampler import SubsetRandomSampler\n",
        "from torch.utils.data import TensorDataset, DataLoader, random_split\n",
        "\n",
        "from sklearn.metrics import confusion_matrix\n",
        "from sklearn.metrics.cluster import adjusted_rand_score\n",
        "from sklearn.metrics.cluster import adjusted_mutual_info_score\n",
        "\n",
        "from sklearn.cluster import KMeans\n",
        "from sklearn.decomposition import PCA\n",
        "from sklearn.mixture import GaussianMixture\n",
        "\n",
        "import random\n",
        "\n",
        "import math\n",
        "import pprint\n",
        "import scanpy as sc\n",
        "from scipy.stats.mstats import winsorize\n",
        "\n",
        "def compute_p_y_given_z(Y, Theta, reg=1e-6):\n",
        "  \"\"\" Returns NxC\n",
        "  p(y_n | z_n = c)\n",
        "  \"\"\"\n",
        "  mu = torch.exp(Theta['log_mu'])\n",
        "  sigma = torch.exp(Theta['log_sigma']) + reg\n",
        "\n",
        "  dist_Y = D.Normal(mu, sigma)\n",
        "  return dist_Y.log_prob(Y.reshape(Y.shape[0], 1, Y.shape[1])).sum(2) # <- sum because IID over G\n",
        "\n",
        "def compute_p_s_given_z(S, Theta, reg=1e-6):\n",
        "  \"\"\" Returns NxC\n",
        "  p(s_n | z_n = c)\n",
        "  \"\"\"\n",
        "  psi = torch.exp(Theta['log_psi'])\n",
        "  omega = torch.exp(Theta['log_omega']) + reg\n",
        "\n",
        "  dist_S = D.Normal(psi, omega)\n",
        "  return dist_S.log_prob(S.reshape(-1,1)) \n",
        "\n",
        "def compute_p_y_given_gamma(Y, Theta, reg=1e-6):\n",
        "  \"\"\" NxCxC\n",
        "  p(y_n | gamma_n = [c,c'])\n",
        "  \"\"\"\n",
        "  mu = torch.exp(Theta['log_mu'])\n",
        "  sigma = torch.exp(Theta['log_sigma']) + reg\n",
        "\n",
        "  mu2 = mu.reshape(1, mu.shape[0], Y.shape[1])\n",
        "  mu2 = (mu2 + mu2.permute(1, 0, 2)) / 2.0 # C x C x G matrix \n",
        "\n",
        "  sigma2 = sigma.reshape(1, mu.shape[0], Y.shape[1])\n",
        "  sigma2 = (sigma2 + sigma2.permute(1,0,2)) / 2.0\n",
        "\n",
        "  dist_Y2 = D.Normal(mu2, sigma2)\n",
        "  return  dist_Y2.log_prob(Y.reshape(-1, 1, 1, Y.shape[1])).sum(3) # <- sum because IID over G\n",
        "\n",
        "def compute_p_s_given_gamma(S, Theta, reg=1e-6):\n",
        "  \"\"\" NxCxC\n",
        "  p(s_n | gamma_n = [c,c'])\n",
        "  \"\"\"\n",
        "  psi = torch.exp(Theta['log_psi'])\n",
        "  omega = torch.exp(Theta['log_omega']) + reg\n",
        "\n",
        "  psi2 = psi.reshape(-1,1)\n",
        "  psi2 = psi2 + psi2.T\n",
        "\n",
        "  omega2 = omega.reshape(-1,1)\n",
        "  omega2 = omega2 + omega2.T\n",
        "\n",
        "  dist_S2 = D.Normal(psi2, omega2)\n",
        "  return dist_S2.log_prob(S.reshape(-1, 1, 1))\n",
        "\n",
        "def compute_joint_probs(Theta, Y, S):\n",
        "\n",
        "  nc = Theta['log_mu'].shape[0]\n",
        "  log_pi = F.log_softmax(Theta['is_pi'], 0)\n",
        "  log_tau = F.log_softmax(Theta['is_tau'].reshape(-1), 0).reshape(nc, nc)\n",
        "  log_delta = F.log_softmax(Theta['is_delta'], 0)\n",
        "  \n",
        "  p_y_given_z = compute_p_y_given_z(Y, Theta)\n",
        "  p_s_given_z = compute_p_s_given_z(S, Theta)\n",
        "\n",
        "  log_rzd0 = p_s_given_z + p_y_given_z + log_pi + log_delta[0]\n",
        "\n",
        "  p_y_given_gamma = compute_p_y_given_gamma(Y, Theta)\n",
        "  p_s_given_gamma = compute_p_s_given_gamma(S, Theta)\n",
        "\n",
        "  log_vgd1 = p_y_given_gamma + p_s_given_gamma + log_tau + log_delta[1]\n",
        "\n",
        "  #remove_indices = np.tril_indices(nc, -1) ## remove indices\n",
        "  #log_rd1g[:, remove_indices[0], remove_indices[1]] = float(\"NaN\")\n",
        "\n",
        "  #q1 = r.exp() * log_rd0z #; q1[torch.isnan(q1)] = 0.0\n",
        "  #q2 = v.exp() * log_rd1g #; q2[torch.isnan(q2)] = 0.0\n",
        "\n",
        "  return log_rzd0, log_vgd1.reshape(Y.shape[0], nc*nc)\n",
        "  \n",
        "## for VI version\n",
        "class BasicForwardNet(nn.Module):\n",
        "  \"\"\"Encoder for when data is input without any encoding\"\"\"\n",
        "  def __init__(self, input_dim, output_dim, hidden_dim, hidden_layer):\n",
        "    super().__init__()\n",
        "        \n",
        "    self.input = nn.Linear(input_dim, hidden_dim)\n",
        "    #self.linear1 = nn.Linear(hidden_dim, hidden_dim)\n",
        "        \n",
        "    self.linear1 = nn.ModuleList(\n",
        "        [nn.Linear(hidden_dim, hidden_dim) for i in range(hidden_layer)]\n",
        "    )\n",
        "\n",
        "    self.output = nn.Linear(hidden_dim, output_dim)\n",
        "\n",
        "\n",
        "  def forward(self, x):\n",
        "    out = self.input(F.relu(x))\n",
        "    #out = F.relu(self.linear1(out))\n",
        "\n",
        "    for net in self.linear1:\n",
        "        out = net(F.relu(out))\n",
        "    \n",
        "    out = self.output(out)\n",
        "        \n",
        "    return F.softmax(out, dim=1), F.log_softmax(out, dim=1) ## r/v/d log_r/log_v/log_d\n",
        "\n",
        "class BasicForwardNet_leaky(nn.Module):\n",
        "  \"\"\"Encoder for when data is input without any encoding\"\"\"\n",
        "  def __init__(self, input_dim, output_dim, hidden_dim, hidden_layer):\n",
        "    super().__init__()\n",
        "        \n",
        "    self.input = nn.Linear(input_dim, hidden_dim)\n",
        "    #self.linear1 = nn.Linear(hidden_dim, hidden_dim)\n",
        "        \n",
        "    self.linear1 = nn.ModuleList(\n",
        "        [nn.Linear(hidden_dim, hidden_dim) for i in range(hidden_layer)]\n",
        "    )\n",
        "\n",
        "    self.output = nn.Linear(hidden_dim, output_dim)\n",
        "\n",
        "\n",
        "  def forward(self, x):\n",
        "    out = self.input(F.leaky_relu(x))\n",
        "\n",
        "    for net in self.linear1:\n",
        "        out = net(F.leaky_relu(out))\n",
        "    \n",
        "    out = self.output(out)\n",
        "        \n",
        "    return F.softmax(out, dim=1), F.log_softmax(out, dim=1) ## r/v/d log_r/log_v/log_d"
      ],
      "execution_count": null,
      "outputs": []
    },
    {
      "cell_type": "code",
      "metadata": {
        "id": "GuObzBqDY9E9"
      },
      "source": [
        "def build_dataset(NC):\n",
        "\n",
        "  adata = sc.read_h5ad(\"basel_zuri_subsample.h5ad\")\n",
        "  \n",
        "  adata = adata[:,['EGFR', 'ECadherin', 'ER', 'GATA3','Histone_H3_1', \n",
        "                     'Ki67', 'SMA', 'Vimentin', 'cleaved_Parp', 'Her2',\n",
        "                     'p53', 'panCytokeratin', 'CD19', 'PR', 'Myc', 'Fibronectin', 'CK14',\n",
        "                     'Slug', 'CD20', 'vWF', 'Histone_H3_2', 'CK5', 'CD44', 'CD45', 'CD68',\n",
        "                     'CD3', 'CAIX', 'CK8/18', 'CK7', '80ArArArAr80Di', \n",
        "                     'phospho Histone', 'phospho S6', 'phospho mTOR']]\n",
        "\n",
        "  #cell_sel = np.random.choice(adata.shape[0], size=1000) ## select 1000\n",
        "  #adata = adata[cell_sel,:]\n",
        "\n",
        "  YY = adata.X\n",
        "  YY = np.arcsinh(YY / 5.)\n",
        "  for i in range(YY.shape[1]):\n",
        "    YY[:,i] = winsorize(YY[:,i], limits=[0, 0.01]).data #fixed this\n",
        "  \n",
        "  SS = adata.obs.Area\n",
        "  SS = winsorize(SS, limits=[0, 0.01]).data\n",
        "  \n",
        "  Y = torch.tensor(YY)\n",
        "  S = torch.tensor(SS)\n",
        "  YS = torch.hstack((Y,S.reshape(-1,1))).float()\n",
        "  \n",
        "  kms = KMeans(NC).fit(Y)\n",
        "  init_labels = kms.labels_\n",
        "  init_label_class = np.unique(init_labels)\n",
        "  \n",
        "  mu_init = np.array([YY[init_labels == c,:].mean(0) for c in init_label_class])\n",
        "  sigma_init = np.array([YY[init_labels == c,:].std(0) for c in init_label_class])\n",
        "  psi_init = np.array([SS[init_labels == c].mean() for c in init_label_class])\n",
        "  omega_init = np.array([SS[init_labels == c].std() for c in init_label_class])\n",
        "  pi_init = np.array([np.mean(init_labels == c) for c in init_label_class])\n",
        "  \n",
        "  tau_init = np.ones((NC,NC))\n",
        "  tau_init = tau_init / tau_init.sum()\n",
        "  \n",
        "  Theta = {\n",
        "    'log_mu': np.log(mu_init + 1e-6),\n",
        "    'log_sigma': np.log(sigma_init + 1e-6), #np.zeros_like(sigma_init),\n",
        "    'log_psi': np.log(psi_init + 1e-6),\n",
        "    'log_omega': np.log(omega_init + 1e-6),\n",
        "    'is_delta': np.log([0.9, 1-0.9]),\n",
        "    'is_pi': np.log(pi_init),\n",
        "    'is_tau': np.log(tau_init)\n",
        "  }\n",
        "\n",
        "  Theta0 = {k: torch.tensor(v, requires_grad=True) for (k,v) in Theta.items()}\n",
        "\n",
        "  return YS, (YS - YS.mean(0)) / YS.std(0), Y, S, Theta0 "
      ],
      "execution_count": null,
      "outputs": []
    },
    {
      "cell_type": "code",
      "metadata": {
        "id": "TCGJ9UxY50jr"
      },
      "source": [
        "def build_network(P, NC, hidden_dim, hidden_layer, activation_func):\n",
        "  if activation_func == \"relu\":\n",
        "    r_net = BasicForwardNet(P, NC, hidden_dim, hidden_layer)\n",
        "    v_net = BasicForwardNet(P, NC ** 2, hidden_dim, hidden_layer)\n",
        "    d_net = BasicForwardNet(P, 2, hidden_dim, hidden_layer)\n",
        "  elif activation_func == \"leaky_relu\":\n",
        "    r_net = BasicForwardNet_leaky(P, NC, hidden_dim, hidden_layer)\n",
        "    v_net = BasicForwardNet_leaky(P, NC ** 2, hidden_dim, hidden_layer)\n",
        "    d_net = BasicForwardNet_leaky(P, 2, hidden_dim, hidden_layer)\n",
        "\n",
        "  return r_net, v_net, d_net"
      ],
      "execution_count": null,
      "outputs": []
    },
    {
      "cell_type": "code",
      "metadata": {
        "id": "ISPQ6mwN6DJ5"
      },
      "source": [
        "def build_optimizer(Theta, r_net, v_net, d_net, learning_rate=1e-3):\n",
        "  \n",
        "  params = list(Theta.values()) + list(r_net.parameters()) + list(v_net.parameters()) + list(d_net.parameters())\n",
        "  optimizer = optim.Adam(params, lr=learning_rate)\n",
        "  \n",
        "  return optimizer"
      ],
      "execution_count": null,
      "outputs": []
    },
    {
      "cell_type": "code",
      "metadata": {
        "id": "HMx_vnaA6Pw3"
      },
      "source": [
        "#def train_epoch(r_net, v_net, d_net, loader, optimizer):\n",
        "def train_epoch(Theta, YS, Y, S, r_net, v_net, d_net, optimizer):\n",
        "\n",
        "  #for i, batch_data in enumerate(loader):\n",
        "\n",
        "  optimizer.zero_grad()\n",
        "  r, log_r = r_net(YS)\n",
        "  v, log_v = v_net(YS)\n",
        "  d, log_d = d_net(YS)\n",
        "\n",
        "  ## row sums to 1 (from neural net)\n",
        "  log_q0 = log_d[:,0].reshape(-1,1) + log_r ## like r in em version\n",
        "  log_q1 = log_d[:,1].reshape(-1,1) + log_v ## like v in em version\n",
        "  log_rzd0, log_vgd1 = compute_joint_probs(Theta, Y, S)\n",
        "\n",
        "  entro = (d * log_d).sum() + (r * log_r).sum() + (v * log_v).sum()\n",
        "  recon = (log_q0.exp() * log_rzd0).sum() + (log_q1.exp() * log_vgd1).sum()\n",
        "  nelbo = entro - recon\n",
        "  nelbo.backward()\n",
        "  optimizer.step()\n",
        "\n",
        "  return nelbo, entro, recon"
      ],
      "execution_count": null,
      "outputs": []
    },
    {
      "cell_type": "code",
      "metadata": {
        "id": "gFVqSYXhVFSP"
      },
      "source": [
        "def train(config=None):\n",
        "  # Initialize a new wandb run\n",
        "  with wandb.init(config=config):\n",
        "\n",
        "    config = wandb.config\n",
        "    config.tol = 1e-2\n",
        "    config.N_ITER = 1000\n",
        "    config.N_ITER_OPT = 100\n",
        "    config.NC = 8\n",
        "    config.NF = 33\n",
        "    config.P = 34\n",
        "   \n",
        "    #loader = build_dataset(config.batch_size)\n",
        "    YS, YS1, Y, S, Theta0 = build_dataset(config.NC)\n",
        "    net1, net2, net3 = build_network(config.P, config.NC, config.hidden_dim, config.hidden_layer, config.activation_func)\n",
        "    optimizer = build_optimizer(Theta0, net1, net2, net3)\n",
        "\n",
        "    loss = []\n",
        "    for epoch in range(config.N_ITER * config.N_ITER_OPT):\n",
        "\n",
        "      nelbo, entro, recon = train_epoch(Theta0, YS1, Y, S, net1, net2, net3, optimizer)\n",
        "      wandb.log({'epoch': epoch, 'entropy': entro, 'reconstruction_loss': recon, 'nelbo': nelbo})\n",
        "\n",
        "      if epoch > 0 and abs(loss[-1] - nelbo.sum()) < config.tol:\n",
        "        print(nelbo.sum())\n",
        "        print(F.log_softmax(Theta0['is_delta'], 0).exp())\n",
        "        break\n",
        "    \n",
        "      loss.append(nelbo)  "
      ],
      "execution_count": null,
      "outputs": []
    },
    {
      "cell_type": "code",
      "metadata": {
        "id": "1q7UjMGM9LZx"
      },
      "source": [
        "sweep_config = { \n",
        "    'method': 'random' \n",
        "    }\n",
        "\n",
        "metric = {\n",
        "    'name': 'nelbo',\n",
        "    'goal': 'minimize'   \n",
        "    }\n",
        "\n",
        "sweep_config['metric'] = metric\n",
        "\n",
        "parameters_dict = {\n",
        "    'activation_func': {\n",
        "        'values': ['relu', 'leaky_relu']\n",
        "        },\n",
        "    'hidden_dim': {\n",
        "        'distribution': 'q_log_uniform',\n",
        "        'q': 1,\n",
        "        'min': math.log(5),\n",
        "        'max': math.log(20)\n",
        "        },\n",
        "    'hidden_layer': {\n",
        "        'distribution': 'q_log_uniform',\n",
        "        'q': 1,\n",
        "        'min': math.log(1),\n",
        "        'max': math.log(10)\n",
        "        },\n",
        "    'hidden_layer': {\n",
        "          'values': [2, 4, 6, 8, 10]\n",
        "        },\n",
        "    }\n",
        "\n",
        "sweep_config['parameters'] = parameters_dict"
      ],
      "execution_count": null,
      "outputs": []
    },
    {
      "cell_type": "code",
      "metadata": {
        "id": "IAXsZA1sDMMF"
      },
      "source": [
        "from google.colab import drive\n",
        "drive.mount('/content/gdrive')\n",
        "\n",
        "import os\n",
        "os.chdir('/content/gdrive/MyDrive/Colab Notebooks/')"
      ],
      "execution_count": null,
      "outputs": []
    },
    {
      "cell_type": "code",
      "metadata": {
        "colab": {
          "base_uri": "https://localhost:8080/",
          "height": 1000,
          "referenced_widgets": [
            "37ba28d1ea61419c95e9ba3514402196",
            "ab898cb96dd0439ab44bab0ffbde0f10",
            "fcf594decf1c4236957e6c05ccf892ad",
            "d88a34b7b78b4a4f85deca256e215bfb",
            "57c4fff3831740429828dc59afbe0fac",
            "72c18184c0a54a81897ac4f529fad52d",
            "3d1dcff3258c4a0c99f976092baf8744",
            "bbb8e9e7da074537b03998e0ced1e372",
            "2fd398a3d153451299fb8a7b14e7e161",
            "6ca3dbd70b684a479fdd13b37ee17bf2",
            "d50ed81c36cd48f5bb11414f7ce49f4f",
            "3e0e7f8bc2894756962b69e78f1562a9",
            "5a110139731e4280940474ca066e800e",
            "14b1dd8fd7ef4b33b12d0b539471d16f",
            "54fe13a8b79e405f87363b2aa2639c69",
            "2fd08b2e9754446daa724d470faf5e60",
            "ee4948e8f468486ca6cf01b98f9e8f9a",
            "4edd775dbdaa43dd8d6db3245d299867",
            "4625de1caf0d48779ae529b3b7ed44e3",
            "0187f8226d7648fcb8f5da7ed5c7e73b",
            "389ac579b48a4687997f5354f7f3eda2",
            "d9f13505d4d84fbf90775120c16af0fa",
            "f02469f609784b23832b8ab1fde84672",
            "b79064a945c943c88cb825510e13316c",
            "f5bde8452be84d1eb7bff58adef954d3",
            "e6227430652541678e556c43b2042b76",
            "6b54b2f538414a5887273359233cc1bb",
            "6554e470ff234731ae189cf367602c7e",
            "29ecaf6307d04447bccb56e57f5f11c3",
            "fdb1862b01614b8290fa55c4d11764e7",
            "8a5e0eaf5df5409d9811814dad5f491b",
            "41eea952408e4396859242484aa1a9e3"
          ]
        },
        "id": "ZMNkfuH89TrX",
        "outputId": "e8565590-c804-4ddf-ecf1-51950f8b3bb5"
      },
      "source": [
        "wandb.login(key='4117bb00bef94e0904c16afed79f1888e0839eb9')\n",
        "\n",
        "sweep_id = wandb.sweep(sweep_config, project='vi_sweep_win.99_5000')\n",
        "\n",
        "wandb.agent(sweep_id, train, count=50)"
      ],
      "execution_count": null,
      "outputs": [
        {
          "output_type": "stream",
          "name": "stderr",
          "text": [
            "\u001b[34m\u001b[1mwandb\u001b[0m: Currently logged in as: \u001b[33myujulee\u001b[0m (use `wandb login --relogin` to force relogin)\n",
            "\u001b[34m\u001b[1mwandb\u001b[0m: \u001b[33mWARNING\u001b[0m If you're specifying your api key in code, ensure this code is not shared publically.\n",
            "\u001b[34m\u001b[1mwandb\u001b[0m: \u001b[33mWARNING\u001b[0m Consider setting the WANDB_API_KEY environment variable, or running `wandb login` from the command line.\n",
            "\u001b[34m\u001b[1mwandb\u001b[0m: Appending key for api.wandb.ai to your netrc file: /root/.netrc\n"
          ]
        },
        {
          "output_type": "stream",
          "name": "stdout",
          "text": [
            "Create sweep with ID: cxbrrtb4\n",
            "Sweep URL: https://wandb.ai/yujulee/vi_sweep_win.99_5000/sweeps/cxbrrtb4\n"
          ]
        },
        {
          "output_type": "stream",
          "name": "stderr",
          "text": [
            "\u001b[34m\u001b[1mwandb\u001b[0m: Agent Starting Run: g5madhh7 with config:\n",
            "\u001b[34m\u001b[1mwandb\u001b[0m: \tactivation_func: leaky_relu\n",
            "\u001b[34m\u001b[1mwandb\u001b[0m: \thidden_dim: 6\n",
            "\u001b[34m\u001b[1mwandb\u001b[0m: \thidden_layer: 2\n"
          ]
        },
        {
          "output_type": "display_data",
          "data": {
            "text/html": [
              "\n",
              "                Tracking run with wandb version 0.12.2<br/>\n",
              "                Syncing run <strong style=\"color:#cdcd00\">effortless-sweep-1</strong> to <a href=\"https://wandb.ai\" target=\"_blank\">Weights & Biases</a> <a href=\"https://docs.wandb.com/integrations/jupyter.html\" target=\"_blank\">(Documentation)</a>.<br/>\n",
              "                Project page: <a href=\"https://wandb.ai/yujulee/vi_sweep_win.99_5000\" target=\"_blank\">https://wandb.ai/yujulee/vi_sweep_win.99_5000</a><br/>\n",
              "                Sweep page: <a href=\"https://wandb.ai/yujulee/vi_sweep_win.99_5000/sweeps/cxbrrtb4\" target=\"_blank\">https://wandb.ai/yujulee/vi_sweep_win.99_5000/sweeps/cxbrrtb4</a><br/>\n",
              "Run page: <a href=\"https://wandb.ai/yujulee/vi_sweep_win.99_5000/runs/g5madhh7\" target=\"_blank\">https://wandb.ai/yujulee/vi_sweep_win.99_5000/runs/g5madhh7</a><br/>\n",
              "                Run data is saved locally in <code>/content/gdrive/MyDrive/Colab Notebooks/wandb/run-20210928_040306-g5madhh7</code><br/><br/>\n",
              "            "
            ],
            "text/plain": [
              "<IPython.core.display.HTML object>"
            ]
          },
          "metadata": {}
        },
        {
          "output_type": "stream",
          "name": "stdout",
          "text": [
            "tensor(-162891.1142, dtype=torch.float64, grad_fn=<SumBackward0>)\n",
            "tensor([0.3641, 0.6359], dtype=torch.float64, grad_fn=<ExpBackward>)\n"
          ]
        },
        {
          "output_type": "display_data",
          "data": {
            "text/html": [
              "<br/>Waiting for W&B process to finish, PID 7193<br/>Program ended successfully."
            ],
            "text/plain": [
              "<IPython.core.display.HTML object>"
            ]
          },
          "metadata": {}
        },
        {
          "output_type": "display_data",
          "data": {
            "application/vnd.jupyter.widget-view+json": {
              "model_id": "37ba28d1ea61419c95e9ba3514402196",
              "version_minor": 0,
              "version_major": 2
            },
            "text/plain": [
              "VBox(children=(Label(value=' 0.00MB of 0.00MB uploaded (0.00MB deduped)\\r'), FloatProgress(value=1.0, max=1.0)…"
            ]
          },
          "metadata": {}
        },
        {
          "output_type": "display_data",
          "data": {
            "text/html": [
              "Find user logs for this run at: <code>/content/gdrive/MyDrive/Colab Notebooks/wandb/run-20210928_040306-g5madhh7/logs/debug.log</code>"
            ],
            "text/plain": [
              "<IPython.core.display.HTML object>"
            ]
          },
          "metadata": {}
        },
        {
          "output_type": "display_data",
          "data": {
            "text/html": [
              "Find internal logs for this run at: <code>/content/gdrive/MyDrive/Colab Notebooks/wandb/run-20210928_040306-g5madhh7/logs/debug-internal.log</code>"
            ],
            "text/plain": [
              "<IPython.core.display.HTML object>"
            ]
          },
          "metadata": {}
        },
        {
          "output_type": "display_data",
          "data": {
            "text/html": [
              "<h3>Run summary:</h3><br/><style>\n",
              "    table.wandb td:nth-child(1) { padding: 0 10px; text-align: right }\n",
              "    </style><table class=\"wandb\">\n",
              "<tr><td>entropy</td><td>-14992.16602</td></tr><tr><td>epoch</td><td>5104</td></tr><tr><td>nelbo</td><td>-162891.11419</td></tr><tr><td>reconstruction_loss</td><td>147898.94818</td></tr></table>"
            ],
            "text/plain": [
              "<IPython.core.display.HTML object>"
            ]
          },
          "metadata": {}
        },
        {
          "output_type": "display_data",
          "data": {
            "text/html": [
              "<h3>Run history:</h3><br/><style>\n",
              "    table.wandb td:nth-child(1) { padding: 0 10px; text-align: right }\n",
              "    </style><table class=\"wandb\">\n",
              "<tr><td>entropy</td><td>▁▅▅▅▆▆▇▇▇███████████████████████████████</td></tr><tr><td>epoch</td><td>▁▁▁▂▂▂▂▂▂▃▃▃▃▃▄▄▄▄▄▄▅▅▅▅▅▅▆▆▆▆▆▇▇▇▇▇▇███</td></tr><tr><td>nelbo</td><td>█▄▄▃▃▂▂▂▂▂▂▂▂▂▂▁▁▁▁▁▁▁▁▁▁▁▁▁▁▁▁▁▁▁▁▁▁▁▁▁</td></tr><tr><td>reconstruction_loss</td><td>▁▅▅▆▆▇▇▇▇▇▇▇▇▇██████████████████████████</td></tr></table><br/>"
            ],
            "text/plain": [
              "<IPython.core.display.HTML object>"
            ]
          },
          "metadata": {}
        },
        {
          "output_type": "display_data",
          "data": {
            "text/html": [
              "Synced 5 W&B file(s), 0 media file(s), 0 artifact file(s) and 0 other file(s)"
            ],
            "text/plain": [
              "<IPython.core.display.HTML object>"
            ]
          },
          "metadata": {}
        },
        {
          "output_type": "display_data",
          "data": {
            "text/html": [
              "\n",
              "                    <br/>Synced <strong style=\"color:#cdcd00\">effortless-sweep-1</strong>: <a href=\"https://wandb.ai/yujulee/vi_sweep_win.99_5000/runs/g5madhh7\" target=\"_blank\">https://wandb.ai/yujulee/vi_sweep_win.99_5000/runs/g5madhh7</a><br/>\n",
              "                "
            ],
            "text/plain": [
              "<IPython.core.display.HTML object>"
            ]
          },
          "metadata": {}
        },
        {
          "output_type": "stream",
          "name": "stderr",
          "text": [
            "\u001b[34m\u001b[1mwandb\u001b[0m: Agent Starting Run: mekkuwdc with config:\n",
            "\u001b[34m\u001b[1mwandb\u001b[0m: \tactivation_func: leaky_relu\n",
            "\u001b[34m\u001b[1mwandb\u001b[0m: \thidden_dim: 13\n",
            "\u001b[34m\u001b[1mwandb\u001b[0m: \thidden_layer: 4\n"
          ]
        },
        {
          "output_type": "display_data",
          "data": {
            "text/html": [
              "\n",
              "                Tracking run with wandb version 0.12.2<br/>\n",
              "                Syncing run <strong style=\"color:#cdcd00\">fresh-sweep-2</strong> to <a href=\"https://wandb.ai\" target=\"_blank\">Weights & Biases</a> <a href=\"https://docs.wandb.com/integrations/jupyter.html\" target=\"_blank\">(Documentation)</a>.<br/>\n",
              "                Project page: <a href=\"https://wandb.ai/yujulee/vi_sweep_win.99_5000\" target=\"_blank\">https://wandb.ai/yujulee/vi_sweep_win.99_5000</a><br/>\n",
              "                Sweep page: <a href=\"https://wandb.ai/yujulee/vi_sweep_win.99_5000/sweeps/cxbrrtb4\" target=\"_blank\">https://wandb.ai/yujulee/vi_sweep_win.99_5000/sweeps/cxbrrtb4</a><br/>\n",
              "Run page: <a href=\"https://wandb.ai/yujulee/vi_sweep_win.99_5000/runs/mekkuwdc\" target=\"_blank\">https://wandb.ai/yujulee/vi_sweep_win.99_5000/runs/mekkuwdc</a><br/>\n",
              "                Run data is saved locally in <code>/content/gdrive/MyDrive/Colab Notebooks/wandb/run-20210928_045910-mekkuwdc</code><br/><br/>\n",
              "            "
            ],
            "text/plain": [
              "<IPython.core.display.HTML object>"
            ]
          },
          "metadata": {}
        },
        {
          "output_type": "stream",
          "name": "stdout",
          "text": [
            "tensor(-164534.2485, dtype=torch.float64, grad_fn=<SumBackward0>)\n",
            "tensor([0.0938, 0.9062], dtype=torch.float64, grad_fn=<ExpBackward>)\n"
          ]
        },
        {
          "output_type": "display_data",
          "data": {
            "text/html": [
              "<br/>Waiting for W&B process to finish, PID 7590<br/>Program ended successfully."
            ],
            "text/plain": [
              "<IPython.core.display.HTML object>"
            ]
          },
          "metadata": {}
        },
        {
          "output_type": "display_data",
          "data": {
            "application/vnd.jupyter.widget-view+json": {
              "model_id": "2fd398a3d153451299fb8a7b14e7e161",
              "version_minor": 0,
              "version_major": 2
            },
            "text/plain": [
              "VBox(children=(Label(value=' 0.00MB of 0.00MB uploaded (0.00MB deduped)\\r'), FloatProgress(value=1.0, max=1.0)…"
            ]
          },
          "metadata": {}
        },
        {
          "output_type": "display_data",
          "data": {
            "text/html": [
              "Find user logs for this run at: <code>/content/gdrive/MyDrive/Colab Notebooks/wandb/run-20210928_045910-mekkuwdc/logs/debug.log</code>"
            ],
            "text/plain": [
              "<IPython.core.display.HTML object>"
            ]
          },
          "metadata": {}
        },
        {
          "output_type": "display_data",
          "data": {
            "text/html": [
              "Find internal logs for this run at: <code>/content/gdrive/MyDrive/Colab Notebooks/wandb/run-20210928_045910-mekkuwdc/logs/debug-internal.log</code>"
            ],
            "text/plain": [
              "<IPython.core.display.HTML object>"
            ]
          },
          "metadata": {}
        },
        {
          "output_type": "display_data",
          "data": {
            "text/html": [
              "<h3>Run summary:</h3><br/><style>\n",
              "    table.wandb td:nth-child(1) { padding: 0 10px; text-align: right }\n",
              "    </style><table class=\"wandb\">\n",
              "<tr><td>entropy</td><td>-12109.39551</td></tr><tr><td>epoch</td><td>3421</td></tr><tr><td>nelbo</td><td>-164534.24854</td></tr><tr><td>reconstruction_loss</td><td>152424.85303</td></tr></table>"
            ],
            "text/plain": [
              "<IPython.core.display.HTML object>"
            ]
          },
          "metadata": {}
        },
        {
          "output_type": "display_data",
          "data": {
            "text/html": [
              "<h3>Run history:</h3><br/><style>\n",
              "    table.wandb td:nth-child(1) { padding: 0 10px; text-align: right }\n",
              "    </style><table class=\"wandb\">\n",
              "<tr><td>entropy</td><td>▁▄▄▅▆▆▇▇▇▇▇█████████████████████████████</td></tr><tr><td>epoch</td><td>▁▁▁▂▂▂▂▂▂▃▃▃▃▃▃▄▄▄▄▄▅▅▅▅▅▅▆▆▆▆▆▇▇▇▇▇▇███</td></tr><tr><td>nelbo</td><td>█▄▃▃▂▂▂▂▂▂▂▂▁▁▁▁▁▁▁▁▁▁▁▁▁▁▁▁▁▁▁▁▁▁▁▁▁▁▁▁</td></tr><tr><td>reconstruction_loss</td><td>▁▅▆▆▆▇▇▇▇▇▇▇████████████████████████████</td></tr></table><br/>"
            ],
            "text/plain": [
              "<IPython.core.display.HTML object>"
            ]
          },
          "metadata": {}
        },
        {
          "output_type": "display_data",
          "data": {
            "text/html": [
              "Synced 5 W&B file(s), 0 media file(s), 0 artifact file(s) and 0 other file(s)"
            ],
            "text/plain": [
              "<IPython.core.display.HTML object>"
            ]
          },
          "metadata": {}
        },
        {
          "output_type": "display_data",
          "data": {
            "text/html": [
              "\n",
              "                    <br/>Synced <strong style=\"color:#cdcd00\">fresh-sweep-2</strong>: <a href=\"https://wandb.ai/yujulee/vi_sweep_win.99_5000/runs/mekkuwdc\" target=\"_blank\">https://wandb.ai/yujulee/vi_sweep_win.99_5000/runs/mekkuwdc</a><br/>\n",
              "                "
            ],
            "text/plain": [
              "<IPython.core.display.HTML object>"
            ]
          },
          "metadata": {}
        },
        {
          "output_type": "stream",
          "name": "stderr",
          "text": [
            "\u001b[34m\u001b[1mwandb\u001b[0m: Agent Starting Run: etgupdgq with config:\n",
            "\u001b[34m\u001b[1mwandb\u001b[0m: \tactivation_func: relu\n",
            "\u001b[34m\u001b[1mwandb\u001b[0m: \thidden_dim: 15\n",
            "\u001b[34m\u001b[1mwandb\u001b[0m: \thidden_layer: 2\n"
          ]
        },
        {
          "output_type": "display_data",
          "data": {
            "text/html": [
              "\n",
              "                Tracking run with wandb version 0.12.2<br/>\n",
              "                Syncing run <strong style=\"color:#cdcd00\">neat-sweep-3</strong> to <a href=\"https://wandb.ai\" target=\"_blank\">Weights & Biases</a> <a href=\"https://docs.wandb.com/integrations/jupyter.html\" target=\"_blank\">(Documentation)</a>.<br/>\n",
              "                Project page: <a href=\"https://wandb.ai/yujulee/vi_sweep_win.99_5000\" target=\"_blank\">https://wandb.ai/yujulee/vi_sweep_win.99_5000</a><br/>\n",
              "                Sweep page: <a href=\"https://wandb.ai/yujulee/vi_sweep_win.99_5000/sweeps/cxbrrtb4\" target=\"_blank\">https://wandb.ai/yujulee/vi_sweep_win.99_5000/sweeps/cxbrrtb4</a><br/>\n",
              "Run page: <a href=\"https://wandb.ai/yujulee/vi_sweep_win.99_5000/runs/etgupdgq\" target=\"_blank\">https://wandb.ai/yujulee/vi_sweep_win.99_5000/runs/etgupdgq</a><br/>\n",
              "                Run data is saved locally in <code>/content/gdrive/MyDrive/Colab Notebooks/wandb/run-20210928_054101-etgupdgq</code><br/><br/>\n",
              "            "
            ],
            "text/plain": [
              "<IPython.core.display.HTML object>"
            ]
          },
          "metadata": {}
        },
        {
          "output_type": "stream",
          "name": "stdout",
          "text": [
            "tensor(-165980.0305, dtype=torch.float64, grad_fn=<SumBackward0>)\n",
            "tensor([0.0336, 0.9664], dtype=torch.float64, grad_fn=<ExpBackward>)\n"
          ]
        },
        {
          "output_type": "display_data",
          "data": {
            "text/html": [
              "<br/>Waiting for W&B process to finish, PID 7724<br/>Program ended successfully."
            ],
            "text/plain": [
              "<IPython.core.display.HTML object>"
            ]
          },
          "metadata": {}
        },
        {
          "output_type": "display_data",
          "data": {
            "application/vnd.jupyter.widget-view+json": {
              "model_id": "ee4948e8f468486ca6cf01b98f9e8f9a",
              "version_minor": 0,
              "version_major": 2
            },
            "text/plain": [
              "VBox(children=(Label(value=' 0.00MB of 0.00MB uploaded (0.00MB deduped)\\r'), FloatProgress(value=1.0, max=1.0)…"
            ]
          },
          "metadata": {}
        },
        {
          "output_type": "display_data",
          "data": {
            "text/html": [
              "Find user logs for this run at: <code>/content/gdrive/MyDrive/Colab Notebooks/wandb/run-20210928_054101-etgupdgq/logs/debug.log</code>"
            ],
            "text/plain": [
              "<IPython.core.display.HTML object>"
            ]
          },
          "metadata": {}
        },
        {
          "output_type": "display_data",
          "data": {
            "text/html": [
              "Find internal logs for this run at: <code>/content/gdrive/MyDrive/Colab Notebooks/wandb/run-20210928_054101-etgupdgq/logs/debug-internal.log</code>"
            ],
            "text/plain": [
              "<IPython.core.display.HTML object>"
            ]
          },
          "metadata": {}
        },
        {
          "output_type": "display_data",
          "data": {
            "text/html": [
              "<h3>Run summary:</h3><br/><style>\n",
              "    table.wandb td:nth-child(1) { padding: 0 10px; text-align: right }\n",
              "    </style><table class=\"wandb\">\n",
              "<tr><td>entropy</td><td>-11711.02148</td></tr><tr><td>epoch</td><td>5112</td></tr><tr><td>nelbo</td><td>-165980.03047</td></tr><tr><td>reconstruction_loss</td><td>154269.00898</td></tr></table>"
            ],
            "text/plain": [
              "<IPython.core.display.HTML object>"
            ]
          },
          "metadata": {}
        },
        {
          "output_type": "display_data",
          "data": {
            "text/html": [
              "<h3>Run history:</h3><br/><style>\n",
              "    table.wandb td:nth-child(1) { padding: 0 10px; text-align: right }\n",
              "    </style><table class=\"wandb\">\n",
              "<tr><td>entropy</td><td>▁▄▆▆▆▇▇▇▇▇▇▇▇███████████████████████████</td></tr><tr><td>epoch</td><td>▁▁▁▂▂▂▂▂▂▃▃▃▃▃▄▄▄▄▄▄▅▅▅▅▅▅▆▆▆▆▆▇▇▇▇▇▇███</td></tr><tr><td>nelbo</td><td>█▅▄▄▃▃▂▂▂▂▂▂▂▂▁▁▁▁▁▁▁▁▁▁▁▁▁▁▁▁▁▁▁▁▁▁▁▁▁▁</td></tr><tr><td>reconstruction_loss</td><td>▁▄▅▅▆▆▇▇▇▇▇▇▇▇██████████████████████████</td></tr></table><br/>"
            ],
            "text/plain": [
              "<IPython.core.display.HTML object>"
            ]
          },
          "metadata": {}
        },
        {
          "output_type": "display_data",
          "data": {
            "text/html": [
              "Synced 5 W&B file(s), 0 media file(s), 0 artifact file(s) and 0 other file(s)"
            ],
            "text/plain": [
              "<IPython.core.display.HTML object>"
            ]
          },
          "metadata": {}
        },
        {
          "output_type": "display_data",
          "data": {
            "text/html": [
              "\n",
              "                    <br/>Synced <strong style=\"color:#cdcd00\">neat-sweep-3</strong>: <a href=\"https://wandb.ai/yujulee/vi_sweep_win.99_5000/runs/etgupdgq\" target=\"_blank\">https://wandb.ai/yujulee/vi_sweep_win.99_5000/runs/etgupdgq</a><br/>\n",
              "                "
            ],
            "text/plain": [
              "<IPython.core.display.HTML object>"
            ]
          },
          "metadata": {}
        },
        {
          "output_type": "stream",
          "name": "stderr",
          "text": [
            "\u001b[34m\u001b[1mwandb\u001b[0m: Agent Starting Run: vvkl9dy0 with config:\n",
            "\u001b[34m\u001b[1mwandb\u001b[0m: \tactivation_func: relu\n",
            "\u001b[34m\u001b[1mwandb\u001b[0m: \thidden_dim: 9\n",
            "\u001b[34m\u001b[1mwandb\u001b[0m: \thidden_layer: 4\n"
          ]
        },
        {
          "output_type": "display_data",
          "data": {
            "text/html": [
              "\n",
              "                Tracking run with wandb version 0.12.2<br/>\n",
              "                Syncing run <strong style=\"color:#cdcd00\">leafy-sweep-4</strong> to <a href=\"https://wandb.ai\" target=\"_blank\">Weights & Biases</a> <a href=\"https://docs.wandb.com/integrations/jupyter.html\" target=\"_blank\">(Documentation)</a>.<br/>\n",
              "                Project page: <a href=\"https://wandb.ai/yujulee/vi_sweep_win.99_5000\" target=\"_blank\">https://wandb.ai/yujulee/vi_sweep_win.99_5000</a><br/>\n",
              "                Sweep page: <a href=\"https://wandb.ai/yujulee/vi_sweep_win.99_5000/sweeps/cxbrrtb4\" target=\"_blank\">https://wandb.ai/yujulee/vi_sweep_win.99_5000/sweeps/cxbrrtb4</a><br/>\n",
              "Run page: <a href=\"https://wandb.ai/yujulee/vi_sweep_win.99_5000/runs/vvkl9dy0\" target=\"_blank\">https://wandb.ai/yujulee/vi_sweep_win.99_5000/runs/vvkl9dy0</a><br/>\n",
              "                Run data is saved locally in <code>/content/gdrive/MyDrive/Colab Notebooks/wandb/run-20210928_064309-vvkl9dy0</code><br/><br/>\n",
              "            "
            ],
            "text/plain": [
              "<IPython.core.display.HTML object>"
            ]
          },
          "metadata": {}
        },
        {
          "output_type": "stream",
          "name": "stdout",
          "text": [
            "tensor(-165479.0080, dtype=torch.float64, grad_fn=<SumBackward0>)\n",
            "tensor([0.0623, 0.9377], dtype=torch.float64, grad_fn=<ExpBackward>)\n"
          ]
        },
        {
          "output_type": "display_data",
          "data": {
            "text/html": [
              "<br/>Waiting for W&B process to finish, PID 7894<br/>Program ended successfully."
            ],
            "text/plain": [
              "<IPython.core.display.HTML object>"
            ]
          },
          "metadata": {}
        },
        {
          "output_type": "display_data",
          "data": {
            "application/vnd.jupyter.widget-view+json": {
              "model_id": "f5bde8452be84d1eb7bff58adef954d3",
              "version_minor": 0,
              "version_major": 2
            },
            "text/plain": [
              "VBox(children=(Label(value=' 0.00MB of 0.00MB uploaded (0.00MB deduped)\\r'), FloatProgress(value=1.0, max=1.0)…"
            ]
          },
          "metadata": {}
        },
        {
          "output_type": "display_data",
          "data": {
            "text/html": [
              "Find user logs for this run at: <code>/content/gdrive/MyDrive/Colab Notebooks/wandb/run-20210928_064309-vvkl9dy0/logs/debug.log</code>"
            ],
            "text/plain": [
              "<IPython.core.display.HTML object>"
            ]
          },
          "metadata": {}
        },
        {
          "output_type": "display_data",
          "data": {
            "text/html": [
              "Find internal logs for this run at: <code>/content/gdrive/MyDrive/Colab Notebooks/wandb/run-20210928_064309-vvkl9dy0/logs/debug-internal.log</code>"
            ],
            "text/plain": [
              "<IPython.core.display.HTML object>"
            ]
          },
          "metadata": {}
        },
        {
          "output_type": "display_data",
          "data": {
            "text/html": [
              "<h3>Run summary:</h3><br/><style>\n",
              "    table.wandb td:nth-child(1) { padding: 0 10px; text-align: right }\n",
              "    </style><table class=\"wandb\">\n",
              "<tr><td>entropy</td><td>-11675.57031</td></tr><tr><td>epoch</td><td>4384</td></tr><tr><td>nelbo</td><td>-165479.008</td></tr><tr><td>reconstruction_loss</td><td>153803.43769</td></tr></table>"
            ],
            "text/plain": [
              "<IPython.core.display.HTML object>"
            ]
          },
          "metadata": {}
        },
        {
          "output_type": "display_data",
          "data": {
            "text/html": [
              "<h3>Run history:</h3><br/><style>\n",
              "    table.wandb td:nth-child(1) { padding: 0 10px; text-align: right }\n",
              "    </style><table class=\"wandb\">\n",
              "<tr><td>entropy</td><td>▁▃▅▆▆▇▇█████████████████████████████████</td></tr><tr><td>epoch</td><td>▁▁▁▂▂▂▂▂▂▃▃▃▃▃▄▄▄▄▄▄▅▅▅▅▅▅▆▆▆▆▆▇▇▇▇▇▇███</td></tr><tr><td>nelbo</td><td>█▅▄▃▃▂▂▂▂▂▂▂▁▁▁▁▁▁▁▁▁▁▁▁▁▁▁▁▁▁▁▁▁▁▁▁▁▁▁▁</td></tr><tr><td>reconstruction_loss</td><td>▁▄▅▆▆▇▇▇▇▇▇█████████████████████████████</td></tr></table><br/>"
            ],
            "text/plain": [
              "<IPython.core.display.HTML object>"
            ]
          },
          "metadata": {}
        },
        {
          "output_type": "display_data",
          "data": {
            "text/html": [
              "Synced 5 W&B file(s), 0 media file(s), 0 artifact file(s) and 0 other file(s)"
            ],
            "text/plain": [
              "<IPython.core.display.HTML object>"
            ]
          },
          "metadata": {}
        },
        {
          "output_type": "display_data",
          "data": {
            "text/html": [
              "\n",
              "                    <br/>Synced <strong style=\"color:#cdcd00\">leafy-sweep-4</strong>: <a href=\"https://wandb.ai/yujulee/vi_sweep_win.99_5000/runs/vvkl9dy0\" target=\"_blank\">https://wandb.ai/yujulee/vi_sweep_win.99_5000/runs/vvkl9dy0</a><br/>\n",
              "                "
            ],
            "text/plain": [
              "<IPython.core.display.HTML object>"
            ]
          },
          "metadata": {}
        },
        {
          "output_type": "stream",
          "name": "stderr",
          "text": [
            "\u001b[34m\u001b[1mwandb\u001b[0m: Agent Starting Run: 3dqwq7hc with config:\n",
            "\u001b[34m\u001b[1mwandb\u001b[0m: \tactivation_func: leaky_relu\n",
            "\u001b[34m\u001b[1mwandb\u001b[0m: \thidden_dim: 5\n",
            "\u001b[34m\u001b[1mwandb\u001b[0m: \thidden_layer: 2\n"
          ]
        },
        {
          "output_type": "display_data",
          "data": {
            "text/html": [
              "\n",
              "                Tracking run with wandb version 0.12.2<br/>\n",
              "                Syncing run <strong style=\"color:#cdcd00\">comic-sweep-5</strong> to <a href=\"https://wandb.ai\" target=\"_blank\">Weights & Biases</a> <a href=\"https://docs.wandb.com/integrations/jupyter.html\" target=\"_blank\">(Documentation)</a>.<br/>\n",
              "                Project page: <a href=\"https://wandb.ai/yujulee/vi_sweep_win.99_5000\" target=\"_blank\">https://wandb.ai/yujulee/vi_sweep_win.99_5000</a><br/>\n",
              "                Sweep page: <a href=\"https://wandb.ai/yujulee/vi_sweep_win.99_5000/sweeps/cxbrrtb4\" target=\"_blank\">https://wandb.ai/yujulee/vi_sweep_win.99_5000/sweeps/cxbrrtb4</a><br/>\n",
              "Run page: <a href=\"https://wandb.ai/yujulee/vi_sweep_win.99_5000/runs/3dqwq7hc\" target=\"_blank\">https://wandb.ai/yujulee/vi_sweep_win.99_5000/runs/3dqwq7hc</a><br/>\n",
              "                Run data is saved locally in <code>/content/gdrive/MyDrive/Colab Notebooks/wandb/run-20210928_073519-3dqwq7hc</code><br/><br/>\n",
              "            "
            ],
            "text/plain": [
              "<IPython.core.display.HTML object>"
            ]
          },
          "metadata": {}
        }
      ]
    }
  ]
}