{
  "nbformat": 4,
  "nbformat_minor": 0,
  "metadata": {
    "colab": {
      "name": "DAMM_081021.ipynb",
      "provenance": [],
      "collapsed_sections": [],
      "authorship_tag": "ABX9TyPcDUJsgZBOPXzKRHI7Ycoz",
      "include_colab_link": true
    },
    "kernelspec": {
      "name": "python3",
      "display_name": "Python 3"
    },
    "language_info": {
      "name": "python"
    }
  },
  "cells": [
    {
      "cell_type": "markdown",
      "metadata": {
        "id": "view-in-github",
        "colab_type": "text"
      },
      "source": [
        "<a href=\"https://colab.research.google.com/github/camlab-bioml/2021_IMC_Jett/blob/main/DAMM_081021.ipynb\" target=\"_parent\"><img src=\"https://colab.research.google.com/assets/colab-badge.svg\" alt=\"Open In Colab\"/></a>"
      ]
    },
    {
      "cell_type": "code",
      "metadata": {
        "id": "Ss7qeraIxL3Z"
      },
      "source": [
        "import torch\n",
        "import torch.optim as optim\n",
        "import torch.distributions as D\n",
        "\n",
        "import torch.nn as nn\n",
        "\n",
        "import numpy as np\n",
        "import matplotlib.pyplot as plt\n",
        "import sklearn.datasets as datasets\n",
        "\n",
        "from matplotlib.backends.backend_pdf import PdfPages\n",
        "\n",
        "import numpy as np\n",
        "import pandas as pd\n",
        "from sklearn.cluster import KMeans\n",
        "from sklearn.mixture import GaussianMixture"
      ],
      "execution_count": 1,
      "outputs": []
    },
    {
      "cell_type": "code",
      "metadata": {
        "id": "Zn1AhrN678Ct"
      },
      "source": [
        "## generate data\n",
        "def generateData(n_clusters = 3, n_obs = 10000, n_features = 2):\n",
        "\n",
        "  #n_clusters = 3; n_obs = 100; n_features = 2\n",
        "  \n",
        "  ## set truth expression means/covariances (multivariate) ##\n",
        "  mu = np.random.rand(n_clusters, n_features)\n",
        "  mu = np.sort(mu, 0) ## sort expressions\n",
        "  sigma = 0.001 * np.identity(n_features) ## variance-covariance matrix\n",
        "\n",
        "  ## set truth cell size means/variances (univariate) ##\n",
        "  psi = [np.random.normal(100, 25) for i in range(n_clusters)]\n",
        "  #psi = np.arange(90, 90 + 5 * n_clusters, 5)\n",
        "  psi = np.sort(psi, 0)\n",
        "  omega = 1 ## standard deviation\n",
        "  ###\n",
        "\n",
        "  ## set latent variables distributions ##\n",
        "  lambda_arr = np.random.binomial(1, .95, n_obs) # p=.95 (a cell belongs to singlet or doublet) \n",
        "\n",
        "  n_singlet = np.sum(lambda_arr == 1) ## number of cells in singlet clusters\n",
        "  n_doublet = np.sum(lambda_arr == 0) ## number of cells in doublet clusters\n",
        "  \n",
        "  lambda0_arr = n_singlet / n_obs ## proportion of cells belong to singlet\n",
        "  lambda1_arr = n_doublet / n_obs ## proportion of cells belong to doublet\n",
        "\n",
        "  #pi_arr = np.sort(np.random.sample(n_clusters))\n",
        "  pi_arr = np.sort(np.random.rand(n_clusters))\n",
        "  pi_arr /= pi_arr.sum()\n",
        "\n",
        "  n_doublet_clusters = int((n_clusters * n_clusters - n_clusters)/2 + n_clusters)\n",
        "  #tau_arr = np.sort(np.random.sample(n_doublet_clusters))\n",
        "  tau_arr = np.sort(np.random.rand(n_doublet_clusters))\n",
        "  tau_arr /= tau_arr.sum()\n",
        "\n",
        "  ## draw cells based on defined parameters theta1 = (mu, sigma, psi, omega) & theta2 = (lambda, pi, tau)\n",
        "  x = np.zeros((n_singlet, n_features+5))\n",
        "  for i in range(n_singlet):\n",
        "    selected_cluster = np.random.choice(n_clusters, size = 1, p = pi_arr)[0] ## select a single cell cluster\n",
        "    x[i] = np.append(np.random.multivariate_normal(mu[selected_cluster], sigma),\n",
        "                     [np.random.normal(psi[selected_cluster], omega), \n",
        "                      0, selected_cluster, 0, selected_cluster + n_doublet_clusters])\n",
        "  \n",
        "  x[x < 0] = 1e-4\n",
        "  lookups = np.triu_indices(n_clusters) # wanted indices\n",
        "  xx = np.zeros((n_doublet, n_features+5))\n",
        "  for i in range(n_doublet):\n",
        "    selected_cluster = np.random.choice(n_doublet_clusters, p = tau_arr)\n",
        "\n",
        "    indx1 = lookups[0][selected_cluster]\n",
        "    indx2 = lookups[1][selected_cluster]\n",
        "\n",
        "    xx[i] = np.append(np.random.multivariate_normal( (mu[indx1] + mu[indx2])/2, (sigma + sigma)/2 ),\n",
        "                     [np.random.normal( (psi[indx1] + psi[indx2]), omega+omega ), \n",
        "                      1, indx1, indx2, selected_cluster])\n",
        "  xx[xx < 0] = 1e-4\n",
        "  xxx = np.append(x, xx).reshape(n_obs, n_features+5)\n",
        "\n",
        "  return torch.tensor(xxx[:,:n_features]), torch.tensor(xxx[:,n_features]), torch.tensor(xxx), [mu, sigma, psi, omega], [lambda0_arr, pi_arr, tau_arr]"
      ],
      "execution_count": 2,
      "outputs": []
    },
    {
      "cell_type": "code",
      "metadata": {
        "id": "kOT9r_pP7KiH"
      },
      "source": [
        "def initialize_parameters(n_clusters, X, S, initA = \"kmeans\"): ## version from previous code\n",
        "\n",
        "  n_obs, n_features = X.shape\n",
        "  xx = torch.hstack((X, S.reshape(-1,1)))\n",
        "\n",
        "  tot_clusters = int((n_clusters * n_clusters - n_clusters)/2 + 2*n_clusters)\n",
        "\n",
        "  if initA == \"kmeans\":\n",
        "    kms = KMeans(tot_clusters).fit(S.reshape(-1,1))\n",
        "    pred = kms.labels_\n",
        "    cellsize_centers, idx = torch.sort(torch.tensor(kms.cluster_centers_.squeeze())) ## psi\n",
        "    score = kms.inertia_\n",
        "  else:\n",
        "    gmm = GaussianMixture(tot_clusters).fit(S.reshape(-1,1))\n",
        "    pred = gmm.predict(S.reshape(-1,1))\n",
        "    cellsize_centers, idx = torch.sort(torch.tensor(gmm.means_.squeeze())) ## psi\n",
        "    score = gmm.score(S.reshape(-1,1))\n",
        "\n",
        "  cluster_mean = np.zeros((tot_clusters, n_features + 1)) ## mu, psi\n",
        "  cluster_var = np.zeros((tot_clusters, n_features + 1)) ## sigma, omega\n",
        "  topkcounts = pd.DataFrame(pred).value_counts().sort_values(ascending=False)\n",
        "\n",
        "  weights = []\n",
        "  for j in range(tot_clusters):\n",
        "    weights.append(topkcounts[topkcounts.keys() == idx[j]].values[0] / n_obs)\n",
        "    cluster_var[j] = np.diag(np.cov(xx[pred == int(idx[j])].T))\n",
        "    cluster_mean[j] = torch.mean(xx[pred == int(idx[j])], 0)\n",
        "\n",
        "  #print(cluster_var)\n",
        "  lambda_d0 = np.sum(weights[:n_clusters])\n",
        "  pi = weights[:n_clusters]\n",
        "\n",
        "  tau = np.triu(np.ones((n_clusters, n_clusters)))\n",
        "  tau[tau == 0] = float('NaN')\n",
        "  tau[np.triu_indices(n_clusters)] = weights[n_clusters:]\n",
        "\n",
        "  mu = np.log(cluster_mean[:n_clusters, :n_features])\n",
        "  sigma = np.log(cluster_var[:n_clusters, :n_features]) ## multivariate normal requires cov (diag is var)\n",
        "  psi = np.log(cluster_mean[:n_clusters, n_features])\n",
        "  omega = np.log(cluster_var[:n_clusters, n_features] ** 0.5) ## univariate normal requires std\n",
        "\n",
        "  device = 'cuda' if torch.cuda.is_available() else 'cpu'\n",
        "\n",
        "  gpsi = torch.tensor(psi, requires_grad=True, dtype=torch.float, device=device)\n",
        "  gomega = torch.tensor(omega, requires_grad=True, dtype=torch.float, device=device)\n",
        "\n",
        "  gmu = torch.tensor(mu, requires_grad=True, dtype=torch.float, device=device)\n",
        "  gsigma = torch.tensor(sigma, requires_grad=True, dtype=torch.float, device=device)\n",
        "\n",
        "  return score, [torch.tensor(lambda_d0), torch.tensor(pi), torch.tensor(tau), gpsi, gomega, gmu, gsigma], [lambda_d0, pi, tau, psi, omega, mu, sigma]"
      ],
      "execution_count": 3,
      "outputs": []
    },
    {
      "cell_type": "code",
      "metadata": {
        "id": "lX96sNktxR9g"
      },
      "source": [
        "def compute_r_v(Y, S, Theta):\n",
        "\n",
        "  nc = len(Theta[2][1])\n",
        "  no, nf = Y.shape\n",
        "  \n",
        "  log_lambda0_pi = torch.log(Theta[0]) + torch.log(Theta[1]) ##lambda_d0 & pi\n",
        "  log_lambda1_tau = torch.log(1 - Theta[0]) + torch.log(Theta[2]) ##lambda_d1 & tau\n",
        "\n",
        "  log_rd0z = torch.zeros(nc, no)\n",
        "  log_rd1g = torch.zeros(nc, nc, no)\n",
        "\n",
        "  cov_facts = torch.zeros(nf, 1, requires_grad=False, dtype=torch.float)\n",
        "\n",
        "  for j in range(nc):\n",
        "    \n",
        "    slz = D.Normal(torch.exp(Theta[3][j]), torch.exp(Theta[4][j])).log_prob(S.float()) ## psi & omega\n",
        "    elz = D.LowRankMultivariateNormal(torch.exp(Theta[5][j]), cov_facts, torch.exp(Theta[6][j])).log_prob(Y.float()) ## mu & sigma\n",
        "    \n",
        "    log_rd0z[j] = log_lambda0_pi[j] + elz + slz\n",
        "\n",
        "    for k in range(nc):\n",
        "      if torch.isnan(log_lambda1_tau[j,k]): #lower triangular nan\n",
        "        log_rd1g[j,k] = float(\"NaN\")\n",
        "      else:\n",
        "        slg = D.Normal((torch.exp(Theta[3][j]) + torch.exp(Theta[3][k])), torch.exp(Theta[4][j]) + torch.exp(Theta[4][k])).log_prob(S.float())\n",
        "        elg = D.LowRankMultivariateNormal((torch.exp(Theta[5][j]) + torch.exp(Theta[5][k]))/2, cov_facts, (torch.exp(Theta[6][j]) + torch.exp(Theta[6][k]))/2).log_prob(Y.float())\n",
        "\n",
        "        log_rd1g[j,k] = log_lambda1_tau[j,k] + elg + slg\n",
        "\n",
        "  log_rd1g = log_rd1g.reshape(nc * nc, no) #shape: (cxc')xn\n",
        "\n",
        "  ignored_indices = torch.isnan(torch.logsumexp(log_rd1g, 1))\n",
        "  assert(ignored_indices.sum() == (nc * nc - nc) / 2)\n",
        "    \n",
        "  log_rdzg_norm = torch.logsumexp(torch.vstack((log_rd0z, log_rd1g[~ignored_indices])),0) #shape: n\n",
        "  #log_rdzg_norm1 = torch.logsumexp(torch.vstack((torch.logsumexp(log_rd0z, 0), torch.logsumexp(log_rd1g[~ignored_indices],0))),0)\n",
        "\n",
        "  log_rdz = (log_rd0z - log_rdzg_norm).T #shape: nxc\n",
        "  log_rdg = (log_rd1g - log_rdzg_norm).T #shape: nx(cxc')\n",
        "\n",
        "  q1 = log_rd0z.T * log_rdz.exp(); q1[torch.isnan(q1)] = 0.0\n",
        "  q2 = log_rd1g[~ignored_indices].T * log_rdg[:,~ignored_indices].exp(); q2[torch.isnan(q2)] = 0.0\n",
        "  q = torch.tensor( (torch.sum(q1, 1) + torch.sum(q2, 1)).mean(), requires_grad=True, dtype=torch.float)\n",
        "\n",
        "  return log_rd0z, log_rdz, log_rd1g, log_rdg, ignored_indices ##r & v\n",
        "\n",
        "def Q(Theta, Y, S, r, v, ignored_indices):\n",
        "  \n",
        "  nc = len(Theta[2][1])\n",
        "  no, nf = Y.shape\n",
        "\n",
        "  log_lambda0_pi = torch.log(Theta[0]) + torch.log(Theta[1]) ##lambda_d0 & pi\n",
        "  log_lambda1_tau = torch.log(1 - Theta[0]) + torch.log(Theta[2]) ##lambda_d1 & tau\n",
        "\n",
        "  log_rd0z = torch.zeros(nc, no)\n",
        "  log_rd1g = torch.zeros(nc, nc, no)\n",
        "\n",
        "  cov_facts = torch.zeros(nf, 1, requires_grad=False, dtype=torch.float)\n",
        "  for j in range(nc):\n",
        "    \n",
        "    slz = D.Normal(torch.exp(Theta[3][j]), torch.exp(Theta[4][j])).log_prob(S.float()) ## psi & omega\n",
        "    elz = D.LowRankMultivariateNormal(torch.exp(Theta[5][j]), cov_facts, torch.exp(Theta[6][j])).log_prob(Y.float()) ## mu & sigma\n",
        "    \n",
        "    log_rd0z[j] = log_lambda0_pi[j] + elz + slz\n",
        "\n",
        "    for k in range(nc):\n",
        "      if torch.isnan(log_lambda1_tau[j,k]): #lower triangular nan\n",
        "        log_rd1g[j,k] = float(\"NaN\")\n",
        "      else:\n",
        "        slg = D.Normal((torch.exp(Theta[3][j]) + torch.exp(Theta[3][k])), torch.exp(Theta[4][j]) + torch.exp(Theta[4][k])).log_prob(S.float())\n",
        "        elg = D.LowRankMultivariateNormal((torch.exp(Theta[5][j]) + torch.exp(Theta[5][k]))/2, cov_facts, (torch.exp(Theta[6][j]) + torch.exp(Theta[6][k]))/2).log_prob(Y.float())\n",
        "\n",
        "        log_rd1g[j,k] = log_lambda1_tau[j,k] + elg + slg\n",
        "\n",
        "  log_rd1g = log_rd1g.reshape(nc * nc, no) #shape: (cxc')xn\n",
        "\n",
        "  q1 = log_rd0z.T * r.exp() #; q1[torch.isnan(q1)] = 0.0\n",
        "  q2 = log_rd1g[~ignored_indices].T * v[:,~ignored_indices].exp() #; q2[torch.isnan(q2)] = 0.0\n",
        "  q = (torch.sum(q1, 1) + torch.sum(q2, 1)).mean()\n",
        "\n",
        "  return q\n",
        "\n",
        "def LL(Theta, rd0z, r, rd1g, v, ignored_indices):\n",
        "    \"\"\"\n",
        "    returns L(\\mathbf\\Theta, \\mathbf{Y}, \\mathbf{s}, \\mathbf{r}, \\mathbf{v})\n",
        "    \"\"\"\n",
        "    l1 = rd0z.T + r\n",
        "    l2 = rd1g[~ignored_indices].T + v[:,~ignored_indices]; #l2[torch.isinf(l2)] = -100\n",
        "    ll = torch.vstack((torch.logsumexp(l1,1), torch.logsumexp(l2,1))).logsumexp(0).mean()\n",
        "\n",
        "    return ll"
      ],
      "execution_count": 4,
      "outputs": []
    },
    {
      "cell_type": "code",
      "metadata": {
        "id": "foTm9jlYHdIg"
      },
      "source": [
        "no, nf = [10000, 2]\n",
        "nc = 3\n",
        "\n",
        "Y, S, XX, theta0, theta1 = generateData(nc, no, nf)\n",
        "_, Theta, _ = initialize_parameters(nc, Y, S)"
      ],
      "execution_count": 5,
      "outputs": []
    },
    {
      "cell_type": "code",
      "metadata": {
        "id": "4y6jOnGgHh9v"
      },
      "source": [
        "N_ITER_EM = 100\n",
        "N_ITER_OPT = 20\n",
        "lr = 0.0001\n",
        "tot = 1e-4\n",
        "ls = []\n",
        "qs = []"
      ],
      "execution_count": 6,
      "outputs": []
    },
    {
      "cell_type": "code",
      "metadata": {
        "colab": {
          "base_uri": "https://localhost:8080/"
        },
        "id": "wLIiPqekxofl",
        "outputId": "a53eb00b-f9f1-4c3c-fdad-b0316cff7685"
      },
      "source": [
        "opt = optim.Adam(Theta, lr=lr)\n",
        "for i in range(N_ITER_EM):\n",
        "  \n",
        "  # E Step:\n",
        "  with torch.no_grad():\n",
        "    rd0z, r, rd1g, v, ignored_indices = compute_r_v(Y, S, Theta)\n",
        "  \n",
        "  # M step (i.e. maximizing Q):\n",
        "  for j in range(N_ITER_OPT):\n",
        "    opt.zero_grad()\n",
        "    q = -Q(Theta, Y, S, r, v, ignored_indices)\n",
        "    q.backward()\n",
        "    opt.step()\n",
        "  \n",
        "    n_c = torch.sum(torch.exp(r), dim=0)\n",
        "    Theta[1] = n_c / no #lambda_d0\n",
        "    Theta[0] = torch.sum(Theta[1]) #pi\n",
        "\n",
        "    n_cc = torch.sum(torch.exp(v).reshape(no, nc, nc), dim=0)\n",
        "    Theta[2] = n_cc / no #tau\n",
        "\n",
        "  # Check for convergence\n",
        "  with torch.no_grad():\n",
        "    ll = LL(Theta, rd0z, r, rd1g, v, ignored_indices)\n",
        "    \n",
        "    if i > 0 and abs(ls[-1] - ll) < tot:\n",
        "      break\n",
        "    \n",
        "    qs.append(-q.detach())\n",
        "    ls.append(ll)"
      ],
      "execution_count": 7,
      "outputs": [
        {
          "output_type": "stream",
          "text": [
            "/usr/local/lib/python3.7/dist-packages/ipykernel_launcher.py:43: UserWarning: To copy construct from a tensor, it is recommended to use sourceTensor.clone().detach() or sourceTensor.clone().detach().requires_grad_(True), rather than torch.tensor(sourceTensor).\n"
          ],
          "name": "stderr"
        }
      ]
    },
    {
      "cell_type": "code",
      "metadata": {
        "colab": {
          "base_uri": "https://localhost:8080/"
        },
        "id": "0263Z5BsuuAe",
        "outputId": "bfdc9e70-3fa2-411d-f715-02e7fe44566f"
      },
      "source": [
        "i"
      ],
      "execution_count": 11,
      "outputs": [
        {
          "output_type": "execute_result",
          "data": {
            "text/plain": [
              "99"
            ]
          },
          "metadata": {
            "tags": []
          },
          "execution_count": 11
        }
      ]
    },
    {
      "cell_type": "code",
      "metadata": {
        "colab": {
          "base_uri": "https://localhost:8080/",
          "height": 283
        },
        "id": "UPdm6te2SbEq",
        "outputId": "e4900f99-828e-4b85-c401-cfb81428d0f0"
      },
      "source": [
        "plt.plot(ls, 'r')"
      ],
      "execution_count": 8,
      "outputs": [
        {
          "output_type": "execute_result",
          "data": {
            "text/plain": [
              "[<matplotlib.lines.Line2D at 0x7f015e41b990>]"
            ]
          },
          "metadata": {
            "tags": []
          },
          "execution_count": 8
        },
        {
          "output_type": "display_data",
          "data": {
            "image/png": "[encoded data removed]",
            "text/plain": [
              "<Figure size 432x288 with 1 Axes>"
            ]
          },
          "metadata": {
            "tags": [],
            "needs_background": "light"
          }
        }
      ]
    },
    {
      "cell_type": "code",
      "metadata": {
        "colab": {
          "base_uri": "https://localhost:8080/",
          "height": 283
        },
        "id": "_PNBLh_2r7lt",
        "outputId": "b7430e57-37c7-4b84-a1f0-dc8b4edaeb03"
      },
      "source": [
        "plt.plot(qs, 'b')"
      ],
      "execution_count": 9,
      "outputs": [
        {
          "output_type": "execute_result",
          "data": {
            "text/plain": [
              "[<matplotlib.lines.Line2D at 0x7f015e37a550>]"
            ]
          },
          "metadata": {
            "tags": []
          },
          "execution_count": 9
        },
        {
          "output_type": "display_data",
          "data": {
            "image/png": "[encoded data removed]",
            "text/plain": [
              "<Figure size 432x288 with 1 Axes>"
            ]
          },
          "metadata": {
            "tags": [],
            "needs_background": "light"
          }
        }
      ]
    },
    {
      "cell_type": "code",
      "metadata": {
        "colab": {
          "base_uri": "https://localhost:8080/",
          "height": 73
        },
        "id": "IMAkG1SNId6a",
        "outputId": "09434305-e868-48f4-a1a3-2fe0a96cbd72"
      },
      "source": [
        "\"\"\"\n",
        "Note: rather than deal with individual parameters constantly, we can make\n",
        "Theta be a list of tensors\n",
        "[mu, Sigma, psi, omega, lambda, pi, tau]\n",
        "and always refer to them *within* the functions compute_v, compute_r, Q, L\n",
        "when you need them, e.g.\n",
        "mu = Theta[0]\n",
        "etc. (this could also be a python dictionary!)\n",
        "\"\"\""
      ],
      "execution_count": 10,
      "outputs": [
        {
          "output_type": "execute_result",
          "data": {
            "application/vnd.google.colaboratory.intrinsic+json": {
              "type": "string"
            },
            "text/plain": [
              "'\\nNote: rather than deal with individual parameters constantly, we can make\\nTheta be a list of tensors\\n[mu, Sigma, psi, omega, lambda, pi, tau]\\nand always refer to them *within* the functions compute_v, compute_r, Q, L\\nwhen you need them, e.g.\\nmu = Theta[0]\\netc. (this could also be a python dictionary!)\\n'"
            ]
          },
          "metadata": {
            "tags": []
          },
          "execution_count": 10
        }
      ]
    }
  ]
}