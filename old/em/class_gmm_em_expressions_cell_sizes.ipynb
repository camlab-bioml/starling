{
  "nbformat": 4,
  "nbformat_minor": 0,
  "metadata": {
    "colab": {
      "name": "class_gmm_em_expressions_cell_sizes",
      "provenance": [],
      "collapsed_sections": [],
      "authorship_tag": "ABX9TyO14atKJY78hB0z4kj1Ywbm",
      "include_colab_link": true
    },
    "kernelspec": {
      "name": "python3",
      "display_name": "Python 3"
    },
    "language_info": {
      "name": "python"
    }
  },
  "cells": [
    {
      "cell_type": "markdown",
      "metadata": {
        "id": "view-in-github",
        "colab_type": "text"
      },
      "source": [
        "<a href=\"https://colab.research.google.com/github/camlab-bioml/2021_IMC_Jett/blob/main/class_gmm_em_expressions_cell_sizes.ipynb\" target=\"_parent\"><img src=\"https://colab.research.google.com/assets/colab-badge.svg\" alt=\"Open In Colab\"/></a>"
      ]
    },
    {
      "cell_type": "code",
      "metadata": {
        "id": "fB0jYWaLT8fU"
      },
      "source": [
        "import torch\n",
        "import torch.optim as optim\n",
        "import torch.distributions as D\n",
        "\n",
        "import torch.nn as nn\n",
        "\n",
        "import numpy as np\n",
        "import matplotlib.pyplot as plt\n",
        "import sklearn.datasets as datasets"
      ],
      "execution_count": 1,
      "outputs": []
    },
    {
      "cell_type": "code",
      "metadata": {
        "id": "gQvSYFm5LX8I"
      },
      "source": [
        "## class version of using analytical and torch.optim updates\n",
        "\n",
        "class GMM(object):\n",
        "\n",
        "  def __init__(self, X, S, emu_c, smu_c, n_clusters=3, grad=False):\n",
        "    self.X = torch.tensor(X)\n",
        "    self.S = torch.tensor(S)\n",
        "    self.emu_c = emu_c\n",
        "    self.smu_c = smu_c\n",
        "\n",
        "    # dimension\n",
        "    self.n_obs, self.n_features = X.shape\n",
        "    self.n_clusters = n_clusters\n",
        "\n",
        "  #def initialization(self, grad=False):\n",
        "\n",
        "    #torch.manual_seed(42)\n",
        "\n",
        "    self.pi_d0 = torch.tensor(0.9)\n",
        "      \n",
        "    self.n_c = torch.tensor(self.n_obs / self.n_clusters).repeat(self.n_clusters)\n",
        "    self.pi_c = self.n_c / self.n_obs\n",
        "    #self.pi_c = torch.zeros(self.n_clusters).fill_(1. / (self.n_clusters))\n",
        "\n",
        "    self.n_cc = torch.triu(torch.ones(self.n_clusters, self.n_clusters)) * torch.tensor(self.n_obs / self.n_clusters**2)\n",
        "    self.n_cc[self.n_cc == 0] = float('NaN')\n",
        "    self.pi_cc = self.n_cc / self.n_obs\n",
        "\n",
        "    #self.pi_cc = torch.triu(torch.ones(self.n_clusters, self.n_clusters))\n",
        "    #self.pi_cc = self.pi_cc / torch.sum(self.pi_cc)\n",
        "    #self.pi_cc[self.pi_cc == 0] = float('NaN')\n",
        "\n",
        "    self.log_post_d0 = torch.zeros(self.n_obs)\n",
        "    self.log_post_d1 = torch.zeros(self.n_obs)\n",
        "    self.log_post_z = torch.zeros(self.n_obs, self.n_clusters)\n",
        "    self.log_post_g = torch.zeros(self.n_obs, self.n_clusters * self.n_clusters)\n",
        "    self.log_post_dz = torch.zeros(self.n_obs, self.n_clusters)\n",
        "    self.log_post_dg = torch.zeros(self.n_obs, self.n_clusters * self.n_clusters)\n",
        "\n",
        "    self.eco_c = 0.1 * torch.eye(self.n_features).tile(self.n_clusters, 1, 1)\n",
        "    self.sco_c = 0.1 * torch.ones(self.n_clusters, dtype=torch.float)\n",
        "\n",
        "    self.smu_cc = torch.zeros(self.n_clusters, self.n_clusters, dtype=torch.float)\n",
        "    self.sco_cc = torch.zeros(self.n_clusters, self.n_clusters, dtype=torch.float)\n",
        "\n",
        "    self.emu_cc = torch.zeros(self.n_clusters, self.n_clusters, self.n_features, dtype=torch.float)\n",
        "    self.eco_cc = torch.zeros(self.n_clusters, self.n_clusters, self.n_features, self.n_features, dtype=torch.float)\n",
        "\n",
        "    for j in range(self.n_clusters):\n",
        "      for k in range(self.n_clusters):\n",
        "        self.smu_cc[j,k] = self.smu_c[j] + self.smu_c[k]\n",
        "        self.sco_cc[j,k] = self.sco_c[j] + self.sco_c[k]\n",
        "\n",
        "        self.emu_cc[j,k] = (self.emu_c[j] + self.emu_c[k])/2\n",
        "        self.eco_cc[j,k] = (self.eco_c[j] + self.eco_c[k])/2\n",
        "\n",
        "    if grad == True:\n",
        "\n",
        "      device = 'cuda' if torch.cuda.is_available() else 'cpu'\n",
        "\n",
        "      self.smu_c = torch.tensor(self.smu_c, requires_grad=True, dtype=torch.float, device=device)\n",
        "      self.sco_c = torch.tensor(self.sco_c, requires_grad=True, dtype=torch.float, device=device)\n",
        "      \n",
        "      self.emu_c = torch.tensor(self.emu_c, requires_grad=True, dtype=torch.float, device=device)\n",
        "      self.eco_c = torch.tensor(self.eco_c, requires_grad=True, dtype=torch.float, device=device)\n",
        "      \n",
        "      ####\n",
        "      \n",
        "      self.smu_cc = torch.tensor(self.smu_cc, requires_grad=True, dtype=torch.float, device=device)\n",
        "      self.sco_cc = torch.tensor(self.sco_cc, requires_grad=True, dtype=torch.float, device=device)\n",
        "      \n",
        "      self.emu_cc = torch.tensor(self.emu_cc, requires_grad=True, dtype=torch.float, device=device)\n",
        "      self.eco_cc = torch.tensor(self.eco_cc, requires_grad=True, dtype=torch.float, device=device)\n",
        "      \n",
        "      ####\n",
        "\n",
        "  def _train(self, grad=False, n_epochs = 1000, tot = 1e-4):\n",
        "\n",
        "    if grad:\n",
        "      #parameters = [self.emu_c, self.eco_c, self.smu_c, self.sco_c]\n",
        "      parameters = [self.emu_c, self.eco_c, self.smu_c, self.sco_c, self.emu_cc, self.eco_cc, self.smu_cc, self.sco_cc]\n",
        "      #opt = optim.SGD(parameters, lr = 0.01)\n",
        "      opt = optim.Adam(parameters, lr = 0.01)\n",
        "\n",
        "    iter = 0\n",
        "    llv = [0.0]\n",
        "    while iter < n_epochs:\n",
        "      \n",
        "      if grad:\n",
        "        loss = self._e_step(grad=True)\n",
        "        self._m_stepO(parameters, opt, loss, tot)\n",
        "      else:\n",
        "        loss = self._e_step(grad=False)\n",
        "        self._m_step()\n",
        "    \n",
        "      print('Iteration', iter + 1, 'Likelihood: ', -loss)\n",
        "\n",
        "      if abs(llv[-1] + loss) < tot:\n",
        "        break\n",
        "      \n",
        "      llv.append(-loss)\n",
        "      iter += 1\n",
        "\n",
        "    aic, bic = self._ics(-loss)\n",
        "    return llv[1:], aic, bic\n",
        "\n",
        "  def _trainT(self, n_epochs = 1000, lr = 0.01, tot = 1e-4):\n",
        "    \n",
        "    #parameters = [self.emu_c, self.eco_c, self.smu_c, self.sco_c]\n",
        "    parameters = [self.emu_c, self.eco_c, self.smu_c, self.sco_c, self.emu_cc, self.eco_cc, self.smu_cc, self.sco_cc]\n",
        "    opt = optim.SGD(parameters, lr=lr)\n",
        "    #opt = optim.Adam(parameters)\n",
        "    \n",
        "    iter = 0\n",
        "    llv = [0.0]\n",
        "    while iter < n_epochs:\n",
        "      loss = self._e_step()\n",
        "      self._m_stepO(parameters, opt, loss, tot)\n",
        "\n",
        "      print('Iteration', iter + 1, 'Likelihood: ', -loss)\n",
        "\n",
        "      if abs(llv[-1] + loss) < tot:\n",
        "        break\n",
        "      \n",
        "      llv.append(-loss)\n",
        "      iter += 1\n",
        "\n",
        "    aic, bic = self._ics(-loss)\n",
        "\n",
        "    return llv[1:], aic, bic\n",
        "\n",
        "  def _trainA(self, itermax=100, tot=1e-4):\n",
        "    \n",
        "    iter = 0\n",
        "    llv = [0.0]\n",
        "    while iter < itermax:\n",
        "      loss = self._e_step()\n",
        "      self._m_step()\n",
        "      #print(self.emu_c)\n",
        "\n",
        "      print('Iteration', iter + 1, 'Likelihood: ', -loss)\n",
        "\n",
        "      if abs(llv[-1] + loss) < tot:\n",
        "        break\n",
        "      \n",
        "      llv.append(-loss)\n",
        "      iter += 1\n",
        "\n",
        "    aic, bic = self._ics(-loss) #, X.shape[0], X.shape[1], len(pi_c))\n",
        "    \n",
        "    return llv[1:], aic, bic\n",
        "\n",
        "  def _ics(self, logL): #, n, p, c\n",
        "    params = ( (((self.n_features * self.n_features) - self.n_features)/2 + 2 * self.n_features + 3) * (((self.n_clusters * self.n_clusters) - self.n_clusters)/2 + 2 * self.n_clusters) ) - 1\n",
        "    return 2 * (params - logL), -2 * logL + params * np.log(self.n_obs)\n",
        "\n",
        "  def _e_step(self, grad=True):\n",
        "\n",
        "    log_pi_d0 = torch.log(self.pi_d0)\n",
        "    log_pi_d1 = torch.log(1 - self.pi_d0)\n",
        "\n",
        "    log_pi_c = torch.log(self.pi_c)\n",
        "    log_pi_cc = torch.log(self.pi_cc)\n",
        "\n",
        "    ### E-step:\n",
        "    log_post_top0 = torch.zeros(self.n_clusters, self.n_obs)\n",
        "    log_post_top1 = torch.zeros(self.n_clusters, self.n_clusters, self.n_obs)\n",
        "\n",
        "    for j in range(self.n_clusters):\n",
        "  \n",
        "      el0 = torch.distributions.MultivariateNormal(self.emu_c[j].float(), self.eco_c[j].float()).log_prob(self.X.float())\n",
        "      sl0 = torch.distributions.Normal(self.smu_c[j].float(), self.sco_c[j].float()).log_prob(self.S.float())\n",
        "      log_post_top0[j] = log_pi_d0 + log_pi_c[j] + el0 + sl0\n",
        "\n",
        "      for k in range(self.n_clusters):\n",
        "        if grad:\n",
        "          el1 = torch.distributions.MultivariateNormal(self.emu_cc[j,k].float()/2, self.eco_cc[j,k].float()/2).log_prob(self.X.float())\n",
        "          sl1 = torch.distributions.Normal(self.smu_cc[j,k].float(), self.sco_cc[j,k].float()).log_prob(self.S.float())\n",
        "        else:\n",
        "          el1 = torch.distributions.MultivariateNormal((self.emu_c[j] + self.emu_c[k]).float()/2, (self.eco_c[j] + self.eco_c[k]).float()/2).log_prob(self.X.float())\n",
        "          #https://stats.stackexchange.com/questions/99363/mean-of-covariance-matrices\n",
        "          #https://stats.stackexchange.com/questions/214174/calculating-the-covariance-matrix-for-the-mean-of-variables\n",
        "          sl1 = torch.distributions.Normal((self.smu_c[j] + self.smu_c[k]).float(), (self.sco_c[j] + self.sco_c[k]).float()).log_prob(self.S.float())\n",
        "        \n",
        "        if torch.isnan(self.pi_cc[j,k]): #lower triangular nan\n",
        "          log_post_top1[j,k] = float(\"-Inf\")\n",
        "        else:\n",
        "          log_post_top1[j,k] = log_pi_d1 + log_pi_cc[j,k] + el1 + sl1\n",
        "\n",
        "    log_post_bot0 = torch.logsumexp(log_post_top0, 0) #n\n",
        "    self.log_post_z = (log_post_top0 - log_post_bot0).T #nxc (rjk)\n",
        "    self.log_post_z[torch.isnan(self.log_post_z)] = 0\n",
        "\n",
        "    log_post_top1 = log_post_top1.reshape(self.n_clusters * self.n_clusters, self.n_obs) #reshape\n",
        "    log_post_bot1 = torch.logsumexp(log_post_top1, 0) #n\n",
        "    self.log_post_g = (log_post_top1 - log_post_bot1).T #nxc (rijk)\n",
        "    self.log_post_g[torch.isnan(self.log_post_g)] = 0\n",
        "\n",
        "    bot = torch.exp(log_post_bot0) + torch.exp(log_post_bot1)\n",
        "\n",
        "    bot[bot==0.0] = 1e-6\n",
        "    bot = torch.log(bot)\n",
        "\n",
        "    loss = -torch.mean(bot)\n",
        "\n",
        "    self.log_post_d0 = log_post_bot0 - bot\n",
        "    self.log_post_d1 = log_post_bot1 - bot\n",
        "\n",
        "    self.log_post_dz = self.log_post_d0[:,None] + self.log_post_z\n",
        "    self.log_post_dg = self.log_post_d1[:,None] + self.log_post_g\n",
        "\n",
        "    return loss #, log_post_d0, log_post_d1, log_post_z, log_post_g, log_post_dz, log_post_dg\n",
        "\n",
        "  def _m_stepO(self, params, opt, loss, tot):\n",
        "\n",
        "    opt.zero_grad()\n",
        "    loss.backward()\n",
        "    opt.step()\n",
        "      \n",
        "    with torch.no_grad():\n",
        "      params[0].clamp_(0)\n",
        "      params[1].clamp_(tot)\n",
        "      params[2].clamp_(0)\n",
        "      params[3].clamp_(tot)\n",
        "      params[4].clamp_(0)\n",
        "      params[5].clamp_(tot)\n",
        "      params[6].clamp_(tot)\n",
        "      params[7].clamp_(0)\n",
        "\n",
        "      r_ij = torch.exp(self.log_post_dz)\n",
        "      self.n_c = torch.sum(r_ij, dim=0)\n",
        "      self.pi_c = self.n_c / self.n_obs  # c values\n",
        "    \n",
        "      #assert(torch.isnan(pi_c).sum() == 0)\n",
        "      r_ijk = torch.exp(self.log_post_dg).reshape(self.n_obs, self.n_clusters, self.n_clusters)\n",
        "      self.n_cc = torch.sum(r_ijk, dim=0) # (cxc)\n",
        "      self.pi_cc = self.n_cc / self.n_obs  # cxc matrix\n",
        "\n",
        "      self.pi_d0 = torch.sum(torch.exp(self.log_post_d0)) / self.n_obs\n",
        "\n",
        "  def _m_step(self):\n",
        "\n",
        "    self.pi_d0 = torch.sum(torch.exp(self.log_post_d0)) / self.n_obs # one value\n",
        "\n",
        "    r_ij = torch.exp(self.log_post_dz)\n",
        "    self._estimate_mean_cov_t1v2(r_ij)\n",
        "    #n_c, smu_c, sco_c, emu_c, eco_c = _estimate_mean_cov_t1v2(X, S, r_ij)\n",
        "    self.pi_c = self.n_c / self.n_obs # c values\n",
        "\n",
        "    indx = []\n",
        "    for j in range(self.log_post_dg.shape[1]):\n",
        "      if torch.sum(torch.isinf(self.log_post_dg[:,j])) == self.log_post_dg.shape[0]:\n",
        "        indx.append(j)\n",
        "    self.log_post_dg[:,indx] = float('NaN')\n",
        "\n",
        "    r_ijk = torch.exp(self.log_post_dg).reshape(self.n_obs, self.n_clusters, self.n_clusters)\n",
        "    self._estimate_mean_cov_t2v2(r_ijk)\n",
        "    #n_cc, smu_cc, sco_cc, emu_cc, eco_cc = _estimate_mean_cov_t2v2(X, S, r_ijk)\n",
        "    self.pi_cc = self.n_cc / self.n_obs  # cxc matrix  \n",
        "\n",
        "    #return pi_d0, n_c, pi_c, emu_c, eco_c, smu_c, sco_c, n_cc, pi_cc, emu_cc, eco_cc, smu_cc, sco_cc\n",
        "\n",
        "  def _estimate_mean_cov_t1v2(self, r_ij, reg=1e-6):\n",
        "\n",
        "    self.n_c = torch.sum(r_ij, dim=0) + reg # (c)\n",
        "    #print(self.n_c.sum())\n",
        "\n",
        "    for j in range(self.n_clusters):\n",
        "      e_n = torch.round(self.n_c[j])\n",
        "      idx = r_ij[:,j].argsort()[-e_n.int():]\n",
        "      self.smu_c[j] = torch.mean(self.S[idx], 0)\n",
        "      self.emu_c[j] = torch.mean(self.X[idx], 0)\n",
        "      if e_n > 1:\n",
        "        self.sco_c[j] = torch.std(S[idx]) + reg\n",
        "        self.eco_c[j] = torch.tensor(np.cov(self.X[idx].T, ddof=0)) + reg * torch.eye(self.n_features)\n",
        "      else:\n",
        "        self.eco_c[j] = reg * torch.eye(self.n_features)\n",
        "        self.sco_c[j] = reg\n",
        "    #return n_c, smut, scot, emut, ecot\n",
        "  \n",
        "  def _estimate_mean_cov_t2v2(self, r_ijk, reg=1e-6):\n",
        "  \n",
        "    self.n_cc = torch.sum(r_ijk, dim=0) + reg # (cxc)\n",
        "\n",
        "    for j in range(self.n_clusters):\n",
        "      for k in range(self.n_clusters):\n",
        "        if not torch.isnan(self.n_cc[j,k]):\n",
        "          e_n = torch.round(self.n_cc[j,k])\n",
        "          idx = r_ijk[:,j,k].argsort()[-e_n.int():]\n",
        "          self.smu_cc[j,k] = torch.mean(self.S[idx], 0)\n",
        "          self.emu_cc[j,k] = torch.mean(self.X[idx], 0)\n",
        "          if e_n > 1:\n",
        "            self.sco_cc[j,k] = torch.std(self.S[idx]) + reg\n",
        "            self.eco_cc[j,k] = torch.tensor(np.cov(self.X[idx].T, ddof=0)) + reg * torch.eye(self.n_features)\n",
        "          else:\n",
        "            self.sco_cc[j,k] = reg\n",
        "            self.eco_cc[j,k] = reg * torch.eye(self.n_features)\n",
        "    #return n_cc, smut, scot, emut, ecot "
      ],
      "execution_count": 70,
      "outputs": []
    },
    {
      "cell_type": "code",
      "metadata": {
        "id": "B3BKxX6neYTG"
      },
      "source": [
        ""
      ],
      "execution_count": null,
      "outputs": []
    },
    {
      "cell_type": "code",
      "metadata": {
        "colab": {
          "base_uri": "https://localhost:8080/"
        },
        "id": "tjoZ1PovUVE6",
        "outputId": "1ba41a4e-313c-4b60-e2cf-212a418d4410"
      },
      "source": [
        "## create data\n",
        "\n",
        "n_clusters = 3\n",
        "n_features = 2\n",
        "\n",
        "## ground true expressions ##\n",
        "true_expression_means = torch.tensor([\n",
        "    [1, 2],\n",
        "    [4, 3],\n",
        "    [7, 9]\n",
        "])\n",
        "\n",
        "true_expression_covs = torch.tensor([\n",
        "    [[.1, 0], [0, .1]],\n",
        "    [[.1, 0], [0, .1]],\n",
        "    [[.1, 0], [0, .1]]\n",
        "])\n",
        "\n",
        "true_size_means = torch.tensor([.4, .5, .6])\n",
        "\n",
        "print(true_size_means)\n",
        "\n",
        "true_size_stds = torch.tensor([.1, .05, .01])\n",
        "true_size_stds"
      ],
      "execution_count": 71,
      "outputs": [
        {
          "output_type": "stream",
          "text": [
            "tensor([0.4000, 0.5000, 0.6000])\n"
          ],
          "name": "stdout"
        },
        {
          "output_type": "execute_result",
          "data": {
            "text/plain": [
              "tensor([0.1000, 0.0500, 0.0100])"
            ]
          },
          "metadata": {
            "tags": []
          },
          "execution_count": 71
        }
      ]
    },
    {
      "cell_type": "code",
      "metadata": {
        "id": "c4mE_xwUYirp"
      },
      "source": [
        "## other ground true for generating data ##\n",
        "d_ws = torch.tensor([.95, .05])\n",
        "z_ws = torch.tensor([1 / 4, 1 / 2, 1 / 4])\n",
        "g_ws = torch.tensor([0.0667, 0.1333, 0.2000, 0.1000, 0.2667, 0.2333])\n",
        "\n",
        "N = 10000\n",
        "gs = np.sum(np.random.choice(len(d_ws), size = N, p = d_ws))\n",
        "zs = N - gs"
      ],
      "execution_count": 72,
      "outputs": []
    },
    {
      "cell_type": "code",
      "metadata": {
        "id": "LzCIiWHYYkuh"
      },
      "source": [
        "## simulate data\n",
        "x = np.zeros((zs, n_features+4))\n",
        "for i in range(zs):\n",
        "  z = np.random.choice(n_clusters, size = 1, p = z_ws)[0]\n",
        "  x[i] = np.append(np.random.multivariate_normal(true_expression_means[z], true_expression_covs[z]), [np.random.normal(true_size_means[z], true_size_stds[z]), 0, z, z+6])\n",
        "  \n",
        "xxx = np.zeros((gs, n_features+4))\n",
        "for i in range(gs):\n",
        "\n",
        "  g = np.random.choice(6, size = 1, p = g_ws)[0]\n",
        "    \n",
        "  if g == 0:\n",
        "    idx = [0,0]\n",
        "  elif g == 1:\n",
        "    idx = [0,1]\n",
        "  elif g == 2:\n",
        "    idx = [0,2]\n",
        "  elif g == 3:\n",
        "    idx = [1,1]\n",
        "  elif g == 4:\n",
        "    idx = [1,2]\n",
        "  else:\n",
        "    idx = [2,2]\n",
        "  \n",
        "  xxx[i] = np.append(np.random.multivariate_normal( (true_expression_means[idx[0]] + true_expression_means[idx[1]])/2, (true_expression_covs[idx[0]] + true_expression_covs[idx[1]])/2 ),\n",
        "                     [np.random.normal( (true_size_means[idx[0]] + true_size_means[idx[1]]), (true_size_stds[idx[0]] + true_size_stds[idx[1]]) ), 1, g, g])\n",
        "  \n",
        "xx = np.append(x, xxx).reshape(N,6)"
      ],
      "execution_count": 5,
      "outputs": []
    },
    {
      "cell_type": "code",
      "metadata": {
        "id": "io6IlsEfLQuI"
      },
      "source": [
        "X = torch.tensor(xx[:,:2])\n",
        "S = torch.tensor(xx[:,2])\n",
        "\n",
        "emu_c = torch.tensor([\n",
        "  [3, 5], # 1 2\n",
        "  [4, 6],\n",
        "  [6, 8], # 4 3\n",
        "  [8, 10]\n",
        "], dtype=torch.float) #, requires_grad=True,  device=device)\n",
        "\n",
        "smu_c = torch.tensor([.2, .4, .6, .8], dtype=torch.float) #, requires_grad=True, dtype=torch.float, device=device)\n",
        "\n",
        "gmm = GMM(X, S, emu_c, smu_c, n_clusters=4, grad=1)\n",
        "lls, aic, bic = gmm._train(grad=1)"
      ],
      "execution_count": null,
      "outputs": []
    },
    {
      "cell_type": "code",
      "metadata": {
        "colab": {
          "base_uri": "https://localhost:8080/"
        },
        "id": "WLCqbC_N5zkP",
        "outputId": "7f008711-6e25-4562-b4c3-ed49dba94051"
      },
      "source": [
        "print(aic, bic) #c=2"
      ],
      "execution_count": 94,
      "outputs": [
        {
          "output_type": "stream",
          "text": [
            "tensor(80.5559, grad_fn=<MulBackward0>) tensor(361.7592, grad_fn=<AddBackward0>)\n"
          ],
          "name": "stdout"
        }
      ]
    },
    {
      "cell_type": "code",
      "metadata": {
        "colab": {
          "base_uri": "https://localhost:8080/"
        },
        "id": "40wVTFw1wBBl",
        "outputId": "92170ee3-a607-4ff7-d36e-a8a07101b19b"
      },
      "source": [
        "print(aic, bic) #c=3"
      ],
      "execution_count": 91,
      "outputs": [
        {
          "output_type": "stream",
          "text": [
            "tensor(144.4364, grad_fn=<MulBackward0>) tensor(656.3705, grad_fn=<AddBackward0>)\n"
          ],
          "name": "stdout"
        }
      ]
    },
    {
      "cell_type": "code",
      "metadata": {
        "colab": {
          "base_uri": "https://localhost:8080/"
        },
        "id": "JYTUkGee6wcu",
        "outputId": "43b30ac0-2ac9-4f83-e5d2-73b4d09845af"
      },
      "source": [
        "print(aic, bic) #c=4"
      ],
      "execution_count": 96,
      "outputs": [
        {
          "output_type": "stream",
          "text": [
            "tensor(223.2050, grad_fn=<MulBackward0>) tensor(1023.5528, grad_fn=<AddBackward0>)\n"
          ],
          "name": "stdout"
        }
      ]
    },
    {
      "cell_type": "code",
      "metadata": {
        "colab": {
          "base_uri": "https://localhost:8080/",
          "height": 284
        },
        "id": "6tjvU7tchQg7",
        "outputId": "3f39f069-7a6f-4c50-e99d-e4f965639f66"
      },
      "source": [
        "plt.plot(lls)"
      ],
      "execution_count": 97,
      "outputs": [
        {
          "output_type": "execute_result",
          "data": {
            "text/plain": [
              "[<matplotlib.lines.Line2D at 0x7fe9292341d0>]"
            ]
          },
          "metadata": {
            "tags": []
          },
          "execution_count": 97
        },
        {
          "output_type": "display_data",
          "data": {
            "image/png": "[encoded data removed]",
            "text/plain": [
              "<Figure size 432x288 with 1 Axes>"
            ]
          },
          "metadata": {
            "tags": [],
            "needs_background": "light"
          }
        }
      ]
    },
    {
      "cell_type": "code",
      "metadata": {
        "colab": {
          "base_uri": "https://localhost:8080/"
        },
        "id": "PqFYPGEchRbw",
        "outputId": "de50b2a5-8e66-4a24-9d0d-1a686b425eb1"
      },
      "source": [
        "gmm.pi_d0"
      ],
      "execution_count": 98,
      "outputs": [
        {
          "output_type": "execute_result",
          "data": {
            "text/plain": [
              "tensor(0.2504)"
            ]
          },
          "metadata": {
            "tags": []
          },
          "execution_count": 98
        }
      ]
    },
    {
      "cell_type": "code",
      "metadata": {
        "colab": {
          "base_uri": "https://localhost:8080/"
        },
        "id": "v7U1MYY9iXXD",
        "outputId": "3fef6c63-5a0c-43b5-f3d7-f458bf003b40"
      },
      "source": [
        "gmm.pi_c"
      ],
      "execution_count": 99,
      "outputs": [
        {
          "output_type": "execute_result",
          "data": {
            "text/plain": [
              "tensor([0.0000e+00, 2.2317e-12, 2.3780e-01, 1.2600e-02])"
            ]
          },
          "metadata": {
            "tags": []
          },
          "execution_count": 99
        }
      ]
    },
    {
      "cell_type": "code",
      "metadata": {
        "colab": {
          "base_uri": "https://localhost:8080/"
        },
        "id": "paLOHfKriaYi",
        "outputId": "e2bc94ef-05fb-4245-fa6b-e34fc45d349c"
      },
      "source": [
        "gmm.pi_cc"
      ],
      "execution_count": 100,
      "outputs": [
        {
          "output_type": "execute_result",
          "data": {
            "text/plain": [
              "tensor([[0.2311, 0.0034, 0.0000, 0.4785],\n",
              "        [0.0000, 0.0129, 0.0000, 0.0000],\n",
              "        [0.0000, 0.0000, 0.0000, 0.0000],\n",
              "        [0.0000, 0.0000, 0.0000, 0.0237]])"
            ]
          },
          "metadata": {
            "tags": []
          },
          "execution_count": 100
        }
      ]
    },
    {
      "cell_type": "code",
      "metadata": {
        "colab": {
          "base_uri": "https://localhost:8080/"
        },
        "id": "brEFDWTuhWhl",
        "outputId": "5f9cc591-d33b-4e65-96b9-e9a17eba147b"
      },
      "source": [
        "gmm.emu_c"
      ],
      "execution_count": 101,
      "outputs": [
        {
          "output_type": "execute_result",
          "data": {
            "text/plain": [
              "tensor([[3.1342, 4.8726],\n",
              "        [4.1238, 5.8981],\n",
              "        [7.0071, 8.9882],\n",
              "        [6.9992, 9.0240]], requires_grad=True)"
            ]
          },
          "metadata": {
            "tags": []
          },
          "execution_count": 101
        }
      ]
    },
    {
      "cell_type": "code",
      "metadata": {
        "colab": {
          "base_uri": "https://localhost:8080/"
        },
        "id": "e3xMP7RwhWrs",
        "outputId": "94daa687-f7fe-4d65-c17e-ee0b93a16f0b"
      },
      "source": [
        "gmm.emu_cc"
      ],
      "execution_count": 102,
      "outputs": [
        {
          "output_type": "execute_result",
          "data": {
            "text/plain": [
              "tensor([[[ 1.9936,  3.9934],\n",
              "         [ 2.0320,  3.8564],\n",
              "         [ 4.5891,  6.3981],\n",
              "         [ 8.0117,  5.9767]],\n",
              "\n",
              "        [[ 3.5000,  5.5000],\n",
              "         [ 6.5175,  5.4534],\n",
              "         [ 5.0795,  6.9174],\n",
              "         [ 6.1003,  7.9040]],\n",
              "\n",
              "        [[ 4.5000,  6.5000],\n",
              "         [ 5.0000,  7.0000],\n",
              "         [ 6.1003,  7.9040],\n",
              "         [ 7.0680,  8.9579]],\n",
              "\n",
              "        [[ 5.5000,  7.5000],\n",
              "         [ 6.0000,  8.0000],\n",
              "         [ 7.0000,  9.0000],\n",
              "         [ 9.6386, 11.5447]]], requires_grad=True)"
            ]
          },
          "metadata": {
            "tags": []
          },
          "execution_count": 102
        }
      ]
    },
    {
      "cell_type": "code",
      "metadata": {
        "colab": {
          "base_uri": "https://localhost:8080/"
        },
        "id": "d11UZwfGhW04",
        "outputId": "0753516e-d50c-4bf0-db7f-a3648c7ab7bf"
      },
      "source": [
        "gmm.smu_c"
      ],
      "execution_count": 103,
      "outputs": [
        {
          "output_type": "execute_result",
          "data": {
            "text/plain": [
              "tensor([0.3162, 0.5803, 0.6001, 1.1995], requires_grad=True)"
            ]
          },
          "metadata": {
            "tags": []
          },
          "execution_count": 103
        }
      ]
    },
    {
      "cell_type": "code",
      "metadata": {
        "colab": {
          "base_uri": "https://localhost:8080/"
        },
        "id": "t2OZsffJhRkB",
        "outputId": "2611154a-608f-4e0b-98fa-76642345e803"
      },
      "source": [
        "gmm.smu_cc"
      ],
      "execution_count": 104,
      "outputs": [
        {
          "output_type": "execute_result",
          "data": {
            "text/plain": [
              "tensor([[0.4010, 0.8655, 0.7208, 0.4986],\n",
              "        [0.6000, 0.9517, 0.9207, 1.1027],\n",
              "        [0.8000, 1.0000, 1.1027, 1.3241],\n",
              "        [1.0000, 1.2000, 1.4000, 1.0478]], requires_grad=True)"
            ]
          },
          "metadata": {
            "tags": []
          },
          "execution_count": 104
        }
      ]
    }
  ]
}