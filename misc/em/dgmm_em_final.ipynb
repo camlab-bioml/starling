{
  "nbformat": 4,
  "nbformat_minor": 0,
  "metadata": {
    "colab": {
      "name": "dgmm_em_final.ipynb",
      "provenance": [],
      "collapsed_sections": [],
      "authorship_tag": "ABX9TyP7CHT8Okx7gMzhbRr+A+HE",
      "include_colab_link": true
    },
    "kernelspec": {
      "name": "python3",
      "display_name": "Python 3"
    },
    "language_info": {
      "name": "python"
    }
  },
  "cells": [
    {
      "cell_type": "markdown",
      "metadata": {
        "id": "view-in-github",
        "colab_type": "text"
      },
      "source": [
        "<a href=\"https://colab.research.google.com/github/camlab-bioml/2021_IMC_Jett/blob/main/dgmm_em_final.ipynb\" target=\"_parent\"><img src=\"https://colab.research.google.com/assets/colab-badge.svg\" alt=\"Open In Colab\"/></a>"
      ]
    },
    {
      "cell_type": "code",
      "metadata": {
        "id": "Q9mb5kSjyZfI"
      },
      "source": [
        "def _e_step(X, pi_d0, pi_c, pi_cc, mu_c, co_c, mu_cc, co_cc):\n",
        "\n",
        "  n, p = X.shape\n",
        "  c = pi_cc.shape[0]\n",
        "\n",
        "  log_pi_d0 = torch.log(torch.tensor(pi_d0))\n",
        "  log_pi_d1 = torch.log(torch.tensor(1 - pi_d0))\n",
        "  \n",
        "  log_pi_c = torch.log(pi_c)\n",
        "  log_pi_cc = torch.log(pi_cc)\n",
        "\n",
        "  ### E-step:\n",
        "  log_post_top0 = torch.zeros(c, n)\n",
        "  log_post_top1 = torch.zeros(c, c, n)\n",
        "\n",
        "  for j in range(c):\n",
        "  \n",
        "    ll0 = torch.distributions.MultivariateNormal(mu_c[j].float(), co_c[j].float()).log_prob(X.float())\n",
        "    log_post_top0[j] = log_pi_d0 + log_pi_c[j] + ll0\n",
        "  \n",
        "    for k in range(c):\n",
        "      if torch.isnan(pi_cc[j,k]): #lower triangular nan\n",
        "        log_post_top1[j,k] = torch.repeat_interleave(torch.tensor(float(\"-Inf\")), n)\n",
        "      else:\n",
        "        ll1 = torch.distributions.MultivariateNormal(mu_cc[j,k].float(), co_cc[j,k].float()).log_prob(X.float())\n",
        "        log_post_top1[j,k] = log_pi_d1 + log_pi_cc[j,k] + ll1\n",
        "\n",
        "  log_post_bot0 = torch.logsumexp(log_post_top0, 0) #n\n",
        "  log_post_z = (log_post_top0 - log_post_bot0).T #nxc (rjk)\n",
        "\n",
        "  log_post_top1 = log_post_top1.reshape(c * c, n) #reshape\n",
        "  log_post_bot1 = torch.logsumexp(log_post_top1, 0) #n\n",
        "  log_post_g = (log_post_top1 - log_post_bot1).T #nxc (rijk)\n",
        "  \n",
        "  likelihood_scores = torch.log(torch.exp(log_post_bot0) + torch.exp(log_post_bot1))\n",
        "  tlls = torch.sum(likelihood_scores)\n",
        "\n",
        "  #post_d0 = torch.exp(log_post_bot0) / (torch.exp(log_post_bot0) + torch.exp(log_post_bot1) + 1e-6)\n",
        "  bot = torch.log(torch.exp(log_post_bot0) + torch.exp(log_post_bot1))\n",
        "  log_post_d0 = log_post_bot0 - bot\n",
        "  log_post_d1 = log_post_bot1 - bot\n",
        "\n",
        "  log_post_dz = log_post_d0[:,None] + log_post_z\n",
        "  log_post_dg = log_post_d1[:,None] + log_post_g\n",
        "\n",
        "  return tlls, log_post_d0, log_post_z, log_post_g, log_post_dz, log_post_dg"
      ],
      "execution_count": 1,
      "outputs": []
    },
    {
      "cell_type": "code",
      "metadata": {
        "id": "PcWgtjyI5G_5"
      },
      "source": [
        "def _estimate_mean_cov_t1(X, r_ij, reg=1e-6):\n",
        "\n",
        "  n, p = X.shape\n",
        "  n, c, c = r_ij.shape\n",
        "\n",
        "  mut = torch.zeros(c, p)\n",
        "  cot = torch.zeros(c, p, p)\n",
        "\n",
        "  n_c = torch.sum(r_ij, dim=0) + reg # (c)\n",
        "\n",
        "  ## update mu_cj and sigma_cj (full)\n",
        "  for j in range(c):\n",
        "    \n",
        "    mut[j] = torch.sum(X.T * r_ij[:,j], 1) / n_c[j]\n",
        "    \n",
        "    ke = (X - mut[j])\n",
        "    cot[j] = (torch.matmul(ke.T * r_ij[:,j], ke) / n_c[j]) + reg * torch.eye(p)\n",
        "\n",
        "  return n_c, mut, cot\n",
        "\n",
        "def _estimate_mean_cov_t2(X, r_ijk, reg=1e-6):\n",
        "\n",
        "  n, p = X.shape\n",
        "  n, c, c = r_ijk.shape\n",
        "\n",
        "  mut = torch.zeros(c, c, p)\n",
        "  cot = torch.zeros(c, c, p, p)\n",
        "\n",
        "  n_cc = torch.sum(r_ijk, dim=0) + reg # (cxc)\n",
        "\n",
        "  for j in range(c):\n",
        "    for k in range(c):      \n",
        "      if not torch.isnan(n_cc[j,k]):\n",
        "        mut[j,k] = torch.sum(X.T * r_ijk[:,j,k], 1) / n_cc[j,k]\n",
        "        \n",
        "        ke = (X - mut[j,k])\n",
        "        cot[j,k] = (torch.matmul(ke.T * r_ijk[:,j,k], ke) / n_cc[j,k]) + reg * torch.eye(p)\n",
        "        \n",
        "  return n_cc, mut, cot"
      ],
      "execution_count": 2,
      "outputs": []
    },
    {
      "cell_type": "code",
      "metadata": {
        "id": "ybUdJMzf_jxS"
      },
      "source": [
        "def _estimate_mean_cov_t1v2(X, r_ij, reg=1e-6):\n",
        "\n",
        "  n, p = X.shape\n",
        "  n, c = r_ij.shape\n",
        "\n",
        "  mut = torch.zeros(c, p)\n",
        "  cot = torch.zeros(c, p, p)\n",
        "\n",
        "  n_c = torch.sum(r_ij, dim=0) + reg # (c)\n",
        "\n",
        "  for j in range(c):\n",
        "    e_n = torch.round(n_c[j])\n",
        "    if e_n > 0:\n",
        "      idx = r_ij[:,j].argsort()[-e_n.int():]\n",
        "      mut[j] = torch.mean(X[idx], 0)\n",
        "      if e_n > 1:\n",
        "        cot[j] = torch.tensor(np.cov(X[idx].T))\n",
        "\n",
        "  return n_c, mut, cot\n",
        "\n",
        "def _estimate_mean_cov_t2v2(X, r_ijk, reg=1e-6):\n",
        "\n",
        "  n, p = X.shape\n",
        "  n, c, c = r_ijk.shape\n",
        "\n",
        "  mut = torch.zeros(c, c, p)\n",
        "  cot = torch.zeros(c, c, p, p)\n",
        "\n",
        "  n_cc = torch.sum(r_ijk, dim=0) + reg # (cxc)\n",
        "\n",
        "  for j in range(c):\n",
        "    for k in range(c):\n",
        "      if not torch.isnan(n_cc[j,k]):\n",
        "        e_n = torch.round(n_cc[j,k])\n",
        "        idx = r_ijk[:,j,k].argsort()[-e_n.int():]\n",
        "        mut[j,k] = torch.mean(X[idx], 0)\n",
        "        if e_n > 1:\n",
        "          cot[j,k] = torch.tensor(np.cov(X[idx].T))\n",
        "        else:\n",
        "          cot[j,k] = reg * torch.eye(p)\n",
        "  return n_cc, mut, cot"
      ],
      "execution_count": 3,
      "outputs": []
    },
    {
      "cell_type": "code",
      "metadata": {
        "id": "bgT0i89b0A8X"
      },
      "source": [
        "def _m_step(X, log_postd0, log_postdz, log_postdg, reg=1e-6):\n",
        "\n",
        "  n_obs, n_comp = log_postdz.shape\n",
        "  n_obs, n_feat = X.shape\n",
        "\n",
        "  r_i = torch.exp(log_postd0)\n",
        "  pi_d0 = torch.sum(r_i) / n_obs # one value\n",
        "  pi_d1 = 1 - pi_d0\n",
        "\n",
        "  r_ij = torch.exp(log_postdz)\n",
        "  #n_c, mu_c, co_c = _estimate_mean_cov_t1(X, r_ij)\n",
        "  n_c, mu_c, co_c = _estimate_mean_cov_t1v2(X, r_ij)\n",
        "  pi_c = n_c / n_obs # c values\n",
        "\n",
        "  log_postdg[torch.isinf(log_postdg)] = float('NaN')\n",
        "  r_ijk = torch.exp(log_postdg).reshape(n_obs, n_comp, n_comp)\n",
        "  #n_cc, mu_cc, co_cc = _estimate_mean_cov_t2(X, r_ijk)\n",
        "  n_cc, mu_cc, co_cc = _estimate_mean_cov_t2v2(X, r_ijk)\n",
        "\n",
        "  pi_cc = n_cc / n_obs  # cxc matrix  \n",
        "\n",
        "  return pi_d0, n_c, pi_c, mu_c, co_c, n_cc, pi_cc, mu_cc, co_cc"
      ],
      "execution_count": 4,
      "outputs": []
    },
    {
      "cell_type": "code",
      "metadata": {
        "id": "K2csP7AH2VCA"
      },
      "source": [
        "import numpy as np\n",
        "import torch\n",
        "\n",
        "N = 1000\n",
        "\n",
        "init_means = np.array([\n",
        "    [5, 2],\n",
        "    [-3, 5],\n",
        "    [-4, -7]\n",
        "])\n",
        "\n",
        "init_covariances = np.array([\n",
        "    [[.5, 0.], [0, .5]],\n",
        "    [[.92, .38], [.38, .91]],\n",
        "    [[.5, 0.], [0, .5]]\n",
        "])\n",
        "\n",
        "ms = torch.tensor(init_means)\n",
        "cs = torch.tensor(init_covariances)\n",
        "\n",
        "d_ws = torch.tensor([.95, .05])\n",
        "z_ws = torch.tensor([1 / 4, 1 / 2, 1 / 4])\n",
        "g_ws = torch.tensor([0.0667, 0.1333, 0.2000, 0.1000, 0.2667, 0.2333])\n",
        "\n",
        "n_clusters, n_features = ms.shape\n",
        "\n",
        "xx = np.zeros((N, n_features+2))\n",
        "\n",
        "for i in range(N):\n",
        "  d = np.random.choice(2, size = 1, p = d_ws)[0]\n",
        "  \n",
        "  if d == 0:\n",
        "    z = np.random.choice(n_clusters, size = 1, p = z_ws)[0]\n",
        "    xx[i] = np.append(np.random.multivariate_normal(ms[z], cs[z]), [d, z])\n",
        "  else:\n",
        "    g = np.random.choice(6, size = 1, p = g_ws)[0]\n",
        "    \n",
        "    if g == 0:\n",
        "      idx = [0,0]\n",
        "    elif g == 1:\n",
        "      idx = [0,1]\n",
        "    elif g == 2:\n",
        "      idx = [0,2]\n",
        "    elif g == 3:\n",
        "      idx = [1,1]\n",
        "    elif g == 4:\n",
        "      idx = [1,2]\n",
        "    else:\n",
        "      idx = [2,2]\n",
        "      \n",
        "    xx[i] = np.append(np.random.multivariate_normal(ms[idx[0]] + ms[idx[1]], cs[idx[0]] + cs[idx[1]]), (d, g))"
      ],
      "execution_count": 5,
      "outputs": []
    },
    {
      "cell_type": "code",
      "metadata": {
        "colab": {
          "base_uri": "https://localhost:8080/",
          "height": 297
        },
        "id": "wrjjq218CmBO",
        "outputId": "372b9cac-02a7-4dfc-df42-572df1eff150"
      },
      "source": [
        "import matplotlib.pyplot as plt\n",
        "plt.plot(xx[:, 0], xx[:, 1], 'ko')\n",
        "plt.tight_layout()"
      ],
      "execution_count": 6,
      "outputs": [
        {
          "output_type": "display_data",
          "data": {
            "image/png": "[encoded data removed]",
            "text/plain": [
              "<Figure size 432x288 with 1 Axes>"
            ]
          },
          "metadata": {
            "tags": [],
            "needs_background": "light"
          }
        }
      ]
    },
    {
      "cell_type": "code",
      "metadata": {
        "id": "LpYENvSvCw6N"
      },
      "source": [
        "c = 3\n",
        "p = 2\n",
        "X = torch.tensor(xx[:,:2]).float()\n",
        "\n",
        "mu_c = torch.tensor([\n",
        "    [4, 0], #5 2\n",
        "    [-2, 4], #-3 5\n",
        "    [-3, -6] #-4 -7\n",
        "])\n",
        "\n",
        "co_c = torch.eye(p).reshape((1, p, p)).repeat(c, 1, 1)\n",
        "\n",
        "mu_cc = torch.zeros(c, c, p)\n",
        "co_cc = torch.zeros(c, c, p, p)\n",
        "for j in range(c):\n",
        "  for k in range(c):\n",
        "    mu_cc[j,k] = mu_c[j] + mu_c[k]\n",
        "    co_cc[j,k] = co_c[j] + co_c[k]\n",
        "\n",
        "pi_c = torch.empty(c).fill_(1. / c)\n",
        "\n",
        "pi_cc = torch.triu(torch.ones(c, c))\n",
        "pi_cc = pi_cc / torch.sum(pi_cc)\n",
        "pi_cc[pi_cc == 0] = float('NaN')\n",
        "\n",
        "pi_d0 = .9"
      ],
      "execution_count": 7,
      "outputs": []
    },
    {
      "cell_type": "code",
      "metadata": {
        "colab": {
          "base_uri": "https://localhost:8080/"
        },
        "id": "HT_0NG3qA_4-",
        "outputId": "edd0aa45-abad-4f54-8b73-cc9920a55762"
      },
      "source": [
        "co_cc"
      ],
      "execution_count": 8,
      "outputs": [
        {
          "output_type": "execute_result",
          "data": {
            "text/plain": [
              "tensor([[[[2., 0.],\n",
              "          [0., 2.]],\n",
              "\n",
              "         [[2., 0.],\n",
              "          [0., 2.]],\n",
              "\n",
              "         [[2., 0.],\n",
              "          [0., 2.]]],\n",
              "\n",
              "\n",
              "        [[[2., 0.],\n",
              "          [0., 2.]],\n",
              "\n",
              "         [[2., 0.],\n",
              "          [0., 2.]],\n",
              "\n",
              "         [[2., 0.],\n",
              "          [0., 2.]]],\n",
              "\n",
              "\n",
              "        [[[2., 0.],\n",
              "          [0., 2.]],\n",
              "\n",
              "         [[2., 0.],\n",
              "          [0., 2.]],\n",
              "\n",
              "         [[2., 0.],\n",
              "          [0., 2.]]]])"
            ]
          },
          "metadata": {
            "tags": []
          },
          "execution_count": 8
        }
      ]
    },
    {
      "cell_type": "code",
      "metadata": {
        "colab": {
          "base_uri": "https://localhost:8080/"
        },
        "id": "JvUkO2S94Q98",
        "outputId": "f23cff13-a4e2-46dc-e697-6fa63ae24b2b"
      },
      "source": [
        "itermax = 1000\n",
        "tot = 1e-10\n",
        "\n",
        "iter = 0\n",
        "llv = [0.0]\n",
        "while iter < itermax:\n",
        "  \n",
        "  lli, log_pd0, log_pz, log_pg, log_dz, log_dg = _e_step(X, pi_d0, pi_c, pi_cc, mu_c, co_c, mu_cc, co_cc)\n",
        "  pi_d0, n_c, pi_c, mu_c, co_c, n_cc, pi_cc, mu_cc, co_cc = _m_step(X, log_pd0, log_dz, log_dg)\n",
        "  \n",
        "  #def _e_step(X, c, pi_d0, pi_c, pi_cc, mu_c, co_c, mu_cc, co_cc):\n",
        "  #return tlls, log_post_d0, log_post_z, log_post_g, log_dz, log_dg\n",
        "  #def _m_step(X, log_postd0, log_postdz, log_postdg, mu_cc, reg=1e-6):\n",
        "  #return pi_d0, n_c, pi_c, mu_c, co_c, n_cc, pi_cc, mu_cc, co_cc\n",
        "\n",
        "  print('Iteration', iter + 1, 'Likelihood: ', lli)\n",
        "\n",
        "  if abs(llv[-1] - lli) < tot:\n",
        "    break\n",
        "      \n",
        "  llv.append(lli)\n",
        "  iter += 1\n",
        "\n",
        "  #return llv[1:]"
      ],
      "execution_count": 9,
      "outputs": [
        {
          "output_type": "stream",
          "text": [
            "Iteration 1 Likelihood:  tensor(-5187.2788)\n",
            "Iteration 2 Likelihood:  tensor(-3941.6033)\n",
            "Iteration 3 Likelihood:  tensor(-3849.2659)\n",
            "Iteration 4 Likelihood:  tensor(-3831.7979)\n",
            "Iteration 5 Likelihood:  tensor(-3831.5537)\n",
            "Iteration 6 Likelihood:  tensor(-3831.5532)\n",
            "Iteration 7 Likelihood:  tensor(-3831.5535)\n",
            "Iteration 8 Likelihood:  tensor(-3831.5535)\n"
          ],
          "name": "stdout"
        },
        {
          "output_type": "stream",
          "text": [
            "/usr/local/lib/python3.7/dist-packages/ipykernel_launcher.py:6: UserWarning: To copy construct from a tensor, it is recommended to use sourceTensor.clone().detach() or sourceTensor.clone().detach().requires_grad_(True), rather than torch.tensor(sourceTensor).\n",
            "  \n",
            "/usr/local/lib/python3.7/dist-packages/ipykernel_launcher.py:7: UserWarning: To copy construct from a tensor, it is recommended to use sourceTensor.clone().detach() or sourceTensor.clone().detach().requires_grad_(True), rather than torch.tensor(sourceTensor).\n",
            "  import sys\n"
          ],
          "name": "stderr"
        }
      ]
    },
    {
      "cell_type": "code",
      "metadata": {
        "colab": {
          "base_uri": "https://localhost:8080/",
          "height": 283
        },
        "id": "fHMDYAyW4ROC",
        "outputId": "0987a09a-2cac-485b-e6f6-a7a114385622"
      },
      "source": [
        "plt.plot(llv[1:])"
      ],
      "execution_count": 10,
      "outputs": [
        {
          "output_type": "execute_result",
          "data": {
            "text/plain": [
              "[<matplotlib.lines.Line2D at 0x7f7dfbf7f550>]"
            ]
          },
          "metadata": {
            "tags": []
          },
          "execution_count": 10
        },
        {
          "output_type": "display_data",
          "data": {
            "image/png": "[encoded data removed]",
            "text/plain": [
              "<Figure size 432x288 with 1 Axes>"
            ]
          },
          "metadata": {
            "tags": [],
            "needs_background": "light"
          }
        }
      ]
    },
    {
      "cell_type": "code",
      "metadata": {
        "colab": {
          "base_uri": "https://localhost:8080/"
        },
        "id": "sAjlNnAfbp42",
        "outputId": "3f54ce76-6089-4b1f-a54d-7ce169c8a84a"
      },
      "source": [
        "pi_d0"
      ],
      "execution_count": 11,
      "outputs": [
        {
          "output_type": "execute_result",
          "data": {
            "text/plain": [
              "tensor(0.9481)"
            ]
          },
          "metadata": {
            "tags": []
          },
          "execution_count": 11
        }
      ]
    },
    {
      "cell_type": "code",
      "metadata": {
        "colab": {
          "base_uri": "https://localhost:8080/"
        },
        "id": "9WMn-F6DE1Y3",
        "outputId": "514610c4-5a9f-4a6e-e050-ef61f770b861"
      },
      "source": [
        "mu_c"
      ],
      "execution_count": 12,
      "outputs": [
        {
          "output_type": "execute_result",
          "data": {
            "text/plain": [
              "tensor([[ 5.0028,  1.9794],\n",
              "        [-2.9669,  4.9884],\n",
              "        [-4.0507, -7.1032]])"
            ]
          },
          "metadata": {
            "tags": []
          },
          "execution_count": 12
        }
      ]
    },
    {
      "cell_type": "code",
      "metadata": {
        "colab": {
          "base_uri": "https://localhost:8080/"
        },
        "id": "3kYUrf3oFKD1",
        "outputId": "8b09a881-14bd-428a-a7e5-07c6cc3c1ee4"
      },
      "source": [
        "for i in range(c):\n",
        "  print(torch.mean(torch.tensor(xx[(xx[:,2] == 0) & (xx[:,3] == i),:2]),0))"
      ],
      "execution_count": 13,
      "outputs": [
        {
          "output_type": "stream",
          "text": [
            "tensor([5.0028, 1.9794], dtype=torch.float64)\n",
            "tensor([-2.9719,  4.9854], dtype=torch.float64)\n",
            "tensor([-4.0507, -7.1032], dtype=torch.float64)\n"
          ],
          "name": "stdout"
        }
      ]
    },
    {
      "cell_type": "code",
      "metadata": {
        "colab": {
          "base_uri": "https://localhost:8080/"
        },
        "id": "22CW3tnBb5nD",
        "outputId": "92205a7f-e7dc-4407-b6cb-a7289e367cc8"
      },
      "source": [
        "co_c"
      ],
      "execution_count": 14,
      "outputs": [
        {
          "output_type": "execute_result",
          "data": {
            "text/plain": [
              "tensor([[[ 0.4587,  0.0148],\n",
              "         [ 0.0148,  0.5400]],\n",
              "\n",
              "        [[ 0.8449,  0.3370],\n",
              "         [ 0.3370,  0.8499]],\n",
              "\n",
              "        [[ 0.4742, -0.0489],\n",
              "         [-0.0489,  0.4978]]])"
            ]
          },
          "metadata": {
            "tags": []
          },
          "execution_count": 14
        }
      ]
    },
    {
      "cell_type": "code",
      "metadata": {
        "colab": {
          "base_uri": "https://localhost:8080/"
        },
        "id": "rJTblDT0b7db",
        "outputId": "2f75eda1-2160-4875-989e-fbe4673c688f"
      },
      "source": [
        "for i in range(c):\n",
        "  print(np.cov(np.array(torch.tensor(xx[(xx[:,2] == 0) & (xx[:,3] == i),:2])).T))"
      ],
      "execution_count": 15,
      "outputs": [
        {
          "output_type": "stream",
          "text": [
            "[[0.45872908 0.0147731 ]\n",
            " [0.0147731  0.53995945]]\n",
            "[[0.83424763 0.33036126]\n",
            " [0.33036126 0.84730018]]\n",
            "[[ 0.47419382 -0.04894154]\n",
            " [-0.04894154  0.49779793]]\n"
          ],
          "name": "stdout"
        }
      ]
    },
    {
      "cell_type": "code",
      "metadata": {
        "colab": {
          "base_uri": "https://localhost:8080/"
        },
        "id": "9rujwBg1Fgx6",
        "outputId": "45321622-206d-4937-a310-9a3ec6ff3e02"
      },
      "source": [
        "mu_cc"
      ],
      "execution_count": 16,
      "outputs": [
        {
          "output_type": "execute_result",
          "data": {
            "text/plain": [
              "tensor([[[ 10.7548,   4.6049],\n",
              "         [  2.4543,   6.7968],\n",
              "         [  1.3565,  -5.3480]],\n",
              "\n",
              "        [[  0.0000,   0.0000],\n",
              "         [ -5.7304,  10.1890],\n",
              "         [ -7.3411,  -1.6478]],\n",
              "\n",
              "        [[  0.0000,   0.0000],\n",
              "         [  0.0000,   0.0000],\n",
              "         [ -7.8469, -14.0137]]])"
            ]
          },
          "metadata": {
            "tags": []
          },
          "execution_count": 16
        }
      ]
    },
    {
      "cell_type": "code",
      "metadata": {
        "colab": {
          "base_uri": "https://localhost:8080/"
        },
        "id": "EO16XYaEFlHz",
        "outputId": "336a4866-7148-4227-f556-b71e4e46c508"
      },
      "source": [
        "for i in range(6):\n",
        "  print(torch.mean(torch.tensor(xx[(xx[:,2] == 1) & (xx[:,3] == i),:2]),0))"
      ],
      "execution_count": 17,
      "outputs": [
        {
          "output_type": "stream",
          "text": [
            "tensor([10.7548,  4.6049], dtype=torch.float64)\n",
            "tensor([2.1563, 6.7605], dtype=torch.float64)\n",
            "tensor([ 1.3565, -5.3480], dtype=torch.float64)\n",
            "tensor([-5.7304, 10.1890], dtype=torch.float64)\n",
            "tensor([-7.3411, -1.6478], dtype=torch.float64)\n",
            "tensor([ -7.8469, -14.0137], dtype=torch.float64)\n"
          ],
          "name": "stdout"
        }
      ]
    },
    {
      "cell_type": "code",
      "metadata": {
        "colab": {
          "base_uri": "https://localhost:8080/"
        },
        "id": "J7sxgXAFcGLh",
        "outputId": "a9e96ff8-3622-44d1-fc4f-8af88e5fbac6"
      },
      "source": [
        "co_cc"
      ],
      "execution_count": 18,
      "outputs": [
        {
          "output_type": "execute_result",
          "data": {
            "text/plain": [
              "tensor([[[[ 1.8978e+00, -6.0867e-02],\n",
              "          [-6.0867e-02,  9.4419e-02]],\n",
              "\n",
              "         [[ 5.7420e-01, -2.7205e-02],\n",
              "          [-2.7205e-02,  7.8345e-01]],\n",
              "\n",
              "         [[ 6.1278e-01, -1.5761e-03],\n",
              "          [-1.5761e-03,  3.6001e-01]]],\n",
              "\n",
              "\n",
              "        [[[ 0.0000e+00,  0.0000e+00],\n",
              "          [ 0.0000e+00,  0.0000e+00]],\n",
              "\n",
              "         [[ 3.3901e+00, -2.5483e-02],\n",
              "          [-2.5483e-02,  1.4180e+00]],\n",
              "\n",
              "         [[ 6.8867e-01,  4.8461e-01],\n",
              "          [ 4.8461e-01,  1.7505e+00]]],\n",
              "\n",
              "\n",
              "        [[[ 0.0000e+00,  0.0000e+00],\n",
              "          [ 0.0000e+00,  0.0000e+00]],\n",
              "\n",
              "         [[ 0.0000e+00,  0.0000e+00],\n",
              "          [ 0.0000e+00,  0.0000e+00]],\n",
              "\n",
              "         [[ 3.7357e-01,  8.8071e-02],\n",
              "          [ 8.8071e-02,  1.2152e+00]]]])"
            ]
          },
          "metadata": {
            "tags": []
          },
          "execution_count": 18
        }
      ]
    },
    {
      "cell_type": "code",
      "metadata": {
        "colab": {
          "base_uri": "https://localhost:8080/"
        },
        "id": "SOL2FtlBcI8L",
        "outputId": "7aa0498e-c687-416e-b26a-e08b35d462cc"
      },
      "source": [
        "for i in range(6):\n",
        "  print(np.cov(np.array(torch.tensor(xx[(xx[:,2] == 1) & (xx[:,3] == i),:2])).T))"
      ],
      "execution_count": 19,
      "outputs": [
        {
          "output_type": "stream",
          "text": [
            "[[ 1.89782006 -0.06086685]\n",
            " [-0.06086685  0.09441858]]\n",
            "[[1.39815487 0.08383049]\n",
            " [0.08383049 0.7095458 ]]\n",
            "[[ 0.61278157 -0.00157609]\n",
            " [-0.00157609  0.36001153]]\n",
            "[[ 3.39013079 -0.02548374]\n",
            " [-0.02548374  1.41796778]]\n",
            "[[0.68867275 0.48460596]\n",
            " [0.48460596 1.75053723]]\n",
            "[[0.373566   0.08807096]\n",
            " [0.08807096 1.21521196]]\n"
          ],
          "name": "stdout"
        }
      ]
    },
    {
      "cell_type": "code",
      "metadata": {
        "colab": {
          "base_uri": "https://localhost:8080/"
        },
        "id": "dvNAOOEETHK_",
        "outputId": "82c38d8d-a09d-460e-8756-a89d44946b67"
      },
      "source": [
        "pi_c.sum() + torch.triu(pi_cc).sum()"
      ],
      "execution_count": 20,
      "outputs": [
        {
          "output_type": "execute_result",
          "data": {
            "text/plain": [
              "tensor(1.)"
            ]
          },
          "metadata": {
            "tags": []
          },
          "execution_count": 20
        }
      ]
    },
    {
      "cell_type": "code",
      "metadata": {
        "colab": {
          "base_uri": "https://localhost:8080/"
        },
        "id": "pS5PaddUTQ_Y",
        "outputId": "7ed9594e-fe36-4ccb-d076-49b786613051"
      },
      "source": [
        "torch.triu(n_cc).sum()"
      ],
      "execution_count": 21,
      "outputs": [
        {
          "output_type": "execute_result",
          "data": {
            "text/plain": [
              "tensor(51.8760)"
            ]
          },
          "metadata": {
            "tags": []
          },
          "execution_count": 21
        }
      ]
    },
    {
      "cell_type": "code",
      "metadata": {
        "colab": {
          "base_uri": "https://localhost:8080/"
        },
        "id": "TcmYMQ2KdTji",
        "outputId": "bf606d6f-ac91-4eca-8112-fd04ba9b668b"
      },
      "source": [
        "sum(xx[:,2] == 1)"
      ],
      "execution_count": 22,
      "outputs": [
        {
          "output_type": "execute_result",
          "data": {
            "text/plain": [
              "53"
            ]
          },
          "metadata": {
            "tags": []
          },
          "execution_count": 22
        }
      ]
    },
    {
      "cell_type": "code",
      "metadata": {
        "colab": {
          "base_uri": "https://localhost:8080/"
        },
        "id": "suSRDl-6dK4w",
        "outputId": "18a8d65d-9aa5-4f82-a497-7d30e4669605"
      },
      "source": [
        "n_cc"
      ],
      "execution_count": 23,
      "outputs": [
        {
          "output_type": "execute_result",
          "data": {
            "text/plain": [
              "tensor([[ 4.0001,  8.9848, 15.0000],\n",
              "        [    nan,  4.0014,  8.8897],\n",
              "        [    nan,     nan, 11.0000]])"
            ]
          },
          "metadata": {
            "tags": []
          },
          "execution_count": 23
        }
      ]
    },
    {
      "cell_type": "code",
      "metadata": {
        "colab": {
          "base_uri": "https://localhost:8080/"
        },
        "id": "bPkf2LMsdHKp",
        "outputId": "1a76de01-c5d1-4310-cdd0-8c221861bd32"
      },
      "source": [
        "print(sum((xx[:,2] == 1) & (xx[:,3] == 0)))\n",
        "print(sum((xx[:,2] == 1) & (xx[:,3] == 1)))\n",
        "print(sum((xx[:,2] == 1) & (xx[:,3] == 2)))\n",
        "print(sum((xx[:,2] == 1) & (xx[:,3] == 3)))\n",
        "print(sum((xx[:,2] == 1) & (xx[:,3] == 4)))\n",
        "print(sum((xx[:,2] == 1) & (xx[:,3] == 5)))"
      ],
      "execution_count": 24,
      "outputs": [
        {
          "output_type": "stream",
          "text": [
            "4\n",
            "10\n",
            "15\n",
            "4\n",
            "9\n",
            "11\n"
          ],
          "name": "stdout"
        }
      ]
    },
    {
      "cell_type": "code",
      "metadata": {
        "colab": {
          "base_uri": "https://localhost:8080/"
        },
        "id": "elABngm8cvp9",
        "outputId": "5575d454-e649-4e46-db65-94840ce70905"
      },
      "source": [
        "n_c.sum()"
      ],
      "execution_count": 25,
      "outputs": [
        {
          "output_type": "execute_result",
          "data": {
            "text/plain": [
              "tensor(948.1240)"
            ]
          },
          "metadata": {
            "tags": []
          },
          "execution_count": 25
        }
      ]
    },
    {
      "cell_type": "code",
      "metadata": {
        "colab": {
          "base_uri": "https://localhost:8080/"
        },
        "id": "TAnAuI7QdlHI",
        "outputId": "2f565643-fb5e-422b-c96d-a031f7293def"
      },
      "source": [
        "sum(xx[:,2] == 0)"
      ],
      "execution_count": 26,
      "outputs": [
        {
          "output_type": "execute_result",
          "data": {
            "text/plain": [
              "947"
            ]
          },
          "metadata": {
            "tags": []
          },
          "execution_count": 26
        }
      ]
    },
    {
      "cell_type": "code",
      "metadata": {
        "colab": {
          "base_uri": "https://localhost:8080/"
        },
        "id": "m4BH5IJmdbcj",
        "outputId": "cbeb66c1-7d03-48d0-97e0-fd4062ae43c0"
      },
      "source": [
        "n_c"
      ],
      "execution_count": 27,
      "outputs": [
        {
          "output_type": "execute_result",
          "data": {
            "text/plain": [
              "tensor([227.9999, 483.1241, 237.0000])"
            ]
          },
          "metadata": {
            "tags": []
          },
          "execution_count": 27
        }
      ]
    },
    {
      "cell_type": "code",
      "metadata": {
        "colab": {
          "base_uri": "https://localhost:8080/"
        },
        "id": "S8mx0bz8dZxd",
        "outputId": "136bc57f-2271-4197-e8ae-fc29f0fd2656"
      },
      "source": [
        "print(sum((xx[:,2] == 0) & (xx[:,3] == 0)))\n",
        "print(sum((xx[:,2] == 0) & (xx[:,3] == 1)))\n",
        "print(sum((xx[:,2] == 0) & (xx[:,3] == 2)))"
      ],
      "execution_count": 28,
      "outputs": [
        {
          "output_type": "stream",
          "text": [
            "228\n",
            "482\n",
            "237\n"
          ],
          "name": "stdout"
        }
      ]
    },
    {
      "cell_type": "code",
      "metadata": {
        "id": "sGsW-ODho1Z2"
      },
      "source": [
        "pred = torch.zeros(N, 2)\n",
        "\n",
        "dd = torch.exp(log_pd0)\n",
        "zd = torch.exp(log_dz)\n",
        "gd = torch.exp(log_dg)\n",
        "\n",
        "for i in range(N):\n",
        "  if dd[i] > .5:\n",
        "    pred[i] = torch.tensor([0, torch.max(zd[i], 0).indices])\n",
        "  else:\n",
        "    pred[i] = torch.tensor([1, torch.max(gd[i][~torch.isnan(gd[i])], 0).indices])\n",
        "\n",
        "\n",
        "#for i in range(n):\n",
        "#  d1pred[i,:] = torch.tensor(np.unravel_index(r_ijk[:,:,i].argmax(), r_ijk[:,:,i].shape))\n",
        "#d1pred"
      ],
      "execution_count": 29,
      "outputs": []
    },
    {
      "cell_type": "code",
      "metadata": {
        "colab": {
          "base_uri": "https://localhost:8080/"
        },
        "id": "AoyY74QDsNK2",
        "outputId": "8abeb632-3d95-47b0-a526-62812a5558a5"
      },
      "source": [
        "sum(pred[:,0] == 0)"
      ],
      "execution_count": 30,
      "outputs": [
        {
          "output_type": "execute_result",
          "data": {
            "text/plain": [
              "tensor(948)"
            ]
          },
          "metadata": {
            "tags": []
          },
          "execution_count": 30
        }
      ]
    },
    {
      "cell_type": "code",
      "metadata": {
        "colab": {
          "base_uri": "https://localhost:8080/"
        },
        "id": "qJkkrmp_sXWP",
        "outputId": "3b017742-8efe-4fb0-e287-2f87bfeb6b30"
      },
      "source": [
        "print(sum((pred[:,0] == 1) & (pred[:,1] == 0)))\n",
        "print(sum((pred[:,0] == 1) & (pred[:,1] == 1)))\n",
        "print(sum((pred[:,0] == 1) & (pred[:,1] == 2)))\n",
        "print(sum((pred[:,0] == 1) & (pred[:,1] == 3)))\n",
        "print(sum((pred[:,0] == 1) & (pred[:,1] == 4)))\n",
        "print(sum((pred[:,0] == 1) & (pred[:,1] == 5)))"
      ],
      "execution_count": 31,
      "outputs": [
        {
          "output_type": "stream",
          "text": [
            "tensor(4)\n",
            "tensor(9)\n",
            "tensor(15)\n",
            "tensor(4)\n",
            "tensor(9)\n",
            "tensor(11)\n"
          ],
          "name": "stdout"
        }
      ]
    }
  ]
}