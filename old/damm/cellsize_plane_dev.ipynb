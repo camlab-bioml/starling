{
 "cells": [
  {
   "cell_type": "code",
   "execution_count": 1,
   "id": "290bc848",
   "metadata": {},
   "outputs": [
    {
     "name": "stdout",
     "output_type": "stream",
     "text": [
      "/home/campbell/yulee/DAMM/new/code/dev\r\n"
     ]
    }
   ],
   "source": [
    "!pwd"
   ]
  },
  {
   "cell_type": "code",
   "execution_count": 2,
   "id": "568568f1",
   "metadata": {},
   "outputs": [],
   "source": [
    "import sys\n",
    "sys.path.append('/home/campbell/yulee/DAMM/new/code/pro')\n",
    "\n",
    "from damm_funcs import *"
   ]
  },
  {
   "cell_type": "code",
   "execution_count": 3,
   "id": "4772aa0c",
   "metadata": {},
   "outputs": [
    {
     "name": "stderr",
     "output_type": "stream",
     "text": [
      "Observation names are not unique. To make them unique, call `.obs_names_make_unique`.\n"
     ]
    }
   ],
   "source": [
    "cohort = 'basel'\n",
    "ss = 1\n",
    "nc = 3\n",
    "analysisProteins = ['CD20', 'CD3', 'CD44', 'CD45', 'CD68', 'Carbonic_Anhydrase_IX',\n",
    "       'Cytokeratin19', 'Cytokeratin5', 'Cytokeratin7', 'Cytokeratin8/18',\n",
    "       'DNA1', 'DNA2', 'EGFR', 'Ecadherin', 'EpCAM', 'Erk1/2', 'Fibronectin',\n",
    "       'GATA3', 'H3K27me3', 'Keratin14', 'Ki67', 'Progesterone_Receptor_A/B',\n",
    "       'RabbitIgGHL', 'S6', 'SMA', 'Slug', 'Sox9', 'TotalHH3', 'Twist', \n",
    "       'Vimentin', 'bCatenin', 'cMyc', 'cerbB2_Her2', 'cleavedPARP_CleavedCaspase3',\n",
    "       'mTOR', 'p53', 'panCytokeratin/Keratin_Epithelial', 'phospho_HH3', 'vWF_CD31']\n",
    "\n",
    "tr_exp = sc.read_h5ad('/home/campbell/yulee/DAMM/new/data/{}/{}k/tr_exp.h5ad'.format(cohort, ss))\n",
    "#'DAMM/new/data/{cohort}/{ss}k/te_exp.h5ad'"
   ]
  },
  {
   "cell_type": "code",
   "execution_count": 4,
   "id": "74aacf17",
   "metadata": {},
   "outputs": [],
   "source": [
    "trY, trS, Theta = prepData(tr_exp, nc, analysisProteins)"
   ]
  },
  {
   "cell_type": "code",
   "execution_count": 5,
   "id": "8b8ab9fb",
   "metadata": {},
   "outputs": [],
   "source": [
    "psi = torch.exp(Theta['log_psi'])\n",
    "omega = torch.exp(Theta['log_omega'])\n",
    "\n",
    "psi2 = psi.reshape(-1,1)\n",
    "psi2 = psi2 + psi2.T\n",
    "\n",
    "omega2 = omega.reshape(-1,1)\n",
    "omega2 = omega2 + omega2.T + 1e-6"
   ]
  },
  {
   "cell_type": "code",
   "execution_count": 47,
   "id": "d8b66551",
   "metadata": {},
   "outputs": [
    {
     "name": "stdout",
     "output_type": "stream",
     "text": [
      "tensor(109.2520, dtype=torch.float64, grad_fn=<UnbindBackward>)\n",
      "tensor(113.9273, dtype=torch.float64, grad_fn=<UnbindBackward>)\n",
      "tensor(113.9273, dtype=torch.float64, grad_fn=<UnbindBackward>)\n"
     ]
    }
   ],
   "source": [
    "#import itertools\n",
    "#for a, b in itertools.combinations(psi, r=2):\n",
    "#    print(max(a, b))"
   ]
  },
  {
   "cell_type": "code",
   "execution_count": 6,
   "id": "80f9dd2b",
   "metadata": {},
   "outputs": [],
   "source": [
    "ccmax = torch.combinations(psi).max(1).values\n",
    "mat = torch.zeros(nc, nc, dtype=torch.float64)"
   ]
  },
  {
   "cell_type": "code",
   "execution_count": 7,
   "id": "83e57b5d",
   "metadata": {},
   "outputs": [],
   "source": [
    "mat[np.triu_indices(nc, 1)] = ccmax\n",
    "mat += mat.T\n",
    "mat += torch.eye(nc) * psi"
   ]
  },
  {
   "cell_type": "code",
   "execution_count": 8,
   "id": "de56f5e8",
   "metadata": {},
   "outputs": [
    {
     "data": {
      "text/plain": [
       "tensor([ 98.0721, 109.2520, 113.9273], dtype=torch.float64,\n",
       "       grad_fn=<ExpBackward>)"
      ]
     },
     "execution_count": 8,
     "metadata": {},
     "output_type": "execute_result"
    }
   ],
   "source": [
    "psi"
   ]
  },
  {
   "cell_type": "code",
   "execution_count": 9,
   "id": "c0229e44",
   "metadata": {},
   "outputs": [
    {
     "data": {
      "text/plain": [
       "tensor([[ 98.0721, 109.2520, 113.9273],\n",
       "        [109.2520, 109.2520, 113.9273],\n",
       "        [113.9273, 113.9273, 113.9273]], dtype=torch.float64,\n",
       "       grad_fn=<AddBackward0>)"
      ]
     },
     "execution_count": 9,
     "metadata": {},
     "output_type": "execute_result"
    }
   ],
   "source": [
    "mat"
   ]
  },
  {
   "cell_type": "code",
   "execution_count": 10,
   "id": "240a7ae2",
   "metadata": {},
   "outputs": [
    {
     "data": {
      "text/plain": [
       "tensor([[196.1442, 207.3241, 211.9994],\n",
       "        [207.3241, 218.5039, 223.1792],\n",
       "        [211.9994, 223.1792, 227.8545]], dtype=torch.float64,\n",
       "       grad_fn=<AddBackward0>)"
      ]
     },
     "execution_count": 10,
     "metadata": {},
     "output_type": "execute_result"
    }
   ],
   "source": [
    "psi2"
   ]
  },
  {
   "cell_type": "code",
   "execution_count": 130,
   "id": "8c038404",
   "metadata": {},
   "outputs": [],
   "source": [
    "#mat = np.zeros((nc, nc), float)\n",
    "#np.fill_diagonal(mat, psi.detach().numpy())\n",
    "#mat[np.triu_indices(nc, 1)] = torch.combinations(psi).max(1).values.detach().numpy()\n",
    "#mat[np.tril_indices(nc, -1)] = torch.combinations(psi).max(1).values.detach().numpy()"
   ]
  },
  {
   "cell_type": "code",
   "execution_count": 128,
   "id": "e7526ec8",
   "metadata": {},
   "outputs": [
    {
     "data": {
      "text/plain": [
       "Uniform(low: torch.Size([3, 3]), high: torch.Size([3, 3]))"
      ]
     },
     "execution_count": 128,
     "metadata": {},
     "output_type": "execute_result"
    }
   ],
   "source": [
    "#D.Uniform(torch.tensor(mat, requires_grad=True), psi2)"
   ]
  },
  {
   "cell_type": "code",
   "execution_count": 11,
   "id": "b86fd30e",
   "metadata": {},
   "outputs": [
    {
     "data": {
      "text/plain": [
       "tensor([[True, True, True],\n",
       "        [True, True, True],\n",
       "        [True, True, True]])"
      ]
     },
     "execution_count": 11,
     "metadata": {},
     "output_type": "execute_result"
    }
   ],
   "source": [
    "psi2 > mat"
   ]
  },
  {
   "cell_type": "code",
   "execution_count": 12,
   "id": "2334a2d8",
   "metadata": {},
   "outputs": [],
   "source": [
    "## v ~ Uniform(max(mu_c, mu_c’), mu_c + mu_c’)\n",
    "## p(s|d=1, gamma=[c,c’], v) = ½ [erf(q * (c ** 0.5)) + erf(p * (c ** 0.5))]\n",
    "\n",
    "#c = (1 / (2 * (omega2 ** 2)))\n",
    "c = 1 / (np.sqrt(2) * omega2)\n",
    "p = mat - trS.reshape(-1,1,1)\n",
    "q = psi2 - trS.reshape(-1,1,1)"
   ]
  },
  {
   "cell_type": "code",
   "execution_count": 13,
   "id": "30b029ec",
   "metadata": {},
   "outputs": [
    {
     "data": {
      "text/plain": [
       "torch.Size([3, 3])"
      ]
     },
     "execution_count": 13,
     "metadata": {},
     "output_type": "execute_result"
    }
   ],
   "source": [
    "c.shape"
   ]
  },
  {
   "cell_type": "code",
   "execution_count": 14,
   "id": "72bfd13c",
   "metadata": {},
   "outputs": [
    {
     "data": {
      "text/plain": [
       "torch.Size([1000, 3, 3])"
      ]
     },
     "execution_count": 14,
     "metadata": {},
     "output_type": "execute_result"
    }
   ],
   "source": [
    "p.shape"
   ]
  },
  {
   "cell_type": "code",
   "execution_count": 15,
   "id": "e118f562",
   "metadata": {},
   "outputs": [
    {
     "data": {
      "text/plain": [
       "torch.Size([1000, 3, 3])"
      ]
     },
     "execution_count": 15,
     "metadata": {},
     "output_type": "execute_result"
    }
   ],
   "source": [
    "q.shape"
   ]
  },
  {
   "cell_type": "code",
   "execution_count": 16,
   "id": "71e9605b",
   "metadata": {},
   "outputs": [],
   "source": [
    "#ubp = torch.special.erf(q * torch.sqrt(c))\n",
    "#lbp = torch.special.erf(p * torch.sqrt(c))\n",
    "\n",
    "const = 1/(2 * (psi2 - mat))\n",
    "lbp = torch.special.erf(p * c)\n",
    "ubp = torch.special.erf(q * c)\n",
    "prob = const * (ubp - lbp)"
   ]
  },
  {
   "cell_type": "code",
   "execution_count": 17,
   "id": "25f6d96b",
   "metadata": {},
   "outputs": [
    {
     "data": {
      "text/plain": [
       "torch.Size([1000, 3, 3])"
      ]
     },
     "execution_count": 17,
     "metadata": {},
     "output_type": "execute_result"
    }
   ],
   "source": [
    "prob.log().shape"
   ]
  },
  {
   "cell_type": "code",
   "execution_count": 18,
   "id": "eaaaba5d",
   "metadata": {},
   "outputs": [
    {
     "data": {
      "text/plain": [
       "tensor([[[0.0027, 0.0025, 0.0024],\n",
       "         [0.0025, 0.0024, 0.0023],\n",
       "         [0.0024, 0.0023, 0.0023]],\n",
       "\n",
       "        [[0.0036, 0.0036, 0.0035],\n",
       "         [0.0036, 0.0036, 0.0035],\n",
       "         [0.0035, 0.0035, 0.0034]],\n",
       "\n",
       "        [[0.0019, 0.0021, 0.0022],\n",
       "         [0.0021, 0.0022, 0.0023],\n",
       "         [0.0022, 0.0023, 0.0023]],\n",
       "\n",
       "        ...,\n",
       "\n",
       "        [[0.0035, 0.0035, 0.0034],\n",
       "         [0.0035, 0.0035, 0.0034],\n",
       "         [0.0034, 0.0034, 0.0033]],\n",
       "\n",
       "        [[0.0026, 0.0024, 0.0023],\n",
       "         [0.0024, 0.0023, 0.0022],\n",
       "         [0.0023, 0.0022, 0.0022]],\n",
       "\n",
       "        [[0.0023, 0.0021, 0.0020],\n",
       "         [0.0021, 0.0019, 0.0019],\n",
       "         [0.0020, 0.0019, 0.0018]]], dtype=torch.float64,\n",
       "       grad_fn=<MulBackward0>)"
      ]
     },
     "execution_count": 18,
     "metadata": {},
     "output_type": "execute_result"
    }
   ],
   "source": [
    "prob"
   ]
  },
  {
   "cell_type": "code",
   "execution_count": 19,
   "id": "d8954136",
   "metadata": {},
   "outputs": [
    {
     "data": {
      "text/plain": [
       "tensor([[0, 0, 0],\n",
       "        [0, 0, 0],\n",
       "        [0, 0, 0]])"
      ]
     },
     "execution_count": 19,
     "metadata": {},
     "output_type": "execute_result"
    }
   ],
   "source": [
    "sum(prob > 1)"
   ]
  },
  {
   "cell_type": "code",
   "execution_count": 20,
   "id": "5d77418a",
   "metadata": {},
   "outputs": [
    {
     "data": {
      "text/plain": [
       "tensor([[0, 0, 0],\n",
       "        [0, 0, 0],\n",
       "        [0, 0, 0]])"
      ]
     },
     "execution_count": 20,
     "metadata": {},
     "output_type": "execute_result"
    }
   ],
   "source": [
    "sum(prob <= 0)"
   ]
  },
  {
   "cell_type": "code",
   "execution_count": 21,
   "id": "0aad6072",
   "metadata": {},
   "outputs": [],
   "source": [
    "#dist_S2 = D.Normal(loc = psi2, scale = omega2)\n",
    "dist_S2 = D.StudentT(df = psi2, loc = psi2, scale = omega2)"
   ]
  },
  {
   "cell_type": "code",
   "execution_count": 22,
   "id": "3fc165a4",
   "metadata": {},
   "outputs": [
    {
     "data": {
      "text/plain": [
       "tensor([[[0.0018, 0.0015, 0.0015],\n",
       "         [0.0015, 0.0013, 0.0012],\n",
       "         [0.0015, 0.0012, 0.0012]],\n",
       "\n",
       "        [[0.0034, 0.0033, 0.0032],\n",
       "         [0.0033, 0.0031, 0.0030],\n",
       "         [0.0032, 0.0030, 0.0029]],\n",
       "\n",
       "        [[0.0028, 0.0031, 0.0031],\n",
       "         [0.0031, 0.0033, 0.0033],\n",
       "         [0.0031, 0.0033, 0.0033]],\n",
       "\n",
       "        ...,\n",
       "\n",
       "        [[0.0031, 0.0029, 0.0028],\n",
       "         [0.0029, 0.0027, 0.0025],\n",
       "         [0.0028, 0.0025, 0.0024]],\n",
       "\n",
       "        [[0.0017, 0.0014, 0.0014],\n",
       "         [0.0014, 0.0012, 0.0012],\n",
       "         [0.0014, 0.0012, 0.0011]],\n",
       "\n",
       "        [[0.0013, 0.0011, 0.0011],\n",
       "         [0.0011, 0.0009, 0.0009],\n",
       "         [0.0011, 0.0009, 0.0009]]], dtype=torch.float64,\n",
       "       grad_fn=<ExpBackward>)"
      ]
     },
     "execution_count": 22,
     "metadata": {},
     "output_type": "execute_result"
    }
   ],
   "source": [
    "dist_S2.log_prob(trS.reshape(-1, 1, 1)).exp()"
   ]
  },
  {
   "cell_type": "code",
   "execution_count": 23,
   "id": "3507b59f",
   "metadata": {},
   "outputs": [],
   "source": [
    "def compute_p_s_given_gamma2(S, Theta, modelType):\n",
    "  \n",
    "    \"\"\" NxCxC\n",
    "    p(y_n | gamma_n = [c,c'])\n",
    "    \"\"\"\n",
    "\n",
    "    psi = torch.exp(Theta['log_psi'])\n",
    "    omega = torch.exp(Theta['log_omega'])\n",
    "\n",
    "    psi2 = psi.reshape(-1,1)\n",
    "    psi2 = psi2 + psi2.T\n",
    "\n",
    "    omega2 = omega.reshape(-1,1)\n",
    "    omega2 = omega2 + omega2.T + 1e-6\n",
    "\n",
    "    if modelType == 'normal':\n",
    "        dist_S2 = D.Normal(loc = psi2, scale = omega2)\n",
    "    elif modelType == 'student':\n",
    "        dist_S2 = D.StudentT(df = 2.0, loc = psi2, scale = omega2)\n",
    "    else:\n",
    "        ## for v\n",
    "        ccmax = torch.combinations(psi).max(1).values\n",
    "        mat = torch.zeros(len(psi), len(psi), dtype=torch.float64)    \n",
    "        mat[np.triu_indices(len(psi), 1)] = ccmax\n",
    "        mat += mat.T\n",
    "        mat += torch.eye(len(psi)) * psi\n",
    "        #v = D.Uniform(mat, psi2).sample()\n",
    "        \n",
    "        ## for s\n",
    "        #c = (1 / (2 * (omega2 ** 2)))\n",
    "        c = 1 / (np.sqrt(2) * omega2)\n",
    "        q = psi2 - trS.reshape(-1,1,1)\n",
    "        p = mat - trS.reshape(-1,1,1)\n",
    "        \n",
    "        const = 1/(2 * (psi2 - mat))\n",
    "        #ubp = torch.special.erf(q * torch.sqrt(c))\n",
    "        #lbp = torch.special.erf(p * torch.sqrt(c))\n",
    "        lbp = torch.special.erf(p * c)\n",
    "        ubp = torch.special.erf(q * c)\n",
    "        prob = const * (ubp - lbp)\n",
    "\n",
    "        return prob.log()\n",
    "    \n",
    "    return dist_S2.log_prob(S.reshape(-1, 1, 1))"
   ]
  },
  {
   "cell_type": "code",
   "execution_count": 24,
   "id": "ac757222",
   "metadata": {},
   "outputs": [],
   "source": [
    "trY, trS, Theta = prepData(tr_exp, nc, analysisProteins)"
   ]
  },
  {
   "cell_type": "code",
   "execution_count": 25,
   "id": "81d82c60",
   "metadata": {},
   "outputs": [],
   "source": [
    "s_t1 = compute_p_s_given_gamma2(trS, Theta, 'normal')"
   ]
  },
  {
   "cell_type": "code",
   "execution_count": 26,
   "id": "3170573c",
   "metadata": {},
   "outputs": [],
   "source": [
    "s_t2 = compute_p_s_given_gamma2(trS, Theta, 'student')"
   ]
  },
  {
   "cell_type": "code",
   "execution_count": 27,
   "id": "981c1b5c",
   "metadata": {},
   "outputs": [],
   "source": [
    "s_t3 = compute_p_s_given_gamma2(trS, Theta, 'relaxRule')"
   ]
  },
  {
   "cell_type": "code",
   "execution_count": 28,
   "id": "1dfd4102",
   "metadata": {},
   "outputs": [
    {
     "data": {
      "text/plain": [
       "tensor([[0.0012, 0.0015, 0.0012],\n",
       "        [0.0015, 0.0018, 0.0015],\n",
       "        [0.0012, 0.0015, 0.0013]], dtype=torch.float64,\n",
       "       grad_fn=<SelectBackward>)"
      ]
     },
     "execution_count": 28,
     "metadata": {},
     "output_type": "execute_result"
    }
   ],
   "source": [
    "s_t1.exp()[0]"
   ]
  },
  {
   "cell_type": "code",
   "execution_count": 29,
   "id": "d4c6a829",
   "metadata": {},
   "outputs": [
    {
     "data": {
      "text/plain": [
       "tensor([[0.0011, 0.0012, 0.0011],\n",
       "        [0.0012, 0.0014, 0.0013],\n",
       "        [0.0011, 0.0013, 0.0011]], dtype=torch.float64,\n",
       "       grad_fn=<SelectBackward>)"
      ]
     },
     "execution_count": 29,
     "metadata": {},
     "output_type": "execute_result"
    }
   ],
   "source": [
    "s_t2.exp()[0]"
   ]
  },
  {
   "cell_type": "code",
   "execution_count": 30,
   "id": "cf0ada1d",
   "metadata": {},
   "outputs": [
    {
     "data": {
      "text/plain": [
       "tensor([[0.0023, 0.0024, 0.0023],\n",
       "        [0.0024, 0.0027, 0.0025],\n",
       "        [0.0023, 0.0025, 0.0024]], dtype=torch.float64,\n",
       "       grad_fn=<SelectBackward>)"
      ]
     },
     "execution_count": 30,
     "metadata": {},
     "output_type": "execute_result"
    }
   ],
   "source": [
    "s_t3.exp()[0]"
   ]
  },
  {
   "cell_type": "code",
   "execution_count": null,
   "id": "8a6f0e36",
   "metadata": {},
   "outputs": [],
   "source": []
  },
  {
   "cell_type": "code",
   "execution_count": null,
   "id": "8399d6fd",
   "metadata": {},
   "outputs": [],
   "source": []
  },
  {
   "cell_type": "code",
   "execution_count": 4,
   "id": "92a9129f",
   "metadata": {},
   "outputs": [
    {
     "name": "stderr",
     "output_type": "stream",
     "text": [
      "Observation names are not unique. To make them unique, call `.obs_names_make_unique`.\n",
      "Observation names are not unique. To make them unique, call `.obs_names_make_unique`.\n"
     ]
    }
   ],
   "source": [
    "tr_file = 'DAMM/new/data/{}/{}k/tr_exp.h5ad'.format(cohort, ss)\n",
    "te_file = 'DAMM/new/data/{}/{}k/te_exp.h5ad'.format(cohort, ss)\n",
    "\n",
    "tr_exp = sc.read_h5ad(tr_file)\n",
    "te_exp = sc.read_h5ad(te_file)"
   ]
  },
  {
   "cell_type": "code",
   "execution_count": 3,
   "id": "95cf649a",
   "metadata": {},
   "outputs": [
    {
     "ename": "KeyboardInterrupt",
     "evalue": "",
     "output_type": "error",
     "traceback": [
      "\u001b[0;31m---------------------------------------------------------------------------\u001b[0m",
      "\u001b[0;31mKeyboardInterrupt\u001b[0m                         Traceback (most recent call last)",
      "Input \u001b[0;32mIn [3]\u001b[0m, in \u001b[0;36m<module>\u001b[0;34m\u001b[0m\n\u001b[1;32m      6\u001b[0m rr \u001b[38;5;241m=\u001b[39m \u001b[38;5;241m0\u001b[39m\n\u001b[1;32m      7\u001b[0m trY, trS, Theta \u001b[38;5;241m=\u001b[39m prepData(tr_exp, nc, analysisProteins)\n\u001b[0;32m----> 8\u001b[0m loss, Theta \u001b[38;5;241m=\u001b[39m \u001b[43mtrainWOFD\u001b[49m\u001b[43m(\u001b[49m\u001b[43mtrY\u001b[49m\u001b[43m,\u001b[49m\u001b[43m \u001b[49m\u001b[43mtrS\u001b[49m\u001b[43m,\u001b[49m\u001b[43m \u001b[49m\u001b[43mTheta\u001b[49m\u001b[43m,\u001b[49m\u001b[43m \u001b[49m\u001b[43mBatchSize\u001b[49m\u001b[43m,\u001b[49m\u001b[43m \u001b[49m\u001b[43mnm\u001b[49m\u001b[43m,\u001b[49m\u001b[43m \u001b[49m\u001b[43mlearnRate\u001b[49m\u001b[43m,\u001b[49m\u001b[43m \u001b[49m\u001b[43mso\u001b[49m\u001b[43m,\u001b[49m\u001b[43m \u001b[49m\u001b[43mtr_so\u001b[49m\u001b[43m,\u001b[49m\u001b[43m \u001b[49m\u001b[43mrr\u001b[49m\u001b[43m)\u001b[49m\n",
      "File \u001b[0;32m~/damm_funcs.py:306\u001b[0m, in \u001b[0;36mtrainWOFD\u001b[0;34m(Y, S, Theta, BatchSize, modelType, learnRate, soRate, soMat, rRule)\u001b[0m\n\u001b[1;32m    303\u001b[0m \u001b[38;5;28;01mfor\u001b[39;00m j, bat \u001b[38;5;129;01min\u001b[39;00m \u001b[38;5;28menumerate\u001b[39m(trainloader):\n\u001b[1;32m    305\u001b[0m   opt\u001b[38;5;241m.\u001b[39mzero_grad()\n\u001b[0;32m--> 306\u001b[0m   _, _, bnL, _ \u001b[38;5;241m=\u001b[39m \u001b[43mcompute_posteriors_nll_p_singlet\u001b[49m\u001b[43m(\u001b[49m\u001b[43mbat\u001b[49m\u001b[43m[\u001b[49m\u001b[38;5;241;43m0\u001b[39;49m\u001b[43m]\u001b[49m\u001b[43m,\u001b[49m\u001b[43m \u001b[49m\u001b[43mbat\u001b[49m\u001b[43m[\u001b[49m\u001b[38;5;241;43m1\u001b[39;49m\u001b[43m]\u001b[49m\u001b[43m,\u001b[49m\u001b[43m \u001b[49m\u001b[43mTheta\u001b[49m\u001b[43m,\u001b[49m\u001b[43m \u001b[49m\u001b[43mmodelType\u001b[49m\u001b[43m,\u001b[49m\u001b[43m \u001b[49m\u001b[43msoRate\u001b[49m\u001b[43m,\u001b[49m\u001b[43m \u001b[49m\u001b[43msoMat\u001b[49m\u001b[43m,\u001b[49m\u001b[43m \u001b[49m\u001b[43mrRule\u001b[49m\u001b[43m)\u001b[49m\n\u001b[1;32m    307\u001b[0m   bnL\u001b[38;5;241m.\u001b[39mbackward()\n\u001b[1;32m    308\u001b[0m   opt\u001b[38;5;241m.\u001b[39mstep()\n",
      "File \u001b[0;32m~/damm_funcs.py:222\u001b[0m, in \u001b[0;36mcompute_posteriors_nll_p_singlet\u001b[0;34m(Y, S, Theta, modelType, soRate, soMat, rRule)\u001b[0m\n\u001b[1;32m    219\u001b[0m   prob_s_given_z \u001b[38;5;241m=\u001b[39m compute_p_s_given_z(S, Theta, modelType) \u001b[38;5;66;03m## p(data_n|z=c)\u001b[39;00m\n\u001b[1;32m    220\u001b[0m   prob_data_given_z_d0 \u001b[38;5;241m+\u001b[39m\u001b[38;5;241m=\u001b[39m prob_s_given_z \u001b[38;5;66;03m## p(data_n|z=c,d=0) -> NxC\u001b[39;00m\n\u001b[0;32m--> 222\u001b[0m prob_y_given_gamma \u001b[38;5;241m=\u001b[39m \u001b[43mcompute_p_y_given_gamma\u001b[49m\u001b[43m(\u001b[49m\u001b[43mY\u001b[49m\u001b[43m,\u001b[49m\u001b[43m \u001b[49m\u001b[43mTheta\u001b[49m\u001b[43m,\u001b[49m\u001b[43m \u001b[49m\u001b[43mmodelType\u001b[49m\u001b[43m)\u001b[49m \u001b[38;5;66;03m## p(y_n|g=[c,c']) -> NxCxC\u001b[39;00m\n\u001b[1;32m    223\u001b[0m prob_data_given_gamma_d1 \u001b[38;5;241m=\u001b[39m prob_y_given_gamma \u001b[38;5;241m+\u001b[39m log_tau\n\u001b[1;32m    225\u001b[0m \u001b[38;5;28;01mif\u001b[39;00m S \u001b[38;5;129;01mis\u001b[39;00m \u001b[38;5;129;01mnot\u001b[39;00m \u001b[38;5;28;01mNone\u001b[39;00m:\n\u001b[1;32m    226\u001b[0m   \u001b[38;5;66;03m#prob_s_given_gamma = compute_p_s_given_gamma(S, Theta, modelType) ## p(s_n|g=[c,c']) -> NxCxC\u001b[39;00m\n",
      "File \u001b[0;32m~/damm_funcs.py:140\u001b[0m, in \u001b[0;36mcompute_p_y_given_gamma\u001b[0;34m(Y, Theta, modelType)\u001b[0m\n\u001b[1;32m    137\u001b[0m \u001b[38;5;28;01melse\u001b[39;00m:\n\u001b[1;32m    138\u001b[0m   \u001b[38;5;28;01mreturn\u001b[39;00m \u001b[38;5;124m\"\u001b[39m\u001b[38;5;124mPlease input the correct noise distribution\u001b[39m\u001b[38;5;124m\"\u001b[39m\n\u001b[0;32m--> 140\u001b[0m \u001b[38;5;28;01mreturn\u001b[39;00m \u001b[43mdist_Y2\u001b[49m\u001b[38;5;241;43m.\u001b[39;49m\u001b[43mlog_prob\u001b[49m\u001b[43m(\u001b[49m\u001b[43mY\u001b[49m\u001b[38;5;241;43m.\u001b[39;49m\u001b[43mreshape\u001b[49m\u001b[43m(\u001b[49m\u001b[38;5;241;43m-\u001b[39;49m\u001b[38;5;241;43m1\u001b[39;49m\u001b[43m,\u001b[49m\u001b[43m \u001b[49m\u001b[38;5;241;43m1\u001b[39;49m\u001b[43m,\u001b[49m\u001b[43m \u001b[49m\u001b[38;5;241;43m1\u001b[39;49m\u001b[43m,\u001b[49m\u001b[43m \u001b[49m\u001b[43mmu\u001b[49m\u001b[38;5;241;43m.\u001b[39;49m\u001b[43mshape\u001b[49m\u001b[43m[\u001b[49m\u001b[38;5;241;43m1\u001b[39;49m\u001b[43m]\u001b[49m\u001b[43m)\u001b[49m\u001b[43m)\u001b[49m\u001b[38;5;241m.\u001b[39msum(\u001b[38;5;241m3\u001b[39m)\n",
      "File \u001b[0;32m~/.local/share/virtualenvs/yulee-9RaDnU2W/lib/python3.8/site-packages/torch/distributions/studentT.py:78\u001b[0m, in \u001b[0;36mStudentT.log_prob\u001b[0;34m(self, value)\u001b[0m\n\u001b[1;32m     76\u001b[0m \u001b[38;5;28;01mif\u001b[39;00m \u001b[38;5;28mself\u001b[39m\u001b[38;5;241m.\u001b[39m_validate_args:\n\u001b[1;32m     77\u001b[0m     \u001b[38;5;28mself\u001b[39m\u001b[38;5;241m.\u001b[39m_validate_sample(value)\n\u001b[0;32m---> 78\u001b[0m y \u001b[38;5;241m=\u001b[39m (\u001b[43mvalue\u001b[49m\u001b[43m \u001b[49m\u001b[38;5;241;43m-\u001b[39;49m\u001b[43m \u001b[49m\u001b[38;5;28;43mself\u001b[39;49m\u001b[38;5;241;43m.\u001b[39;49m\u001b[43mloc\u001b[49m) \u001b[38;5;241m/\u001b[39m \u001b[38;5;28mself\u001b[39m\u001b[38;5;241m.\u001b[39mscale\n\u001b[1;32m     79\u001b[0m Z \u001b[38;5;241m=\u001b[39m (\u001b[38;5;28mself\u001b[39m\u001b[38;5;241m.\u001b[39mscale\u001b[38;5;241m.\u001b[39mlog() \u001b[38;5;241m+\u001b[39m\n\u001b[1;32m     80\u001b[0m      \u001b[38;5;241m0.5\u001b[39m \u001b[38;5;241m*\u001b[39m \u001b[38;5;28mself\u001b[39m\u001b[38;5;241m.\u001b[39mdf\u001b[38;5;241m.\u001b[39mlog() \u001b[38;5;241m+\u001b[39m\n\u001b[1;32m     81\u001b[0m      \u001b[38;5;241m0.5\u001b[39m \u001b[38;5;241m*\u001b[39m math\u001b[38;5;241m.\u001b[39mlog(math\u001b[38;5;241m.\u001b[39mpi) \u001b[38;5;241m+\u001b[39m\n\u001b[1;32m     82\u001b[0m      torch\u001b[38;5;241m.\u001b[39mlgamma(\u001b[38;5;241m0.5\u001b[39m \u001b[38;5;241m*\u001b[39m \u001b[38;5;28mself\u001b[39m\u001b[38;5;241m.\u001b[39mdf) \u001b[38;5;241m-\u001b[39m\n\u001b[1;32m     83\u001b[0m      torch\u001b[38;5;241m.\u001b[39mlgamma(\u001b[38;5;241m0.5\u001b[39m \u001b[38;5;241m*\u001b[39m (\u001b[38;5;28mself\u001b[39m\u001b[38;5;241m.\u001b[39mdf \u001b[38;5;241m+\u001b[39m \u001b[38;5;241m1.\u001b[39m)))\n\u001b[1;32m     84\u001b[0m \u001b[38;5;28;01mreturn\u001b[39;00m \u001b[38;5;241m-\u001b[39m\u001b[38;5;241m0.5\u001b[39m \u001b[38;5;241m*\u001b[39m (\u001b[38;5;28mself\u001b[39m\u001b[38;5;241m.\u001b[39mdf \u001b[38;5;241m+\u001b[39m \u001b[38;5;241m1.\u001b[39m) \u001b[38;5;241m*\u001b[39m torch\u001b[38;5;241m.\u001b[39mlog1p(y\u001b[38;5;241m*\u001b[39m\u001b[38;5;241m*\u001b[39m\u001b[38;5;241m2.\u001b[39m \u001b[38;5;241m/\u001b[39m \u001b[38;5;28mself\u001b[39m\u001b[38;5;241m.\u001b[39mdf) \u001b[38;5;241m-\u001b[39m Z\n",
      "\u001b[0;31mKeyboardInterrupt\u001b[0m: "
     ]
    }
   ],
   "source": [
    "BatchSize = 128\n",
    "nm = 'student'\n",
    "learnRate = 1e-3\n",
    "so = None\n",
    "tr_so = None\n",
    "rr = 0\n",
    "trY, trS, Theta = prepData(tr_exp, nc, analysisProteins)\n",
    "loss, Theta = trainWOFD(trY, trS, Theta, BatchSize, nm, learnRate, so, tr_so, rr)"
   ]
  },
  {
   "cell_type": "code",
   "execution_count": 5,
   "id": "887c72d0",
   "metadata": {},
   "outputs": [],
   "source": [
    "#python3 hello.py --train DAMM/new/data/basel/1k/tr_exp.h5ad \n",
    "#--test DAMM/new/data/basel/1k/te_exp.h5ad --cohort basel --sample_size 1 --n_cluster 9 \n",
    "#--noise_model normal --regVal 1000000 --repetition 0 \n",
    "#--output_theta0 DAMM/new/res/basel/1k/damm_theta0_nc9_normal_rv1000000_soNone_rr1_0 \n",
    "#--output_theta1 DAMM/new/res/basel/1k/damm_theta1_nc9_normal_rv1000000_soNone_rr1_0 \n",
    "#--so None --rr 1\n",
    "\n",
    "nc = 9\n",
    "BatchSize = 128\n",
    "nm = 'normal'\n",
    "learnRate = 1e-3\n",
    "so = None\n",
    "tr_so = None\n",
    "rr = 1\n",
    "rv = 1000000\n",
    "\n",
    "trY, trS, Theta = prepData(tr_exp, nc, analysisProteins)\n",
    "trFY, trFS, trFL = simulate_data(trY, trS)\n",
    "\n",
    "teY, teS, _ = prepData(te_exp, nc, analysisProteins)\n",
    "teFY, teFS, teFL = simulate_data(teY, teS)\n",
    "\n",
    "df = ConcatDataset(trY, trS, trFY, trFS, trFL)\n",
    "loss, Theta = trainWFD(df, Theta, BatchSize, nm, learnRate, rv, so, tr_so, rr)"
   ]
  },
  {
   "cell_type": "code",
   "execution_count": 39,
   "id": "4f40cf87",
   "metadata": {},
   "outputs": [
    {
     "name": "stdout",
     "output_type": "stream",
     "text": [
      "1\n"
     ]
    },
    {
     "data": {
      "text/plain": [
       "tensor([[[-5.6394, -5.8188, -6.2714,  ..., -5.7537, -6.0562, -5.9312],\n",
       "         [-5.8458, -6.0985, -6.3454,  ..., -6.1328, -5.9035, -6.4123],\n",
       "         [-5.8444, -5.9287, -6.4665,  ..., -5.9105, -5.8162, -5.9056],\n",
       "         ...,\n",
       "         [-6.4045, -5.9222, -6.2553,  ..., -6.1323, -5.9205, -6.2536],\n",
       "         [-5.6517, -5.8541, -5.7912,  ..., -6.0213, -5.7401, -6.1722],\n",
       "         [-5.7406, -5.9466, -6.3327,  ..., -5.7927, -6.2810, -5.8521]],\n",
       "\n",
       "        [[-5.5684, -5.5923, -5.6981,  ..., -5.5191, -5.5804, -5.6551],\n",
       "         [-5.5876, -5.6732, -5.7913,  ..., -5.6081, -5.6494, -5.8287],\n",
       "         [-5.6507, -5.7154, -5.8856,  ..., -5.6433, -5.7355, -5.7923],\n",
       "         ...,\n",
       "         [-5.5996, -5.5842, -5.6950,  ..., -5.5282, -5.5718, -5.7084],\n",
       "         [-5.6648, -5.6566, -5.7514,  ..., -5.5777, -5.6904, -5.7418],\n",
       "         [-5.7187, -5.7278, -5.8456,  ..., -5.6875, -5.7723, -5.8408]],\n",
       "\n",
       "        [[-6.8170, -6.4188, -5.9187,  ..., -6.5352, -6.0899, -6.2589],\n",
       "         [-6.3702, -6.0617, -5.9014,  ..., -6.0167, -6.2980, -5.8744],\n",
       "         [-6.3976, -6.2979, -5.8729,  ..., -6.2846, -6.5211, -6.4080],\n",
       "         ...,\n",
       "         [-5.8249, -6.2515, -5.9301,  ..., -6.0261, -6.2528, -5.9353],\n",
       "         [-6.8521, -6.3836, -6.5937,  ..., -6.1273, -6.6460, -6.0185],\n",
       "         [-6.6750, -6.2794, -5.9431,  ..., -6.5247, -5.9405, -6.5788]],\n",
       "\n",
       "        ...,\n",
       "\n",
       "        [[-5.5083, -5.5850, -5.7887,  ..., -5.5022, -5.6365, -5.6697],\n",
       "         [-5.5885, -5.7273, -5.8849,  ..., -5.6789, -5.6574, -5.9313],\n",
       "         [-5.6421, -5.7199, -5.9911,  ..., -5.6541, -5.7042, -5.7768],\n",
       "         ...,\n",
       "         [-5.7317, -5.6062, -5.7824,  ..., -5.6081, -5.5950, -5.7935],\n",
       "         [-5.5931, -5.6498, -5.7094,  ..., -5.6257, -5.6436, -5.8033],\n",
       "         [-5.6669, -5.7351, -5.9278,  ..., -5.6577, -5.8543, -5.7998]],\n",
       "\n",
       "        [[-5.6678, -5.8524, -6.3224,  ..., -5.7914, -6.1044, -5.9648],\n",
       "         [-5.8812, -6.1404, -6.3928,  ..., -6.1832, -5.9361, -6.4610],\n",
       "         [-5.8738, -5.9568, -6.5139,  ..., -5.9440, -5.8370, -5.9260],\n",
       "         ...,\n",
       "         [-6.4746, -5.9621, -6.3055,  ..., -6.1909, -5.9615, -6.3025],\n",
       "         [-5.6722, -5.8835, -5.8097,  ..., -6.0676, -5.7615, -6.2125],\n",
       "         [-5.7597, -5.9745, -6.3744,  ..., -5.8165, -6.3257, -5.8664]],\n",
       "\n",
       "        [[-5.8000, -6.0003, -6.5343,  ..., -5.9584, -6.3086, -6.1100],\n",
       "         [-6.0359, -6.3171, -6.5886,  ..., -6.3951, -6.0778, -6.6612],\n",
       "         [-6.0038, -6.0791, -6.7082,  ..., -6.0895, -5.9323, -6.0175],\n",
       "         ...,\n",
       "         [-6.7648, -6.1336, -6.5142,  ..., -6.4372, -6.1378, -6.5055],\n",
       "         [-5.7708, -6.0130, -5.8962,  ..., -6.2644, -5.8611, -6.3812],\n",
       "         [-5.8500, -6.0960, -6.5466,  ..., -5.9245, -6.5114, -5.9343]]],\n",
       "       dtype=torch.float64, grad_fn=<SubBackward0>)"
      ]
     },
     "execution_count": 39,
     "metadata": {},
     "output_type": "execute_result"
    }
   ],
   "source": [
    "compute_p_s_given_gamma2(trS, Theta, nm, 1)"
   ]
  }
 ],
 "metadata": {
  "kernelspec": {
   "display_name": "Python 3",
   "language": "python",
   "name": "python3"
  },
  "language_info": {
   "codemirror_mode": {
    "name": "ipython",
    "version": 3
   },
   "file_extension": ".py",
   "mimetype": "text/x-python",
   "name": "python",
   "nbconvert_exporter": "python",
   "pygments_lexer": "ipython3",
   "version": "3.8.8"
  }
 },
 "nbformat": 4,
 "nbformat_minor": 5
}
